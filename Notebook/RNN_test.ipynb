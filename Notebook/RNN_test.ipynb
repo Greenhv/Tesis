{
 "cells": [
  {
   "cell_type": "code",
   "execution_count": 5,
   "metadata": {},
   "outputs": [],
   "source": [
    "from __future__ import print_function\n",
    "\n",
    "from keras.preprocessing import sequence\n",
    "from keras.models import Sequential\n",
    "from keras.layers import Dense, Embedding\n",
    "from keras.layers import LSTM\n",
    "from keras.datasets import imdb"
   ]
  },
  {
   "cell_type": "code",
   "execution_count": 6,
   "metadata": {},
   "outputs": [],
   "source": [
    "max_features = 20000\n",
    "maxlen = 80  # cut texts after this number of words (among top max_features most common words)\n",
    "batch_size = 32"
   ]
  },
  {
   "cell_type": "code",
   "execution_count": 7,
   "metadata": {},
   "outputs": [
    {
     "name": "stdout",
     "output_type": "stream",
     "text": [
      "Loading data...\n",
      "25000 train sequences\n",
      "25000 test sequences\n"
     ]
    }
   ],
   "source": [
    "print('Loading data...')\n",
    "(x_train, y_train), (x_test, y_test) = imdb.load_data(num_words=max_features)\n",
    "print(len(x_train), 'train sequences')\n",
    "print(len(x_test), 'test sequences')"
   ]
  },
  {
   "cell_type": "code",
   "execution_count": 8,
   "metadata": {},
   "outputs": [
    {
     "name": "stdout",
     "output_type": "stream",
     "text": [
      "Pad sequences (samples x time)\n",
      "x_train shape: (25000, 80)\n",
      "x_test shape: (25000, 80)\n"
     ]
    }
   ],
   "source": [
    "print('Pad sequences (samples x time)')\n",
    "x_train = sequence.pad_sequences(x_train, maxlen=maxlen)\n",
    "x_test = sequence.pad_sequences(x_test, maxlen=maxlen)\n",
    "print('x_train shape:', x_train.shape)\n",
    "print('x_test shape:', x_test.shape)"
   ]
  },
  {
   "cell_type": "code",
   "execution_count": 9,
   "metadata": {},
   "outputs": [
    {
     "name": "stdout",
     "output_type": "stream",
     "text": [
      "Build model...\n"
     ]
    }
   ],
   "source": [
    "print('Build model...')\n",
    "model = Sequential()\n",
    "model.add(Embedding(max_features, 128))\n",
    "model.add(LSTM(128, dropout=0.2, recurrent_dropout=0.2))\n",
    "model.add(Dense(1, activation='sigmoid'))"
   ]
  },
  {
   "cell_type": "code",
   "execution_count": 10,
   "metadata": {},
   "outputs": [],
   "source": [
    "# try using different optimizers and different optimizer configs\n",
    "model.compile(loss='binary_crossentropy',\n",
    "              optimizer='adam',\n",
    "              metrics=['accuracy'])\n"
   ]
  },
  {
   "cell_type": "code",
   "execution_count": 11,
   "metadata": {},
   "outputs": [
    {
     "name": "stdout",
     "output_type": "stream",
     "text": [
      "Train...\n",
      "Train on 25000 samples, validate on 25000 samples\n",
      "Epoch 1/15\n",
      "25000/25000 [==============================] - 107s 4ms/step - loss: 0.4564 - acc: 0.7841 - val_loss: 0.3948 - val_acc: 0.8269\n",
      "Epoch 2/15\n",
      "25000/25000 [==============================] - 103s 4ms/step - loss: 0.3004 - acc: 0.8782 - val_loss: 0.3784 - val_acc: 0.8318\n",
      "Epoch 3/15\n",
      "25000/25000 [==============================] - 103s 4ms/step - loss: 0.2222 - acc: 0.9140 - val_loss: 0.4363 - val_acc: 0.8261\n",
      "Epoch 4/15\n",
      "25000/25000 [==============================] - 103s 4ms/step - loss: 0.1635 - acc: 0.9380 - val_loss: 0.4437 - val_acc: 0.8289\n",
      "Epoch 5/15\n",
      "25000/25000 [==============================] - 103s 4ms/step - loss: 0.1148 - acc: 0.9586 - val_loss: 0.5535 - val_acc: 0.8258\n",
      "Epoch 6/15\n",
      "25000/25000 [==============================] - 103s 4ms/step - loss: 0.0838 - acc: 0.9691 - val_loss: 0.6536 - val_acc: 0.8213\n",
      "Epoch 7/15\n",
      "25000/25000 [==============================] - 102s 4ms/step - loss: 0.0555 - acc: 0.9820 - val_loss: 0.7863 - val_acc: 0.8118\n",
      "Epoch 8/15\n",
      "25000/25000 [==============================] - 101s 4ms/step - loss: 0.0397 - acc: 0.9876 - val_loss: 0.8156 - val_acc: 0.8198\n",
      "Epoch 9/15\n",
      "25000/25000 [==============================] - 105s 4ms/step - loss: 0.0376 - acc: 0.9882 - val_loss: 0.8350 - val_acc: 0.8142\n",
      "Epoch 10/15\n",
      "25000/25000 [==============================] - 108s 4ms/step - loss: 0.0311 - acc: 0.9894 - val_loss: 0.8403 - val_acc: 0.8152\n",
      "Epoch 11/15\n",
      "25000/25000 [==============================] - 108s 4ms/step - loss: 0.0223 - acc: 0.9927 - val_loss: 0.9056 - val_acc: 0.8130\n",
      "Epoch 12/15\n",
      "25000/25000 [==============================] - 107s 4ms/step - loss: 0.0184 - acc: 0.9942 - val_loss: 0.8881 - val_acc: 0.8093\n",
      "Epoch 13/15\n",
      "25000/25000 [==============================] - 110s 4ms/step - loss: 0.0142 - acc: 0.9952 - val_loss: 1.1229 - val_acc: 0.8106\n",
      "Epoch 14/15\n",
      "25000/25000 [==============================] - 104s 4ms/step - loss: 0.0121 - acc: 0.9962 - val_loss: 0.9428 - val_acc: 0.8086\n",
      "Epoch 15/15\n",
      "25000/25000 [==============================] - 103s 4ms/step - loss: 0.0113 - acc: 0.9966 - val_loss: 1.1132 - val_acc: 0.8100\n",
      "25000/25000 [==============================] - 15s 584us/step\n",
      "Test score: 1.1131633401656151\n",
      "Test accuracy: 0.80996\n"
     ]
    }
   ],
   "source": [
    "print('Train...')\n",
    "model.fit(x_train, y_train,\n",
    "          batch_size=batch_size,\n",
    "          epochs=15,\n",
    "          validation_data=(x_test, y_test))\n",
    "score, acc = model.evaluate(x_test, y_test,\n",
    "                            batch_size=batch_size)\n",
    "print('Test score:', score)\n",
    "print('Test accuracy:', acc)"
   ]
  },
  {
   "cell_type": "code",
   "execution_count": null,
   "metadata": {},
   "outputs": [],
   "source": [
    "    "
   ]
  }
 ],
 "metadata": {
  "kernelspec": {
   "display_name": "Python 3",
   "language": "python",
   "name": "python3"
  },
  "language_info": {
   "codemirror_mode": {
    "name": "ipython",
    "version": 3
   },
   "file_extension": ".py",
   "mimetype": "text/x-python",
   "name": "python",
   "nbconvert_exporter": "python",
   "pygments_lexer": "ipython3",
   "version": "3.6.4"
  }
 },
 "nbformat": 4,
 "nbformat_minor": 2
}
