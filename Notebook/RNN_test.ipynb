{
 "cells": [
  {
   "cell_type": "markdown",
   "metadata": {},
   "source": [
    "### Import custom modules from current folder"
   ]
  },
  {
   "cell_type": "code",
   "execution_count": 1,
   "metadata": {},
   "outputs": [],
   "source": [
    "import os\n",
    "import sys\n",
    "\n",
    "module_path = os.path.abspath(os.path.join('..'))\n",
    "\n",
    "if module_path not in sys.path:\n",
    "    sys.path.append(module_path)"
   ]
  },
  {
   "cell_type": "code",
   "execution_count": 2,
   "metadata": {},
   "outputs": [],
   "source": [
    "import nltk\n",
    "from sklearn.model_selection import train_test_split\n",
    "from simple_text_representation.classes import Text\n",
    "from simple_text_representation.models import Database\n",
    "import numpy as np\n",
    "# from nltk.draw.tree import draw_trees"
   ]
  },
  {
   "cell_type": "code",
   "execution_count": 3,
   "metadata": {},
   "outputs": [],
   "source": [
    "database = Database('educationalTexts', 'postgres', '', '0.0.0.0', 5432)\n",
    "path = r'http://localhost/'"
   ]
  },
  {
   "cell_type": "code",
   "execution_count": 4,
   "metadata": {},
   "outputs": [],
   "source": [
    "def transformToString(text):\n",
    "    textStr = ''\n",
    "\n",
    "    for paragraph in text:\n",
    "        for line in paragraph:\n",
    "            textStr = textStr + line\n",
    "    return textStr"
   ]
  },
  {
   "cell_type": "code",
   "execution_count": 5,
   "metadata": {
    "scrolled": false
   },
   "outputs": [],
   "source": [
    "textOfSeventhGrade = Text.getTexts(database, grade=7)\n",
    "textOfEightGrade = Text.getTexts(database, grade=8)\n",
    "textOfNineGrade = Text.getTexts(database, grade=9)\n",
    "\n",
    "textsFormatedSG = [transformToString(textArr) for textArr in textOfSeventhGrade]\n",
    "textsFormatedEG = [transformToString(textArr) for textArr in textOfEightGrade]\n",
    "textsFormatedNG = [transformToString(textArr) for textArr in textOfNineGrade]"
   ]
  },
  {
   "cell_type": "code",
   "execution_count": 6,
   "metadata": {},
   "outputs": [
    {
     "data": {
      "text/plain": [
       "[['Por lo tanto, las campañas públicas deben esclarecer la naturaleza de los procedimientos técnicos y legales, para disipar miedos; pero, esencialmente, deben apuntar a que se tome conciencia de lo que significa salvar otra vida, porque para decidirlo en un momento crucial es necesario que la idea se haya considerado y discutido previamente, con reflexión y calma.'],\n",
       " ['La última cuestión es la más compleja; en la actualidad, aunque alguien haya manifestado expresamente su voluntad de donar, es a la familia a la que se consulta en el momento en que la donación puede efectuarse.',\n",
       "  ' Como se entiende, tal consulta llega en un momento difícil y poco propicio para las reflexiones profundas, más aún si se tiene que tomar una decisión rápida.'],\n",
       " ['Es preciso, entonces, que se aclaren algunas dudas para que las personas pierdan el miedo a donar.',\n",
       "  ' Primero, que lo complicado de los procedimientos de extirpación y trasplantación, en el que intervienen varios equipos médicos altamente especializados, vuelve muy difícil la existencia de mafias.',\n",
       "  ' Segundo, que la necesaria compatibilidad (afinidad de grupo sanguíneo) entre donante y receptor dificulta la posibilidad de muertes “a pedido”.'],\n",
       " ['Si bien los trasplantes se han convertido en una práctica habitual, aún persisten fuertes temores en la población para donar órganos, lograr su superación es la clave para aumentar el número de los donadores solidarios que hacen falta para salvar miles de vidas.']]"
      ]
     },
     "execution_count": 6,
     "metadata": {},
     "output_type": "execute_result"
    }
   ],
   "source": [
    "textOfSeventhGrade[0]"
   ]
  },
  {
   "cell_type": "code",
   "execution_count": 7,
   "metadata": {
    "scrolled": true
   },
   "outputs": [
    {
     "data": {
      "text/plain": [
       "'Por lo tanto, las campañas públicas deben esclarecer la naturaleza de los procedimientos técnicos y legales, para disipar miedos; pero, esencialmente, deben apuntar a que se tome conciencia de lo que significa salvar otra vida, porque para decidirlo en un momento crucial es necesario que la idea se haya considerado y discutido previamente, con reflexión y calma.La última cuestión es la más compleja; en la actualidad, aunque alguien haya manifestado expresamente su voluntad de donar, es a la familia a la que se consulta en el momento en que la donación puede efectuarse. Como se entiende, tal consulta llega en un momento difícil y poco propicio para las reflexiones profundas, más aún si se tiene que tomar una decisión rápida.Es preciso, entonces, que se aclaren algunas dudas para que las personas pierdan el miedo a donar. Primero, que lo complicado de los procedimientos de extirpación y trasplantación, en el que intervienen varios equipos médicos altamente especializados, vuelve muy difícil la existencia de mafias. Segundo, que la necesaria compatibilidad (afinidad de grupo sanguíneo) entre donante y receptor dificulta la posibilidad de muertes “a pedido”.Si bien los trasplantes se han convertido en una práctica habitual, aún persisten fuertes temores en la población para donar órganos, lograr su superación es la clave para aumentar el número de los donadores solidarios que hacen falta para salvar miles de vidas.'"
      ]
     },
     "execution_count": 7,
     "metadata": {},
     "output_type": "execute_result"
    }
   ],
   "source": [
    "textsFormatedSG[0]"
   ]
  },
  {
   "cell_type": "markdown",
   "metadata": {},
   "source": [
    "### Format train and test data"
   ]
  },
  {
   "cell_type": "code",
   "execution_count": 8,
   "metadata": {},
   "outputs": [],
   "source": [
    "data = np.concatenate((np.array(textsFormatedSG), np.array(textsFormatedEG), np.array(textsFormatedNG))) \n",
    "labels = np.concatenate((np.full(len(textsFormatedSG), 0), np.full(len(textsFormatedEG), 1), np.full(len(textsFormatedNG), 2)))"
   ]
  },
  {
   "cell_type": "code",
   "execution_count": 44,
   "metadata": {},
   "outputs": [
    {
     "data": {
      "text/plain": [
       "'Por lo tanto, las campañas públicas deben esclarecer la naturaleza de los procedimientos técnicos y legales, para disipar miedos; pero, esencialmente, deben apuntar a que se tome conciencia de lo que significa salvar otra vida, porque para decidirlo en un momento crucial es necesario que la idea se haya considerado y discutido previamente, con reflexión y calma.La última cuestión es la más compleja; en la actualidad, aunque alguien haya manifestado expresamente su voluntad de donar, es a la familia a la que se consulta en el momento en que la donación puede efectuarse. Como se entiende, tal consulta llega en un momento difícil y poco propicio para las reflexiones profundas, más aún si se tiene que tomar una decisión rápida.Es preciso, entonces, que se aclaren algunas dudas para que las personas pierdan el miedo a donar. Primero, que lo complicado de los procedimientos de extirpación y trasplantación, en el que intervienen varios equipos médicos altamente especializados, vuelve muy difícil la existencia de mafias. Segundo, que la necesaria compatibilidad (afinidad de grupo sanguíneo) entre donante y receptor dificulta la posibilidad de muertes “a pedido”.Si bien los trasplantes se han convertido en una práctica habitual, aún persisten fuertes temores en la población para donar órganos, lograr su superación es la clave para aumentar el número de los donadores solidarios que hacen falta para salvar miles de vidas.'"
      ]
     },
     "execution_count": 44,
     "metadata": {},
     "output_type": "execute_result"
    }
   ],
   "source": [
    "data[0]"
   ]
  },
  {
   "cell_type": "code",
   "execution_count": 9,
   "metadata": {},
   "outputs": [
    {
     "data": {
      "text/plain": [
       "array([0, 0, 0, 0, 0, 0, 0, 0, 0, 0, 0, 0, 0, 0, 0, 0, 0, 0, 0, 0, 0, 0,\n",
       "       0, 0, 0, 0, 0, 0, 0, 0, 0, 0, 0, 0, 0, 0, 0, 0, 0, 0, 0, 0, 0, 0,\n",
       "       0, 1, 1, 1, 1, 1, 1, 1, 1, 1, 1, 1, 1, 1, 1, 1, 1, 1, 1, 1, 1, 1,\n",
       "       1, 1, 1, 1, 1, 1, 1, 1, 1, 1, 1, 1, 1, 1, 1, 1, 1, 1, 1, 1, 1, 1,\n",
       "       1, 1, 1, 1, 1, 1, 1, 1, 1, 1, 1, 1, 1, 1, 1, 2, 2, 2, 2, 2, 2, 2,\n",
       "       2, 2, 2, 2, 2, 2, 2, 2, 2, 2, 2, 2, 2, 2, 2, 2, 2, 2, 2, 2, 2, 2,\n",
       "       2, 2])"
      ]
     },
     "execution_count": 9,
     "metadata": {},
     "output_type": "execute_result"
    }
   ],
   "source": [
    "labels"
   ]
  },
  {
   "cell_type": "markdown",
   "metadata": {},
   "source": [
    "### Preprocesing the data"
   ]
  },
  {
   "cell_type": "code",
   "execution_count": 10,
   "metadata": {},
   "outputs": [
    {
     "name": "stderr",
     "output_type": "stream",
     "text": [
      "/Users/herbert/.pyenv/versions/anaconda3-5.0.1/envs/jupyter3/lib/python3.6/site-packages/h5py/__init__.py:36: FutureWarning: Conversion of the second argument of issubdtype from `float` to `np.floating` is deprecated. In future, it will be treated as `np.float64 == np.dtype(float).type`.\n",
      "  from ._conv import register_converters as _register_converters\n",
      "Using TensorFlow backend.\n"
     ]
    }
   ],
   "source": [
    "import keras\n",
    "import keras.preprocessing.text as kpt\n",
    "from keras.preprocessing.text import Tokenizer"
   ]
  },
  {
   "cell_type": "code",
   "execution_count": 45,
   "metadata": {},
   "outputs": [],
   "source": [
    "maxWords = 3000\n",
    "tokenizer = Tokenizer(num_words=maxWords)\n",
    "tokenizer.fit_on_texts(data)\n",
    "dictionary = tokenizer.word_index"
   ]
  },
  {
   "cell_type": "code",
   "execution_count": 46,
   "metadata": {},
   "outputs": [],
   "source": [
    "def convert_text_to_index_array(text):\n",
    "    return [dictionary[word] for word in kpt.text_to_word_sequence(text)]"
   ]
  },
  {
   "cell_type": "code",
   "execution_count": 47,
   "metadata": {},
   "outputs": [],
   "source": [
    "allWordIndices = []\n",
    "\n",
    "for text in data:\n",
    "    wordIndices = convert_text_to_index_array(text)\n",
    "    allWordIndices.append(wordIndices)"
   ]
  },
  {
   "cell_type": "code",
   "execution_count": 48,
   "metadata": {},
   "outputs": [],
   "source": [
    "allWordIndices = np.asarray(allWordIndices)"
   ]
  },
  {
   "cell_type": "code",
   "execution_count": 49,
   "metadata": {},
   "outputs": [],
   "source": [
    "new_data = tokenizer.sequences_to_matrix(allWordIndices)\n",
    "new_labels = keras.utils.to_categorical(labels, 3)"
   ]
  },
  {
   "cell_type": "markdown",
   "metadata": {},
   "source": [
    "### Creating the model"
   ]
  },
  {
   "cell_type": "code",
   "execution_count": 50,
   "metadata": {},
   "outputs": [],
   "source": [
    "from keras.models import Sequential\n",
    "from keras.layers import Dense, Dropout, Activation"
   ]
  },
  {
   "cell_type": "code",
   "execution_count": 51,
   "metadata": {},
   "outputs": [],
   "source": [
    "model = Sequential()\n",
    "model.add(Dense(512, input_shape=(maxWords,), activation='relu'))\n",
    "model.add(Dropout(0.5))\n",
    "model.add(Dense(256, activation='sigmoid'))\n",
    "model.add(Dropout(0.5))\n",
    "model.add(Dense(3, activation='softmax'))"
   ]
  },
  {
   "cell_type": "code",
   "execution_count": 52,
   "metadata": {},
   "outputs": [],
   "source": [
    "model.compile(loss='categorical_crossentropy',\n",
    "  optimizer='adam',\n",
    "  metrics=['accuracy'])"
   ]
  },
  {
   "cell_type": "code",
   "execution_count": 53,
   "metadata": {},
   "outputs": [
    {
     "name": "stdout",
     "output_type": "stream",
     "text": [
      "Train on 120 samples, validate on 14 samples\n",
      "Epoch 1/5\n",
      "120/120 [==============================] - 1s 4ms/step - loss: 1.3913 - acc: 0.4333 - val_loss: 1.9243 - val_acc: 0.0000e+00\n",
      "Epoch 2/5\n",
      "120/120 [==============================] - 0s 364us/step - loss: 1.1022 - acc: 0.4583 - val_loss: 1.9742 - val_acc: 0.0000e+00\n",
      "Epoch 3/5\n",
      "120/120 [==============================] - 0s 449us/step - loss: 0.9101 - acc: 0.5667 - val_loss: 1.8956 - val_acc: 0.0000e+00\n",
      "Epoch 4/5\n",
      "120/120 [==============================] - 0s 454us/step - loss: 0.7647 - acc: 0.6417 - val_loss: 1.9417 - val_acc: 0.0000e+00\n",
      "Epoch 5/5\n",
      "120/120 [==============================] - 0s 667us/step - loss: 0.5870 - acc: 0.7750 - val_loss: 1.8392 - val_acc: 0.0000e+00\n"
     ]
    },
    {
     "data": {
      "text/plain": [
       "<keras.callbacks.History at 0x1217e72b0>"
      ]
     },
     "execution_count": 53,
     "metadata": {},
     "output_type": "execute_result"
    }
   ],
   "source": [
    "model.fit(new_data, new_labels,\n",
    "  batch_size=32,\n",
    "  epochs=5,\n",
    "  verbose=1,\n",
    "  validation_split=0.1,\n",
    "  shuffle=True)"
   ]
  },
  {
   "cell_type": "code",
   "execution_count": 30,
   "metadata": {},
   "outputs": [],
   "source": [
    "textOfTenthGrade = Text.getTexts(database,grade=10)"
   ]
  },
  {
   "cell_type": "code",
   "execution_count": 33,
   "metadata": {},
   "outputs": [
    {
     "data": {
      "text/plain": [
       "'Son casos especiales en que puede hacerse uso del temor aquellos en que el anuncio tenga como uno de sus objetivos promover la prudencia en determinadas actividades o desalentar conductas o actividades consideradas contrarias a la seguridad o salud del consumidor.Artículo 14°.- Explotación de la Superstición y Temor La publicidad deberá evitar toda forma de explotación de la superstición, la ignorancia, la credulidad y, excepto en casos especiales, del temor de los consumidores.Artículo 13°.- Publicidad de servicios de contenido erótico La publicidad que promociona servicios de contenido erótico no debe ser difundida a un público distinto al adulto. Por tanto, la difusión de este tipo de publicidad está restringida a lugares, medios, soportes, espacios u horarios de circulación restringida para adultos.La publicidad no deberá inducir a los destinatarios del mensaje publicitario a cometer un acto ilegal o perjudicial para su seguridad personal o la de terceros. El hecho que un producto o servicio en particular pueda ser considerado indecente para algunas personas no significa que ello será suficiente para objetar su validez, por lo que deberá ser revisado en cada caso en concreto.En virtud de este principio, el mensaje publicitario no debe contener declaraciones o presentaciones visuales o de audio que ofendan, denigren o vulneren, entre otros, los derechos a la igualdad y a la no discriminación en razón de la raza, género, edad, religión, orientación sexual, nacionalidad, condición social, cultural o económica.Artículo 12°.- Principio de Decencia y Sexualidad en la Publicidad Los anuncios publicitarios deberán respetar la dignidad de las personas y su intimidad, el núcleo familiar, el interés social, las instituciones públicas y privadas, las autoridades legítimamente constituidas y los símbolos patrios.CAPÍTULO IV DECENCIA Y ADECUACIÓN SOCIAL EN LA PUBLICIDAD.Artículo 10°.- Humor, fantasía y exageración Está permitido el uso del humor, la fantasía y la exageración en la publicidad siempre que no induzca a error a los consumidores ni sean susceptibles de generar un acto de competencia desleal.Artículo 9º.- Publicidad testimonial Configura infracción al principio de veracidad la difusión de publicidad testimonial no sustentada en experiencias auténticas y recientes de un testigo.La publicidad no debe tener como efecto, real o potencial, la inducción a error a otros agentes en el mercado sobre la naturaleza, modo de fabricación o distribución, características, aptitud para el uso, calidad, cantidad, precio, condiciones de venta o adquisición y, en general, sobre los atributos, beneficios o condiciones que corresponden a los bienes, servicios, establecimientos o transacciones que el anunciante pone a disposición en el mercado; o, inducir a error sobre los atributos que posee dicho anunciante, incluido todo aquello que representa su actividad empresarial. (…).VERACIDAD Artículo 7°.- Principio de veracidad.Los actos de confusión pueden materializarse mediante la utilización indebida de bienes protegidos por las normas de propiedad intelectual. (…) CAPÍTULO II.Infringe el presente Código la imitación del esquema general, el texto, el eslogan, la presentación visual, la música o efectos sonoros de otros mensajes publicitarios nacionales o extranjeros siempre y cuando dicha imitación pueda dar lugar a confusión.Artículo 6°.- Confusión La publicidad no debe confundir a los agentes en el mercado respecto del origen empresarial de la actividad, el establecimiento, los productos o servicios ofertados, de manera tal que se considere que estos poseen un origen empresarial distinto al que realmente les corresponde.Artículo 5°.- Leal competencia Todo anuncio debe respetar la leal competencia mercantil, evitando que este constituya un acto de competencia desleal.CAPÍTULO I LEAL COMPETENCIA.TÍTULO II PRINCIPIOS GENERALES.'"
      ]
     },
     "execution_count": 33,
     "metadata": {},
     "output_type": "execute_result"
    }
   ],
   "source": [
    "txtStr = transformToString(textOfTenthGrade[0])\n",
    "txtStr"
   ]
  },
  {
   "cell_type": "code",
   "execution_count": 36,
   "metadata": {},
   "outputs": [],
   "source": [
    "def convert_test_text_to_index_array(text):\n",
    "    words = kpt.text_to_word_sequence(text)\n",
    "    wordIndices = []\n",
    "    for word in words:\n",
    "        if word in dictionary:\n",
    "            wordIndices.append(dictionary[word])\n",
    "        else:\n",
    "            print(\"'%s' not in training corpus; ignoring.\" %(word))\n",
    "    return wordIndices"
   ]
  },
  {
   "cell_type": "code",
   "execution_count": 37,
   "metadata": {},
   "outputs": [
    {
     "name": "stdout",
     "output_type": "stream",
     "text": [
      "'prudencia' not in training corpus; ignoring.\n",
      "'desalentar' not in training corpus; ignoring.\n",
      "'conductas' not in training corpus; ignoring.\n",
      "'consideradas' not in training corpus; ignoring.\n",
      "'contrarias' not in training corpus; ignoring.\n",
      "'14°' not in training corpus; ignoring.\n",
      "'deberá' not in training corpus; ignoring.\n",
      "'13°' not in training corpus; ignoring.\n",
      "'promociona' not in training corpus; ignoring.\n",
      "'difundida' not in training corpus; ignoring.\n",
      "'distinto' not in training corpus; ignoring.\n",
      "'difusión' not in training corpus; ignoring.\n",
      "'restringida' not in training corpus; ignoring.\n",
      "'soportes' not in training corpus; ignoring.\n",
      "'restringida' not in training corpus; ignoring.\n",
      "'deberá' not in training corpus; ignoring.\n",
      "'inducir' not in training corpus; ignoring.\n",
      "'destinatarios' not in training corpus; ignoring.\n",
      "'terceros' not in training corpus; ignoring.\n",
      "'indecente' not in training corpus; ignoring.\n",
      "'objetar' not in training corpus; ignoring.\n",
      "'validez' not in training corpus; ignoring.\n",
      "'deberá' not in training corpus; ignoring.\n",
      "'revisado' not in training corpus; ignoring.\n",
      "'concreto' not in training corpus; ignoring.\n",
      "'presentaciones' not in training corpus; ignoring.\n",
      "'audio' not in training corpus; ignoring.\n",
      "'ofendan' not in training corpus; ignoring.\n",
      "'denigren' not in training corpus; ignoring.\n",
      "'vulneren' not in training corpus; ignoring.\n",
      "'orientación' not in training corpus; ignoring.\n",
      "'nacionalidad' not in training corpus; ignoring.\n",
      "'12°' not in training corpus; ignoring.\n",
      "'decencia' not in training corpus; ignoring.\n",
      "'sexualidad' not in training corpus; ignoring.\n",
      "'publicitarios' not in training corpus; ignoring.\n",
      "'dignidad' not in training corpus; ignoring.\n",
      "'intimidad' not in training corpus; ignoring.\n",
      "'núcleo' not in training corpus; ignoring.\n",
      "'privadas' not in training corpus; ignoring.\n",
      "'legítimamente' not in training corpus; ignoring.\n",
      "'constituidas' not in training corpus; ignoring.\n",
      "'patrios' not in training corpus; ignoring.\n",
      "'decencia' not in training corpus; ignoring.\n",
      "'adecuación' not in training corpus; ignoring.\n",
      "'10°' not in training corpus; ignoring.\n",
      "'fantasía' not in training corpus; ignoring.\n",
      "'exageración' not in training corpus; ignoring.\n",
      "'fantasía' not in training corpus; ignoring.\n",
      "'exageración' not in training corpus; ignoring.\n",
      "'induzca' not in training corpus; ignoring.\n",
      "'susceptibles' not in training corpus; ignoring.\n",
      "'9º' not in training corpus; ignoring.\n",
      "'testimonial' not in training corpus; ignoring.\n",
      "'configura' not in training corpus; ignoring.\n",
      "'infracción' not in training corpus; ignoring.\n",
      "'veracidad' not in training corpus; ignoring.\n",
      "'difusión' not in training corpus; ignoring.\n",
      "'testimonial' not in training corpus; ignoring.\n",
      "'sustentada' not in training corpus; ignoring.\n",
      "'auténticas' not in training corpus; ignoring.\n",
      "'testigo' not in training corpus; ignoring.\n",
      "'inducción' not in training corpus; ignoring.\n",
      "'aptitud' not in training corpus; ignoring.\n",
      "'corresponden' not in training corpus; ignoring.\n",
      "'bienes' not in training corpus; ignoring.\n",
      "'establecimientos' not in training corpus; ignoring.\n",
      "'transacciones' not in training corpus; ignoring.\n",
      "'anunciante' not in training corpus; ignoring.\n",
      "'inducir' not in training corpus; ignoring.\n",
      "'anunciante' not in training corpus; ignoring.\n",
      "'incluido' not in training corpus; ignoring.\n",
      "'veracidad' not in training corpus; ignoring.\n",
      "'7°' not in training corpus; ignoring.\n",
      "'veracidad' not in training corpus; ignoring.\n",
      "'materializarse' not in training corpus; ignoring.\n",
      "'utilización' not in training corpus; ignoring.\n",
      "'indebida' not in training corpus; ignoring.\n",
      "'bienes' not in training corpus; ignoring.\n",
      "'protegidos' not in training corpus; ignoring.\n",
      "'normas' not in training corpus; ignoring.\n",
      "'propiedad' not in training corpus; ignoring.\n",
      "'infringe' not in training corpus; ignoring.\n",
      "'código' not in training corpus; ignoring.\n",
      "'imitación' not in training corpus; ignoring.\n",
      "'eslogan' not in training corpus; ignoring.\n",
      "'presentación' not in training corpus; ignoring.\n",
      "'sonoros' not in training corpus; ignoring.\n",
      "'publicitarios' not in training corpus; ignoring.\n",
      "'imitación' not in training corpus; ignoring.\n",
      "'6°' not in training corpus; ignoring.\n",
      "'confundir' not in training corpus; ignoring.\n",
      "'establecimiento' not in training corpus; ignoring.\n",
      "'ofertados' not in training corpus; ignoring.\n",
      "'considere' not in training corpus; ignoring.\n",
      "'distinto' not in training corpus; ignoring.\n",
      "'5°' not in training corpus; ignoring.\n",
      "'mercantil' not in training corpus; ignoring.\n",
      "'constituya' not in training corpus; ignoring.\n"
     ]
    }
   ],
   "source": [
    "testArr = convert_test_text_to_index_array(txtStr)\n",
    "inputTxt = tokenizer.sequences_to_matrix([testArr], mode='binary')"
   ]
  },
  {
   "cell_type": "code",
   "execution_count": 41,
   "metadata": {},
   "outputs": [
    {
     "name": "stdout",
     "output_type": "stream",
     "text": [
      "[[0.33698675 0.4989199  0.16409333]]\n",
      "7 grade; 49.891990% confidence\n"
     ]
    }
   ],
   "source": [
    "pred = model.predict(inputTxt)\n",
    "print(\"%s grade; %f%% confidence\" % (labels[np.argmax(pred)]+7, pred[0][np.argmax(pred)] * 100))"
   ]
  },
  {
   "cell_type": "code",
   "execution_count": null,
   "metadata": {},
   "outputs": [],
   "source": []
  }
 ],
 "metadata": {
  "kernelspec": {
   "display_name": "Python 3",
   "language": "python",
   "name": "python3"
  },
  "language_info": {
   "codemirror_mode": {
    "name": "ipython",
    "version": 3
   },
   "file_extension": ".py",
   "mimetype": "text/x-python",
   "name": "python",
   "nbconvert_exporter": "python",
   "pygments_lexer": "ipython3",
   "version": "3.6.5"
  }
 },
 "nbformat": 4,
 "nbformat_minor": 2
}
