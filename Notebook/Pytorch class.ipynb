{
 "cells": [
  {
   "cell_type": "markdown",
   "metadata": {},
   "source": [
    "### Import custom modules from current folder"
   ]
  },
  {
   "cell_type": "code",
   "execution_count": 247,
   "metadata": {},
   "outputs": [],
   "source": [
    "import os\n",
    "import sys\n",
    "\n",
    "module_path = os.path.abspath(os.path.join('..'))\n",
    "\n",
    "if module_path not in sys.path:\n",
    "    sys.path.append(module_path)"
   ]
  },
  {
   "cell_type": "code",
   "execution_count": 2,
   "metadata": {},
   "outputs": [],
   "source": [
    "import nltk\n",
    "from sklearn.model_selection import train_test_split\n",
    "# from simple_text_representation.classes import Text\n",
    "# from simple_text_representation.models import Database\n",
    "import pandas as pd\n",
    "import numpy as np\n",
    "# from nltk.draw.tree import draw_trees"
   ]
  },
  {
   "cell_type": "code",
   "execution_count": 3,
   "metadata": {},
   "outputs": [],
   "source": [
    "# database = Database('educationalTexts', 'postgres', '', '0.0.0.0', 5432)\n",
    "# path = r'http://localhost/'"
   ]
  },
  {
   "cell_type": "code",
   "execution_count": 4,
   "metadata": {},
   "outputs": [],
   "source": [
    "def transformToString(text):\n",
    "    textStr = ''\n",
    "\n",
    "    for paragraph in text:\n",
    "        for line in paragraph:\n",
    "            textStr = textStr + line\n",
    "    return textStr"
   ]
  },
  {
   "cell_type": "markdown",
   "metadata": {},
   "source": [
    "### Load the data"
   ]
  },
  {
   "cell_type": "code",
   "execution_count": 5,
   "metadata": {},
   "outputs": [],
   "source": [
    "dfSeventh = pd.read_csv('../Data/textsSeventhgrade.csv')\n",
    "dfEighth = pd.read_csv('../Data/textsEighthgrade.csv')\n",
    "dfNinth = pd.read_csv('../Data/textsNinthgrade.csv')\n",
    "dfTenth = pd.read_csv('../Data/textsTenthGrade.csv')\n",
    "dfEleventh = pd.read_csv('../Data/textsEleventhgrade.csv')"
   ]
  },
  {
   "cell_type": "markdown",
   "metadata": {},
   "source": [
    "### Transform the data to known structures"
   ]
  },
  {
   "cell_type": "code",
   "execution_count": 6,
   "metadata": {},
   "outputs": [],
   "source": [
    "def transform_csv_to_structure(df):\n",
    "    text_ids = df['id'].unique()\n",
    "    texts = list()\n",
    "    for text_id in text_ids:\n",
    "        sentence_grouped = df.where(dfSeventh['id'] == 1)\n",
    "        clean_df = df[pd.notnull(sentence_grouped['id'])]\n",
    "        paragraphs = list()\n",
    "        df_paragraphs = clean_df.groupby('paragraph_id').apply(lambda x: \"%s\" % '|'.join(x['value'])).values\n",
    "        for df_paragraph in df_paragraphs:\n",
    "            paragraphs.append(df_paragraph.split('|'))\n",
    "        texts.append(paragraphs)\n",
    "\n",
    "    return texts"
   ]
  },
  {
   "cell_type": "code",
   "execution_count": 7,
   "metadata": {},
   "outputs": [],
   "source": [
    "textOfSeventhGrade = transform_csv_to_structure(dfSeventh)\n",
    "textOfEightGrade = transform_csv_to_structure(dfEighth)\n",
    "textOfNineGrade = transform_csv_to_structure(dfNinth)\n",
    "textOfTenthGrade = transform_csv_to_structure(dfTenth)\n",
    "textOfEleventhGrade = transform_csv_to_structure(dfEleventh)\n",
    "\n",
    "textsFormatedSG = [transformToString(textArr) for textArr in textOfSeventhGrade]\n",
    "textsFormatedEG = [transformToString(textArr) for textArr in textOfEightGrade]\n",
    "textsFormatedNG = [transformToString(textArr) for textArr in textOfNineGrade]\n",
    "textsFormatedTG = [transformToString(textArr) for textArr in textOfTenthGrade]\n",
    "textsFormatedEG = [transformToString(textArr) for textArr in textOfEleventhGrade]"
   ]
  },
  {
   "cell_type": "markdown",
   "metadata": {},
   "source": [
    "### Format train and test data"
   ]
  },
  {
   "cell_type": "code",
   "execution_count": 8,
   "metadata": {},
   "outputs": [],
   "source": [
    "data = np.concatenate((np.array(textsFormatedSG),\n",
    "                       np.array(textsFormatedEG),\n",
    "                       np.array(textsFormatedNG),\n",
    "                       np.array(textsFormatedTG),\n",
    "                       np.array(textsFormatedEG)  )) \n",
    "labels = np.concatenate((np.full(len(textsFormatedSG), 0),\n",
    "                         np.full(len(textsFormatedEG), 1),\n",
    "                         np.full(len(textsFormatedNG), 2),\n",
    "                         np.full(len(textsFormatedTG), 3),\n",
    "                         np.full(len(textsFormatedEG), 4)))"
   ]
  },
  {
   "cell_type": "code",
   "execution_count": 9,
   "metadata": {},
   "outputs": [
    {
     "data": {
      "text/plain": [
       "179"
      ]
     },
     "execution_count": 9,
     "metadata": {},
     "output_type": "execute_result"
    }
   ],
   "source": [
    "len(data)"
   ]
  },
  {
   "cell_type": "code",
   "execution_count": 10,
   "metadata": {},
   "outputs": [
    {
     "data": {
      "text/plain": [
       "179"
      ]
     },
     "execution_count": 10,
     "metadata": {},
     "output_type": "execute_result"
    }
   ],
   "source": [
    "len(labels)"
   ]
  },
  {
   "cell_type": "code",
   "execution_count": 11,
   "metadata": {},
   "outputs": [],
   "source": [
    "x_train, x_test, y_train, y_test = train_test_split(data, labels, test_size=0.2, random_state=42)"
   ]
  },
  {
   "cell_type": "code",
   "execution_count": 12,
   "metadata": {},
   "outputs": [
    {
     "data": {
      "text/plain": [
       "143"
      ]
     },
     "execution_count": 12,
     "metadata": {},
     "output_type": "execute_result"
    }
   ],
   "source": [
    "len(y_train)"
   ]
  },
  {
   "cell_type": "code",
   "execution_count": 13,
   "metadata": {},
   "outputs": [
    {
     "data": {
      "text/plain": [
       "143"
      ]
     },
     "execution_count": 13,
     "metadata": {},
     "output_type": "execute_result"
    }
   ],
   "source": [
    "len(x_train)"
   ]
  },
  {
   "cell_type": "markdown",
   "metadata": {},
   "source": [
    "### Load the trained embeddings"
   ]
  },
  {
   "cell_type": "code",
   "execution_count": 14,
   "metadata": {},
   "outputs": [],
   "source": [
    "EMBEDDINGS_DIMESION = 300"
   ]
  },
  {
   "cell_type": "code",
   "execution_count": 15,
   "metadata": {},
   "outputs": [
    {
     "name": "stdout",
     "output_type": "stream",
     "text": [
      "Loaded 1000654 word vectors.\n"
     ]
    }
   ],
   "source": [
    "embeddingsIndex = dict()\n",
    "f = open('../SBW-vectors-300-min5.txt')\n",
    "for line in f:\n",
    "    values = line.split()\n",
    "    word = values[0]\n",
    "    coefs = np.asarray(values[1:], dtype='float32')\n",
    "    embeddingsIndex[word] = coefs\n",
    "f.close()\n",
    "print('Loaded %s word vectors.' % len(embeddingsIndex))"
   ]
  },
  {
   "cell_type": "markdown",
   "metadata": {},
   "source": [
    "### Preprocesing the data"
   ]
  },
  {
   "cell_type": "code",
   "execution_count": 258,
   "metadata": {},
   "outputs": [],
   "source": [
    "import keras.preprocessing.text as kpt\n",
    "from keras.preprocessing.text import Tokenizer\n",
    "from keras.preprocessing.sequence import pad_sequences\n",
    "\n",
    "import torch\n",
    "from torch.autograd import Variable\n",
    "from math import ceil\n",
    "\n",
    "# from torch.nn.utils.rnn import pad_sequence\n",
    "# import spacy"
   ]
  },
  {
   "cell_type": "code",
   "execution_count": 152,
   "metadata": {},
   "outputs": [],
   "source": [
    "# nlp = spacy.load('es')\n",
    "# doc = nlp(textOfSeventhGrade[0][0][0])\n",
    "# token_sentence = [token for token in doc]\n",
    "# # token_sentence\n"
   ]
  },
  {
   "cell_type": "code",
   "execution_count": 18,
   "metadata": {},
   "outputs": [],
   "source": [
    "def createEmbedingMatrix(tokenizer, vocabSize):\n",
    "    embeddingMatrix = np.zeros((vocabSize, 300))\n",
    "    for word, i in tokenizer.word_index.items():\n",
    "        embeddingVector = embeddingsIndex.get(word)\n",
    "        if embeddingVector is not None:\n",
    "            embeddingMatrix[i] = embeddingVector\n",
    "    return embeddingMatrix"
   ]
  },
  {
   "cell_type": "code",
   "execution_count": 19,
   "metadata": {},
   "outputs": [],
   "source": [
    "def tokenize(x):\n",
    "    tokenizer = Tokenizer()\n",
    "    tokenizer.fit_on_texts(x)\n",
    "    vocabSize = len(tokenizer.word_index) + 1\n",
    "    encodedData = tokenizer.texts_to_sequences(x)\n",
    "    maxLength = EMBEDDINGS_DIMESION\n",
    "    paddedData = pad_sequences(encodedData, maxlen=maxLength, padding='post')\n",
    "    embeddings = createEmbedingMatrix(tokenizer, vocabSize)\n",
    "    \n",
    "    return paddedData"
   ]
  },
  {
   "cell_type": "code",
   "execution_count": 20,
   "metadata": {},
   "outputs": [],
   "source": [
    "def createTrainData(x):\n",
    "    tokenizer = Tokenizer()\n",
    "    tokenizer.fit_on_texts(x)\n",
    "    vocabSize = len(tokenizer.word_index) + 1\n",
    "    encodedData = tokenizer.texts_to_sequences(x)\n",
    "    maxLength = EMBEDDINGS_DIMESION\n",
    "    paddedData = pad_sequences(encodedData, maxlen=maxLength, padding='post')\n",
    "    embeddings = createEmbedingMatrix(tokenizer, vocabSize)\n",
    "    \n",
    "    return paddedData, embeddings, maxLength, vocabSize"
   ]
  },
  {
   "cell_type": "code",
   "execution_count": 261,
   "metadata": {},
   "outputs": [
    {
     "data": {
      "text/plain": [
       "Variable containing:\n",
       "   54     5    22  ...      0     0     0\n",
       "   41   126     7  ...      0     0     0\n",
       "   41   126     7  ...      0     0     0\n",
       "       ...          ⋱          ...       \n",
       "   41   126     7  ...      0     0     0\n",
       "    6    39    12  ...      0     0     0\n",
       "    6    39    12  ...      0     0     0\n",
       "[torch.LongTensor of size 143x300]"
      ]
     },
     "execution_count": 261,
     "metadata": {},
     "output_type": "execute_result"
    }
   ],
   "source": [
    "x_train_tokenize, x_train_embeddings, x_train_max_features, x_train_vocab_size  = createTrainData(x_train)\n",
    "x_test_tokenize = tokenize(x_test)\n",
    "\n",
    "\n",
    "torch_train_embeddings = torch.from_numpy(x_train_embeddings)\n",
    "torch_train_tokenize = torch.from_numpy(x_train_tokenize)\n",
    "torch_train_tokenize = Variable(torch_train_tokenize.type(torch.LongTensor))\n",
    "torch_train_tokenize\n",
    "# torch_train_embeddings\n",
    "# torch_train_tokenize"
   ]
  },
  {
   "cell_type": "markdown",
   "metadata": {},
   "source": [
    "### Creating the model"
   ]
  },
  {
   "cell_type": "code",
   "execution_count": 60,
   "metadata": {
    "scrolled": true
   },
   "outputs": [
    {
     "data": {
      "text/plain": [
       "<torch._C.Generator at 0x7f0a0e999d30>"
      ]
     },
     "execution_count": 60,
     "metadata": {},
     "output_type": "execute_result"
    }
   ],
   "source": [
    "import torch\n",
    "import torch.nn as nn\n",
    "import torch.nn.functional as F\n",
    "import torch.optim as optim\n",
    "\n",
    "torch.manual_seed(1)"
   ]
  },
  {
   "cell_type": "code",
   "execution_count": 132,
   "metadata": {},
   "outputs": [],
   "source": [
    "# embed = torch.ones([300, 1, 500])"
   ]
  },
  {
   "cell_type": "code",
   "execution_count": 133,
   "metadata": {},
   "outputs": [],
   "source": [
    "# embed.shape"
   ]
  },
  {
   "cell_type": "code",
   "execution_count": 134,
   "metadata": {},
   "outputs": [],
   "source": [
    "# m = torch.ones([300, 1, 5])"
   ]
  },
  {
   "cell_type": "code",
   "execution_count": 135,
   "metadata": {},
   "outputs": [],
   "source": [
    "# d = [1, 2, 3, 4, 5]"
   ]
  },
  {
   "cell_type": "code",
   "execution_count": 136,
   "metadata": {},
   "outputs": [],
   "source": [
    "# \"A B C D E\" -> 12 13 45 23 12 -> [1.2, 2.3] [1.3, 4.3] [0.2, 2.3] [1.2, 2.3] [1.2, 2.3] \n",
    "#                               -> [d, d, d, d, d]"
   ]
  },
  {
   "cell_type": "code",
   "execution_count": 137,
   "metadata": {},
   "outputs": [],
   "source": [
    "# torch.cat((embed, m), dim=2)"
   ]
  },
  {
   "cell_type": "code",
   "execution_count": 138,
   "metadata": {},
   "outputs": [],
   "source": [
    "# m.shape"
   ]
  },
  {
   "cell_type": "code",
   "execution_count": 139,
   "metadata": {},
   "outputs": [],
   "source": [
    "# len(torch.chunk(embed, chunks=300))"
   ]
  },
  {
   "cell_type": "code",
   "execution_count": 140,
   "metadata": {},
   "outputs": [],
   "source": [
    "# d = torch.chunk(embed, chunks=300)"
   ]
  },
  {
   "cell_type": "code",
   "execution_count": 141,
   "metadata": {},
   "outputs": [],
   "source": [
    "# for v in d:\n",
    "#     torch.cat((embed, m),)"
   ]
  },
  {
   "cell_type": "code",
   "execution_count": 142,
   "metadata": {},
   "outputs": [],
   "source": [
    "# torch.cat((embed, m), dim=2)"
   ]
  },
  {
   "cell_type": "code",
   "execution_count": 168,
   "metadata": {},
   "outputs": [],
   "source": [
    "def create_weight_matrix(dict_embeddings):\n",
    "    matrix_len = len(dict_embeddings)\n",
    "    weights_matrix_emb = np.zeros((matrix_len, EMBEDDINGS_DIMESION))\n",
    "    \n",
    "    for i, word in enumerate(dict_embeddings):\n",
    "        weights_matrix_emb[i] = dict_embeddings[word]\n",
    "        \n",
    "    return  weights_matrix_emb"
   ]
  },
  {
   "cell_type": "code",
   "execution_count": 211,
   "metadata": {},
   "outputs": [],
   "source": [
    "def create_emb_layer(emb_matrix, non_trainable=False):\n",
    "    num_embeddings, embedding_dim = emb_matrix.shape\n",
    "    emb_layer = nn.Embedding(num_embeddings, embedding_dim)\n",
    "    emb_layer.weight = nn.Parameter(emb_matrix)\n",
    "    if non_trainable:\n",
    "        emb_layer.weight.requires_grad = False\n",
    "\n",
    "    return emb_layer, num_embeddings, embedding_dim"
   ]
  },
  {
   "cell_type": "code",
   "execution_count": 265,
   "metadata": {},
   "outputs": [],
   "source": [
    "class LSTMClassifier(nn.Module):\n",
    "\n",
    "    def __init__(self, weights_matrix, hidden_dim, vocab_size, batch_size, tagset_size):\n",
    "        super(LSTMClassifier, self).__init__()\n",
    "        self.hidden_dim = hidden_dim\n",
    "\n",
    "#         self.word_embeddings = nn.Embedding(vocab_size, embedding_dim)\n",
    "        self.word_embeddings, num_embeddings, embedding_dim = create_emb_layer(weights_matrix, True)\n",
    "\n",
    "        # The LSTM takes word embeddings as inputs, and outputs hidden states\n",
    "        # with dimensionality hidden_dim.\n",
    "        self.lstm = nn.LSTM(embedding_dim, hidden_dim, 1)\n",
    "\n",
    "        # The linear layer that maps from hidden state space to tag space\n",
    "        # + 5 in the hidden_dim after the LSTM\n",
    "        self.hidden2tag = nn.Linear(hidden_dim, tagset_size)\n",
    "        self.hidden = self.init_hidden(batch_size)\n",
    "\n",
    "    def init_hidden(self, batch_size):\n",
    "        # Before we've done anything, we dont have any hidden state.\n",
    "        # Refer to the Pytorch documentation to see exactly\n",
    "        # why they have this dimensionality.\n",
    "        # The axes semantics are (num_layers, minibatch_size, hidden_dim)\n",
    "        return (torch.zeros(1, batch_size, self.hidden_dim),\n",
    "                torch.zeros(1, batch_size, self.hidden_dim))\n",
    "\n",
    "    # Recibe el batch\n",
    "    # [[1,2,3,4,5,6]] [[0.4,14,5123,123,21]]\n",
    "    # [[]]\n",
    "    def forward(self, text):\n",
    "        embeds = self.word_embeddings(text) # batch de textos\n",
    "        # Append de las metricas al batch ( con cat )\n",
    "        # torch.cat((embeds, metrics), 2)\n",
    "        # (seq_len, batch_size, embed_size)\n",
    "        print('Embeds', embeds);\n",
    "        lstm_out, self.hidden = self.lstm(embeds.view(300, 32, -1), self.hidden)\n",
    "        \n",
    "        \n",
    "        tag_space = self.hidden2tag(lstm_out.view(len(text), -1))\n",
    "        \n",
    "        tag_scores = F.log_softmax(tag_space, dim=1)\n",
    "        return tag_scores"
   ]
  },
  {
   "cell_type": "markdown",
   "metadata": {},
   "source": [
    "### Training the model"
   ]
  },
  {
   "cell_type": "code",
   "execution_count": 213,
   "metadata": {},
   "outputs": [],
   "source": [
    "#batch_size - num_hidden_neurons - epochs - embedding_size - precision\n",
    "testParams2 = [\n",
    "  [32, 64, 10],\n",
    "  [32, 128, 10],\n",
    "  [32, 64, 20],\n",
    "  [32, 128, 20],\n",
    "  [32, 256, 20],\n",
    "  [32, 64, 30],\n",
    "  [32, 128, 30],\n",
    "  [32, 64, 40],\n",
    "  [32, 128, 40],\n",
    "  [64, 64, 40],\n",
    "  [64, 128, 40],\n",
    "  [64, 256, 40],\n",
    "  [32, 64, 50],\n",
    "]"
   ]
  },
  {
   "cell_type": "markdown",
   "metadata": {},
   "source": [
    "#### Transform dictionary into matrix"
   ]
  },
  {
   "cell_type": "code",
   "execution_count": 216,
   "metadata": {},
   "outputs": [],
   "source": [
    "final_weigth_matrix = torch.from_numpy(create_weight_matrix(embeddingsIndex))"
   ]
  },
  {
   "cell_type": "code",
   "execution_count": 245,
   "metadata": {},
   "outputs": [
    {
     "data": {
      "text/plain": [
       "\n",
       " 300.0000  300.0000  300.0000  ...   300.0000  300.0000  300.0000\n",
       "  -0.0296    0.0113    0.0199  ...    -0.1281   -0.0049    0.0626\n",
       "  -0.0130   -0.0008    0.0326  ...    -0.1325    0.0294    0.0634\n",
       "             ...                ⋱                ...             \n",
       "   0.0652   -0.0578   -0.0102  ...    -0.0061   -0.0227    0.0727\n",
       "   0.0889   -0.1178   -0.0349  ...    -0.0530   -0.0172   -0.0181\n",
       "   0.0272   -0.0494   -0.0813  ...    -0.0485    0.0100    0.0424\n",
       "[torch.FloatTensor of size 1000654x300]"
      ]
     },
     "execution_count": 245,
     "metadata": {},
     "output_type": "execute_result"
    }
   ],
   "source": [
    "final_weigth_matrix = final_weigth_matrix.type(torch.FloatTensor)\n",
    "final_weigth_matrix"
   ]
  },
  {
   "cell_type": "code",
   "execution_count": 185,
   "metadata": {},
   "outputs": [],
   "source": [
    "def split_train_batchs(arr_tokens, arr_targets, batch_size):\n",
    "    max_length = ceil(len(arr_tokens)/batch_size)\n",
    "    torch_train_batchs = list()\n",
    "    y_train_batchs = list()\n",
    "\n",
    "    for i in range(max_length):\n",
    "        torch_train_batch = arr_tokens[i*batch_size:(i+1)*batch_size]\n",
    "        y_train_batch = arr_targets[i*batch_size:(i+1)*batch_size]\n",
    "        torch_train_batchs.append(torch_train_batch)\n",
    "        y_train_batchs.append(y_train_batch)\n",
    "\n",
    "    data_train_batch = list(zip(torch_train_batchs, y_train_batchs))\n",
    "\n",
    "    return data_train_batch"
   ]
  },
  {
   "cell_type": "code",
   "execution_count": 263,
   "metadata": {},
   "outputs": [],
   "source": [
    "def testModel(hidden_dim, epochs, texts_batch_size, train_batchs):\n",
    "    model = LSTMClassifier(final_weigth_matrix, hidden_dim, x_train_vocab_size, texts_batch_size, 5)\n",
    "    loss_function = nn.NLLLoss()\n",
    "    optimizer = optim.Adam(filter(lambda p: p.requires_grad, model.parameters()), lr=0.1)\n",
    "    \n",
    "    for epoch in range(epochs):\n",
    "        for batch_text, targets in train_texts_batchs:\n",
    "            # Step 1. Remember that Pytorch accumulates gradients.\n",
    "            # We need to clear them out before each instance\n",
    "            model.zero_grad()\n",
    "\n",
    "            # Also, we need to clear out the hidden state of the LSTM,\n",
    "            # detaching it from its history on the last instance.\n",
    "            model.hidden = model.init_hidden(texts_batch_size)\n",
    "\n",
    "            # Step 2. Get our inputs ready for the network, that is, turn them into\n",
    "            # Tensors of word indices.\n",
    "#             sentence_in = prepare_sequence(sentence, word_to_ix)\n",
    "#             targets = prepare_sequence(tags, tag_to_ix)\n",
    "\n",
    "            # Step 3. Run our forward pass.\n",
    "            tag_scores = model(batch_text)\n",
    "            print('Tag scores: /n', tag_scores)\n",
    "\n",
    "            # Step 4. Compute the loss, gradients, and update the parameters by\n",
    "            #  calling optimizer.step()\n",
    "            loss = loss_function(tag_scores, targets)\n",
    "            print('Loss results/n', loss)\n",
    "            loss.backward()\n",
    "            optimizer.step()"
   ]
  },
  {
   "cell_type": "code",
   "execution_count": 266,
   "metadata": {},
   "outputs": [
    {
     "name": "stdout",
     "output_type": "stream",
     "text": [
      "Hidden layer: 64\n",
      "Epochs: 10\n",
      "Batch size: 32\n",
      "Embeds Variable containing:\n",
      "( 0 ,.,.) = \n",
      " -1.1183e-02 -5.3800e-04  9.8043e-02  ...  -8.6297e-02  4.3756e-02  2.1946e-02\n",
      " -1.9094e-02 -5.4838e-02  6.1867e-02  ...  -1.3209e-01 -2.4071e-02  6.1029e-02\n",
      " -4.8046e-02 -7.0493e-02  9.8030e-03  ...  -3.7049e-02 -8.6930e-03  7.0250e-03\n",
      "                 ...                   ⋱                   ...                \n",
      "  3.0000e+02  3.0000e+02  3.0000e+02  ...   3.0000e+02  3.0000e+02  3.0000e+02\n",
      "  3.0000e+02  3.0000e+02  3.0000e+02  ...   3.0000e+02  3.0000e+02  3.0000e+02\n",
      "  3.0000e+02  3.0000e+02  3.0000e+02  ...   3.0000e+02  3.0000e+02  3.0000e+02\n",
      "\n",
      "( 1 ,.,.) = \n",
      "  1.6822e-02 -8.6496e-02  5.3342e-02  ...  -1.6591e-02 -6.9230e-03 -4.8323e-02\n",
      " -5.5095e-02  6.0450e-03  8.7281e-02  ...   2.1905e-02 -8.0660e-03  4.6292e-02\n",
      " -2.6890e-03 -6.3456e-02  9.6190e-03  ...  -3.9190e-02  2.6918e-02  7.5460e-03\n",
      "                 ...                   ⋱                   ...                \n",
      "  3.0000e+02  3.0000e+02  3.0000e+02  ...   3.0000e+02  3.0000e+02  3.0000e+02\n",
      "  3.0000e+02  3.0000e+02  3.0000e+02  ...   3.0000e+02  3.0000e+02  3.0000e+02\n",
      "  3.0000e+02  3.0000e+02  3.0000e+02  ...   3.0000e+02  3.0000e+02  3.0000e+02\n",
      "\n",
      "( 2 ,.,.) = \n",
      "  1.6822e-02 -8.6496e-02  5.3342e-02  ...  -1.6591e-02 -6.9230e-03 -4.8323e-02\n",
      " -5.5095e-02  6.0450e-03  8.7281e-02  ...   2.1905e-02 -8.0660e-03  4.6292e-02\n",
      " -2.6890e-03 -6.3456e-02  9.6190e-03  ...  -3.9190e-02  2.6918e-02  7.5460e-03\n",
      "                 ...                   ⋱                   ...                \n",
      "  3.0000e+02  3.0000e+02  3.0000e+02  ...   3.0000e+02  3.0000e+02  3.0000e+02\n",
      "  3.0000e+02  3.0000e+02  3.0000e+02  ...   3.0000e+02  3.0000e+02  3.0000e+02\n",
      "  3.0000e+02  3.0000e+02  3.0000e+02  ...   3.0000e+02  3.0000e+02  3.0000e+02\n",
      "... \n",
      "\n",
      "(29 ,.,.) = \n",
      " -1.1183e-02 -5.3800e-04  9.8043e-02  ...  -8.6297e-02  4.3756e-02  2.1946e-02\n",
      " -1.9094e-02 -5.4838e-02  6.1867e-02  ...  -1.3209e-01 -2.4071e-02  6.1029e-02\n",
      " -4.8046e-02 -7.0493e-02  9.8030e-03  ...  -3.7049e-02 -8.6930e-03  7.0250e-03\n",
      "                 ...                   ⋱                   ...                \n",
      "  3.0000e+02  3.0000e+02  3.0000e+02  ...   3.0000e+02  3.0000e+02  3.0000e+02\n",
      "  3.0000e+02  3.0000e+02  3.0000e+02  ...   3.0000e+02  3.0000e+02  3.0000e+02\n",
      "  3.0000e+02  3.0000e+02  3.0000e+02  ...   3.0000e+02  3.0000e+02  3.0000e+02\n",
      "\n",
      "(30 ,.,.) = \n",
      " -1.1183e-02 -5.3800e-04  9.8043e-02  ...  -8.6297e-02  4.3756e-02  2.1946e-02\n",
      " -1.9094e-02 -5.4838e-02  6.1867e-02  ...  -1.3209e-01 -2.4071e-02  6.1029e-02\n",
      " -4.8046e-02 -7.0493e-02  9.8030e-03  ...  -3.7049e-02 -8.6930e-03  7.0250e-03\n",
      "                 ...                   ⋱                   ...                \n",
      "  3.0000e+02  3.0000e+02  3.0000e+02  ...   3.0000e+02  3.0000e+02  3.0000e+02\n",
      "  3.0000e+02  3.0000e+02  3.0000e+02  ...   3.0000e+02  3.0000e+02  3.0000e+02\n",
      "  3.0000e+02  3.0000e+02  3.0000e+02  ...   3.0000e+02  3.0000e+02  3.0000e+02\n",
      "\n",
      "(31 ,.,.) = \n",
      " -4.2121e-02 -3.7836e-02  3.6679e-02  ...  -1.0968e-01  1.8647e-02  3.4145e-02\n",
      " -6.2600e-03 -5.1085e-02  6.0162e-02  ...  -4.6930e-02  8.6210e-03  1.1411e-02\n",
      "  4.4344e-02 -2.5090e-02  2.1408e-02  ...  -5.6887e-02 -4.6388e-02 -2.9662e-02\n",
      "                 ...                   ⋱                   ...                \n",
      "  3.0000e+02  3.0000e+02  3.0000e+02  ...   3.0000e+02  3.0000e+02  3.0000e+02\n",
      "  3.0000e+02  3.0000e+02  3.0000e+02  ...   3.0000e+02  3.0000e+02  3.0000e+02\n",
      "  3.0000e+02  3.0000e+02  3.0000e+02  ...   3.0000e+02  3.0000e+02  3.0000e+02\n",
      "[torch.FloatTensor of size 32x300x300]\n",
      "\n"
     ]
    },
    {
     "ename": "RuntimeError",
     "evalue": "Variable data has to be a tensor, but got Variable",
     "output_type": "error",
     "traceback": [
      "\u001b[0;31m---------------------------------------------------------------------------\u001b[0m",
      "\u001b[0;31mRuntimeError\u001b[0m                              Traceback (most recent call last)",
      "\u001b[0;32m<ipython-input-266-cd6e92bd62c1>\u001b[0m in \u001b[0;36m<module>\u001b[0;34m()\u001b[0m\n\u001b[1;32m      4\u001b[0m     \u001b[0mprint\u001b[0m\u001b[0;34m(\u001b[0m\u001b[0;34m'Epochs:'\u001b[0m\u001b[0;34m,\u001b[0m \u001b[0mepochs\u001b[0m\u001b[0;34m)\u001b[0m\u001b[0;34m\u001b[0m\u001b[0m\n\u001b[1;32m      5\u001b[0m     \u001b[0mprint\u001b[0m\u001b[0;34m(\u001b[0m\u001b[0;34m'Batch size:'\u001b[0m\u001b[0;34m,\u001b[0m \u001b[0mparam_batch_size\u001b[0m\u001b[0;34m)\u001b[0m\u001b[0;34m\u001b[0m\u001b[0m\n\u001b[0;32m----> 6\u001b[0;31m     \u001b[0mtestModel\u001b[0m\u001b[0;34m(\u001b[0m\u001b[0mnum_hidden_neurons\u001b[0m\u001b[0;34m,\u001b[0m \u001b[0mepochs\u001b[0m\u001b[0;34m,\u001b[0m \u001b[0mparam_batch_size\u001b[0m\u001b[0;34m,\u001b[0m \u001b[0mtrain_texts_batchs\u001b[0m\u001b[0;34m)\u001b[0m\u001b[0;34m\u001b[0m\u001b[0m\n\u001b[0m",
      "\u001b[0;32m<ipython-input-263-8f90cab830f4>\u001b[0m in \u001b[0;36mtestModel\u001b[0;34m(hidden_dim, epochs, texts_batch_size, train_batchs)\u001b[0m\n\u001b[1;32m     20\u001b[0m \u001b[0;34m\u001b[0m\u001b[0m\n\u001b[1;32m     21\u001b[0m             \u001b[0;31m# Step 3. Run our forward pass.\u001b[0m\u001b[0;34m\u001b[0m\u001b[0;34m\u001b[0m\u001b[0m\n\u001b[0;32m---> 22\u001b[0;31m             \u001b[0mtag_scores\u001b[0m \u001b[0;34m=\u001b[0m \u001b[0mmodel\u001b[0m\u001b[0;34m(\u001b[0m\u001b[0mbatch_text\u001b[0m\u001b[0;34m)\u001b[0m\u001b[0;34m\u001b[0m\u001b[0m\n\u001b[0m\u001b[1;32m     23\u001b[0m             \u001b[0mprint\u001b[0m\u001b[0;34m(\u001b[0m\u001b[0;34m'Tag scores: /n'\u001b[0m\u001b[0;34m,\u001b[0m \u001b[0mtag_scores\u001b[0m\u001b[0;34m)\u001b[0m\u001b[0;34m\u001b[0m\u001b[0m\n\u001b[1;32m     24\u001b[0m \u001b[0;34m\u001b[0m\u001b[0m\n",
      "\u001b[0;32m~/anaconda3/envs/deeplearning/lib/python3.6/site-packages/torch/nn/modules/module.py\u001b[0m in \u001b[0;36m__call__\u001b[0;34m(self, *input, **kwargs)\u001b[0m\n\u001b[1;32m    355\u001b[0m             \u001b[0mresult\u001b[0m \u001b[0;34m=\u001b[0m \u001b[0mself\u001b[0m\u001b[0;34m.\u001b[0m\u001b[0m_slow_forward\u001b[0m\u001b[0;34m(\u001b[0m\u001b[0;34m*\u001b[0m\u001b[0minput\u001b[0m\u001b[0;34m,\u001b[0m \u001b[0;34m**\u001b[0m\u001b[0mkwargs\u001b[0m\u001b[0;34m)\u001b[0m\u001b[0;34m\u001b[0m\u001b[0m\n\u001b[1;32m    356\u001b[0m         \u001b[0;32melse\u001b[0m\u001b[0;34m:\u001b[0m\u001b[0;34m\u001b[0m\u001b[0m\n\u001b[0;32m--> 357\u001b[0;31m             \u001b[0mresult\u001b[0m \u001b[0;34m=\u001b[0m \u001b[0mself\u001b[0m\u001b[0;34m.\u001b[0m\u001b[0mforward\u001b[0m\u001b[0;34m(\u001b[0m\u001b[0;34m*\u001b[0m\u001b[0minput\u001b[0m\u001b[0;34m,\u001b[0m \u001b[0;34m**\u001b[0m\u001b[0mkwargs\u001b[0m\u001b[0;34m)\u001b[0m\u001b[0;34m\u001b[0m\u001b[0m\n\u001b[0m\u001b[1;32m    358\u001b[0m         \u001b[0;32mfor\u001b[0m \u001b[0mhook\u001b[0m \u001b[0;32min\u001b[0m \u001b[0mself\u001b[0m\u001b[0;34m.\u001b[0m\u001b[0m_forward_hooks\u001b[0m\u001b[0;34m.\u001b[0m\u001b[0mvalues\u001b[0m\u001b[0;34m(\u001b[0m\u001b[0;34m)\u001b[0m\u001b[0;34m:\u001b[0m\u001b[0;34m\u001b[0m\u001b[0m\n\u001b[1;32m    359\u001b[0m             \u001b[0mhook_result\u001b[0m \u001b[0;34m=\u001b[0m \u001b[0mhook\u001b[0m\u001b[0;34m(\u001b[0m\u001b[0mself\u001b[0m\u001b[0;34m,\u001b[0m \u001b[0minput\u001b[0m\u001b[0;34m,\u001b[0m \u001b[0mresult\u001b[0m\u001b[0;34m)\u001b[0m\u001b[0;34m\u001b[0m\u001b[0m\n",
      "\u001b[0;32m<ipython-input-265-8b82890299a7>\u001b[0m in \u001b[0;36mforward\u001b[0;34m(self, text)\u001b[0m\n\u001b[1;32m     34\u001b[0m         \u001b[0;31m# (seq_len, batch_size, embed_size)\u001b[0m\u001b[0;34m\u001b[0m\u001b[0;34m\u001b[0m\u001b[0m\n\u001b[1;32m     35\u001b[0m         \u001b[0mprint\u001b[0m\u001b[0;34m(\u001b[0m\u001b[0;34m'Embeds'\u001b[0m\u001b[0;34m,\u001b[0m \u001b[0membeds\u001b[0m\u001b[0;34m)\u001b[0m\u001b[0;34m;\u001b[0m\u001b[0;34m\u001b[0m\u001b[0m\n\u001b[0;32m---> 36\u001b[0;31m         \u001b[0mlstm_out\u001b[0m\u001b[0;34m,\u001b[0m \u001b[0mself\u001b[0m\u001b[0;34m.\u001b[0m\u001b[0mhidden\u001b[0m \u001b[0;34m=\u001b[0m \u001b[0mself\u001b[0m\u001b[0;34m.\u001b[0m\u001b[0mlstm\u001b[0m\u001b[0;34m(\u001b[0m\u001b[0mVariable\u001b[0m\u001b[0;34m(\u001b[0m\u001b[0membeds\u001b[0m\u001b[0;34m.\u001b[0m\u001b[0mview\u001b[0m\u001b[0;34m(\u001b[0m\u001b[0;36m300\u001b[0m\u001b[0;34m,\u001b[0m \u001b[0;36m32\u001b[0m\u001b[0;34m,\u001b[0m \u001b[0;34m-\u001b[0m\u001b[0;36m1\u001b[0m\u001b[0;34m)\u001b[0m\u001b[0;34m)\u001b[0m\u001b[0;34m,\u001b[0m \u001b[0mself\u001b[0m\u001b[0;34m.\u001b[0m\u001b[0mhidden\u001b[0m\u001b[0;34m)\u001b[0m\u001b[0;34m\u001b[0m\u001b[0m\n\u001b[0m\u001b[1;32m     37\u001b[0m \u001b[0;34m\u001b[0m\u001b[0m\n\u001b[1;32m     38\u001b[0m \u001b[0;34m\u001b[0m\u001b[0m\n",
      "\u001b[0;31mRuntimeError\u001b[0m: Variable data has to be a tensor, but got Variable"
     ]
    }
   ],
   "source": [
    "for param_batch_size, num_hidden_neurons, epochs in testParams2:\n",
    "    train_texts_batchs = split_train_batchs(torch_train_tokenize, y_train, param_batch_size) # tokens -> 300 x batch_size x num_text/batch_size\n",
    "    print('Hidden layer:', num_hidden_neurons)\n",
    "    print('Epochs:', epochs)\n",
    "    print('Batch size:', param_batch_size)\n",
    "    testModel(num_hidden_neurons, epochs, param_batch_size, train_texts_batchs)\n"
   ]
  },
  {
   "cell_type": "markdown",
   "metadata": {},
   "source": [
    "### Calculate the results of the model"
   ]
  },
  {
   "cell_type": "code",
   "execution_count": null,
   "metadata": {},
   "outputs": [],
   "source": []
  },
  {
   "cell_type": "code",
   "execution_count": null,
   "metadata": {},
   "outputs": [],
   "source": []
  },
  {
   "cell_type": "code",
   "execution_count": null,
   "metadata": {},
   "outputs": [],
   "source": []
  },
  {
   "cell_type": "code",
   "execution_count": null,
   "metadata": {},
   "outputs": [],
   "source": []
  }
 ],
 "metadata": {
  "kernelspec": {
   "display_name": "Python 3",
   "language": "python",
   "name": "python3"
  },
  "language_info": {
   "codemirror_mode": {
    "name": "ipython",
    "version": 3
   },
   "file_extension": ".py",
   "mimetype": "text/x-python",
   "name": "python",
   "nbconvert_exporter": "python",
   "pygments_lexer": "ipython3",
   "version": "3.6.4"
  }
 },
 "nbformat": 4,
 "nbformat_minor": 2
}
