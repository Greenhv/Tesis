{
 "cells": [
  {
   "cell_type": "markdown",
   "metadata": {},
   "source": [
    "### Import the text representation from local module"
   ]
  },
  {
   "cell_type": "code",
   "execution_count": 99,
   "metadata": {},
   "outputs": [],
   "source": [
    "import os\n",
    "import sys\n",
    "\n",
    "module_path = os.path.abspath(os.path.join('..'))\n",
    "\n",
    "if module_path not in sys.path:\n",
    "    sys.path.append(module_path)"
   ]
  },
  {
   "cell_type": "markdown",
   "metadata": {},
   "source": [
    "### Import the necessary dependencies to extract the text from the pdf"
   ]
  },
  {
   "cell_type": "code",
   "execution_count": 100,
   "metadata": {
    "colab": {
     "autoexec": {
      "startup": false,
      "wait_interval": 0
     }
    },
    "colab_type": "code",
    "id": "FCG7C4pc-ul2"
   },
   "outputs": [],
   "source": [
    "import numpy as np\n",
    "import pdfparser.poppler as pdf\n",
    "from simple_text_representation.classes.Text import Text\n",
    "from simple_text_representation.classes.Paragraph import Paragraph\n",
    "from simple_text_representation.classes.Sentence import Sentence\n",
    "from simple_text_representation.classes.Word import Word\n",
    "from dateutil.parser import parse"
   ]
  },
  {
   "cell_type": "markdown",
   "metadata": {},
   "source": [
    "### Set global variables that describe the structure of the pdf file"
   ]
  },
  {
   "cell_type": "code",
   "execution_count": 101,
   "metadata": {
    "colab": {
     "autoexec": {
      "startup": false,
      "wait_interval": 0
     }
    },
    "colab_type": "code",
    "id": "YMs-xNSs-ul6"
   },
   "outputs": [],
   "source": [
    "INITIAL_PAGE = 5\n",
    "PAGES_PER_TEXT = 2\n",
    "ALLOWED_TAGS = ['APRENDEMOS', 'PRACTICAMOS', 'EXTENSIÓN']"
   ]
  },
  {
   "cell_type": "code",
   "execution_count": 102,
   "metadata": {
    "colab": {
     "autoexec": {
      "startup": false,
      "wait_interval": 0
     }
    },
    "colab_type": "code",
    "id": "vgEKkjlt-ul9"
   },
   "outputs": [],
   "source": [
    "def convertPDFtoText(fileName):\n",
    "    document = pdf.Document(fileName.encode('UTF-8'))\n",
    "\n",
    "    print('No of pages', document.no_of_pages)\n",
    "#     for page in document:\n",
    "#         print('Page', page.page_no, 'size =', page.size)\n",
    "#         for f in page:\n",
    "# #             print(' '*1,'Flow')\n",
    "#             for b in f:\n",
    "# #                 print(' '*2,'Block', 'bbox=', b.bbox.as_tuple())\n",
    "#                 for l in b:\n",
    "#                     print(' '*3, l.text)\n",
    "#                     #assert l.char_fonts.comp_ratio < 1.0\n",
    "# #                     for i in range(len(l.text)):\n",
    "# #                         print(l.text[i].encode('UTF-8'), '(%0.2f, %0.2f, %0.2f, %0.2f)'% l.char_bboxes[i].as_tuple(),\\\n",
    "# #                             l.char_fonts[i].name, l.char_fonts[i].size, l.char_fonts[i].color,)\n",
    "#                     print()\n",
    "#                 print(\"=============================================================================\")\n",
    "    return document"
   ]
  },
  {
   "cell_type": "code",
   "execution_count": 103,
   "metadata": {
    "colab": {
     "autoexec": {
      "startup": false,
      "wait_interval": 0
     },
     "base_uri": "https://localhost:8080/",
     "height": 35,
     "output_extras": [
      {
       "item_id": 1
      }
     ]
    },
    "colab_type": "code",
    "executionInfo": {
     "elapsed": 564,
     "status": "ok",
     "timestamp": 1521779623782,
     "user": {
      "displayName": "HERBERT SANTIAGO VIDELA CALIXTO",
      "photoUrl": "https://lh3.googleusercontent.com/a/default-user=s128",
      "userId": "118050786734198761937"
     },
     "user_tz": 300
    },
    "id": "6DFbHVy7-ul_",
    "outputId": "6a5f0820-c432-4252-b379-b95e80a75ef4"
   },
   "outputs": [
    {
     "name": "stdout",
     "output_type": "stream",
     "text": [
      "No of pages 194\n"
     ]
    }
   ],
   "source": [
    "document = convertPDFtoText(\"../files/comprension_lectora_2.pdf\")"
   ]
  },
  {
   "cell_type": "markdown",
   "metadata": {
    "colab_type": "text",
    "id": "ljSPbKTO-umW"
   },
   "source": [
    "# Limpieza de Textos\n",
    "\n",
    "## Estructura actual de un Texto\n",
    "\n",
    "Despues de realizar la estracción de textos con la herramienta PDFtoText se consigue un listado de elementos, donde cada elemento representa una parte de un texto y cada par de elementos adyacentes representan un texto completo. En su estado original, estos traen mucha información innecesaria que debe ser removida y que detallará a continuación.\n",
    "\n",
    "* Tema a tratar\n",
    "* Etiqueta de la sección\n",
    "* Indicaciones del texto\n",
    "* Titulo del texto\n",
    "* Referencias de imagenes\n",
    "* Preguntas relacionas al texto.\n",
    "* Referencias del texto\n",
    "* Pie de pagina\n",
    "* Descripción de la hoja actual.\n",
    "\n",
    "\n",
    "## Retos de la Limpieza\n",
    "\n",
    "* Conservar la estructura original del texto, es decir, que todos los parrafos sean identificables.\n",
    "* Eliminar todas las referencias de imagenes existentes, ya que se usan de forma indeterminada en distintas partes de un texto.\n",
    "* Adaptar las diferentes estructuras de los archivos PDF provistos\n",
    "\n",
    "## Pasos de Limpieza\n",
    "\n",
    "* Usar la Etiqueta de cada texto para determinar el inicio de este.\n",
    "    * Remover la información previa a la etiqueta\n",
    "    * Remover la información antes del inicio del texto y despues de la etiqueta\n",
    "* Eliminar la información extra por hoja.\n",
    "    * Eliminar la información extra de la primera pagina (referencias y pie de pagina)\n",
    "    * Eliminar la información extra de la segunda pagina (referencias, preguntas y pie de pagina)\n",
    "* Eliminar las referencias a imagenes aún existentes.\n",
    "\n",
    "## Resultado esperado\n",
    "\n",
    "Finalmente, se espera obtener un arreglo de elementos donde cada represente a un texto completo y que este listo para ser pre-procesado."
   ]
  },
  {
   "cell_type": "code",
   "execution_count": 104,
   "metadata": {
    "colab": {
     "autoexec": {
      "startup": false,
      "wait_interval": 0
     }
    },
    "colab_type": "code",
    "id": "DqgM2QSX-umE"
   },
   "outputs": [],
   "source": [
    "def hasAllowedTag(line):\n",
    "    return any(TAG in line for TAG in ALLOWED_TAGS)"
   ]
  },
  {
   "cell_type": "code",
   "execution_count": 105,
   "metadata": {},
   "outputs": [],
   "source": [
    "def transformToPython(page):\n",
    "    listOfFlows = list()\n",
    "    for flow in page:\n",
    "        listOfBlocks = list()\n",
    "        for paragraph in flow:\n",
    "            listOfLines = ''\n",
    "            for line in paragraph:\n",
    "                listOfLines = joinLine(listOfLines, line.text)\n",
    "#                 listOfLines.append(line.text)\n",
    "#                 print(line.text)\n",
    "#                 print('====================================================================================')\n",
    "            listOfBlocks.append(listOfLines)\n",
    "#             listOfBlocks.append(''.join(listOfLines))\n",
    "        listOfFlows.append(listOfBlocks)\n",
    "\n",
    "    return listOfFlows"
   ]
  },
  {
   "cell_type": "code",
   "execution_count": 106,
   "metadata": {},
   "outputs": [],
   "source": [
    "def joinLine(listOfLines, line):\n",
    "    newListOfLines = listOfLines\n",
    "    separator = ''\n",
    "    \n",
    "    if (newListOfLines):\n",
    "        if (newListOfLines[- 1] == '-'):\n",
    "            newListOfLines = newListOfLines[:-1]\n",
    "        else:\n",
    "            separator = ' '\n",
    "        newListOfLines = newListOfLines + separator + line\n",
    "    else:\n",
    "        newListOfLines = newListOfLines + line\n",
    "\n",
    "    return newListOfLines"
   ]
  },
  {
   "cell_type": "code",
   "execution_count": 107,
   "metadata": {
    "colab": {
     "autoexec": {
      "startup": false,
      "wait_interval": 0
     }
    },
    "colab_type": "code",
    "id": "IqjbWxyj-umG"
   },
   "outputs": [],
   "source": [
    "def cleanDocument(file):\n",
    "    nextPageAdded = -1\n",
    "    listOfTexts = list()\n",
    "    text = list()\n",
    "    \n",
    "    for index,page in enumerate(file):\n",
    "        if (index > INITIAL_PAGE):\n",
    "            if (nextPageAdded == 1):\n",
    "                text.append(transformToPython(page))\n",
    "                listOfTexts.append(text)\n",
    "                nextPageAdded = -1\n",
    "            else:\n",
    "                text = list()\n",
    "                listOfFlows = list()\n",
    "                for flow in page:\n",
    "                    listOfBlocks = list()\n",
    "                    for paragraph in flow:\n",
    "                        listOfLines = ''\n",
    "                        for line in paragraph:\n",
    "                            listOfLines = joinLine(listOfLines, line.text)\n",
    "#                             listOfLines.append(line.text)\n",
    "                            if (hasAllowedTag(line.text)):\n",
    "                                nextPageAdded = 1\n",
    "#                             print(line.text)\n",
    "#                         listOfBlocks.append(''.join(listOfLines))\n",
    "                        listOfBlocks.append(listOfLines)\n",
    "#                         print(\"================================================================\")\n",
    "                    listOfFlows.append(listOfBlocks)\n",
    "                text.append(listOfFlows)\n",
    "\n",
    "    return listOfTexts"
   ]
  },
  {
   "cell_type": "markdown",
   "metadata": {},
   "source": [
    "### List of unformated Texts"
   ]
  },
  {
   "cell_type": "code",
   "execution_count": 108,
   "metadata": {
    "colab": {
     "autoexec": {
      "startup": false,
      "wait_interval": 0
     }
    },
    "colab_type": "code",
    "id": "kOAx-a0x-umI"
   },
   "outputs": [],
   "source": [
    "listOfTexts = cleanDocument(document)"
   ]
  },
  {
   "cell_type": "markdown",
   "metadata": {},
   "source": [
    "### Clean conditions"
   ]
  },
  {
   "cell_type": "code",
   "execution_count": 109,
   "metadata": {},
   "outputs": [],
   "source": [
    "def hasLinkReference(block):\n",
    "    return 'http' in block"
   ]
  },
  {
   "cell_type": "code",
   "execution_count": 110,
   "metadata": {},
   "outputs": [],
   "source": [
    "def onlyOneCharacter(block):\n",
    "    return len(block) == 1"
   ]
  },
  {
   "cell_type": "code",
   "execution_count": 111,
   "metadata": {},
   "outputs": [],
   "source": [
    "def isOnlyDate(block):\n",
    "    try: \n",
    "        parse(block)\n",
    "        return True\n",
    "    except ValueError:\n",
    "        return False"
   ]
  },
  {
   "cell_type": "code",
   "execution_count": 112,
   "metadata": {},
   "outputs": [],
   "source": [
    "def specialCases(block):\n",
    "    return ('Libro Comunicacion' in block) or ('Comprensión lectora' in block)"
   ]
  },
  {
   "cell_type": "code",
   "execution_count": 114,
   "metadata": {},
   "outputs": [],
   "source": [
    "def isStartOfQuestionary(block):\n",
    "    return 'Responde las preguntas' in block"
   ]
  },
  {
   "cell_type": "code",
   "execution_count": 115,
   "metadata": {},
   "outputs": [],
   "source": [
    "def hasIndications(block):\n",
    "    return 'Lee el siguiente text' in block"
   ]
  },
  {
   "cell_type": "code",
   "execution_count": 113,
   "metadata": {},
   "outputs": [],
   "source": [
    "def cleanContiditions(block):\n",
    "    return not (hasLinkReference(block) or onlyOneCharacter(block) or isOnlyDate(block) or specialCases(block))"
   ]
  },
  {
   "cell_type": "code",
   "execution_count": 128,
   "metadata": {},
   "outputs": [],
   "source": [
    "def cleanPage(page, isFirstPage = False):\n",
    "    newPage = list()\n",
    "    isTagFound = False\n",
    "    questionary = False\n",
    "    isIndications = False\n",
    "\n",
    "    for flow in page:\n",
    "        listOfBlocks = list()\n",
    "        for block in flow:\n",
    "            if (cleanContiditions(block)):\n",
    "                listOfBlocks.append(block)\n",
    "            isTagFound = isTagFound or hasAllowedTag(block)\n",
    "            isIndications = isIndications or hasIndications(block)\n",
    "            questionary = questionary or isStartOfQuestionary(block)\n",
    "\n",
    "        if (questionary):\n",
    "            break;\n",
    "        if isTagFound or isIndications:\n",
    "            newPage = list()\n",
    "            listOfBlocks = list()\n",
    "            isTagFound = False\n",
    "            isIndications = False\n",
    "        if (len(listOfBlocks) > 0):\n",
    "            newPage.append(listOfBlocks)\n",
    "\n",
    "    print(newPage)\n",
    "    print('========================================================================')\n",
    "    if (newPage and (isFirstPage and len(newPage) > 1)):\n",
    "        title = newPage[0][0]\n",
    "        newPage = newPage[1:][0]\n",
    "        return title, newPage\n",
    "    elif (newPage and not isFirstPage):\n",
    "        return newPage[0]\n",
    "    else:\n",
    "        return '', []"
   ]
  },
  {
   "cell_type": "markdown",
   "metadata": {},
   "source": [
    "### After declaring all the methods needed to clean the text, we do a simple text with the first two pages"
   ]
  },
  {
   "cell_type": "code",
   "execution_count": 129,
   "metadata": {},
   "outputs": [],
   "source": [
    "testFirstPage = listOfTexts[0][0]\n",
    "testSecondPage = listOfTexts[0][1]"
   ]
  },
  {
   "cell_type": "code",
   "execution_count": 130,
   "metadata": {},
   "outputs": [
    {
     "data": {
      "text/plain": [
       "[['2.o grado de secundaria',\n",
       "  'Ficha: Identificamos la estructura de los textos instructivos',\n",
       "  'APRENDEMOS',\n",
       "  'Lee el siguiente texto considerando las orientaciones que brinda tu docente.'],\n",
       " ['El lavado de las manos',\n",
       "  'El lavado de manos con jabón es una de las maneras más efectivas y económicas de prevenir enfermedades diarreicas y respiratorias (como la gripe, la neumonía, la bronquitis, etc.). Además, con este procedimiento, pueden evitarse las parasitosis (infecciones por parásitos) y algunas infecciones en la piel y los ojos (como la conjuntivitis y el orzuelo). Si nuestras manos están sucias y nos tocamos los ojos, la nariz o la boca, podemos contagiarnos de enfermedades tan frecuentes como la gripe.'],\n",
       " ['¿Cómo lavarse las manos?'],\n",
       " ['Humedecer las manos con agua.'],\n",
       " ['Aplicar suficiente jabón para cubrir la superficie de ambas manos.'],\n",
       " ['Frotar las palmas de las manos entre sí.'],\n",
       " ['Frotar la palma derecha sobre el dorso de la izquierda entrelazando los dedos, y viceversa.'],\n",
       " ['Frotar palma contra palma, entrelazando los dedos.'],\n",
       " ['Frotar el dorso de los dedos contra la palma de la mano opuesta.'],\n",
       " ['Frotar con un movimiento de rotación el pulgar izquierdo atrapándolo con la palma de la mano derecha, y viceversa.'],\n",
       " ['Frotar la punta de los dedos de la mano derecha contra la palma de la mano izquierda, haciendo un movimiento de rotación, y viceversa.'],\n",
       " ['Enjuagarse las manos con agua.'],\n",
       " ['Secarse con una toalla de un solo uso.'],\n",
       " ['Utilice la toalla para cerrar el grifo.'],\n",
       " ['Las manos ya son seguras.',\n",
       "  'Fuente de imagen: <https://goo.gl/QmVTti>',\n",
       "  '5'],\n",
       " ['Libro 1.indb 5'],\n",
       " ['22/04/17 10:04 a.m.']]"
      ]
     },
     "execution_count": 130,
     "metadata": {},
     "output_type": "execute_result"
    }
   ],
   "source": [
    "testFirstPage"
   ]
  },
  {
   "cell_type": "code",
   "execution_count": 131,
   "metadata": {},
   "outputs": [
    {
     "name": "stdout",
     "output_type": "stream",
     "text": [
      "[['El lavado de las manos', 'El lavado de manos con jabón es una de las maneras más efectivas y económicas de prevenir enfermedades diarreicas y respiratorias (como la gripe, la neumonía, la bronquitis, etc.). Además, con este procedimiento, pueden evitarse las parasitosis (infecciones por parásitos) y algunas infecciones en la piel y los ojos (como la conjuntivitis y el orzuelo). Si nuestras manos están sucias y nos tocamos los ojos, la nariz o la boca, podemos contagiarnos de enfermedades tan frecuentes como la gripe.'], ['¿Cómo lavarse las manos?'], ['Humedecer las manos con agua.'], ['Aplicar suficiente jabón para cubrir la superficie de ambas manos.'], ['Frotar las palmas de las manos entre sí.'], ['Frotar la palma derecha sobre el dorso de la izquierda entrelazando los dedos, y viceversa.'], ['Frotar palma contra palma, entrelazando los dedos.'], ['Frotar el dorso de los dedos contra la palma de la mano opuesta.'], ['Frotar con un movimiento de rotación el pulgar izquierdo atrapándolo con la palma de la mano derecha, y viceversa.'], ['Frotar la punta de los dedos de la mano derecha contra la palma de la mano izquierda, haciendo un movimiento de rotación, y viceversa.'], ['Enjuagarse las manos con agua.'], ['Secarse con una toalla de un solo uso.'], ['Utilice la toalla para cerrar el grifo.'], ['Las manos ya son seguras.'], ['Libro 1.indb 5']]\n",
      "========================================================================\n"
     ]
    },
    {
     "data": {
      "text/plain": [
       "('El lavado de las manos', ['¿Cómo lavarse las manos?'])"
      ]
     },
     "execution_count": 131,
     "metadata": {},
     "output_type": "execute_result"
    }
   ],
   "source": [
    "cleanPage(testFirstPage, True)"
   ]
  },
  {
   "cell_type": "code",
   "execution_count": 132,
   "metadata": {},
   "outputs": [
    {
     "data": {
      "text/plain": [
       "[['Comprensión lectora 2'],\n",
       " ['¿Cuándo debes lavarte las manos?'],\n",
       " ['Datos interesantes'],\n",
       " ['• Antes y después de manipular alimentos o amamantar. • Antes de comer o beber y después de manipular basura o desperdicios. • Después de tocar alimentos crudos y antes de tocar alimentos cocidos. • Después de ir al baño y luego de cambiarle los pañales al bebé. • Después de sonarse la nariz, toser o estornudar. • Luego de haber tocado objetos como dinero, llaves, pasamanos, etc. • Cuando se llega a la casa de la calle, del trabajo y de la escuela. • Antes y después de curar heridas o de atender a alguien que está enfermo.'],\n",
       " ['• Debes lavarte las manos con frecuencia entre 30 y 50 segundos. • Se estima que 1 de cada 3 personas no se lava las manos después de ir al baño. • Lavarse las manos cuesta, más o menos, entre 70 a 90 céntimos, pero permite ahorrar mucho dinero en medicamentos y consultas médicas.'],\n",
       " ['Utiliza el texto anterior para responder las siguientes preguntas:', '1'],\n",
       " ['¿Cuánto debe durar el lavado de manos?',\n",
       "  'a. De 1 a 3 segundos. b. De 30 a 50 segundos.'],\n",
       " ['2'],\n",
       " ['c. De 70 a 90 segundos. d. De 1 a 12 segundos.'],\n",
       " ['Lee el siguiente fragmento del texto:',\n",
       "  '“Se estima que 1 de cada 3 personas no se lava las manos después de ir al baño”.',\n",
       "  '¿Para qué se han escrito los números con un tamaño mayor y con otro color?',\n",
       "  'a. Para destacar la gravedad del problema. b. Para que el texto se vea más bonito. c. Para distinguir los números de las letras. d. Para convencernos de su propuesta.'],\n",
       " ['3'],\n",
       " ['¿Para qué se han puesto los números en cada una de las imágenes?',\n",
       "  'a. Para indicar el orden en que deben realizarse los pasos del lavado de manos. b. Para señalar las veces que se repite cada paso del lavado de manos. c. Para indicar la importancia que tiene cada paso del lavado de manos. d. Para señalar el tiempo que dura cada paso del lavado de manos.'],\n",
       " ['4'],\n",
       " ['Luis es un niño que actualmente está con gripe. Si quisiéramos evitar que contagie al resto de los niños, una de las recomendaciones que le daríamos sería que se lave las manos…',\n",
       "  'a. antes de comer o beber y después de manipular la basura. b. después de ir al baño y luego de cambiar el pañal al bebé. c. antes y después de manipular alimentos o amamantar. d. después de sonarse la nariz, toser o estornudar.'],\n",
       " ['5'],\n",
       " ['¿Para qué se ha escrito principalmente este texto?',\n",
       "  'a. Para explicar en qué consiste el lavado de manos. b. Para enseñar cómo se realiza el lavado de manos. c. Para contar una historia sobre el lavado de manos. d. Para brindar una opinión sobre el lavado de manos.'],\n",
       " ['6'],\n",
       " ['Libro 1.indb 6'],\n",
       " ['22/04/17 10:04 a.m.']]"
      ]
     },
     "execution_count": 132,
     "metadata": {},
     "output_type": "execute_result"
    }
   ],
   "source": [
    "testSecondPage"
   ]
  },
  {
   "cell_type": "code",
   "execution_count": 133,
   "metadata": {},
   "outputs": [
    {
     "name": "stdout",
     "output_type": "stream",
     "text": [
      "[['¿Cuándo debes lavarte las manos?'], ['Datos interesantes'], ['• Antes y después de manipular alimentos o amamantar. • Antes de comer o beber y después de manipular basura o desperdicios. • Después de tocar alimentos crudos y antes de tocar alimentos cocidos. • Después de ir al baño y luego de cambiarle los pañales al bebé. • Después de sonarse la nariz, toser o estornudar. • Luego de haber tocado objetos como dinero, llaves, pasamanos, etc. • Cuando se llega a la casa de la calle, del trabajo y de la escuela. • Antes y después de curar heridas o de atender a alguien que está enfermo.'], ['• Debes lavarte las manos con frecuencia entre 30 y 50 segundos. • Se estima que 1 de cada 3 personas no se lava las manos después de ir al baño. • Lavarse las manos cuesta, más o menos, entre 70 a 90 céntimos, pero permite ahorrar mucho dinero en medicamentos y consultas médicas.'], ['Utiliza el texto anterior para responder las siguientes preguntas:'], ['¿Cuánto debe durar el lavado de manos?', 'a. De 1 a 3 segundos. b. De 30 a 50 segundos.'], ['c. De 70 a 90 segundos. d. De 1 a 12 segundos.'], ['Lee el siguiente fragmento del texto:', '“Se estima que 1 de cada 3 personas no se lava las manos después de ir al baño”.', '¿Para qué se han escrito los números con un tamaño mayor y con otro color?', 'a. Para destacar la gravedad del problema. b. Para que el texto se vea más bonito. c. Para distinguir los números de las letras. d. Para convencernos de su propuesta.'], ['¿Para qué se han puesto los números en cada una de las imágenes?', 'a. Para indicar el orden en que deben realizarse los pasos del lavado de manos. b. Para señalar las veces que se repite cada paso del lavado de manos. c. Para indicar la importancia que tiene cada paso del lavado de manos. d. Para señalar el tiempo que dura cada paso del lavado de manos.'], ['Luis es un niño que actualmente está con gripe. Si quisiéramos evitar que contagie al resto de los niños, una de las recomendaciones que le daríamos sería que se lave las manos…', 'a. antes de comer o beber y después de manipular la basura. b. después de ir al baño y luego de cambiar el pañal al bebé. c. antes y después de manipular alimentos o amamantar. d. después de sonarse la nariz, toser o estornudar.'], ['¿Para qué se ha escrito principalmente este texto?', 'a. Para explicar en qué consiste el lavado de manos. b. Para enseñar cómo se realiza el lavado de manos. c. Para contar una historia sobre el lavado de manos. d. Para brindar una opinión sobre el lavado de manos.'], ['Libro 1.indb 6']]\n",
      "========================================================================\n"
     ]
    },
    {
     "data": {
      "text/plain": [
       "['¿Cuándo debes lavarte las manos?']"
      ]
     },
     "execution_count": 133,
     "metadata": {},
     "output_type": "execute_result"
    }
   ],
   "source": [
    "cleanPage(testSecondPage)"
   ]
  },
  {
   "cell_type": "code",
   "execution_count": 97,
   "metadata": {
    "colab": {
     "autoexec": {
      "startup": false,
      "wait_interval": 0
     },
     "base_uri": "https://localhost:8080/",
     "height": 35,
     "output_extras": [
      {
       "item_id": 1
      }
     ]
    },
    "colab_type": "code",
    "executionInfo": {
     "elapsed": 386,
     "status": "ok",
     "timestamp": 1521761355840,
     "user": {
      "displayName": "HERBERT SANTIAGO VIDELA CALIXTO",
      "photoUrl": "https://lh3.googleusercontent.com/a/default-user=s128",
      "userId": "118050786734198761937"
     },
     "user_tz": 300
    },
    "id": "pFgwJ0N_-umM",
    "outputId": "ad7c1c11-c6b3-4b82-988d-4ed981503d01"
   },
   "outputs": [],
   "source": [
    "def transformDocument(listOfUTexts):\n",
    "    listOfText = list()\n",
    "\n",
    "    for firstPage, secondPage in listOfUTexts:\n",
    "        arrParagrahps = list()\n",
    "        print('~~~~~~~~~~~')\n",
    "        print(firstPage)\n",
    "        print('---')\n",
    "        print(secondPage)\n",
    "        text = Text()\n",
    "        title, arrParagraphs = cleanPage(firstPage, True)\n",
    "        if (arrParagraphs):\n",
    "            arrParagrahps.append(cleanPage(secondPage))\n",
    "            text.setTitle(title)\n",
    "            text.setUnformatedParagraphs(arrParagrahps)\n",
    "            text.formatParagraphs()\n",
    "            listOfTexts.append(text)\n",
    "\n",
    "    return listOfTexts"
   ]
  },
  {
   "cell_type": "code",
   "execution_count": 98,
   "metadata": {
    "colab": {
     "autoexec": {
      "startup": false,
      "wait_interval": 0
     }
    },
    "colab_type": "code",
    "id": "qVhJHn4U-umd"
   },
   "outputs": [
    {
     "name": "stdout",
     "output_type": "stream",
     "text": [
      "~~~~~~~~~~~\n",
      "[['1.er grado de secundaria'], ['Ficha: Reconocemos la estructura del texto argumentativo', 'APRENDEMOS'], ['Lee el siguiente texto considerando las orientaciones que brinda tu docente.'], ['El acto solidario de la donación de órganos1'], ['Fuente de imagen: <https://goo.gl/exLu3M>'], ['Si bien los trasplantes se han convertido en una práctica habitual, aún persisten fuertes temores en la población para donar órganos, lograr su superación es la clave para aumentar el número de los donadores solidarios que hacen falta para salvar miles de vidas.', 'Es preciso, entonces, que se aclaren algunas dudas para que las personas pierdan el miedo a donar. Primero, que lo complicado de los procedimientos de extirpación y trasplantación, en el que intervienen varios equipos médicos altamente especializados, vuelve muy difícil la existencia de mafias. Segundo, que la necesaria compatibilidad (afinidad de grupo sanguíneo) entre donante y receptor dificulta la posibilidad de muertes “a pedido”.'], ['1'], ['Adaptado de El acto solidario de la donación de órganos. (26 de julio de 2002). Clarín. Recuperado de <http://edant.clarin.com/diario/2002/07/26/o-02201.htm>'], ['5'], ['Interiores Libro Comunicacion 1 Secundaria Comprension Lectora .indd 5'], ['4/22/17 9:57 AM']]\n",
      "---\n",
      "[['Comprensión lectora 1'], ['Fuente de imagen: <https://goo.gl/jPn0vJ>'], ['La última cuestión es la más compleja; en la actualidad, aunque alguien haya manifestado expresamente su voluntad de donar, es a la familia a la que se consulta en el momento en que la donación puede efectuarse. Como se entiende, tal consulta llega en un momento difícil y poco propicio para las reflexiones profundas, más aún si se tiene que tomar una decisión rápida.', 'Por lo tanto, las campañas públicas deben esclarecer la naturaleza de los procedimientos técnicos y legales, para disipar miedos; pero, esencialmente, deben apuntar a que se tome conciencia de lo que significa salvar otra vida, porque para decidirlo en un momento crucial es necesario que la idea se haya considerado y discutido previamente, con reflexión y calma.'], ['6'], ['Interiores Libro Comunicacion 1 Secundaria Comprension Lectora .indd 6'], ['4/22/17 9:57 AM']]\n",
      "~~~~~~~~~~~\n",
      "[['1.er grado de secundaria'], ['PRACTICAMOS', 'Lee el siguiente texto considerando las orientaciones que brinda tu docente.'], ['El valor de la televisión en la sociedad2'], ['Fuente de imagen: <https://goo.gl/thDjE8>'], ['La televisión es un sistema que permite a las personas recibir sonidos e imágenes en movimiento, y eso es posible gracias a las ondas.', 'En la actualidad, se puede afirmar que en la mayoría de los hogares hay, como mínimo, un televisor. Con el paso de los años se ha convertido en un objeto fundamental y cotidiano que normalmente suele presidir el centro del salón, donde toda la familia se reúne frente a él para ver diferentes programas.', 'Se ha hablado mucho sobre la televisión y los aspectos positivos y negativos. Por ejemplo, Bernice Buresh la ha definido con estas palabras: “La televisión puede darnos muchas cosas, salvo tiempo para pensar”. Es por ello que, en esta argumentación, hablaré sobre el valor de la televisión en la sociedad actual.', 'En primer lugar, hay que decir que la televisión puede entenderse como algo positivo, dado que, entre otras cosas, permite que las personas estén informadas en todo momento a través de los informativos. Otro aspecto a su favor es que permite, gracias a programas como los de concurso, aprender sobre diversos temas. La televisión también destaca por el hecho'], ['2'], ['Adaptado de Ejemplo de texto argumentativo sobre la televisión. (10 septiembre de 2014). Ejemplos de textos. Recuperado de <http://www.ejemplosdetextos. com/ejemplo-de-texto-argumentativo-sobre-la-television/>'], ['9'], ['Interiores Libro Comunicacion 1 Secundaria Comprension Lectora .indd 9'], ['4/22/17 9:57 AM']]\n",
      "---\n",
      "[['Comprensión lectora 1'], ['de ser un medio de entretenimiento, como cuando tenemos la oportunidad de ver una película, nuestra serie favorita o alguna transmisión deportiva relacionada con el fútbol o el vóleibol, por citar algunos ejemplos.', 'Pero no todo lo que rodea el mundo de la televisión es positivo. Por desgracia hay programas que aportan muy poco valor al espectador. Otro aspecto negativo es el hecho de que hay gente que se pasa muchas horas frente al televisor, lo cual crea adicción. También está el inconveniente de que, por culpa de la televisión, los miembros de una familia hablan muy poco cuando están reunidos en el salón o en la cocina, justamente porque están pendientes de lo que pasa en la pantalla del televisor. En mi caso, debo decirles que suelo ver la televisión casi todos los días, pero normalmente es para ver algún informativo y estar al día con lo que pasa en el mundo, o mirar alguno que otro acontecimiento deportivo.', 'En resumen, cuando nos referimos a la televisión, podemos encontrar argumentos a favor y en contra. Pero creo que lo más importante al respecto es que cada uno debe ser capaz de usar responsablemente este aparato que, nos guste o no, forma parte de nuestras vidas.', 'Por otro lado, si conseguimos que las personas se eduquen mirando la televisión, probablemente los beneficios que se obtengan serán mucho mayores que los inconvenientes.'], ['Fuente de imagen: <https://goo.gl/uljd16>'], ['10'], ['Interiores Libro Comunicacion 1 Secundaria Comprension Lectora .indd 10'], ['4/22/17 9:57 AM']]\n",
      "~~~~~~~~~~~\n",
      "[['1.er grado de secundaria'], ['EXTENSIÓN', 'Lee el siguiente texto considerando las orientaciones que brinda tu docente.'], ['Los videojuegos3'], ['Fuente de imagen: <https://goo.gl/G4p593>'], ['Los videojuegos adquirieren cada vez mayor importancia en nuestra sociedad. ¡Eso no me lo negarán ustedes! Ya no son solo una distracción para los llamados “frikis” (sujetos que practican obsesivamente una afición). Tienen un potencial mucho mayor que ha comenzado a explorarse. No por nada, el creador de la Nintendo DS, Shigeru Miyamoto, ha dicho: “Los videojuegos nos hacen mejores”.', 'A pesar de esto, son diversos los sectores que no apoyan esta opinión. Muchos catalogan los videojuegos de perjudiciales y no dudan en decir que empeoran la educación de los niños; lo cual es una mentira tan grande como los billetes de 300 soles: los videojuegos estimulan una parte del cerebro que mejora la psicomotricidad en los niños y la rapidez mental en los jóvenes.', 'El lado negativo de jugar videojuegos es que puede ser adictivo como cualquier otra actividad de ocio. Además, si los padres de menores de edad no prestan la atención necesaria, sus hijos podrían jugar a videojuegos para mayores de 18 años con temáticas violentas, amorales o indecorosas, lo cual puede conllevar confusión con respecto a conceptos morales y éticos. Otro punto en contra es que el exceso de horas delante de la pantalla del televisor o del portátil puede generar deterioro temprano de la vista.'], ['3'], ['Adaptado de Ejemplo de texto argumentativo sobre los videojuegos. (12 septiembre del 2014). Ejemplos de textos. Recuperado de <http://www. ejemplosdetextos.com/ejemplo-de-texto-argumentativo-sobre-los-videojuegos/>'], ['13'], ['Interiores Libro Comunicacion 1 Secundaria Comprension Lectora .indd 13'], ['4/22/17 9:57 AM']]\n",
      "---\n",
      "[['Comprensión lectora 1'], ['Pero no todo lo que rodea al mundo de los videojuegos es negativo, por ejemplo, las consolas (como la famosísima Nintendo Wii) ayudan al niño en la percepción de su alrededor y en la movilidad de las muñecas y de las manos. Otro punto a favor de los videojuegos es que a los niños les parecen muy divertidos.', 'Por otro lado, como todos sabemos, las innovaciones nos ayudan en la vida cotidiana facilitándonos muchas tareas. En ese contexto, los videojuegos realizan innovaciones importantísimas que pueden ser empleadas en espacios diversos. Además, cada día el mundo de los videojuegos aporta cosas nuevas, y seguramente sus innovaciones nos depararán agradables sorpresas en el futuro. Cabe decir que debemos desterrar la idea de que los videojuegos solo están destinados a un sector de la sociedad. Los videojuegos hace tiempo que han llegado y están aquí para quedarse.'], ['Fuente de imagen: <https://goo.gl/H9gtFR>'], ['14'], ['Interiores Libro Comunicacion 1 Secundaria Comprension Lectora .indd 14'], ['4/22/17 9:57 AM']]\n",
      "~~~~~~~~~~~\n",
      "[['1.er grado de secundaria', 'Ficha: La narración encantada', 'APRENDEMOS', 'Lee el siguiente texto considerando las orientaciones que brinda tu docente.'], ['La dama y el viajero1'], ['Fuente de imagen: <https://goo.gl/6v7yiW>'], ['Cuando me disponía a venir a Lima conocí a don Guillermo, que muy amablemente me invitó a subir a su camión, que transportaba cereales a la capital desde Huancavelica. Recuerdo que subí en La Oroya. Le dije que tenía el mismo nombre de mi abuelo ya fallecido, que también se dedicaba en sus años de juventud a viajar transportando alimentos de Huancayo a Huancavelica y viceversa.', '—Te cuento lo que me pasó en el pueblo de Pampas, cuando viajaba para Huancayo trayendo carga —me dijo—. Cuando salía de Pampas, ya muy de noche y bajo una interminable lluvia, pude avistar a una mujer en el camino. Ella iba caminando muy lentamente en la carretera. Debiste verla... con aquel vestido blanco totalmente empapado. Frené suavemente, pues también iba despacio por el mal estado de la carretera.', '»Le hice una señal para que suba al camión y así pudiera protegerse de la lluvia, ella asintió y se sentó en el mismo lugar en donde estás tú. Era una mujer muy joven y bella, al verla en esas condiciones le ofrecí mi casaca para que pudiera abrigarse, me agradeció y en su rostro vi dibujada una sonrisa tierna.', '»Al acercarnos al poblado La Mejorada, ella me pidió que me detenga para que pudiera bajarse del camión, pues tenía familia allí. Como aún llovía y eran apenas las dos de la madrugada, le dije que se quede con mi casaca, que en otro momento iría por ella. Solo le pedí la dirección de su casa.', '1'], ['Adaptado de La dama y el viajero (s/f). I Perú [página web]. Recuperado de <https://goo.gl/twypNa>'], ['17'], ['Interiores Libro Comunicacion 1 Secundaria Comprension Lectora .indd 17'], ['4/22/17 9:57 AM']]\n",
      "---\n",
      "[['Comprensión lectora 1'], ['»Pasó una semana y cuando volví a La Mejorada, fui a buscarla hasta su casa. Grande fue mi sorpresa cuando salió su madre y me dijo que Virginia (así se llamaba la joven) había muerto hace diez años, precisamente en un accidente de carreteras cuando el bus que la transportaba de Pampas se fue directo al barranco que está cerca del lugar donde la recogí.', '»Yo no le creí a la señora y pensé que se querían quedar con mi casaca. Para confirmar los hechos, su madre me llevó hasta el cementerio del pueblo y allí pude corroborar que en verdad la joven y bella Virginia estaba muerta. La fotografía en el nicho era la de la misma chica que vi hacía como una semana. Pero lo que más me sorprendió fue ver mi casaca a un costado, cerca del nicho de la joven. Su madre no tenía explicación alguna por lo sucedido, solo me dijo que era la cuarta vez que pasaba eso; habían preguntado por su hija, que supuestamente había subido al camión en la carretera a Pampas.', 'Quizá sea un relato cierto, porque mi abuelo Guillermo me contó lo mismo. Para poder confirmar esta historia fascinante, viajé hasta el poblado La Mejorada, en Huancavelica. No busqué precisamente el domicilio de la joven Virginia, sino que fui directamente hasta el cementerio y busqué su nicho toda la mañana de un sábado de junio de 2000.', 'Cuando me sentí desanimado y listo para salir del lugar, vi algo que me llamó la atención. Me acerqué rápidamente hasta aquel sitio y noté algo al costado de un nicho: era una bolsa. Dentro de ella pude ver una chompa de alpaca de color marrón y franjas blancas. Era el nicho que estaba en un extremo del cementerio, casi escondido, casi olvidado. En la lápida semidestruida pude distinguir el nombre de Virginia Matos, fallecida en 1989. Aunque no pude ver la fotografía.', 'Dejé las cosas en su lugar y salí del cementerio, ya era de tarde. Sentí el deseo de ir a la casa de Virginia. Al volver a Huancayo me preguntaba ¿cómo pudo llegar aquella bolsa con una chompa hasta ese lugar?, ¿por qué precisamente ahora que fui a confirmar la historia?, ¿será que Virginia me tenía algo preparado como bienvenida? Quizá apenas haya sido una mala pasada de mi imaginación.'], ['Fuente de imagen: <https://goo.gl/MFg5L6>'], ['18'], ['Interiores Libro Comunicacion 1 Secundaria Comprension Lectora .indd 18'], ['4/22/17 9:57 AM']]\n",
      "~~~~~~~~~~~\n",
      "[['1.er grado de secundaria'], ['PRACTICAMOS', 'Realiza la lectura del siguiente texto considerando las actividades propuestas por tu docente.'], ['La leyenda de la bella durmiente2'], ['Fuente de imagen: <https://goo.gl/oC56y1>'], ['Al mirar el horizonte de la bella ciudad de Tingo María (Perú), vemos el perfil de una hermosa mujer echada de espaldas que mira el cielo y está cubierta de un manto verde: es la montaña de la bella durmiente, símbolo natural de Tingo María. La leyenda, transmitida de generación en generación, la identifica como la Princesa Nunash (princesa de la selva). Se habla también de un joven llamado Cuynac (jefe de la tribu) que atravesando la selva de los huanucos (tribu indígena) se enamoró de la princesa Nunash.', 'Los dos llegaron a amarse tanto que él levantó un palacete en un lugar cercano al poblado de los pachas, al que le puso el nombre de Cuynash en honor de su amada. Vivieron tiempos felices rodeados de sus vasallos, pero su felicidad quedó truncada cuando fueron atacados por el padre de la princesa, llamado Amarú, convertido en un monstruo en forma de culebra. Cuynac, valiéndose de su hechicería, convirtió a Nunash en mariposa y él mismo se transformó en piedra. Ella, en su nuevo estado de mariposa, voló hacia la selva y retornó con ayuda para combatir al monstruo Amarú.'], ['2'], ['Adaptado de Washington, Jorge (14 de febrero de 2011). La leyenda de la bella durmiente. La oca loca. Recuperado de <https://goo.gl/CqV1XO>'], ['21'], ['Interiores Libro Comunicacion 1 Secundaria Comprension Lectora .indd 21'], ['4/22/17 9:57 AM']]\n",
      "---\n",
      "[['Comprensión lectora 1'], ['Fuente de imagen: <https://goo.gl/e1qkGP>'], ['Los enemigos fueron vencidos. Cuynac entonces trató de recuperar su forma humana sin conseguirlo. Nunash sí pudo volver a su forma primitiva y buscó inútilmente a Cuynac. Cansada, se sentó cerca de la piedra en la que Cuynac se había convertido y se quedó dormida. Mientras dormía escuchó en sus sueños la voz de su amado que decía: “Amada, no me busques, mi voluntad fue pedir a los dioses que me convirtieran en piedra y mi pedido fue complacido. Ahora soy solo una piedra destinada a permanecer en este estado toda mi vida. Si tú en realidad me has querido y me sigues queriendo, deseo que permanezcas a mi lado toda mi vida, sobre este cerro, y que en las noches de luna aparezcas ante la mirada de la gente como una mujer que duerme”. Nunash, siempre en sueños, aceptó la propuesta de su amado y quedó convertida en piedra, la que hoy es la figura de la bella durmiente.'], ['Responde las preguntas tomando en cuenta las orientaciones que brinda tu docente.', '1'], ['¿En qué se convirtió Cuynac?', 'a. En una montaña.', 'b. En un monstruo.', 'c. En un valle.', 'd. En una gran piedra.'], ['22'], ['Interiores Libro Comunicacion 1 Secundaria Comprension Lectora .indd 22'], ['4/22/17 9:57 AM']]\n",
      "~~~~~~~~~~~\n",
      "[['Comprensión lectora 1'], ['EXTENSIÓN', 'Lee el siguiente texto considerando las orientaciones que brinda tu docente.'], ['El médano Blanco3'], ['Fuente de imagen: <https://goo.gl/hWQkg0>'], ['En el distrito de Sechura, en el desierto, a unos veinte kilómetros de la población, se encuentra un inmenso médano, que por la blancura de sus arenas le llaman médano Blanco.', 'Este es muy alto, nadie puede subirlo, porque dicen que está \"encantado\".', 'Está rodeado de forraje y cuentan los pastores que habitan por allí, que siempre oían tocar un tamborcito pero que nunca llegó a ser descubierto quién lo tocaba. En el centro del médano, hay corales y cosas de oro, por eso la gente quería subir; y apenas habrían subido cinco a seis metros, comenzaban a hundirse; y como tenían miedo, no continuaban.', 'Se cuenta que dos señores, yendo por esos lugares se perdieron del camino. Cuando se dieron cuenta de que estaban perdidos ya habían caminado bastante; tenían sed y no encontraron dónde tomar agua.', 'Caminaron más y más, buscando cómo orientarse. De pronto, vieron un río, se alegraron y se dirigieron a él. Cuando llegaron hicieron beber a sus caballos. Ellos llevaban dos depósitos y también los llenaron de agua. Creían que era el río de Batán, que pasa cerca de Sechura; pero como estaban cansados, se quedaron a descansar y se durmieron. Cuando despertaron, cuál sería su sorpresa al ver que el río era un médano; los depósitos que llenaron de agua estaban llenos de arena.'], ['3'], ['Arguedas, José María y Izquierdo, Francisco (eds.). (2008). Mitos, leyendas y cuentos peruanos. Recuperado de <https://goo.gl/STeTsZ>'], ['24'], ['Interiores Libro Comunicacion 1 Secundaria Comprension Lectora .indd 24'], ['5/3/17 4:56 PM']]\n",
      "---\n",
      "[['1.er grado de secundaria'], ['Estaban encantados; este médano era el famoso médano Blanco, y no sabían cómo llegaron a él.', 'Dicen que en época de Semana Santa aparecen varios de esos llamados \"encantos\", cerca del médano; también dicen que aparece un patito; y creen que este fue una persona que por curiosa subió al médano y se quedó encantada. Algunas veces el patito aparece en los ríos, transformado en patito de oro, y cuando encuentra alguna persona buena, sale a hablarle, diciéndole que en tal o cual lugar hay un tesoro reservado para ella.'], ['Fuente de imagen: <https://goo.gl/G3riwQ>'], ['Médano: acumulación de arena en forma de media luna que forma y empuja el', 'viento en la costa o en el desierto.'], ['Responde las preguntas tomando como referencia el texto anterior y las orientaciones que brinda tu docente.', '1'], ['Escribe V si es verdadero y F si es falso, según corresponda:', 'a. El médano Blanco se encuentra en el distrito de Sechura.'], ['('], [')'], ['b. El médano Blanco estaba encantado y rodeado de forraje.'], ['('], [')'], ['c. El patito de oro encantado conversa con personas buenas.'], ['('], [')'], ['d. En Semana Santa aparecen los “encantos” del médano Blanco.'], ['('], [')', '25'], ['Interiores Libro Comunicacion 1 Secundaria Comprension Lectora .indd 25'], ['4/22/17 9:57 AM']]\n",
      "~~~~~~~~~~~\n",
      "[['1.er grado de secundaria', 'Ficha: Aprendemos a inferir en textos expositivos', 'APRENDEMOS', 'Lee el siguiente texto considerando las orientaciones que brinda tu docente.'], ['El delfín rosado1'], ['Fuente de imagen: <https://goo.gl/l7FjQf>'], ['Entre las más hermosas criaturas que viven en las cuencas de los ríos amazónicos figura el delfín rosado. Se le encuentra en Perú, Brasil, Bolivia, Venezuela y Colombia. El color rosado de su piel es propio de los adultos, mientras que los jóvenes tienen el dorso gris negruzco y el vientre más claro. Es una de las cinco especies de delfines de agua dulce. Suele medir 2,5 metros de largo y pesa entre 120 kg y 200 kg. Tiene cabeza prominente y ojos pequeños. Su hocico es alargado y provisto de una dentadura heterodonta (tiene incisivos y molares, entre 48 y 68 dientes) a diferencia del delfín marino, que tiene dentadura homodonta. Se alimenta de peces y cangrejos.'], ['1'], ['Tomado de Delfín Rosado. (s/f). Tesoros del Perú. Recuperado de <http://es.tesorosdelperu.wikia.com/wiki/Delf%C3%ADn_Rosado>'], ['27'], ['Interiores Libro Comunicacion 1 Secundaria Comprension Lectora .indd 27'], ['4/22/17 9:57 AM']]\n",
      "---\n",
      "[['Comprensión lectora 1'], ['La gran flexibilidad de su cuerpo le permite maniobrar entre los obstáculos que abundan en la selva inundada. Puede doblar su cabeza más que otros delfines porque algunas de las vértebras no están fusionadas. Respira fuera del agua y pocas veces permanece sumergido más de dos minutos. Cuando el río está fangoso y la visión es mínima, utiliza la ecolocalización, que le permite orientarse por medio del sonido, como lo hacen los radares.', 'Son muchos los mitos y leyendas que rodean a esta especie. Los nativos de la selva le atribuyen poderes mágicos, dicen que en las noches se transforman en hermosas doncellas que seducen a los incautos y los arrastran al fondo del río. Durante años esta superstición ayudó al delfín rosado a ser casi intocable, pero hoy su supervivencia está seriamente amenazada por la deforestación de la Amazonía, la polución de la agricultura y por la minería y la pesca informales.'], ['Responde las preguntas tomando como referencia el texto anterior y las orientaciones que brinda tu docente.', '1'], ['¿Qué le permite al delfín rosado maniobrar entre los obstáculos?', 'a. El ser heterodonto.', 'b. La gran flexibilidad de su cuerpo.', 'c. El gran tamaño de su cuerpo.', 'd. Su capacidad de ecolocalización.'], ['2'], ['A partir del texto, deduce el significado de la palabra superstición.', 'a. Que el delfín rosado es intocable.', 'b. Actitud del hombre que amenaza la supervivencia amazónica.', 'c. Ideas o creencias que se basan en la razón.', 'd. Creencias relacionadas con poderes mágicos, ajenos a la realidad.'], ['28'], ['Interiores Libro Comunicacion 1 Secundaria Comprension Lectora .indd 28'], ['4/22/17 9:57 AM']]\n",
      "~~~~~~~~~~~\n",
      "[['Comprensión lectora 1'], ['PRACTICAMOS', 'Lee el siguiente texto considerando las orientaciones que brinda tu docente.'], ['¿Por qué el huracán más poderoso en la historia se llama Patricia?2', 'El sistema para nombrar a estos fenómenos atmosféricos busca facilitar que la población los', 'identifique.'], ['Fuente de imagen: <https://goo.gl/Ghqygs>'], ['El huracán Patricia es el más poderoso registrado en el Pacífico mexicano y tiene vientos máximos cercanos a los 325 kilómetros por hora. Es catalogado como la tormenta más fuerte documentada hasta el momento.', 'Pero ¿cómo deciden ponerles nombres a estos fenómenos atmosféricos? Cada año se prepara una lista con los nombres que recibirán los huracanes que vayan ocurriendo a lo largo de la temporada.', 'Esta lista, que se repite cada seis años, incluye un nombre por cada letra del alfabeto y se alternan nombres masculinos y femeninos. Se buscan nombres fáciles de recordar para optimizar la comunicación escrita y que de esta forma sea más sencillo alertar a la población.'], ['2'], ['Tomado de ¿Por qué el huracán más poderoso en la historia se llama Patricia? (23 de octubre de 2015). Perú 21. Recuperado de <http://peru21.pe/mundo/quehuracan-mas-poderoso-historia-se-llama-patricia-2230458>'], ['30'], ['Interiores Libro Comunicacion 1 Secundaria Comprension Lectora .indd 30'], ['5/3/17 4:57 PM']]\n",
      "---\n",
      "[['1.er grado de secundaria'], ['Fuente de imagen: <https://goo.gl/udp2of>'], ['Al inicio, se nombraba a las tormentas de forma arbitraria. Sin embargo, a mediados del siglo XIX, se decidió identificar a las tormentas con nombres de mujer. En 1979, comenzaron a incluirse también nombres de hombres para las tormentas del Pacífico Norte Oriental. La unificación llegó un año más tarde cuando la Organización Meteorológica Mundial y el Servicio Meteorológico de Estados Unidos decidieron alternar nombres de hombres y mujeres para el nombramiento de tormentas.', 'Cabe destacar que las letras Q, U, X, Y y Z no son utilizadas para la nomenclatura de las tormentas. Asimismo, cuando un huracán tiene efectos muy devastadores, su nombre no vuelve a ser usado nuevamente.', 'Existen seis listas rotativas para el Atlántico y seis para el Pacífico, de esta forma la lista que se utilizó en 2009 es la que se utiliza en 2015.', 'Dato: en 2014, un estudio reportó que los nombres de huracanes femeninos eran más letales debido a que las personas los perciben como menos peligrosos y por ello no toman las precauciones necesarias. El reporte analizó la cifra de muertes causadas por huracanes en EE. UU. en los últimos 60 años.'], ['31'], ['Interiores Libro Comunicacion 1 Secundaria Comprension Lectora .indd 31'], ['4/22/17 9:57 AM']]\n",
      "~~~~~~~~~~~\n",
      "[['1.er grado de secundaria'], ['EXTENSIÓN', 'Lee el siguiente texto considerando las orientaciones que brinda tu docente.'], ['Científicos hallan planeta similar a la Tierra que podría albergar vida4', 'El planeta es de tamaño similar y tiene una estrella brillante como nuestro Sol; además, podría tener agua en su superficie.'], ['Fuente de imagen: <https://goo.gl/Med7ey>'], ['Por primera vez, científicos hallaron un planeta de tamaño similar al de la Tierra que orbita una zona que permitiría las condiciones para el desarrollo de la vida en torno a una estrella distante.', 'El descubrimiento es lo más cerca que los científicos han estado de hallar un planeta gemelo a la Tierra. La estrella, conocida como Kepler-186 y ubicada a unos 500 años luz, en la constelación Cygnus, es más pequeña y más roja que el Sol.'], ['4'], ['Adaptado de Científicos hallan planeta similar a la Tierra y que podría albergar vida. (16 de noviembre de 2015). CNN México. Recuperado de <http://mexico.cnn. com/tecnologia/2014/04/17/cientificos-hallan-planeta-similar-a-la-tierra-y-que-podria-albergar-vida>'], ['35'], ['Interiores Libro Comunicacion 1 Secundaria Comprension Lectora .indd 35'], ['4/22/17 9:57 AM']]\n",
      "---\n",
      "[['Comprensión lectora 1'], ['Kepler-186f'], ['Tierra'], ['Fuente de imagen: <https://goo.gl/ZyPoK5>'], ['Planetas similares: Kepler – 186f y la Tierra'], ['“El planeta llamado Kepler-186f recibe cerca de un tercio de la radiación de su estrella madre, tal como lo hace la Tierra con el Sol, lo que significa que la tarde sería similar a la de la Tierra, una hora antes de la puesta de sol”, dijo el astrónomo de la Nasa, Thomas Barclay.', 'El planeta está a la distancia correcta de su estrella para que el agua —si existe— sea líquida en la superficie, una condición que los científicos sospechan que es necesaria para la vida.', '“Este planeta es un primo de la Tierra, no un gemelo”, dijo Barclay, quien es parte de un equipo de científicos que reportó el descubrimiento en la revista Science esta semana.', 'Los científicos no saben nada sobre la atmósfera del Kepler-186f, pero será blanco de futuros telescopios que puedan buscar químicos que revelen la posible existencia de vida.'], ['36'], ['Interiores Libro Comunicacion 1 Secundaria Comprension Lectora .indd 36'], ['4/22/17 9:57 AM']]\n",
      "~~~~~~~~~~~\n",
      "[['1.er grado de secundaria', 'Ficha: Forma y contenido de textos múltiples', 'APRENDEMOS', 'Lee el siguiente texto considerando las orientaciones que brinda tu docente.'], ['Los videojuegos y su impacto en la familia1'], ['Fuente de imagen: <https://goo.gl/m8azyi>'], ['Me encuentro bastante preocupado, veo a mi hijo prácticamente “pegado a los videojuegos”, hasta he llegado a pensar que se está volviendo adicto a los juegos en línea; y si aún no lo es, ¿qué daños mentales o físicos le pueden ocurrir de seguir así?', 'Por otro lado, considero que los videojuegos son muy violentos y fomentan en él tanto la agresividad como la ansiedad. Lo tienen ausente de la realidad, ya casi no conversa con nosotros, prefiere estar sentado frente a “esa maquinita”. Cuando le hablo, apenas responde.', 'Ojalá prefiriera un buen libro o ir a jugar un partido de fútbol con los amigos como lo hacíamos nosotros a su edad. ¡Esos sí que eran juegos! Cómo nos divertíamos con el matagente, las escondidas, etc.', 'Ayer quisimos pasar un rato en familia, pero él se negó; llevaba ya cinco horas frente al dichoso juego sin hacer nada útil. ¡No pude soportarlo más! Creo que como padre debo ponerle límites y lo hice; simplemente le dije: \"¡Deja de jugar eso!\", y desconecté el aparato. No me dejó otra opción.'], ['1'], ['Yzaguirre Sandoval, Claudia María (2015). Los videojuegos y su impacto en la familia. Documento de trabajo.'], ['39'], ['Interiores Libro Comunicacion 1 Secundaria Comprension Lectora .indd 39'], ['4/22/17 9:57 AM']]\n",
      "---\n",
      "[['Comprensión lectora 1'], ['Mi diversión: ¡los videojuegos!'], ['Fuente de imagen: <https://goo.gl/q9n9Is>'], ['¡Auxilio!, estoy harto, ya no aguanto más. Ayer mi padre me apagó la consola, ¡justo cuando había subido de nivel!', '¿Es que ellos no pueden entender que si antes jugaban mundo, bolitas, trompos y otras cosas raras, ahora los videojuegos son nuestra forma de divertirnos?', '“Se quemarán tus neuronas”, me dice constantemente. Lo que no entiende es que cuando juego, no solo me entretengo: mi imaginación vuela, me olvido de mis preocupaciones, empleo estrategias, tengo aspiraciones y me pongo retos que me ayudan a ser mejor. Por ejemplo, cuando avanzo de un nivel a otro, me doy cuenta de que puedo ser el mejor.', 'Mis padres quieren que haga otras cosas en mis ratos libres, pero no todo es tarea, ¿dónde queda el juego, el buen humor y lo que a mí me interesa?', '¿Será posible que mis padres se den cuenta de que están muy lejos de comprender la personalidad y el mundo de un adolescente como yo?'], ['40'], ['Interiores Libro Comunicacion 1 Secundaria Comprension Lectora .indd 40'], ['4/22/17 9:57 AM']]\n",
      "~~~~~~~~~~~\n",
      "[['1.er grado de secundaria'], ['PRACTICAMOS', 'Lee el siguiente texto considerando las orientaciones que brinda tu docente.'], ['Análisis | Roma Silveira'], ['La rebelión de los emoticones2'], ['Fuente de imagen: <https://goo.gl/99PZyX>'], ['He estado un rato buscando un emoticón que me ayudase a decirle a una amiga, de forma fácil y rápida en un mensaje de chat, “¿En qué andas?”; no lo he encontrado, a pesar de que me tomé un tiempo en buscar un detalle gracioso.', 'Después he pensado: ¿lo necesito en verdad? Pues no. En realidad puedo escribir fácilmente ¿en qué andas? y decir lo que quiero. Entonces, ¿por qué busco un emoticón para escribir mis mensajes de texto si no lo necesito? La respuesta es que, de alguna forma, sí los necesito. Tal vez, podría decir a mi favor que usar emoticones es más corto y rápido que escribir textos o que es más divertido.', 'Últimamente, yo lo creo también: los emoticones han reemplazado a las palabras y al poder expresivo de estas.'], ['2'], ['Yzaguirre Sandoval, Claudia María (2015). La rebelión de los emoticones / No quiero ser humanoide, sino humano. Material de trabajo.'], ['43'], ['Interiores Libro Comunicacion 1 Secundaria Comprension Lectora .indd 43'], ['4/22/17 9:57 AM']]\n",
      "---\n",
      "[['Comprensión lectora 1'], ['La Clave | Porfirio Elss'], ['No quiero ser humanoide, sino humano'], ['Fuente de imagen: <https://goo.gl/vKCQHi>'], ['Me resulta casi cómica la idea de muchos emoticonlovers; es así como llamo a todos mis amigos que siempre, en lugar de decirme algo directamente, me envían estos odiosos dibujitos que, encima, debo interpretar. Y ¿qué pasa si entiendo algo diferente?', 'Realmente su uso no deja de ser un intento de “humanizar” este mundo virtual del que soy parte sin haberlo elegido.', '¡Los emoticones nos invaden! Pero he decidido emprender mi pelea individual contra ellos; por eso, cuando quiera decir que estoy triste, no pondré un círculo amarillo con gotitas en los ojos; cuando quiera decir que estoy enojado, no colocaré a esa esfera con lentes de matón y dientes de tiburón. Yo, a partir de ahora, diré lo que siento como debe decirse: ¡con palabras!'], ['44'], ['Interiores Libro Comunicacion 1 Secundaria Comprension Lectora .indd 44'], ['4/22/17 9:57 AM']]\n",
      "~~~~~~~~~~~\n",
      "[['1.er grado de secundaria'], ['EXTENSIÓN', 'Lee el siguiente texto considerando las orientaciones que brinda tu docente.'], ['¿Más seguros, más libres?3', 'Análisis | Josep Iturbe Santillán'], ['No debemos rendirnos'], ['Fuente de imagen: <https://goo.gl/gk9eD5>'], ['Una de las grandes e incomprensibles ideas de la humanidad es que hombres y mujeres nacemos libres, pero necesitamos luchar para ganarnos la libertad, para mantenerla. Como si no fuese una condición propia de los seres humanos, como si tuviésemos que \"darnos\" o \"permitirnos\" poder ser más o menos libres.', 'La delincuencia que hoy vemos en el país debe servirnos también para salir a las calles a marchar y exigir, una vez más, los derechos y libertades que tanto nos han costado conseguir y que nada ni nadie debe poner en peligro. No debemos rendirnos.'], ['3'], ['Adaptado de Oriol Rusca, Josep y Díez Bueso, Laura (25 de enero de 2015). ¿Más seguros igual a más libres? La Vanguardia. Recuperado de <http:// www.lavanguardia.com/opinion/temas-de-debate/20150125/54424780570/mas-seguros-igual-a-mas-libres.html#ixzz3rYQz5hdy>'], ['47'], ['Interiores Libro Comunicacion 1 Secundaria Comprension Lectora .indd 47'], ['4/22/17 9:57 AM']]\n",
      "---\n",
      "[['Comprensión lectora 1'], ['La Clave | Claudia Sabater de Mayo'], ['Defensa de la democracia'], ['Los derechos humanos y la Constitución del Perú determinan que la libertad de expresión es la piedra angular de un país democrático, pero dicha condición no está sometida a gustos o ideas personales; nadie puede hacer lo que quiera, sino lo que la ley dice.', 'Pero de eso, a responder a la violencia con más violencia, con marchas y protestas que afectan de un modo u otro a los transeúntes, no es más que un medio equivocado de querer cambiar las cosas.', 'Confiemos en nuestras autoridades, en nuestras leyes, ellas sabrán qué hacer frente a la violencia que vivimos. Es el momento de ser pacientes.'], ['48'], ['Interiores Libro Comunicacion 1 Secundaria Comprension Lectora .indd 48'], ['4/22/17 9:57 AM']]\n",
      "~~~~~~~~~~~\n",
      "[['1.er grado de secundaria'], ['Ficha: Conocemos y reconocemos a través de textos descriptivos', 'APRENDEMOS'], ['Lee el siguiente texto considerando las orientaciones que brinda tu docente.'], ['¡Qué abuelito!1'], ['Era un buen hombre llamado Willi, hijo de madre trujillana y padre cusqueño, trabajó desde muy joven y aprendió en la práctica, como muchos peruanos, diversos oficios que le permitieron llevar una vida honrada y formar una familia.', 'No era muy alto, pero tampoco bajo: tenía una estatura normal. Cabello lacio y grueso, canoso por el paso del tiempo. Sus ojos achinados y marrones como los granos de café bien tostado eran iguales a los de sus antepasados. Su piel trigueña, bronceada por el sol, reflejaba el trabajo arduo y esforzado de muchos años. Tenía unos labios delgados que apenas perfilaban una tenue sonrisa, pero eso sí, de amplia y franca carcajada si la ocasión lo ameritaba, como la celebración de un gol de su equipo blanquiazul (Alianza Lima de sus amores). Sus manos de generosa palma hacían cosas maravillosas como ninguna otra persona, recuerdo la ocasión en que preparó como regalo navideño una linda cabina de teléfono en tono rosado bebé porque ese era el color preferido de sus queridas nietas. La mayor lo llamaba, con emoción y amor, “Papá Willi”, quizá por tantos momentos compartidos y por la admiración, guía y protección que pudo proyectar el abuelito en su primera nieta.'], ['1'], ['Chancahuaña Cueva, Sara María (2015). ¡Qué abuelito! Material de trabajo.'], ['51'], ['Interiores Libro Comunicacion 1 Secundaria Comprension Lectora .indd 51'], ['4/22/17 9:57 AM']]\n",
      "---\n",
      "[['Comprensión lectora 1'], ['Se mostraba ágil y muy ordenado, tras haber cumplido los setenta años. Pero lamentablemente su gusto por el cigarro fue minando poco a poco su estado de salud. Dejó el cigarro cuando se dio cuenta del daño que le causaba, pero fue demasiado tarde, el cáncer lo iría consumiendo silenciosamente.', 'No vestía con mucho colorido porque no le gustaba llamar la atención, aunque no le quedaba mal, pues era muy alegre y bromista. En algunas ocasiones solía vestir con pantalones plomos, azules y marrones, pero la mayoría de las veces los clásicos jeans y los polos sencillos eran sus preferidos. Usaba también camisas a cuadros, más informales y de colores tenues, y un par de sandalias cómodas, testigos de su arduo caminar y paso por una vida llena de múltiples peripecias. Con respecto a los complementos de su atuendo, solía llevar gorros de su prestigiosa institución: la Marina de Guerra del Perú, o una boina de tono oscuro que iba acorde con su personalidad.', 'Era paciente y muy atento ante algún requerimiento de sus pequeñas, era el abuelito ideal: las escuchaba, aconsejaba y jugaba con ellas; siempre les dedicaba tiempo. ¡Cuántos paseos, pasacalles y eventos infantiles! Era como un niño disfrutando de la compañía y gracia que la vida le había regalado.', 'Vivió amando a su familia y tuvo grandes amigos, en quienes veía solo virtudes. Así conservó la amistad de su compadre, pese a que era del equipo crema (su clásico oponente deportivo). Eso en vez de separarlos los unió más; lo que le importaba era disfrutar de una sana competencia en compañía de un buen amigo.', 'Era agradable, bondadoso, generoso, respetuoso y trabajador incansable. ¡Qué no hizo para sacar adelante a sus seres queridos! Nunca se rendía, perseveraba en su objetivo y hacía lo humanamente posible para lograrlo; quizá contagiado por el ímpetu y firmeza de su entrañable esposa.', 'Él decía: “En la vida, hay que ser honestos\", \"Lo que dignifica al hombre es su trabajo, por más humilde que sea\", \"No sirve de nada contar con muchos títulos si no eres leal con tus valores y principios\", \"Uno siempre debe respetar y ser responsable”. Muy seguro de sí, firme y constante en su proceder; nos aconsejaba: “No vivas odiando”, “Sé feliz”, “A los toros se les mira de lejos”, etc. Era muy sensible y fácilmente percibía los sentimientos y pensamientos de aquellos con quienes conversaba; sus dones para observar y escuchar caracterizaron su ser especial.', 'Los que tuvimos la suerte de gozar de su amistad lo recordamos como un ser humano confiable, discreto, solícito en brindar apoyo o alguna ayuda a todo aquel que lo necesitase, si estaba al alcance de sus prodigiosas manos. Fue un padre ejemplar que buscó en todo momento la unión familiar, mejor esposo, maravilloso suegro y, especialmente, un gran abuelito.', 'Nos dejó enseñanzas que todos sus amigos, familiares y nietas recordaremos como lecciones de vida que serán rememoradas por siempre.'], ['52'], ['Interiores Libro Comunicacion 1 Secundaria Comprension Lectora .indd 52'], ['4/22/17 9:57 AM']]\n",
      "~~~~~~~~~~~\n",
      "[['1.er grado de secundaria'], ['PRACTICAMOS', 'Realiza de manera individual la lectura del siguiente texto y responde las preguntas que se te presentan.'], ['Abraham Valdelomar2'], ['Fuente de imagen: <https://goo.gl/F475k8>'], ['Abraham Valdelomar es considerado uno de los escritores peruanos más destacados del siglo pasado.', 'Poeta de tez morena, de aire elegante y sereno; caballero de tostada piel y de ademanes refinados; sureño de habilidosa mano que inmortalizó su nostalgia en sus textos; mestizo nacido del sur.', 'Su infancia rural, vinculada al mar y a la campiña, influyó en sus cuentos y poesía, que cultivó con mucha creatividad y emotividad.', 'Siguió sus estudios primarios en la ciudad de Pisco y los secundarios en Lima. Pero antes de ir a la capital, desempeñó en Chincha algunos trabajos relacionados con la panadería.', 'El talento que tenía le sirvió desde que era un joven para distinguirse de los demás. Así en el colegio Guadalupe fundaría Idea Guadalupana (revista) y comenzaría su incursión en cuentos, poemas y periodismo.', 'Su mayor contribución a las letras peruanas la encontramos en sus cuentos \"El caballero Carmelo\" y \"El vuelo de los cóndores\", dos de los cuentos más leídos en todos los colegios del país; lo que se debe a la pluma magistral y sensibilidad del autor.'], ['2'], ['Adaptado de Loli Soto, Pamela (15 de abril de 2013). Abraham Valdelomar, el poeta vivo de 125 años. El Comercio. Recuperado de <http://elcomercio. pe/blog/huellasdigitales/2013/04/abraham-valdelomar>'], ['55'], ['Interiores Libro Comunicacion 1 Secundaria Comprension Lectora .indd 55'], ['4/22/17 9:57 AM']]\n",
      "---\n",
      "[['Comprensión lectora 1'], ['Este dandi criollo (persona de vestir extremadamente elegante que desprecia la vulgaridad y se adora a sí misma) no solo haría suyas las letras y los dibujos, sino que también haría de las suyas en una agitada vida que, más que una moda, era una forma de vivir.', 'Era provocador, erudito, sarcástico y de una lengua cual sable, con la que dejaba sin cabeza a sus adversarios. Fue odiado y envidiado por enemigos muy poderosos, que no soportaban la frase ingeniosa que repetía en los salones donde ingresaba fumando su clásica pipa: “El Perú es Lima, Lima es el jirón de la Unión, el jirón de la Unión es el Palais Concert3 y el Palais Concert soy yo”.'], ['Edificio del antiguo Palais Concert, en la confluencia del jirón de la Unión y la avenida Emancipación (centro histórico de Lima). Fuente de imagen: <https://goo.gl/FIKEq3>'], ['Abraham Valdelomar es un caso excepcional dentro de la literatura peruana. Elogiado y atacado en vida como ningún otro escritor del país, estuvo decidido a triunfar en su medio, para lo cual no dudó en adoptar posturas desafiantes y escandalosas. Detrás de su estilo exageradamente refinado y evasivo de la realidad que solía mostrar en público y su apego a las frases brillantes e irónicas, se descubre un auténtico temperamento artístico, lleno de sentimiento y nostalgia, que se manifiesta en sus mejores poemas y en los cuentos que forman la antología El Caballero Carmelo, obra que contiene algunos de los mejores relatos escritos en el Perú.'], ['3'], ['El Palais Concert era un local de moda en el jirón de la Unión, en la ciudad de Lima. Hoy en día es una tienda comercial.'], ['56'], ['Interiores Libro Comunicacion 1 Secundaria Comprension Lectora .indd 56'], ['4/22/17 9:57 AM']]\n",
      "~~~~~~~~~~~\n",
      "[['1.er grado de secundaria'], ['EXTENSIÓN', 'Lee el siguiente texto considerando las orientaciones que brinda tu docente.'], ['El ángel de la Fama en la pileta de la plaza Mayor de Lima4'], ['Fuente de imagen: <https://goo.gl/5o5WeJ>'], ['La plaza Mayor de Lima es uno de los lugares más visitados, en especial, por todo turista que viene a conocer el Perú y pasa por la capital. Además de apreciar la Catedral, el Palacio de Gobierno, el edificio de la Municipalidad y los portales, llama su atención la antigua pileta que se encuentra en el centro, inaugurada el año 1650 y hecha completamente de bronce —aunque hoy luce pintada de color negro—. Esta pileta es coronada por una hermosa figura alada que lleva una trompeta en la mano derecha y un documento en la otra, y muchos la llaman \"El ángel de la Fama\".', 'Dicha figura alegórica en lo alto de la pileta de la plaza de Armas de Lima no es un ángel. Cuenta la historia que dicho “ángel” no siempre estuvo ahí. La primera pileta de la plaza de Armas la mandó a construir el virrey Francisco de Toledo (1578). En la cima solo había una esfera de la cual salía agua. Sobre la esfera se encontraba la figura del escudo de la ciudad.'], ['4'], ['Adapatado de La fama de la pileta de la plaza Mayor de Lima. (s/f). Qué tal centro! Recuperado de <https://quetalcentro.wordpress.com/2013/06/02/ la-fama-de-la-pileta-de-la-plaza-mayor-de-lima/>'], ['59'], ['Interiores Libro Comunicacion 1 Secundaria Comprension Lectora .indd 59'], ['4/22/17 9:57 AM']]\n",
      "---\n",
      "[['Comprensión lectora 1'], ['Esta pileta fue reemplazada por otra, encargada por el virrey García Sarmiento de Sotomayor, conde de Salvatierra, e inaugurada el 8 de setiembre de 1651, la que (con algunas refacciones) se mantiene hasta la actualidad.', 'En 1900 el entonces alcalde de Lima, Federico Elguera, ordenó arreglar la plaza para lo cual hubo que bajar al “ángel”. Los obreros lo hicieron con tan mala suerte que la estatua cayó, y nuestro “angelito” dejó de volar por un buen tiempo.', 'En 1997 volvió a su pedestal, gracias a la gestión de Alberto Andrade, siendo esta una réplica (basada en imágenes e investigación de otras alegorías de la Fama diseminadas alrededor del mundo) de la que se perdió en el año 1900. Fue colocada por el arquitecto Jorge Orrego Vargas, quien estuvo a cargo de la restauración de la fuente ornamental.', 'El arquitecto tuvo que hacer hasta seis esculturas para llegar al modelo definitivo en bronce. El ángel pesa, aproximadamente, 145 kilos y mide 1,43 metros.', 'Después de una investigación se descubrió que ¡este señor o “ángel de la Fama” es una señora griega llamada Fama!', 'Los antiguos griegos representaban a Fama como una regia doncella con alas de águila sobre las nubes o en lo alto de los cielos tocando una trompeta. Frecuentemente esta es doble, lo cual indica que proclama indiscriminadamente la verdad y la mentira, pero la nuestra solo tiene una trompeta.'], ['Fuente de imagen: <https://goo.gl/3I6VXE>'], ['60'], ['Interiores Libro Comunicacion 1 Secundaria Comprension Lectora .indd 60'], ['4/22/17 9:57 AM']]\n",
      "~~~~~~~~~~~\n",
      "[['rcila zo d e'], ['nco'], ['ga'], ['la Ve'], ['la Av. Guzmán B'], ['Plaza Bolognesi'], ['Av. G rau'], ['Parque de la Exposición'], ['o'], ['Av. G a'], ['e Juli'], ['Plaza Grau'], ['Av. S'], ['CERCADO'], ['ala ver r', 'y'], ['bold'], ['t'], ['sa', 's'], ['nale'], ['Av. A re'], ['nco'], ['Av. M a'], ['a'], ['Parque de la Reserva'], ['República'], ['Cápa c'], ['Av. Paseo de la'], ['quip'], ['Av. A re'], ['Estadio Nacional'], ['Gálv ez'], ['Hum'], ['Manco Cápac'], ['Vía Expresa'], ['e'], ['Paseo de los Héroes Navales'], ['Colón'], ['Paseo'], ['Av. P et'], ['s'], ['it Th ouar'], ['ar raníb A . N Av.'], ['5 p. m.'], ['se abrirán a las'], ['Av. Méx ico'], ['Manuel'], ['Av. 28 d'], ['itos'], ['Velar d'], ['ue'], ['y Me'], ['Av.'], ['Catól ica', 'Av. Is abel L a'], ['Baus ate', 'Corpa ncho S a c o Olive ros'], ['Unan', 'M a d r e de D ios'], ['a', 'rranc'], ['Interiores Libro Comunicacion 1 Secundaria Comprension Lectora .indd 63'], ['S. Ba'], ['Av. I qu'], ['ro Tira do', 'Av. Al ejand'], ['Plano 1'], ['1.er grado de secundaria'], ['Ficha: Obtenemos información de textos discontinuos', 'APRENDEMOS'], ['Lee el siguiente texto considerando las orientaciones que brinda tu docente.', 'd Castañe', 'a'], ['63'], ['4/22/17 9:57 AM']]\n",
      "---\n",
      "[['Comprensión lectora 1', 'Responde las preguntas tomando como referencia el texto anterior y las orientaciones que brinda tu docente.', '1'], ['¿En qué avenida se encuentra el Estadio Nacional?', 'a. Vía Expresa.', 'b. Paseo de la República.', 'c. Arequipa.', 'd. 28 de Julio.'], ['2'], ['¿Qué parque está más cerca del Estadio Nacional?', 'a. Plaza Grau.', 'b. Parque de la Exposición.', 'c. Plaza Bolognesi.', 'd. Parque de la Reserva.'], ['3'], ['¿Con qué propósito principal se hizo este plano?', 'a. Para describir la ubicación del parque de la Exposición.', 'b. Para informar sobre la hora de entrada a un evento.', 'c. Para explicar las calles más cercanas al Estadio Nacional.', 'd. Para informar las rutas de acceso al Estadio Nacional.'], ['4'], ['¿Por qué la palabra Cercado se encuentra en mayúsculas en el plano?', 'a. Porque es una calle principal.', 'b. Porque es una avenida importante.', 'c. Porque es el nombre de un distrito.', 'd. Porque es una referencia en el plano.'], ['64'], ['Interiores Libro Comunicacion 1 Secundaria Comprension Lectora .indd 64'], ['4/22/17 9:57 AM']]\n",
      "~~~~~~~~~~~\n",
      "[['Comprensión lectora 1'], ['PRACTICAMOS'], ['Fuente de imagen: <https://goo.gl/dov9c2>'], ['Recorrido del Metropolitano (servicio regular A)'], ['Lee el siguiente texto considerando las orientaciones que brinda tu docente.'], ['66'], ['Interiores Libro Comunicacion 1 Secundaria Comprension Lectora .indd 66'], ['4/22/17 9:57 AM']]\n",
      "---\n",
      "[['1.er grado de secundaria', 'Responde las preguntas tomando como referencia el texto anterior y las orientaciones que brinda tu docente.', '1'], ['¿El servicio regular A del Metropolitano se detiene en todas las estaciones?', 'a. Sí.', 'b. No.', 'c. Solo en dos.', 'd. A veces.'], ['2'], ['¿El Metropolitano tiene la misma hora de salida de lunes a domingo?', 'a. Sí, tiene la misma hora de salida.', 'b. No, está sujeto a cambios.', 'c. Depende del chofer del bus.', 'd. No, la hora es referencial.'], ['3'], ['¿Cuál es el propósito principal del texto?', 'a. Orientar al usuario del servicio regular A.', 'b. Informar sobre las salidas del bus A.', 'c. Indicar las diversas estaciones del bus A.', 'd. Explicar sobre las llegadas del bus A.'], ['4'], ['¿Qué quiere decir \"horario referencial\"? Explica tu respuesta.'], ['67'], ['Interiores Libro Comunicacion 1 Secundaria Comprension Lectora .indd 67'], ['4/22/17 9:57 AM']]\n",
      "~~~~~~~~~~~\n",
      "[['1.er grado de secundaria'], ['EXTENSIÓN', 'Lee el siguiente texto considerando las orientaciones que brinda tu docente.'], ['Recibo por honorarios'], ['Fuente de imagen: <https://goo.gl/2J4Zea>'], ['Responde las preguntas tomando como referencia el texto anterior y las orientaciones que brinda tu docente.', '1'], ['¿Quién es el emisor del recibo por honorarios?', 'a. Grifos Soria S. A.', 'b. Juan Orlando González Benites.', 'c. Sunat.', 'd. Ministerio de Economía.'], ['69'], ['Interiores Libro Comunicacion 1 Secundaria Comprension Lectora .indd 69'], ['4/22/17 9:57 AM']]\n",
      "---\n",
      "[['Comprensión lectora 1'], ['2'], ['¿Qué porcentaje se retiene para el seguro AFP?', 'a. 11,60', 'b. 7 %', 'c. 1,16 %', 'd. 70,00'], ['3'], ['¿Cuál es el propósito del recibo por honorarios?', 'a. Describir los datos de un profesional.', 'b. Registrar los pagos por prestar servicios.', 'c. Comprobar los pagos del trabajador.', 'd. Informar de un pago a la Sunat.'], ['4'], ['¿Qué significa total neto recibido? Explica tu respuesta.'], ['5'], ['¿Es importante dar recibos por honorarios? Explica tu respuesta.'], ['70'], ['Interiores Libro Comunicacion 1 Secundaria Comprension Lectora .indd 70'], ['4/22/17 9:57 AM']]\n",
      "~~~~~~~~~~~\n",
      "[['1.er grado de secundaria', 'Ficha: Seguimos instrucciones', 'APRENDEMOS', 'Lee el siguiente texto considerando las orientaciones que brinda tu docente.'], ['(1) Lavarse los dientes después de cada comida.'], ['HIGIENE', 'Recomendaciones'], ['Conducta alimentaria'], ['(*) Cambia el cepillo dental cada tres meses.'], ['(A) Evita beber con frecuencia: té, café, vino o zumos ácidos, manchan el diente.'], ['(2) Limpiar también la lengua y el paladar.'], ['(3) Usar seda o hilo dental antes de irse a dormir.', '(B) Los alimentos ricos en azúcares provocan caries.'], ['(C) Consume alimentos que contengan proteínas, calcio, flúor o vitaminas A, C, D y K.'], ['(*) Acude al dentista dos veces al año.'], ['(4) Usa un colutorio recomendado por el especialista.'], ['(*) Elimina de raíz el consumo del tabaco.'], ['Fuente de imagen: <https://goo.gl/t8LlUM>'], ['71'], ['Interiores Libro Comunicacion 1 Secundaria Comprension Lectora .indd 71'], ['5/3/17 4:57 PM']]\n",
      "---\n",
      "[['Comprensión lectora 1', 'Responde las preguntas tomando como referencia el texto anterior y las orientaciones que brinda tu docente.', '1'], ['De acuerdo al texto, ¿por qué se debe evitar beber té, café, vino y zumos ácidos?', 'a. Porque manchan los dientes.', 'b. Porque debilitan el esmalte.', 'c. Porque provocan mal olor.', 'd. Porque dañan el paladar.'], ['2'], ['El texto presenta recomendaciones sobre la salud bucal, una de ellas es acudir al dentista dos veces al año. ¿Qué otras recomendaciones nos presenta el texto?', 'a. Cambiar el cepillo dental cada tres meses. Limpiar también la lengua y el paladar.', 'b. Usar seda o hilo dental antes de dormir. Eliminar el consumo de tabaco.', 'c. Cambiar el cepillo dental cada tres meses. Usar seda o hilo dental antes de dormir.', 'd. Cambiar el cepillo dental cada tres meses. Eliminar de raíz el consumo de tabaco.'], ['3'], ['El tema del texto es:', 'a. La salud dental.', 'b. Importancia de los dientes.', 'c. La alimentación.', 'd. El cepillo dental.'], ['4'], ['De acuerdo al texto, ¿qué es un colutorio?', 'a. Medicina.', 'b. Vitamina.', 'c. Enjuague bucal.', 'd. Pasta dental.'], ['72'], ['Interiores Libro Comunicacion 1 Secundaria Comprension Lectora .indd 72'], ['4/22/17 9:57 AM']]\n",
      "~~~~~~~~~~~\n",
      "[['Comprensión lectora 1'], ['PRACTICAMOS', 'Lee el siguiente texto considerando las orientaciones que brinda tu docente.'], ['Cinco consejos para hacer surf1'], ['1'], ['Tomado de 5 consejos para hacer surf (infografía). (s/f). Infografías en castellano. Recuperado de <https://infografiasencastellano.com/2013/06/14/5-consejos-para-hacer-surf-infografia-infographic/>'], ['74'], ['Interiores Libro Comunicacion 1 Secundaria Comprension Lectora .indd 74'], ['4/22/17 9:57 AM']]\n",
      "---\n",
      "[['1.er grado de secundaria', 'Responde las preguntas tomando como referencia el texto anterior y las orientaciones que brinda tu docente.', '1'], ['¿Para qué se debe atar el \"invento\" (leash)?', 'a. Para dominar la técnica.', 'b. Para mantener la distancia.', 'c. Para no perder la tabla.', 'd. Para no estar solo.'], ['2'], ['¿Cuál de los siguientes enunciados se brinda en un tercer momento?', 'a. Al mar hay que tenerle respeto.', 'b. El invento puede ser tu salvavidas.', 'c. Limpiar el material para que esté óptimo.', 'd. Mantener la distancia con otros surfistas.', 'e. La cera evita resbalones.'], ['3'], ['¿Cuál es el tema principal del texto?', 'a. La importancia de la tabla de surf.', 'b. Consejos para hacer surf.', 'c. El respeto al mar.', 'd. Características de un surfista.'], ['4'], ['De acuerdo al texto, la palabra corroe significa:', 'a. Conserva.', 'b. Desmejora.', 'c. Preserva.', 'd. Desgasta.'], ['75'], ['Interiores Libro Comunicacion 1 Secundaria Comprension Lectora .indd 75'], ['4/22/17 9:57 AM']]\n",
      "~~~~~~~~~~~\n",
      "[['1.er grado de secundaria'], ['EXTENSIÓN', 'Lee el siguiente texto considerando las orientaciones que brinda tu docente.'], ['Tenga siempre un extintor cerca.'], ['Procure instalar un detector de humo.'], ['Chequee constantemente llaves, uniones y cilindros que contengan cualquier tipo de gas inflamable.'], ['1', 'Si hay humo, agáchese y gatee.'], ['Siga las instrucciones que le indiquen los cuerpos de socorro.'], ['Aléjese del incidente, y permita que los cuerpos de socorro concluyan con su labor.'], ['No sobrecargue las instalaciones eléctricas.'], ['2'], ['3'], ['Si su ropa arde, no corra, deténgase, agáchese y ruede en el piso para apagar el fuego.'], ['Si hay heridos, pida auxilio a los cuerpos de socorro.'], ['Fuente de imagen: <https://goo.gl/CJE0dc>'], ['77'], ['Interiores Libro Comunicacion 1 Secundaria Comprension Lectora .indd 77'], ['4/22/17 9:57 AM']]\n",
      "---\n",
      "[['Comprensión lectora 1', 'Responde las preguntas tomando como referencia el texto anterior y las orientaciones que brinda tu docente.', '1'], ['¿Qué se debe hacer si tu ropa arde?', 'a. Correr y pedir auxilio.', 'b. Gatear lo más rápido posible.', 'c. Detenerse y pedir auxilio.', 'd. Detenerse y rodar por el piso.'], ['2'], ['¿Qué se debe hacer después de un incendio?', 'a. No sobrecargue las instalaciones eléctricas.', 'b. Si hay heridos, pida ayuda al cuerpo de socorro.', 'c. Si hay humo, agáchese y gatee.', 'd. Procure instalar un detector de humo.'], ['3'], ['¿Cuál es el tema del texto?', 'a. Cómo actuar en caso de incendio.', 'b. Cómo pedir ayuda durante un incendio.', 'c. Cómo mantener las instalaciones eléctricas.', 'd. Cómo prevenir accidentes.'], ['4'], ['De acuerdo al texto, arde significa:', 'a. Que está sofocado.', 'b. Que flamea.', 'c. Que sufre la acción del fuego.', 'd. Que está en peligro.'], ['78'], ['Interiores Libro Comunicacion 1 Secundaria Comprension Lectora .indd 78'], ['4/22/17 9:57 AM']]\n",
      "~~~~~~~~~~~\n",
      "[['Comprensión lectora 1', 'Ficha: Leemos y comprendemos narraciones interesantes', 'APRENDEMOS', 'Lee el siguiente texto considerando las orientaciones que brinda tu docente.'], ['El mito de la formación de la Vía Láctea1'], ['Fuente de imagen: <https://goo.gl/CWrMca>'], ['Se cree que fue Hera, la esposa de Zeus (el dios de dioses), la que dio origen a la Vía Láctea, nuestra galaxia.', 'Zeus era muy aventurero y le gustaba mucho tener diferentes mujeres, por lo que nunca le guardó fidelidad a su esposa. En una de estas aventuras, Zeus se unió con Alcmena en ausencia de su esposo. El dios se hizo pasar por el ausente y decidió estar con ella en una noche que durase más tiempo del normal; para ello, ordenó al sol que no saliera cuando tenía que hacerlo.', 'Después, el esposo de Alcmena, Anfitrión, regresó y se unió a ella. De ambas uniones Alcmena quedó embarazada. El hijo de Zeus fue Heracles (Hércules en la tradición latina) y el hijo de Anfitrión fue Ificles.', 'Heracles fue, desde su concepción, el favorito de Zeus, a lo que Hera respondió con ira y celos, pues no soportaba la idea de que el hijo de otra mujer fuera tan querido para su divino esposo.', 'Así, la diosa decidió complicar el nacimiento de Heracles, quien se quedó 10 meses dentro del vientre de su madre. Hera también fue la responsable de que el héroe tuviera que sufrir los doce trabajos. Además, cuando era un bebé de ocho'], ['1'], ['Tomado de El mito de la formación de la Vía Láctea. (s/f). Mitos y leyendas. Recuperado de <http://mitosyleyendascr.com/mitologia-griega/origen_del_universo/>'], ['80'], ['Interiores Libro Comunicacion 1 Secundaria Comprension Lectora .indd 80'], ['4/22/17 9:57 AM']]\n",
      "---\n",
      "[['1.er grado de secundaria'], ['meses, Hera le envió dos terribles serpientes para asesinarlo; sin embrago, el niño supo defenderse sin problemas.', 'Ahora bien, existía la condición de que Heracles solo sería inmortal si mamaba de Hera, y esto no iba a ocurrir con el consentimiento de la diosa.', 'Sobre esta historia existen dos versiones. Primero, se cree que Hermes, el mensajero de los dioses, llevó al niño a donde Hera mientras ella dormía y lo puso en su seno para que mamara la leche divina. Cuando Hera se despertó y descubrió a Heracles en su pecho, lo retiró bruscamente y la leche siguió manando, se esparció por el universo y formó la Vía Láctea.', 'La otra versión indica que Hera iba con Atenea paseando por el campo cuando vieron al niño descansando en la hierba. Atenea convenció a la diosa de que lo amamantara, pues era muy hermoso. Hera accedió, pero pronto Heracles chupó la leche con tal violencia que hirió a la diosa. Hera lo apartó de su seno vigorosamente, y la leche siguió fluyendo hasta que formó la Vía Láctea.'], ['Responde las preguntas tomando como referencia el texto anterior y las orientaciones que brinda tu docente.', '1'], ['Según la historia, ¿quién dio origen a la Vía Láctea?', 'a. Atenea.', 'b. Alcmena.', 'c. Hera.', 'd. Zeus.'], ['2'], ['En el párrafo siete, se afirma que quien llevó al niño para que mamara la leche divina fue:', 'a. Heracles.', 'b. Atenea.', 'c. Anfitrión.', 'd. Hermes.'], ['81'], ['Interiores Libro Comunicacion 1 Secundaria Comprension Lectora .indd 81'], ['4/22/17 9:57 AM']]\n",
      "~~~~~~~~~~~\n",
      "[['1.er grado de secundaria'], ['PRACTICAMOS', 'Lee el siguiente texto considerando las orientaciones que brinda tu docente.'], ['Origen del universo2', 'Mitología china'], ['Fuente de imagen: <https://goo.gl/s8Gjj2>'], ['Muchos son los mitos que abarcan los más de 5000 años de cultura china, pero los más antiguos y todavía vigentes son los mitos sobre el origen del universo, los orígenes humanos, la creación cultural y las guerras tribales.', 'Una historia que todo padre chino le ha contado a su niño es la que señala que el universo fue creado por Pangu, más conocido como el Dios de la creación.', 'Mucho tiempo antes de que fuera creado, el universo no tenía forma y el cielo y la tierra no estaban separados. Era como un huevo en el que no había luz ni sonido. En el huevo universal yacía un ser dormido llamado Pangu. Pangu durmió en este gran huevo por 18 000 años. Cuando despertó, estaba muy oscuro dentro del huevo, entonces Pangu estiró sus brazos y piernas, y el huevo se rompió. El liviano y claro Qi Yang se levantó y formó el cielo azul. Por otro lado, el pesado y grueso Qi Yin se hundió y formó la expansiva tierra. Desde entonces, el universo tuvo cielo y tierra.', 'Pangu se puso de pie entre el cielo y la tierra. Desde entonces, día a día, el cielo estaba más arriba y la tierra estaba más abajo y se volvía más pesada y densa. De esta forma, Pangu se volvió más y más alto. Pasaron otros 18 000 años para'], ['2'], ['Tomado de Wu, David (3 de agosto de 2015). Pan Gu y el origen del universo. La Gran Epoca. Recuperado de <http://www.lagranepoca.com/cultura/ tradiciones-chinas/13883-pan-gu-y-el-origen-del-universo.html>'], ['83'], ['Interiores Libro Comunicacion 1 Secundaria Comprension Lectora .indd 83'], ['4/22/17 9:57 AM']]\n",
      "---\n",
      "[['Comprensión lectora 1'], ['que el cielo dejara de subir y la tierra de bajar. Por consiguiente, Pangu se volvió un gigante para sostener el cielo y la tierra, y evitar que el universo se revierta al estado de caos en el que estaba antes.', 'Pangu era el único hombre entre el cielo y la tierra. Su estado emocional podía cambiar el universo; cuando estaba complacido, el cielo se encontraba sin nubes, y cuando estaba enojado, el clima era sombrío. Su llanto traía lluvia, y sus suspiros, fuertes vientos. Al pestañear, el cielo relampagueaba; si roncaba, los truenos rugían.', 'Viendo que el cielo y la tierra estaban bien formados y estables, Pangu murió. Sus miembros se convirtieron en montañas, su sangre dio origen a los ríos, sus músculos formaron los campos y su piel y pelo se convirtieron en miríadas de plantas y animales. El aire que exhaló formó el viento y las nubes, y su sonido llegó a ser el rugido de los truenos. Su ojo izquierdo se convirtió en el sol y el ojo derecho se convirtió en la luna; su sudor se transformó en el rocío de la mañana y la nutritiva lluvia.', 'Usando su cuerpo, Pangu creó un mundo pródigo y hermoso.'], ['Responde las preguntas tomando como referencia el texto anterior y las orientaciones que brinda tu docente.', '1'], ['¿Por qué se rompió el huevo donde descansaba Pangu?', 'a. Porque Pangu era muy grande.', 'b. Porque Pangu estiró sus brazos y piernas.', 'c. Porque Pangu quería salir.', 'd. Porque se cayó desde una colina.'], ['2'], ['Según el texto, el mundo que creó Pangu fue…', 'a. hermoso y solidario.', 'b. alegre y pródigo.', 'c. hermoso y alegre.', 'd. pródigo y hermoso.'], ['84'], ['Interiores Libro Comunicacion 1 Secundaria Comprension Lectora .indd 84'], ['4/22/17 9:57 AM']]\n",
      "~~~~~~~~~~~\n",
      "[['Comprensión lectora 1'], ['EXTENSIÓN', 'Lee el siguiente texto considerando las orientaciones que brinda tu docente.'], ['La creación del mundo3'], ['Fuente de imagen: <https://goo.gl/ujrOzw>'], ['Al principio creó Dios el cielo y la tierra. La tierra era entonces confusión, oscuridad y desorden. Y dijo Dios: “Hágase la luz” y hubo luz, así la separó de la oscuridad, y llamó a la luz día y a la oscuridad noche. Este fue el primer día de la creación.', 'El segundo día, hizo el firmamento del cielo y lo separó de las aguas.', 'El tercer día, Dios juntó las aguas para que apareciera también lo seco, y a la reunión de las aguas la llamó mares y a lo seco lo llamó tierra. Después hizo brotar sobre la tierra la hierba verde, las plantas y todos los árboles con sus frutos y semillas. Y vio Dios que eso era bueno.', 'El cuarto día, creó el sol para que alumbrase el día, y la luna y las estrellas para que destacaran por la noche; también los creó para que nos señalasen la duración de los días y poder así medir los años y el tiempo.', '3'], ['Tomado de Arque, Eduardo (3 de agosto de 2015). La creación del mundo y del hombre. Catequesis en familia. Recuperado de <http://www.catequesisenfamilia. org/postcomunion/historias-de-la-biblia/791-la-creacion-del-mundo-y-del-hombre.html>'], ['86'], ['Interiores Libro Comunicacion 1 Secundaria Comprension Lectora .indd 86'], ['4/22/17 9:57 AM']]\n",
      "---\n",
      "[['1.er grado de secundaria'], ['El quinto día, creó Dios las aves que vuelan por el cielo, al igual que los peces y las criaturas marinas. Y vio Dios que eso era bueno y los bendijo para que se multiplicasen por el cielo y por el mar.', 'El sexto día, creó a todos los animales de la tierra, y tras ello dijo: “Hagamos al hombre a nuestra imagen y semejanza, y domine sobre todos los animales de la tierra, del cielo y del mar”. Y creó Dios al hombre, y con él a la mujer. Ambos fueron creados a imagen y semejanza de Dios, y les dijo: “Creced y multiplicaos y llenad la tierra y sometedla, y dominad sobre todos los animales”. Al terminar ese día, vio Dios que todo lo que había hecho era muy bueno.', 'Así pues, acabados el cielo, la tierra y todo cuanto dejó en ellos, dio por finalizada su obra creadora. Y el día séptimo, descansó. Dios bendijo el día séptimo y lo santificó.'], ['Responde las preguntas tomando como referencia el texto anterior y las orientaciones que brinda tu docente.', '1'], ['Dios creó el mundo en:', 'a. 7 días.', 'b. 30 días.', 'c. 5 días.', 'd. 6 días.'], ['2'], ['Según el texto, el cuarto día de la creación…', 'a. se separó la luz de la oscuridad.', 'b. el sol alumbró el día.', 'c. se hizo al hombre y a la mujer.', 'd. Dios dijo: “Hágase la luz”.'], ['3'], ['Lee la siguiente sentencia: \"Y creó Dios al hombre, y con él a la mujer. Ambos fueron creados a imagen y semejanza de Dios, y les dijo: \\'Creced y multiplicaos y llenad la tierra y sometedla, y dominad sobre todos los animales\\'”. ¿Qué les quiso decir Dios a los hombres?', 'a. Que controlen la tierra.', 'b. Que eran dueños de todo.', 'c. Les dio un gran regalo.', 'd. Que disfruten de todo.', '87'], ['Interiores Libro Comunicacion 1 Secundaria Comprension Lectora .indd 87'], ['4/22/17 9:57 AM']]\n",
      "~~~~~~~~~~~\n",
      "[['1.er grado de secundaria', 'Ficha: Comprendemos textos instructivos', 'APRENDEMOS', 'Lee el siguiente texto considerando las orientaciones que brinda tu docente.1'], ['Afloja la tierra en una superficie de 40 por 40 centímetros de profundidad.', 'En el centro abre un hueco o cepa tan ancho y profundo como la raíz de tu planta.', 'Toma la planta de la parte más baja del tallo con dos dedos. No la maltrates ni toques la raíz.'], ['Ponla en la cepa al ras del suelo.'], ['Cubre la raíz de tu planta con la tierra.'], ['Compacta la tierra con las manos; no debe quedar muy apretada ni muy floja.', 'Haz un borde o cajete alrededor para favorecer la captación de agua.'], ['hos'], [', muc o l e t r pá'], ['! n e b a o lo s'], ['¡Com'], ['n'], ['Fuente de imagen: <https://goo.gl/QlzbJD>'], ['1'], ['Tomado de Cómo sembrar un árbol (infografía). (s/f). Reflexiones instantáneas por Max. Recuperado de <http://www.reflexionesinstantaneasbymax.com/2012/08/ como-sembrar-un-arbol.html>'], ['89'], ['Interiores Libro Comunicacion 1 Secundaria Comprension Lectora .indd 89'], ['4/22/17 9:57 AM']]\n",
      "---\n",
      "[['Comprensión lectora 1', 'Responde las preguntas tomando como referencia el texto anterior y las orientaciones que brinda tu docente.', '1'], ['¿Para qué se debe hacer un cajete alrededor de un árbol?', 'a. Para captar el agua.', 'b. Para almacenar agua.', 'c. Para compactar la tierra.', 'd. Para cubrir la raíz.'], ['2'], ['¿Qué profundidad debe tener la superficie para sembrar un árbol?', 'a. 40 x 10 cm de profundidad.', 'b. 20 x 20 cm de profundidad.', 'c. 40 x 40 cm de profundidad.', 'd. 40 x 40 m de profundidad.'], ['3'], ['De acuerdo al texto, ¿qué significa afloja la tierra?', 'a. Abonar la tierra.', 'b. Remover la tierra.', 'c. Humedecer la tierra.', 'd. Bordear la tierra.'], ['4'], ['¿Cuál es el subtema del paso tres?', 'a. La importancia del árbol.', 'b. Los beneficios del árbol.', 'c. Cuidado de la planta.', 'd. Las partes del árbol.'], ['90'], ['Interiores Libro Comunicacion 1 Secundaria Comprension Lectora .indd 90'], ['4/22/17 9:57 AM']]\n",
      "~~~~~~~~~~~\n",
      "[['Comprensión lectora 1'], ['PRACTICAMOS', 'Lee el siguiente texto considerando las orientaciones que brinda tu docente.'], ['Croquetas de atún2', 'Ingredientes (6 personas)', '\\uf0a1 3 cucharadas de mantequilla (o margarina).', '\\uf0a1 2 cucharadas de perejil picado (chiffonade).', '\\uf0a1 1/2 taza de harina sin preparar.', '\\uf0a1 2 cucharadas de zumo de limón.', '\\uf0a1 1 huevo.', '\\uf0a1 1 taza de leche.', '\\uf0a1 Pan rallado.', '\\uf0a1 Sal, pimienta y nuez moscada.', '\\uf0a1 Aceite para freír.', '\\uf0a1 2 latas de atún.'], ['Fuente de imagen: <https://goo.gl/RM4KrT>'], ['¡A cocinar…!', '\\uf0a1 En la margarina derretida, incorporar la harina sin preparar.', '\\uf0a1 Mezclar y agregar en chorritos la leche caliente, sin dejar de mover.', '\\uf0a1 Sazonar con sal, pimienta y nuez moscada.', '\\uf0a1 Colocar el resultado en un recipiente y sellarlo con plástico para evitar la formación de nata.', '\\uf0a1 Mezclar con los demás ingredientes.', '\\uf0a1 Humedecerse las manos para poder formar las croquetas (bolas) con facilidad.', '\\uf0a1 Pasar las croquetas por huevo batido y por pan rallado.', '\\uf0a1 Freír en abundante aceite por un periodo de 7 a 8 minutos.'], ['2'], ['Tomado de Croquetas de atún. (s/f). Cocina Perú. Recuperado de <http://www.cocinaperu.com/recetas-peruanas/recetas-entradas/croquetas-de-atun/>'], ['92'], ['Interiores Libro Comunicacion 1 Secundaria Comprension Lectora .indd 92'], ['4/22/17 9:58 AM']]\n",
      "---\n",
      "[['1.er grado de secundaria'], ['Tip Cocina Perú', 'El atún se puede reemplazar por pollo o carne. A su vez, se puede incorporar cebollita china y pimienta china.'], ['Responde las preguntas tomando como referencia el texto anterior.', '1'], ['¿Para qué la preparación del recipiente debe estar sellado con plástico?', 'a. Para evitar la formación de nata.', 'b. Para que la mezcla sea uniforme.', 'c. Para humedecer el atún.', 'd. Para que no ingresen otras partículas.'], ['2'], ['¿Por cuánto tiempo se debe freír la preparación?', 'a. 10 a 20 minutos.', 'b. 5 a 4 minutos.', 'c. 7 a 8 minutos.', 'd. 8 a 10 minutos.'], ['3'], ['El significado de la palabra zumo, según el texto, es:', 'a. Un refresco.', 'b. Jugo de fruta.', 'c. Jugo de limón.', 'd. Bebida de limón.'], ['4'], ['¿Cuál es el tema del texto?'], ['93'], ['Interiores Libro Comunicacion 1 Secundaria Comprension Lectora .indd 93'], ['4/22/17 9:58 AM']]\n",
      "~~~~~~~~~~~\n",
      "[['1.er grado de secundaria'], ['EXTENSIÓN', 'Lee el siguiente texto considerando las orientaciones que brinda tu docente.'], ['Mondonguito a la italiana con arroz blanco3'], ['Fuente de imagen: <https://goo.gl/BzbUct>'], ['Ingredientes', '\\uf0a1 ½ kg de mondongo cocido y cortado en tiras.', '\\uf0a1 ½ kg de papas fritas en tiras.', '\\uf0a1 ½ taza de alverjitas cocidas.', '\\uf0a1 ¼ de taza de aceite.', '\\uf0a1 1 cebolla cortada finamente.', '\\uf0a1 1 tomate grande, pelado y picado.', '\\uf0a1 2 cucharadas soperas de pasta de tomate.', '\\uf0a1 1 cucharadita de pimiento molido.', '\\uf0a1 Hongos.', '\\uf0a1 Laurel.', '\\uf0a1 Sal.'], ['3'], ['Távara, Julio (s/f). Mondonguito a la italiana con arroz blanco. Chef al Paso. Recuperado de <http://chefalpaso.com/mondonguito-a-la-italiana-con-arrozblanco.html>'], ['95'], ['Interiores Libro Comunicacion 1 Secundaria Comprension Lectora .indd 95'], ['4/22/17 9:58 AM']]\n",
      "---\n",
      "[['Comprensión lectora 1'], ['Preparación', '\\uf0a1 Para empezar a preparar este delicioso plato de mondonguito a la italiana con arroz blanco, pon a hervir el mondongo con agua y sal. Luego, cuando notes que ya pasó un tiempo considerable, escúrrelo y córtalo en tiras.', '\\uf0a1 Por otro lado, prepara el aderezo. Fríe la cebolla, el tomate, la pasta de tomate, el pimiento, los hongos y el laurel. Déjalo cocinar con un poco de agua y después échale su punto de sal.', '\\uf0a1 Cuando el aderezo hierva, agrega el mondongo, las alverjitas y las zanahorias. Ten papas fritas listas, agrégalas y revuelve todo para que adquieran los sabores. Agrega el perejil y listo.'], ['Responde las preguntas tomando como referencia el texto anterior.', '1'], ['¿Cuál es el primer paso para preparar el mondonguito a la italiana con arroz blanco?', 'a. Colocar el mondongo en un recipiente.', 'b. Ponerlo con papas fritas y perejil.', 'c. Hervir el mondongo con agua y sal.', 'd. Cortarlo en tiras.'], ['2'], ['3'], ['Ordena las ideas de acuerdo al texto leído; para ello, coloca el número según corresponda (del 1 al 5).', 'a. Medio kilogramo de mondonguito cocido y cortado en tiras.'], ['('], [')'], ['b. Hervir el mondongo con agua y sal.'], ['('], [')'], ['c. Agregar las papas fritas y revolver todo.'], ['('], [')'], ['d. Agregar el perejil y servir.'], ['('], [')'], ['e. Cuando el aderezo hierva, agregar las alverjitas y zanahorias.'], ['('], [')'], ['¿Cuál es el tema del texto?'], ['96'], ['Interiores Libro Comunicacion 1 Secundaria Comprension Lectora .indd 96'], ['4/22/17 9:58 AM']]\n",
      "~~~~~~~~~~~\n",
      "[['Comprensión lectora 1', 'Ficha: Comprendemos y opinamos a partir de textos mixtos', 'APRENDEMOS', 'Lee el siguiente texto considerando las orientaciones que brinda tu docente.'], ['Un plato de bandera1'], ['Fuente de imagen: <https://goo.gl/AGT3Oj>'], ['Una corazonada nos dice que el origen del anticucho se pierde en la inmensidad del tiempo, que su preparación no es exclusivamente peruana y que, dentro de la amplísima oferta de street food que existe en el mundo, nuestro plato bandera no es el que genera más desagrado a los paladares extranjeros, luego de conocer de dónde proviene aquella carne que, al calor de las brasas, huele tan, pero tan bien.', \"Cierto es que la palabra anticucho está relacionada con el quechua, pues en ella se identifican vocablos como anti ('Andes'), kuchu ('corte') y uchu ('ají'). En el libro La comida popular ambulante de antaño y hogaño en Lima, los historiadores Pablo Macera y María Belén Soria refieren que el anticucho tuvo dos versiones que cambiaron con la Conquista. En la época prehispánica —indican—, esta opción culinaria se preparaba con carne de llama; luego, con la llegada de los esclavos, la proteína habría variado: se cambia la carne por menudencia, masificándose así su consumo.\"], ['1'], ['Adaptado de El anticucho, un plato que nos impacta directo al corazón. (2 de noviembre de 2015). El Comercio. Recuperado de <http://elcomercio.pe/gastronomia/ peruana/anticucho-plato-que-nos-impacta-directo-al-corazon-noticia-1852777>'], ['98'], ['Interiores Libro Comunicacion 1 Secundaria Comprension Lectora .indd 98'], ['4/22/17 9:58 AM']]\n",
      "---\n",
      "[['1.er grado de secundaria'], ['Los investigadores indican que lo cocinaban los afroperuanos, quienes también lo vendían en las plazas y calles cercanas a mercados y zonas pobladas. Bastaba encender el brasero y colocar las brochetas con cortes de corazón ensartados para que el aroma de su cocción se convierta en la mejor herramienta de marketing para atraer parroquianos urgidos de un bocado.', 'La calle y el comensal de a pie ayudaron a preservar esta práctica humilde, que fue cambiando de imagen y se hizo famosa en los rostros de emprendedores que hoy inspiran a muchos para alcanzar sus sueños, que se avivan como las llamas del fogón.'], ['Grimanesa, la célebre', 'Grimanesa Vargas Arauco es el mejor ejemplo de emprendimiento. Madre desde los 23 años. Aunque solo tiene estudios escolares incompletos, esta ayacuchana cuenta con el mejor posgrado en economía que la calle le pudo haber expedido, el cual está firmado por la necesidad.', 'Empezó hace más de 40 años con un braserito. Vendió chanfainita y luego choncholí. Finalmente, notó que en la esquina de Miraflores, donde se instaló, el anticucho era lo más cool que su clientela podía probar.', 'Firme en su esquina, Grimanesa mantuvo el carbón encendido, primero sola y luego con el apoyo de sus hijos, que son cinco. A ellos les brindó la educación que ella nunca tuvo.', 'La tradición de una receta fue el pilar de su éxito, y el trabajo constante, la firmeza y la disciplina fueron sus armas para alcanzar el éxito. Porque, si bien la Aventura culinaria de Gastón Acurio la catapultó, es justo decir que la buena anticuchera ya se había hecho (por años) de una buena cartera de clientes.'], ['Fuente de imagen: <https://goo.gl/UApxeW>'], ['[…]'], ['99'], ['Interiores Libro Comunicacion 1 Secundaria Comprension Lectora .indd 99'], ['4/22/17 9:58 AM']]\n",
      "~~~~~~~~~~~\n",
      "[['Comprensión lectora 1'], ['PRACTICAMOS', 'Lee el siguiente texto considerando las orientaciones que brinda tu docente.'], ['Avispas de mar2', 'Los científicos afirman que las medusas son una de las criaturas vivientes más antiguas de la Tierra. Existen pruebas que sugieren que han existido hace más de 700 millones de años, información que se basa en restos fósiles cuidadosamente recopilados y analizados. Estas criaturas habitan las aguas oceánicas de todo el mundo, viven en diferentes temperaturas y las profundidades que alcanzan varían en función de las especies.'], ['Fuente: <https://goo.gl/pH1Ksf>'], ['Fuente: <https://goo.gl/R9UFWG>'], ['Fuente: <https://goo.gl/x5WacX>'], ['Algunos de estos animales miden menos de una pulgada de diámetro, mientras que otros son muy grandes. La medusa melena de león es la especie más grande de medusas conocidas en el mundo: mide 120 pies de largo (36,57 metros), incluyendo los tentáculos.', 'Las medusas se presentan en una amplia variedad de colores, tamaños y formas. Es por eso que puede ser difícil para la persona promedio saber que lo que acaba de ver es, en realidad, una medusa. La diversidad entre las medusas ha sido estudiada por los expertos durante años y es la razón por la que han sido divididas en varios grupos de especies, sobre la base de sus características. Hoy en día existen más de 2000 especies de medusas identificadas, y la mayoría de los investigadores creen que hay muchas más que aún no hemos descubierto.', 'La vida de una medusa tiene lugar en el agua. Ellas no son capaces de moverse con gracia o rápidamente, pero pueden dar la apariencia de ser muy peligrosas. La mayoría de las personas que han visto a una medusa en su medio silvestre lo han hecho cuando estas quedan varadas en la costa o playas; si no logran volver al agua, mueren. […]', '2'], ['Tomado de Medusas. (s/f). Medusapedia. Recuperado de <http://www.medusapedia.com/>'], ['102'], ['Interiores Libro Comunicacion 1 Secundaria Comprension Lectora .indd 102'], ['4/22/17 9:58 AM']]\n",
      "---\n",
      "[['1.er grado de secundaria'], ['Clasificaciones inferiores', 'Medusa'], ['Fuente: <https://goo.gl/ZC8grT>'], ['Hydrozoa'], ['Fuente: <https://goo.gl/22TUjT>'], ['Polypodiozoa'], ['Fuente: <https://goo.gl/Gwe4ME>'], ['Las medusas, también llamadas aguamalas, malaguas, aguavivas, aguacuajada, avispas de mar o lágrimas de mar, son animales marinos pertenecientes al filo Cnidaria, son pelágicos de cuerpo gelatinoso.', 'Categoría: subfilo.', 'Clasificación superior: Cnidaria.'], ['Responde las preguntas tomando como referencia el texto anterior y las orientaciones que brinda tu docente.', '1'], ['La especie más grande de medusa conocida en el mundo se llama:', 'a. Cnidaria.', 'b. Melena de león.', 'c. Malagua.', 'd. Cola de león.'], ['2'], ['¿Por qué se caracterizan las medusas?', 'a. Por medir un poco más de una pulgada.', 'b. Por ser animales que viven en el río.', 'c. Por tener apariencia de ser inofensivas.', 'd. Por vivir en diferentes temperaturas.'], ['103'], ['Interiores Libro Comunicacion 1 Secundaria Comprension Lectora .indd 103'], ['4/22/17 9:58 AM']]\n",
      "~~~~~~~~~~~\n",
      "[['1.er grado de secundaria'], ['EXTENSIÓN', 'Lee el siguiente texto considerando las orientaciones que brinda tu docente.'], ['Nuevos dispositivos tecnológicos3'], ['Fuente: <https://goo.gl/c1IkcT>'], ['La gran mayoría de quienes practican deportes o se ejercitan con regularidad quieren hacerlo escuchando música, y para ello existen muchas soluciones tecnológicas. Esto se puede hacer usando audífonos con cables o inalámbricos; pero esto suele presentar problemas de incomodidad debido a los cables o a que, para ciertas actividades, se requieran accesorios adicionales.', 'Para solucionar estos inconvenientes ha salido al mercado un producto novedoso. Se trata de unos audífonos todoterreno hechos por una empresa canadiense. Estos dispositivos se promocionan como los primeros audífonos inalámbricos de talla única, pero que calzan perfecto en todos los oídos; usan tecnología Bluetooth y son resistentes al agua. Así es, no se necesita hacer uso de ningún otro accesorio si es que el usuario decide, por ejemplo, nadar con ellos.', '¿Y cómo se controlan los audífonos? En la parte superior tienen los controles. Además, el dispositivo ofrece hasta seis horas de reproducción de música continua gracias a su batería de ion-litio, que se puede recargar al 80 % en solo 30 minutos, usando la caja que también sirve para guardarlos.', 'Estos audífonos usan tecnología inalámbrica que permite una cobertura de hasta 30 metros y, a través de una aplicación, se puede identificar dónde están los audífonos si no los encuentras.', '3'], ['Adaptado de ¿Haces deporte? Estos son los audífonos que estabas buscando. (16 de noviembre de 2015). El Comercio. Recuperado de <http://elcomercio.pe/ tecnologia/gadgets/haces-deporte-estos-son-audifonos-que-estabas-buscando-noticia-1856655?flsm=1>'], ['105'], ['Interiores Libro Comunicacion 1 Secundaria Comprension Lectora .indd 105'], ['4/22/17 9:58 AM']]\n",
      "---\n",
      "[['Comprensión lectora 1'], ['Lo que debes saber para escoger audífonos a tu medida4', 'Expertos indican que al momento de elegir se debe considerar la actividad que se realizará mientras se escucha música.'], ['¿Vale la pena comprar unos audífonos cerrados?', 'Con este tipo de aparatos, los oídos están completamente aislados del ruido del exterior. Son ideales para no molestar a otras personas con nuestra música. ¿Son una buena opción los audífonos abiertos?', 'Los auriculares abiertos están fabricados para que el oído no se tape completamente. Son más pequeños y livianos, por lo que son más fáciles de usar. Además, se pueden utilizar durante varias horas sin que produzcan molestias. La calidad de sonido es mejor. ¿Alámbricos o inalámbricos?', 'Los auriculares que no cuentan con cables son mucho más prácticos, ya que ofrecen máxima libertad de movimiento. Para escuchar música durante las prácticas deportivas, ¿qué se recomienda?', 'Eso depende del tipo de ejercicio. Por ejemplo, para montar bicicleta, trotar u otras actividades que implican movimiento, la recomendación es utilizar audífonos diseñados para fijarse alrededor de la oreja y que sean del tipo in-ear (dentro de la oreja).'], ['Responde las preguntas tomando como referencia el texto anterior.', '1'], ['Según el texto, los audífonos inalámbricos:', 'a. Son resistentes al agua.', 'b. Son de corta cobertura.', 'c. Se recargan en 5 horas.', 'd. Son baratos y flexibles.'], ['4'], ['Tomado de Lo que debes saber para escoger audífonos a tu medida. (12 de agosto de 2015). El Comercio. Recuperado de <https://goo.gl/Mt8Jdm>'], ['106'], ['Interiores Libro Comunicacion 1 Secundaria Comprension Lectora .indd 106'], ['4/22/17 9:58 AM']]\n",
      "~~~~~~~~~~~\n",
      "[['Comprensión lectora 1', 'Ficha: Estructuramos textos narrativos', 'APRENDEMOS', 'Lee el siguiente texto considerando las orientaciones que brinda tu docente.'], ['El rayito de sol1'], ['Fuente de imagen: <https://goo.gl/atkU0R>'], ['Al niño chico lo ha despertado en la cuna un rayito de sol que entra en el cuarto oscuro de verano por una rendija de la ventana cerrada.', 'Si se hubiera despertado sin él, el niño se habría echado a llorar llamando a su madre. Pero la belleza iluminada del rayito de sol le ha abierto en los mismos ojos un paraíso florido y mágico que lo tiene suspenso.', 'Y el niño palmotea, y ríe, y hace grandes conversaciones sin palabras consigo mismo, cogiéndose con las dos manos los dos pies y arrullando su delicia.', 'Le pone la manita al rayo de sol; luego, el pie —¡con qué dificultad y qué paciencia!—, luego la boca, luego el ojo, y se deslumbra, y se ríe refregándoselo cerrado y llenándose de baba la boca apretada. Si en la lucha por jugar con él se da un golpe en la baranda, aguanta el dolor y el llanto y se ríe con lágrimas que le complican en iris precioso el bello sol del rayo.', 'Pasa el instante y el rayito se va del niño, poco a poco, pared arriba. Aún lo mira el niño, suspenso, como una imposible mariposa, de verdad para él.', 'De pronto, ya no está el rayo. Y en el cuarto oscuro, el niño —¿qué tiene el niño, dicen todos corriendo, qué tendrá?— llora desesperadamente por su madre.'], ['1'], ['Tomado de Jiménez, Juan Ramón (s/f). El rayito de sol. Poetas andaluces. Recuperado de <http://www.poetasandaluces.com/poema/950/>'], ['108'], ['Interiores Libro Comunicacion 1 Secundaria Comprension Lectora .indd 108'], ['5/3/17 4:57 PM']]\n",
      "---\n",
      "[['1.er grado de secundaria', 'Responde las preguntas tomando en cuenta las orientaciones que brinda tu docente.', '1'], ['Coloca dentro de cada paréntesis I (inicio), N (nudo), D (desenlace), según corresponda:', 'a. El niño llora desesperadamente por su madre.'], ['( )'], ['b. El niño palmotea, y ríe, y hace grandes conversaciones. ( )'], ['2'], ['c. Al niño lo ha despertado un rayito de sol.'], ['( )'], ['d. Se da un golpe en la baranda.'], ['( )'], ['¿Con quién conversa sin palabras el niño?', 'a. Con sus manos.', 'b. Con sus pies.', 'c. Con el rayito de luz.', 'd. Con su madre.'], ['3'], ['Según el texto, ¿qué significa la palabra baranda?', 'a. El borde de la cuna.', 'b. El borde de la cama.', 'c. Lugar para apoyarse.', 'd. El cerco del velador.'], ['4'], ['¿Cuál es el tema del poema?', 'a. La alegría del niño.', 'b. El rayito de sol y el niño.', 'c. El llanto del niño.', 'd. La ausencia de la madre.'], ['5'], ['¿Consideras que un poema desarrolla una secuencia narrativa? Justifica tu respuesta.'], ['109'], ['Interiores Libro Comunicacion 1 Secundaria Comprension Lectora .indd 109'], ['4/22/17 9:58 AM']]\n",
      "~~~~~~~~~~~\n",
      "[['Comprensión lectora 1'], ['PRACTICAMOS', 'Realiza de manera individual la lectura del siguiente texto y responde las preguntas.'], ['El caballo de Troya2'], ['Fuente de imagen: <https://goo.gl/xwQcxm>'], ['Hacía muchos años que los griegos, bajo el mando del rey Ulises, atacaban la ciudad de Troya sin poder conquistarla. Entonces, Ulises tuvo una gran idea: construir rápidamente un gigantesco caballo de madera para engañar a sus enemigos.', 'Por la noche, se metieron en el caballo los más valientes guerreros griegos. Y los demás, a la mañana siguiente, subieron a sus naves como si se marcharan.', 'Los troyanos se pusieron muy contentos al ver que sus enemigos se retiraban. Pronto, salieron de su ciudad y fueron apoderándose de todo lo que habían dejado los griegos. Aquel enorme caballo les llamó mucho la atención y pensaron meterlo también en su ciudad, como si fuera un botín que hubieran conquistado del enemigo.', 'Durante toda la noche, celebraron los troyanos lo que creían que era su victoria. Pero cuando se quedaron dormidos, Ulises y sus soldados salieron del caballo y, silenciosamente, abrieron las puertas de Troya para que entrasen los demás griegos, que habían vuelto aprovechando la oscuridad de la noche.', 'Así, gracias a la astucia de Ulises, conquistaron en muy pocas horas lo que no habían podido conseguir en muchos años.'], ['2'], ['Tomado de Colección de textos para ejercitarse en la lectura comprensiva. (s/f). Recuperado de <https://goo.gl/bia510>'], ['110'], ['Interiores Libro Comunicacion 1 Secundaria Comprension Lectora .indd 110'], ['4/22/17 9:58 AM']]\n",
      "---\n",
      "[['1.er grado de secundaria', 'Responde las preguntas tomando como referencia el texto leído y las orientaciones que brinda tu docente.', '1'], ['¿Cuántos párrafos tiene el texto leído?', 'a. Cuatro párrafos.', 'b. Diez párrafos.', 'c. Cinco párrafos.', 'd. Seis párrafos.'], ['2'], ['Coloca dentro del recuadro I (inicio), N (nudo), D (desenlace), según corresponda.', 'Ulises logró conquistar a los troyanos después de muchos años.'], ['3'], ['Ulises construye un gran caballo para atacar y engañar a los troyanos.'], ['Los troyanos celebran y aceptan el obsequio de los griegos, se quedan dormidos y son atacados.'], ['Según el texto, ¿qué significa la palabra botín?', 'a. Bota que usaron los guerreros.', 'b. Un premio al esfuerzo y valentía.', 'c. Guerreros que acumulan premios.', 'd. Objeto obtenido como premio de guerra.'], ['4'], ['¿Cuál es el tema del texto?', 'a. La celebración y alegría por el caballo de Troya.', 'b. El retiro de los guerreros griegos en sus naves.', 'c. La victoria de los troyanos sobre los griegos.', 'd. La astucia de Ulises para conquistar a los troyanos.'], ['5'], ['¿Qué opinas de la forma como Ulises conquistó la ciudad de Troya? Justifica tu respuesta.'], ['111'], ['Interiores Libro Comunicacion 1 Secundaria Comprension Lectora .indd 111'], ['4/22/17 9:58 AM']]\n",
      "~~~~~~~~~~~\n",
      "[['Comprensión lectora 1'], ['EXTENSIÓN', 'Realiza de manera individual la lectura del siguiente texto y responde las preguntas.'], ['Los dos amigos y el oso3'], ['Fuente de imagen: <https://goo.gl/A1hgDY>'], ['Dos amigos iban juntos por un camino cuando vieron surgir un oso enorme que lanzaba terribles rugidos.', '—¡Socorro! —gritaron.', 'El más delgaducho no tardó en hallar refugio en la copa de un árbol, pero su amigo, demasiado gordo, no pudo hacer lo mismo.', '—¡Dame la mano y súbeme! —le suplicó.', '—¡No puedo! —replicó el más flaco, mientras subía cada vez más alto—. Si ayudo a alguien tan gordo como tú, corro el riesgo de caerme... ¡y no quiero que el oso me devore!', 'La temible fiera ganaba terreno. Sus fauces, de las que salían gruñidos terribles, se acercaban peligrosamente al hombrecillo más gordo. De pronto, este se dejó caer al suelo.'], ['3'], ['Tomado de El oso y los dos amigos. (s/f). Muchos cuentos. Recuperado de <https://goo.gl/qyEfWf>. Cuento basado en la fábula de Esopo \"Los dos amigos y el oso\".'], ['112'], ['Interiores Libro Comunicacion 1 Secundaria Comprension Lectora .indd 112'], ['4/22/17 9:58 AM']]\n",
      "---\n",
      "[['1.er grado de secundaria'], ['“He oído decir que un oso nunca ataca a un cadáver”, se dijo el viajero caído en tierra. “Voy a hacerme el muerto”.', 'Inmóvil, se hizo el muerto, en tanto que el oso le olfateaba con su enorme hocico. Después el animal se marchó, convencido de que el hombre estaba realmente muerto. Cuando el oso se fue, el otro viajero bajó al suelo y dijo a su amigo:', '—¡Has tenido suerte! ¡Te has librado por los pelos! Me pregunto por qué se habrá marchado el oso. Incluso me ha parecido que te susurraba algo al oído —continuó—. ¿Qué te ha dicho?', '—El oso me ha recomendado que, de ahora en adelante, no vuelva a viajar con alguien que solo piensa en sí mismo y que no me presta ayuda cuando mi vida está en peligro. Es en los momentos difíciles cuando se reconoce a los verdaderos amigos.', 'Y con estas palabras, el hombre regordete siguió su camino, solo.'], ['Responde las preguntas tomando como referencia el texto y las orientaciones que brinda tu docente.', '1'], ['Completa el esquema con la información del texto.'], ['Inicio'], ['2'], ['Nudo'], ['Desenlace'], ['Utiliza los números del 1 al 4 y ordena la secuencia de hechos, según la información del texto.', 'a. En los momentos difíciles se reconoce a los verdaderos amigos.', 'b. El hombrecillo más gordo se hizo el muerto y el oso se marchó.', 'c. El hombrecillo delgado dijo: \"¡Has tenido suerte! ¡Te has librado por los pelos!\".', 'd. Dos amigos se encontraron con un oso en el camino.'], ['113'], ['Interiores Libro Comunicacion 1 Secundaria Comprension Lectora .indd 113'], ['4/22/17 9:58 AM']]\n",
      "~~~~~~~~~~~\n",
      "[['1.er grado de secundaria', 'Ficha: A la sombra de los relatos de misterio', 'APRENDEMOS', 'Lee el siguiente texto considerando las orientaciones que brinda tu docente.'], ['Los tres caminos1'], ['Fuente de imagen: <https://goo.gl/k5vsol>'], ['Se dice, del túnel cuyo ingreso está en la secretaría de la dirección, que al bajar por sus escaleras, se llega a un callejón al estilo de las galerías subterráneas del Templo Viejo de Chavín de Huántar. Después de ese túnel, hay un gran salón con tres túneles más pequeños; borrosamente se puede leer algunas letras en la parte superior, letras que engloban una frase inentendible.', 'La historia relata que uno de los túneles conduce a la playa, el otro al palacio de gobierno y el último a las orillas del hoy subterráneo río “Surco”.', 'Sin embargo, los protagonistas de este relato le dan otro significado; manifiestan que el primer túnel conduce a la libertad de los esclavos que trabajaban en la época virreinal en el sótano de la casona y que lo construyeron con utensilios de cocina y una que otra herramienta de jardinería que ocultaban a sus celadores. Al ser descubierto, uno de los ocasionales patrones mandó construir dos túneles exactamente iguales. Uno de ellos conducía a una sala, de manera que los fugitivos en su rauda huida caían a un perol con agua hirviente. Los restos de los infortunados eran cocinados a tal punto que se les extraían las vísceras y huesos, y con su'], ['1'], ['Tomado de Santillán Meza, Augusto (2010). Los fantasmas de la casona. Material de trabajo.'], ['115'], ['Interiores Libro Comunicacion 1 Secundaria Comprension Lectora .indd 115'], ['4/22/17 9:58 AM']]\n",
      "---\n",
      "[['Comprensión lectora 1'], ['pulpa y grasa se fabricaban jabones o se usaban para pulir las finas alhajas de oro de las bellas damas de la nobleza limeña.', 'El segundo túnel conducía a una bóveda herméticamente cerrada con un portón de fierro. Al abrir la puerta, el fugitivo caía a un profundo y nauseabundo pozo lleno de eses.', 'Distinguir los diferentes túneles era muy complicado: la oscuridad y similitud rara vez conducía a los fugitivos a la libertad.'], ['Túnel de Chavín de Huántar'], ['Responde las preguntas tomando como referencia el texto anterior y las orientaciones que brinda tu docente.', '1'], ['¿Dónde ocurren los hechos?', 'a. En el patio principal.', 'b. En el túnel.', 'c. En el gran salón.', 'd. En la secretaría.'], ['2'], ['Según el texto, infiere por qué el autor hace referencia a las galerías subterráneas del Templo Viejo de Chavín de Huántar.', 'a. Porque es un callejón similar a los caminos del túnel.', 'b. Porque el túnel conduce a un callejón sin salida.', 'c. Porque hay tres caminos subterráneos.', 'd. Porque el estilo del túnel se asemeja a dichas galerías.'], ['116'], ['Interiores Libro Comunicacion 1 Secundaria Comprension Lectora .indd 116'], ['4/22/17 9:58 AM']]\n",
      "~~~~~~~~~~~\n",
      "[['Comprensión lectora 1'], ['PRACTICAMOS', 'Lee el siguiente texto considerando las orientaciones que brinda tu docente.'], ['Las ánimas2'], ['Eran entre sí muy parecidas, al extremo de semejar una la sombra de la otra. No iban a prisa. Avanzaban calladas, acaso intercambiando frases cortas. Aun así, no se notaba el movimiento de sus labios, sus manos desconocían la mímica. Eran pobres, pobrísimas, pero envueltas en sus mantas de vapor —esas negras y delgadas que entonces se traían de la China— caminaban con cierta parsimonia que trasuntaba gravedad o señorío. Les decían la Yunta o las Faldonas, pero ninguno de estos apodos caló.', 'Vivían en una casucha de tablas en la calle Ayacucho y se les veía caminar las tres bajadas del pueblo —la de la Oroya, la de Zepita y la famosa de los Baños—, descubriéndoseles en los crepúsculos, matinal y vespertino, yendo a rezar a la ermita.', 'Verlas cruzar el puente de los Suspiros en la oscuridad casi nocturna daba miedo.', 'Magras, silentes, enmantadas, sugerían un cuadro fantasmal. Parecían almas en pena. El vecindario las vio así y les puso duradero sobrenombre vinculado al purgatorio. Desde entonces, cuando se les veía ir, venir o pasar, los chicos nos alertábamos con un codazo y concluíamos en voz baja: “Las Ánimas”.'], ['2'], ['Tomado de Parra Morote, Alfredo (s/f). Las ánimas. En Del Busto Duthurburu, José Antonio (Ed.).(1993). Barranco. Lima, Perú: Editorial Brasas.'], ['118'], ['Interiores Libro Comunicacion 1 Secundaria Comprension Lectora .indd 118'], ['4/22/17 9:58 AM']]\n",
      "---\n",
      "[['1.er grado de secundaria'], ['Eran hermanas de padre y madre. La madre había sido una mulata muy bella —mulata bonita, la recordaban las viejas— y el padre un señorón de títulos y campanillas, hombre rico en el lugar y con mundo social en Lima.', 'A pesar de la riqueza del padre, ambas eran pobres. Tanto que a veces no tenían qué comer. Entonces, sus amigas, algunas de cierta holgura, con delicadeza y cariño las invitaban a almorzar, las esperaban a cenar o les obsequiaban las negras mantas con las que envolvían sus figuras. Ellas no lo tomaban a dádiva, sino como regalo amical. Y lo agradecían cumplidamente. Más tarde, estas mismas amigas, para poder darles dinero sin ofenderlas, les inventaron un trabajo. A raíz de ello, ambas hermanas sacaban a pasear un perrillo.', 'Eran muy piadosas. Pertenecían a ese tipo de beatas que solo se veía en Barranco, en algunos barrios de Lima y en los cuadros de Camino Brent. Todos los días, lo hemos dicho, acudían a la ermita, y por las mañanas a misa. Hincadas de rodillas, oraban con verdadera unción. Pero, pese a ir a misa todas las mañanas, nadie las había visto comulgar. No faltó una beata impertinente que les preguntó a quemarropa: “Y ustedes, que son tan rezadoras, ¿por qué no comulgan?”. El momento debió ser terrible. Las hermanas se miraron en silencio. El tiempo se hizo larguísimo. Rosalía miró a Agripina y esta asintió con la cabeza. Entonces fue que Rosalía, contando con la anuencia de su hermana mayor, tomó la palabra y respondió serenamente: “Porque para comulgar hay que perdonar y nosotras no podemos perdonar al padre que nunca nos reconoció por hijas”.'], ['A partir de la lectura anterior, responde las siguientes preguntas:', '1'], ['¿A quiénes les decían la Yunta o las Faldonas?'], ['2'], ['Lee el siguiente texto: \"los chicos nos alertábamos con un codazo y concluíamos en voz baja: \\'las Ánimas\\'\". ¿A qué se alude?', 'a. A la presencia de Rosalía y Agripina.', 'b. A la presencia de las dos amigas.', 'c. A los padres fallecidos de las hermanas.', 'd. Al padre y madre de las dos amigas.'], ['119'], ['Interiores Libro Comunicacion 1 Secundaria Comprension Lectora .indd 119'], ['4/22/17 9:58 AM']]\n",
      "~~~~~~~~~~~\n",
      "[['1.er grado de secundaria'], ['EXTENSIÓN', 'Lee el siguiente texto considerando las orientaciones que brinda tu docente.'], ['Historia del Señor de Luren de Ica3'], ['Fuente de imagen: <https://goo.gl/CE2gNq>'], ['Un caballero inglés, fervoroso católico, ocultó la imagen del Crucificado para salvarla de la destrucción en tiempos de la reforma de Martín Lutero en Alemania (1517-1560) o, tal vez, de la persecución desatada en Inglaterra por Enrique VIII (1553-1560).', 'Luego este personaje se la entregó a un hidalgo español para que la trajera a América. Este resolvió traerla a Lima y se embarcó con la imagen en una noche oscura de mayo rumbo al Nuevo Mundo.', 'Pero una fuerte tormenta interrumpió el viaje frente al puerto del Callao y el barco, al perder el control de su timonel, llegó frente a las costas de Ica. Entonces, la imagen, equivocadamente, fue desembarcada e inmediatamente puesta a lomo de mula con dirección a Lima.', 'Por capricho del destino, la mula se perdió sin que se diera cuenta el arriero y fue a parar al lugar de Hurin-Ika, en donde la mula no quiso moverse para ningún lado.'], ['3'], ['Tomado de Cassavilca Curaca, Alberto (s/f). Historia del Señor de Luren de Ica. En García, Sixto y García, Claudia (s/f). Textos narrativos y descriptivos.s/l: Ediciones SIGA.'], ['121'], ['Interiores Libro Comunicacion 1 Secundaria Comprension Lectora .indd 121'], ['4/22/17 9:58 AM']]\n",
      "---\n",
      "[['Comprensión lectora 1'], ['Así estuvo mucho tiempo con su carga sobre el lomo y sin que, al parecer, le molestara en absoluto el peso del Crucificado.', 'Finalmente, fue visto por unos pobladores del lugar y, sin ningún contratiempo, allí mismo le levantaron una capilla en donde comenzó la explosiva devoción de los lugareños.'], ['A partir de la lectura anterior, responde las siguientes preguntas:', '1'], ['2'], ['Indica si las siguientes afirmaciones son verdaderas o falsas, según el contenido del texto.', 'a. La imagen del Crucificado fue entregada a un hidalgo español.'], ['( )'], ['b. La imagen del Crucificado fue desembarcada en el puerto del Callao.'], ['( )'], ['c. El Señor de Luren fue transportado en mula.'], ['( )'], ['d. Los pobladores de Hurin-Ika levantaron una capilla para el Crucificado.'], ['( )'], ['De acuerdo al texto, se puede deducir que:', 'a. El Señor de Luren quiso quedarse en Ica y no en Lima.', 'b. El Crucificado es una imagen milagrosa.', 'c. Los pobladores del lugar insistieron en retener al Crucificado.', 'd. Los pobladores de Ica mandaron a traer desde Inglaterra al Crucificado.'], ['3'], ['Es una afirmación que corresponde al tercer párrafo:', 'a. La imagen del Crucificado llegó a Ica, pero fue enviada en mula a Lima.', 'b. Los pobladores de Ica no quisieron que el Señor de Luren llegara a Lima.', 'c. La tormenta impidió la llegada del Señor de Luren a Ica.', 'd. El Crucificado se quedó en Ica.'], ['4'], ['A partir del texto, se deduce que el propósito de la leyenda es:', 'a. Narrar la historia del Señor de Luren.', 'b. Explicar el origen del Señor de Luren.', 'c. Argumentar sobre la presencia del Crucificado en Ica.', 'd. Exponer hechos relevantes sobre el Crucificado.'], ['122'], ['Interiores Libro Comunicacion 1 Secundaria Comprension Lectora .indd 122'], ['4/22/17 9:58 AM']]\n",
      "~~~~~~~~~~~\n",
      "[['Comprensión lectora 1', 'Ficha: Obtenemos información de un afiche', 'APRENDEMOS', 'Lee el siguiente afiche considerando las orientaciones que brinda tu docente.'], ['Fuente de imagen: <http://www.digesa.sld.pe/pw_playas/afiche_verano2015.jpg>'], ['124'], ['Interiores Libro Comunicacion 1 Secundaria Comprension Lectora .indd 124'], ['4/22/17 9:58 AM']]\n",
      "---\n",
      "[['1.er grado de secundaria', 'Responde las preguntas tomando como referencia el texto anterior y las orientaciones que brinda tu docente.', '1'], ['¿Qué indica el afiche?', 'a. Que las personas deben proteger al sol.', 'b. Que las personas responsables deben ir en grupo a la playa.', 'c. Que las personas no deben ensuciar las playas.', 'd. Que las personas deben ser responsables con respecto al sol y la playa.'], ['2'], ['¿Con qué intención se incluye la imagen de una familia en el afiche?', 'a. La familia representa al público al que se dirige este afiche.', 'b. La familia representa la alegría que vivimos en las vacaciones.', 'c. La familia nos cuida de los diversos peligros que existen en el mar.', 'd. La familia es el núcleo principal de la sociedad contemporánea.'], ['3'], ['Si llamo a Infosalud podré:', 'a. Estar mejor informado.', 'b. Protegerme de los rayos solares.', 'c. Cuidar mi piel y las playas.', 'd. Evitar el cáncer al broncearme.'], ['4'], ['¿Cuál es el propósito del afiche?', 'a. Advertir a las personas de un problema en la playa.', 'b. Informar sobre la forma de pasar un buen verano.', 'c. Explicar los beneficios del verano y la playa.', 'd. Hacer publicidad al verano.'], ['5'], ['¿Por qué se han usado las mayúsculas en el texto \"con playas limpias\"? Explica tu respuesta.'], ['125'], ['Interiores Libro Comunicacion 1 Secundaria Comprension Lectora .indd 125'], ['4/22/17 9:58 AM']]\n",
      "~~~~~~~~~~~\n",
      "[['Comprensión lectora 1'], ['PRACTICAMOS', 'Lee el siguiente texto considerando las orientaciones que brinda tu docente.'], ['Fuente de imagen: <http://www.scoop.it/t/educacion-2-0>'], ['126'], ['Interiores Libro Comunicacion 1 Secundaria Comprension Lectora .indd 126'], ['4/22/17 9:58 AM']]\n",
      "---\n",
      "[['1.er grado de secundaria', 'Responde las preguntas tomando como referencia el texto anterior y las orientaciones que brinda tu docente.', '1'], ['Según el texto, ¿cuándo se constituye un delito?', 'a. Cuando se comenta sobre las fotografías y videos.', 'b. Cuando se comenta sobre los datos personales.', 'c. Cuando se realizan comentarios ofensivos y amenazadores.', 'd. Cuando se comenta sobre tus citas a ciegas.'], ['2'], ['¿Para qué se ha colocado el siguiente cuadro en el afiche?'], ['a. Para brindar información complementaria.', 'b. Para brindar ayuda al menor.', 'c. Para brindar información de un producto.', 'd. Para brindar información sobre cómo subir videos.', '3'], ['¿Qué sucede con la información que se sube a la red?', 'a. Es de dominio público.', 'b. Evita recibir muchos mensajes engañosos.', 'c. Evita perder a tus amistades.', 'd. Perdura en el tiempo.'], ['4'], ['¿Cuál es el propósito del afiche?', 'a. Dar recomendaciones sobre el uso de internet.', 'b. Promocionar el uso del internet.', 'c. Prevenir el uso del internet.', 'd. Advertir las bondades del internet.'], ['127'], ['Interiores Libro Comunicacion 1 Secundaria Comprension Lectora .indd 127'], ['4/22/17 9:58 AM']]\n",
      "~~~~~~~~~~~\n",
      "[['1.er grado de secundaria'], ['EXTENSIÓN', 'Lee el siguiente texto considerando las orientaciones que brinda tu docente.'], ['Plaza San Martín 10:00 a. m - 6:00 p. m.'], ['Polideportivo PUCP'], ['2:00 p. m - 8:00 p. m.'], ['Fuente de imagen: <https://goo.gl/qllfIA>'], ['Responde las preguntas tomando como referencia el texto anterior.', '1'], ['Según el texto, ¿en qué lugar se llevará a cabo Expoeduca 2015?', 'a. En la plaza San Martín y la PUCP.', 'b. En la Municipalidad de Lima y la plaza San Martín.', 'c. En la PUCP y en el Polideportivo de Lima.', 'd. En la plaza San Martín y en el Polideportivo de la PUCP.'], ['129'], ['Interiores Libro Comunicacion 1 Secundaria Comprension Lectora .indd 129'], ['4/22/17 9:58 AM']]\n",
      "---\n",
      "[['Comprensión lectora 1'], ['2'], ['¿Con qué intención se colocó esta imagen?'], ['a. Para indicar que el evento se difunde en redes sociales.', 'b. Para indicar que el evento lo organizan las redes sociales.', 'c. Para indicar que el evento se difunde únicamente por Facebook.', 'd. Para indicar que el evento se transmitirá a través de YouTube.', '3'], ['¿Qué obtendrán los estudiantes al recibir becas y orientación vocacional?', 'a. Estarán menos desorientados y solos.', 'b. Dejarán de ser inmaduros y flojos.', 'c. Recibirán lo que sus padres no quieren darles.', 'd. Tendrán oportunidades de estudios y orientaciones.'], ['4'], ['¿Para qué se ha elaborado este afiche?', 'a. Para realizar un evento.', 'b. Para orientar a estudiantes y docentes.', 'c. Para informar sobre las actividades de un evento.', 'd. Para promocionar a la Municipalidad de Lima y a la PUCP.'], ['5'], ['¿Por qué las palabras estudiantes y docentes están resaltadas en el afiche? Explica tu respuesta.'], ['130'], ['Interiores Libro Comunicacion 1 Secundaria Comprension Lectora .indd 130'], ['5/3/17 4:57 PM']]\n",
      "~~~~~~~~~~~\n",
      "[['1.er grado de secundaria', 'Ficha: Elaboramos organizadores gráficos de un texto expositivo', 'APRENDEMOS', 'Lee el siguiente texto considerando las orientaciones que brinda tu docente.'], ['El Camino Inca'], ['Fuente de imagen: <https://goo.gl/nzlHq7>'], ['Hay muchos caminos que conducen a Machu Picchu, pero ninguno como el Camino Inca, el más popular entre los viajeros y la vía peatonal más famosa del continente americano. Desde Cusco, 43 kilómetros de una ruta entre bosques y densas nieblas, escalones de piedra milenarios y vistas majestuosas.', 'Al final está la recompensa: la famosa Puerta del Sol y sus impresionantes vistas de las ruinas de Machu Picchu.', 'Hacer el Camino Inca es un rito para el viajero y una aventura única. El trayecto más largo se inicia en Piscacucho (km 82 de la línea férrea hacia Machu Picchu). Atraviesa diferentes ecosistemas, colosales sitios arqueológicos y parajes ricos en flora y fauna, hasta llegar a la ciudadela de Machu Picchu.', 'Es importante escoger la mejor época. Se organizan grupos todo el año (excepto en febrero, cuando llueve a cántaros y el Camino Inca se cierra por mantenimiento), pero los mejores meses (más fríos y secos) son junio, julio y agosto.', 'Para realizar la excursión, es indispensable contactar con una agencia de turismo especializada o con un guía oficial de turismo.'], ['131'], ['Interiores Libro Comunicacion 1 Secundaria Comprension Lectora .indd 131'], ['4/22/17 9:58 AM']]\n",
      "---\n",
      "[['Comprensión lectora 1'], ['Datos generales', 'Ubicación: departamento de Cusco. Provincia de Urubamba, 2400 m s. n. m. (Machu Picchu)', 'Clima: templado', 'Temperatura promedio: 15 °C', 'Temporada: recomendado entre los meses de abril a octubre, cerrado por mantenimiento durante el mes de febrero', 'Acceso: vías aérea y terrestre, de Lima y Arequipa a Cusco. Vía férrea, Poroy-Piscacucho (km 82) y Machu Picchu - Poroy (retorno, 92 km en 3 horas 30 minutos)', 'Nivel: medio', 'Tiempo: 4 días'], ['Responde las preguntas tomando como referencia el texto anterior y las orientaciones que brinda tu docente.', '1'], ['A partir de las recomendaciones expresadas al final del texto, se debe evitar recorrer el Camino Inca en el mes de...', 'a. abril.', 'b. febrero.', 'c. mayo.', 'd. octubre.'], ['2'], ['El Camino Inca conduce a Machu Picchu, pero antes atraviesa por...', 'a. colosales ruinas y desconocidos parajes.', 'b. diversos ecosistemas y parajes ricos en fauna.', 'c. la Puerta del Sol y un largo trayecto.', 'd. impresionantes ruinas y bellos paisajes.'], ['132'], ['Interiores Libro Comunicacion 1 Secundaria Comprension Lectora .indd 132'], ['4/22/17 9:58 AM']]\n",
      "~~~~~~~~~~~\n",
      "[['Comprensión lectora 1'], ['PRACTICAMOS', 'Lee el siguiente texto considerando las orientaciones que brinda tu docente.'], ['Complejo arqueológico Chavín de Huántar1'], ['Fuente de imagen: <https://goo.gl/W6P1xp>', 'Dibujos de algunas de las caras esculpidas en las cabezas clavas; según una teoría, representarían rostros de sacerdotes bajo los efectos de alucinógenos.'], ['La cultura Chavín se expresa de modo elocuente en la arquitectura del sitio de Chavín, tradicionalmente conocido como Chavín de Huántar, cuya jurisdicción pertenece al distrito de Chavín de Huántar.', 'Los muchos monolitos esculpidos con figuras de seres sobrenaturales, que en su mayoría adornaban sus muros, dan prestigio a este sitio arqueológico. Una de las características generales de estos monolitos es que fueron hechos de piedra (arte lítico) y con énfasis religioso.', 'La magnificencia y majestad de Chavín es tal, que su construcción era asignada a una \"raza de gigantes\" y no a hombres comunes. Registra esta explicación mítica Pedro Cieza de León (1553) al describir lo que ya en su tiempo era una \"antigualla\" abandonada por el hombre.'], ['1'], ['Tomado de Complejo arqueológico Chavín de Huántar. (2 de noviembre de 2015). Perú top tours. Recuperado de <http://www.perutoptours.com/index02anchavinhuantar.html>'], ['134'], ['Interiores Libro Comunicacion 1 Secundaria Comprension Lectora .indd 134'], ['4/22/17 9:58 AM']]\n",
      "---\n",
      "[['1.er grado de secundaria'], ['Información general', 'Ubicación: Faldas orientales de la Cordillera Blanca.'], ['Altitud: 3185 metros de altitud.', 'Descripción Triángulo formado por el Huachecsa y el Mosna, ríos que se unen para al Marañón. geográfica:', 'Las cabezas clavas. Principales El Lanzón Monolítico. esculturas: La Estela de Raimondi.'], ['Responde las preguntas tomando como referencia el texto anterior y las orientaciones que brinda tu docente.', '1'], ['Adornaban los muros de Chavín...', 'a. el Lanzón Monolítico con figuras de seres sobrenaturales.', 'b. la Estela de Raimondi y el Lanzón Monolítico.', 'c. monolitos esculpidos con figuras de seres sobrenaturales.', 'd. monolitos construidos por una “raza de gigantes”.'], ['2'], ['Los monolitos Chavín presentan las siguientes características: fueron hechos de piedra y…', 'a. estaban esculpidos con figuras de gigantes.', 'b. expresaban sus costumbres.', 'c. destacaban por su carácter sagrado.', 'd. manifestaban elocuencia y religión.'], ['3'], ['¿Sobre qué trata el texto?', 'a. La arquitectura de Chavín de Huántar.', 'b. La zona arqueológica Chavín de Huántar.', 'c. Las esculturas del complejo de Chavín.', 'd. Los restos arquitectónicos de Chavín.'], ['135'], ['Interiores Libro Comunicacion 1 Secundaria Comprension Lectora .indd 135'], ['4/22/17 9:58 AM']]\n",
      "~~~~~~~~~~~\n",
      "[['1.er grado de secundaria'], ['EXTENSIÓN', 'Lee el siguiente texto considerando las orientaciones que brinda tu docente.'], ['Amazonas2', 'Misteriosa y natural', 'La región Amazonas es famosa en el Perú por sus bosques de neblina, su páramo y su privilegiado clima. Hábitat de orquídeas, osos andinos y gallitos de las rocas. Sitios arqueológicos con el enigma de Kuélap, ciudadela preínca construida entre los Andes y la selva. Conjunto poblacional bien organizado, que incluye recintos de índole administrativa, religiosa, espacios ceremoniales y de residencia permanente. Misteriosas tumbas y sarcófagos, herencia de una época donde reinó la cultura Chachapoyas.', 'Casonas y balcones coloniales, paisajes de lagunas y gigantescas cataratas: Jumbilla y Gocta. Un destino de interminables opciones.'], ['2'], ['Tomado de Amazonas. Misteriosa y natural. (8 de noviembre de 2015). Perú travel. Recuperado de <http://www.perutoptours.com/index02anchavinhuantar.html>'], ['137'], ['Interiores Libro Comunicacion 1 Secundaria Comprension Lectora .indd 137'], ['4/22/17 9:58 AM']]\n",
      "---\n",
      "[['Comprensión lectora 1'], ['23 h', '8h', '60 min', '1h'], ['10 min'], ['12 h'], ['Responde las preguntas tomando como referencia el texto anterior y las orientaciones que brinda tu docente.', '1'], ['El viaje Lima-Cajamarca dura:', 'a. 1h 60 min', 'b. 23 h', 'c. 12 h', 'd. 1h 10 min'], ['2'], ['Kuélap, ciudadela preínca, construida entre los Andes y la selva comprende:', 'a. Tumbas, residencias, espacios ceremoniales.', 'b. Casonas, tumbas, espacios ceremoniales.', 'c. Residencias, balcones, tumbas.', 'd. Espacios ceremoniales, residencias, balcones.'], ['3'], ['¿Cuál es la idea más importante del texto?', 'a. Kuélap es una ciudadela misteriosa construida entre los Andes y la selva.', 'b. La región Amazonas es famosa por sus bosques, su páramo y su clima.', 'c. El Amazonas tiene un hábitat rico de orquídeas, osos andinos y aves.', 'd. Chachapoyas es una ciudad que tiene muchos destinos y formas de llegar.'], ['138'], ['Interiores Libro Comunicacion 1 Secundaria Comprension Lectora .indd 138'], ['4/22/17 9:58 AM']]\n",
      "~~~~~~~~~~~\n",
      "[['Comprensión lectora 1', 'Ficha: Aprendemos con infografías', 'APRENDEMOS', 'Lee el siguiente texto considerando las orientaciones que brinda tu docente.'], ['Fuente de imagen: <https://goo.gl/C3ibdV>'], ['140'], ['Interiores Libro Comunicacion 1 Secundaria Comprension Lectora .indd 140'], ['4/22/17 9:58 AM']]\n",
      "---\n",
      "[['1.er grado de secundaria', 'Responde las preguntas tomando como referencia el texto y las orientaciones que brinda tu docente.', '1'], ['¿Cuáles son los lugares turísticos del Camino Inca Salkantay?', 'a. Apu Salkantay, valle del río Apurímac, paso de Apacheta y ruinas de Chachabamba.', 'b. Apu Salkantay, valle del río Apurímac, ruinas de Runcurakay y ruinas de Llactapata.', 'c. Apu Salkantay, paso de Inti Punku, paso de Apacheta y ruinas de Llactapata.', 'd. Apu Salkantay, valle del río Apurímac, paso de Apacheta y ruinas de Llactapata.'], ['2'], ['Dificultad moderada quiere decir:', 'a. Camino con algunas dificultades.', 'b. Camino con abismos al lado.', 'c. Camino plano sin peligros.', 'd. Camino con muchas dificultades.'], ['3'], ['¿Cuál de los tres caminos debería tomar un turista, teniendo en cuenta que si parte el 17 de noviembre, el 20 del mismo mes al amanecer debe estar en el aeropuerto de Cusco para regresar a Lima?', 'a. Camino Inca Salkantay.', 'b. Camino Inca sagrado.', 'c. Camino Inca clásico.', 'd. Camino Chachabamba.'], ['4'], ['¿Cuál es el propósito del autor?', 'a. Mostrar los diferentes caminos para llegar a Machu Picchu.', 'b. Mostrar las dificultades según el camino.', 'c. Mostrar cuánto demora cada ruta a Machu Picchu.', 'd. Mostrar las dificultades de cada ruta y el tiempo que demanda.'], ['5'], ['¿Cuál es la intención del autor al colocar el nombre de un hotel en el texto?', 'a. Hacer saber que hay un hotel en Machu Picchu.', 'b. Conocer el hotel en Machu Picchu.', 'c. Hacer publicidad al hotel del cartel.', 'd. Colocar el nombre del hotel como adorno en el afiche.', '141'], ['Interiores Libro Comunicacion 1 Secundaria Comprension Lectora .indd 141'], ['4/22/17 9:58 AM']]\n",
      "~~~~~~~~~~~\n",
      "[['Comprensión lectora 1'], ['PRACTICAMOS', 'Lee el siguiente texto considerando las orientaciones que brinda tu docente.'], ['El tren eléctrico de la ciudad de Lima es un servicio de transporte masivo y rápido'], ['6 a. m. a 9 a. m. 6 p. m. a 9 p. m.', '9 a. m. a 12 m.', '4 a. m. a 7 p.m.'], ['Información para la primera semana de enero de 2012, durante el periodo de pruebas'], ['142'], ['Interiores Libro Comunicacion 1 Secundaria Comprension Lectora .indd 142'], ['4/22/17 9:58 AM']]\n",
      "---\n",
      "[['1.er grado de secundaria', 'Realiza de manera individual la lectura del siguiente plano y responde las preguntas que se te presentan. Aplica las estrategias que se utilizaron en la lectura anterior.', '1'], ['Si un pasajero sube en la estación Villa El Salvador y quiere ir a Pachacútec, ¿en qué estación debe bajar?', 'a. María Auxiliadora.', 'b. Atocongo.', 'c. San Juan.', 'd. Jorge Chávez.'], ['2'], ['De acuerdo al texto leído, se puede deducir que la expresión estaciones operativas quiere decir:', 'a. Estaciones para un operador.', 'b. Estaciones que no se utilizan.', 'c. Estaciones en mantenimiento.', 'd. Estaciones en uso.'], ['3'], ['¿Consideras que el tren ayudará a ordenar el caos vehicular en la ciudad de Lima? Justifica tu respuesta.'], ['4'], ['¿Cada cuánto tiempo salen los trenes?', 'a. Cada 40 minutos.', 'b. Cada 20 minutos.', 'c. Cada 10 minutos.', 'd. Cada 25 minutos.'], ['5'], ['¿Para qué se indica que “el servicio al público será gratuito”?', 'a. Para explicar que en el tiempo de prueba algunos lo pueden usar.', 'b. Para explicar que en el tiempo de prueba todos lo pueden usar.', 'c. Para promover el uso adecuado del tren eléctrico.', 'd. Para ofrecer el servicio a todos los usuarios del tren eléctrico.'], ['143'], ['Interiores Libro Comunicacion 1 Secundaria Comprension Lectora .indd 143'], ['4/22/17 9:58 AM']]\n",
      "~~~~~~~~~~~\n",
      "[['Comprensión lectora 1'], ['EXTENSIÓN', 'Lee el siguiente texto considerando las orientaciones que brinda tu docente.'], ['Son aquellos valores que son considerados importantes para el buen desarrollo de la sociedad.'], ['Responsabilidad', 'Un compromiso con la comunidad y el lugar donde viven para generar un impacto positivo. Permite reflexionar, administrar, orientar y valorar las consecuencias de los actos.'], ['Paz', 'Es producto de la armonía social. Va acompañado de la JUSTICIA y la LIBERTAD.'], ['R e s p e t o'], ['Yo respeto tus derechos.'], ['Yo respeto tus derechos.'], ['Solidaridad', 'Ayudarse los unos a los otros por el bien de toda la sociedad.', 'Fuente de imagen: <https://goo.gl/hKYeks>'], ['Responde las preguntas tomando como referencia el texto anterior y las orientaciones que brinda tu docente.', '1'], ['¿Qué valor genera un impacto positivo en la comunidad?', 'a. Paz.', 'b. Solidaridad.', 'c. Responsabilidad.', 'd. Respeto.'], ['144'], ['Interiores Libro Comunicacion 1 Secundaria Comprension Lectora .indd 144'], ['4/22/17 9:58 AM']]\n",
      "---\n",
      "[['1.er grado de secundaria'], ['2'], ['¿Qué quiere decir Vivir en justicia?', 'a. Vivir con quietud.', 'b. Vivir en tranquilidad.', 'c. Vivir con seguridad ciudadana.', 'd. Vivir en armonía social.'], ['3'], ['¿Cuál es el propósito del texto?', 'a. Dar información sobre los valores de una sociedad.', 'b. Dar información para el buen desarrollo de la sociedad.', 'c. Dar información sobre valores cívicos patrióticos.', 'd. Dar información para ser una mejor sociedad.'], ['4'], ['¿Qué opinión tienes sobre el propósito de presentar solo estos valores? Explica tu respuesta.'], ['5'], ['¿Cuál es la intención del autor al colocar imágenes en el texto?'], ['145'], ['Interiores Libro Comunicacion 1 Secundaria Comprension Lectora .indd 145'], ['4/22/17 9:58 AM']]\n",
      "~~~~~~~~~~~\n",
      "[['Comprensión lectora 1', 'Ficha: Argumentamos más allá de las palabras', 'APRENDEMOS', 'Lee el siguiente texto considerando las orientaciones que brinda tu docente.'], ['¡El cigarro, peligro para los niños!'], ['Fuente de imágenes: <https://goo.gl/IMyrKc>'], ['Responde las preguntas tomando como referencia el texto anterior y las orientaciones que brinda tu docente.', '1'], ['¿De qué trata principalmente este afiche?', 'a. Del cuidado irresponsable de los niños.', 'b. De una marca nueva de cigarrillos.', 'c. Del consumo irresponsable del cigarro.', 'd. De un estilo novedoso y diferente de fumar.'], ['146'], ['Interiores Libro Comunicacion 1 Secundaria Comprension Lectora .indd 146'], ['4/22/17 9:58 AM']]\n",
      "---\n",
      "[['1.er grado de secundaria'], ['2'], ['¿Qué tienen en común la imagen de la mujer con su bebe y la imagen del niño con la muerte?', 'a. Muestran el consumo del cigarro en menores de edad.', 'b. Muestran el uso irresponsable del fuego y del humo.', 'c. Muestra imágenes que publicitan una marca de cigarros.', 'd. Presentan imágenes cotidianas de niños y adultos.'], ['3'], ['¿Cuál es el propósito del texto?', 'a. Presentar una nueva marca de cigarro.', 'b. Exponer un hecho real y novedoso.', 'c. Advertir a las personas de un problema.', 'd. Informar al público sobre un problema.'], ['4'], ['María leyó el afiche y dijo:', '¡Las imágenes del afiche no son reales!'], ['¿Cuál de las siguientes ideas servirá para apoyar la opinión de María?', 'a. Es una exageración de la realidad y no es importante.', 'b. No es lógico que una mamá fume y su bebe bote el humo.', 'c. La caricatura exagera y muestra la realidad auténtica.', 'd. Los niños no fuman y menos los bebes recién nacidos.', '5'], ['Observa la imagen que representa a la muerte:'], ['¿Para qué se ha incluido esta imagen en el texto?', 'a. Para que tengamos una idea de cómo es “la muerte”.', 'b. Para que sepamos que está cerca de los niños.', 'c. Para señalar que se trata de una idea importante.', 'd. Para tomar conciencia del peligro de fumar.', '147'], ['Interiores Libro Comunicacion 1 Secundaria Comprension Lectora .indd 147'], ['4/22/17 9:58 AM']]\n",
      "~~~~~~~~~~~\n",
      "[['Comprensión lectora 1'], ['PRACTICAMOS', 'Lee el siguiente texto considerando las orientaciones que brinda tu docente.'], ['Fuente de imágenes: <http://tolerancia-paciencia.blogspot.pe/>'], ['Responde las preguntas tomando como referencia el texto anterior y las orientaciones que brinda tu docente.', '1'], ['¿De qué trata este texto?', 'a. De la importancia de ser tolerantes.', 'b. Del valor de ser tolerantes en casa.', 'c. De cómo hacer amigos tolerantes.', 'd. De la tolerancia, la familia y los amigos.'], ['148'], ['Interiores Libro Comunicacion 1 Secundaria Comprension Lectora .indd 148'], ['4/22/17 9:58 AM']]\n",
      "---\n",
      "[['1.er grado de secundaria'], ['2'], ['Según el afiche, la tolerancia…', 'a. permite tener oportunidades.', 'b. valora la forma de pensar.', 'c. permite vivir en armonía.', 'd. es importante en la familia.'], ['3'], ['¿Cuál crees que es el propósito principal del afiche?', 'a. Resaltar el respeto por la vida de los demás.', 'b. Demostrar la importancia de ser tolerantes.', 'c. Brindar opiniones sobre la tolerancia y la paz.', 'd. Promover las buenas relaciones sociales.'], ['4'], ['En el texto se afirma: “la tolerancia empieza en casa”. ¿Estás de acuerdo con esta idea? Explica tu respuesta.'], ['5'], ['¿Para qué se incluyen las imágenes en el afiche?', 'a. Para mostrar la tolerancia en diferentes aspectos de la vida.', 'b. Para indicar razones para aplicar la tolerancia en la vida.', 'c. Para hacer reflexionar sobre la importancia de la tolerancia.', 'd. Para complementar y reforzar las ideas expresadas en el texto.'], ['149'], ['Interiores Libro Comunicacion 1 Secundaria Comprension Lectora .indd 149'], ['4/22/17 9:58 AM']]\n",
      "~~~~~~~~~~~\n",
      "[['Comprensión lectora 1'], ['EXTENSIÓN', 'Lee el siguiente texto considerando las orientaciones que brinda tu docente.'], ['¡No al trabajo infantil!'], ['Fuente de imagen: <https://goo.gl/R2ylZs>'], ['Responde las preguntas tomando como referencia el texto anterior y las orientaciones que brinda tu docente.', '1'], ['El afiche explica, principalmente,...', 'a. que los hombres trabajan mientras los niños estudian.', 'b. que los hombres deben trabajar y los niños deben estudiar.', 'c. que los niños son estudiosos y los hombres, trabajadores.', 'd. que mientras los niños leen, los hombres usan su lampa.'], ['150'], ['Interiores Libro Comunicacion 1 Secundaria Comprension Lectora .indd 150'], ['4/22/17 9:58 AM']]\n",
      "---\n",
      "[['1.er grado de secundaria'], ['2'], ['¿Qué imágenes observas en el afiche?'], ['3'], ['¿Qué relación puedes encontrar entre las imágenes y el título?'], ['4'], ['¿Cuál sería el propósito de este afiche?', 'a. Demostrar los beneficios del trabajo.', 'b. Explicar un problema laboral justo.', 'c. Exponer un grave problema social.', 'd. Describir y fomentar el trabajo infantil.'], ['5'], ['¿Te parece que el afiche es claro en su mensaje y logra su objetivo? ¿Por qué? Explica.'], ['6'], ['Lee el título del texto:'], ['¡No al trabajo infantil!', '¿Por qué la expresión está escrita entre signos de admiración?'], ['151'], ['Interiores Libro Comunicacion 1 Secundaria Comprension Lectora .indd 151'], ['4/22/17 9:58 AM']]\n",
      "~~~~~~~~~~~\n",
      "[['Comprensión lectora 1', 'Ficha: Comprendemos y seguimos instrucciones', 'APRENDEMOS', 'Lee el siguiente texto considerando las orientaciones que brinda tu docente.'], ['El lomo saltado'], ['Fuente de imagen: <https://goo.gl/2CIx90>'], ['INGREDIENTES', '\\uf0a1 1 kg de carne (bistec, huachalomo, lomo fino).', '\\uf0a1 1/2 kg de cebolla cortada a lo largo (gruesa).', '\\uf0a1 250 g de tomates pelados y cortados a lo largo.', '\\uf0a1 1 kg de papas cortadas para freírlas.', '\\uf0a1 Sal, pimienta y ajos al gusto.', '\\uf0a1 Sillao.', '\\uf0a1 1/2 taza de perejil picado.', '\\uf0a1 Vinagre.', '\\uf0a1 Aceite.', 'ORIGEN', 'El lomo saltado se originó a mediados del siglo XIX, de la mezcla de la cocina cantonesa con la criolla. La receta para preparar este delicioso plato típico peruano es bastante sencilla.'], ['152'], ['Interiores Libro Comunicacion 1 Secundaria Comprension Lectora .indd 152'], ['4/22/17 9:58 AM']]\n",
      "---\n",
      "[['1.er grado de secundaria'], ['PREPARACIÓN:', '\\uf0a1 Freír las papas en regular cantidad de aceite, bien caliente. \\uf0a1 Echar las papas fritas en un recipiente en el que, previamente, se colocó papel toalla o servilletas de papel, para absorber el aceite. \\uf0a1 Lavar la carne y escurrir bien, luego sazonarla con sal, pimienta, ajos y sillao. De preferencia dejar reposar. \\uf0a1 En una sartén con aceite bien caliente, freír la carne procurando flamearla para obtener un delicioso sabor. \\uf0a1 Para obtener el flambeado, es necesario calentar el aceite hasta que comience a humear, en ese momento echar la carne, cebolla y tomate. Luego mover un poco la sartén, obteniendo así que las llamas entren al sartén. \\uf0a1 En el caso de la cebolla y el tomate, una vez que se han enviado al aceite caliente, proceda a agregar un chorrito de vinagre que es lo que va a producir el flambeado, obteniendo así el sabor característico del lomo saltado. Agregar sal a gusto. \\uf0a1 Una vez cocinadas la carne, cebolla y tomate, unir con las papas fritas y el perejil picado. Revisar la sal. \\uf0a1 Acompañar con arroz blanco graneado.'], ['Responde las preguntas tomando como referencia el texto y las orientaciones que brinda tu docente.', '1'], ['El texto responde a la siguiente estructura:', 'a. Listado, datos informativos y recomendaciones.', 'b. Ingredientes, información adicional y conclusión.', 'c. Materiales, datos complementarios y procedimiento.', 'd. Introducción, desarrollo y elaboración.'], ['2'], ['¿A qué se debe que algunos platos sean típicos y otros no?', 'a. Se debe a que se preparan solo en el Perú.', 'b. Se debe a que los preparan cocineros peruanos.', 'c. Se debe a que se usan ingredientes peruanos.', 'd. Se debe a que representan a un país o cultura.'], ['153'], ['Interiores Libro Comunicacion 1 Secundaria Comprension Lectora .indd 153'], ['4/22/17 9:58 AM']]\n",
      "~~~~~~~~~~~\n",
      "[['1.er grado de secundaria'], ['PRACTICAMOS', 'Responde las preguntas tomando como referencia el texto anterior y las orientaciones que brinda tu docente.'], ['Figuras de yeso'], ['ratón'], ['patito'], ['oveja'], ['vaca'], ['1/3 agua 2/3 escayola'], ['1'], ['Para hacer la masa de escayola mezcla en un vaso 2 partes de escayola con 1 de agua. Remueve y ya la tienes lista.'], ['2'], ['Rellena los moldes con la escayola y aprieta bien. Retira lo que sobre con la ayuda de la espátula.'], ['3'], ['Déjala secar unas horas hasta que endurezca. Después dale la vuelta y presiona hasta que se desmolde la figura.'], ['conejo'], ['gatito'], ['pollito'], ['perro'], ['Estas son todas las figuras de escayola que puedes hacer con los moldes que vienen en la caja. Te proponemos algunos modelos para que puedes tenerlos en cuenta a la hora de pintar tus figuras.'], ['4'], ['Pinta las figuras con el pincel. Puedes fijarte en los modelos que proponemos aquí.'], ['5'], ['Pinta con un rotulador negro* algunos detalles.', '*Rotulador negro no incluido.'], ['6'], ['Por último, cuando la pintura esté seca, aplica con el pincel una capa de barniz. Deja secar unas horas y ¡LISTO!'], ['Para crear nuevos colores a partir de los 4 que ya tienes, solo debes mezclarlos en las siguientes proporciones:'], ['1/3 + 1/3 + 1/3 =', '1/3 + 1/3 + 1/3 =', '1/2 + 1/2 =', '1/2 + 1/2 ='], ['155'], ['Interiores Libro Comunicacion 1 Secundaria Comprension Lectora .indd 155'], ['4/22/17 9:58 AM']]\n",
      "---\n",
      "[['Comprensión lectora 1', 'Responde las preguntas tomando como referencia el texto y las orientaciones que brinda tu docente.', '1'], ['¿Por qué se dice que este es un texto discontinuo?', 'a. Porque la información es explícita.', 'b. Porque tiene elementos gráficos.', 'c. Porque su información es no secuenciada.', 'd. Porque tiene dibujos en forma secuenciada.'], ['2'], ['¿Qué color debes mezclar en mayor proporción para obtener el color morado?', 'a. Rojo.', 'b. Celeste.', 'c. Amarillo.', 'd. Verde.'], ['3'], ['¿Para qué se hizo este texto?', 'a. Para dar instrucciones sobre cómo obtener colores.', 'b. Para dar instrucciones sobre la forma de pintar.', 'c. Para dar instrucciones para elaborar figuras de yeso.', 'd. Para dar instrucciones de cómo combinar los colores.'], ['4'], ['¿Para qué edad crees que están propuestas estas actividades? Explica tu respuesta.'], ['5'], ['¿Qué intención tiene el autor al colocar el asterisco en la siguiente indicación?'], ['Pinta con un rotulador negro * algunos detalles.', '*Rotulador negro no incluido.'], ['156'], ['Interiores Libro Comunicacion 1 Secundaria Comprension Lectora .indd 156'], ['4/22/17 9:58 AM']]\n",
      "~~~~~~~~~~~\n",
      "[['1.er grado de secundaria'], ['EXTENSIÓN', 'Lee el siguiente texto considerando las orientaciones que brinda tu docente.'], ['Instrucciones', 'Mi negocio'], ['- Destina un espacio de gran visibilidad para ubicar tus promociones.', '- Ten la cantidad de productos necesarios para cubrir las ventas planificadas.'], ['4.', '1.', 'Investiga las nuevas tendencias en tu rubro y las expectativas de tus clientes.'], ['2.', 'Visita tiendas de tu rubro, consulta a tus proveedores por nuevas ofertas.'], ['Presupuesta lo que te costará la campaña.'], ['3.', 'Define qué te va a diferenciar de la competencia.'], ['Fuente de imagen: <https://goo.gl/2rSP0h>'], ['157'], ['Interiores Libro Comunicacion 1 Secundaria Comprension Lectora .indd 157'], ['4/22/17 9:58 AM']]\n",
      "---\n",
      "[['Comprensión lectora 1', 'Responde las preguntas tomando como referencia el texto y las orientaciones que brinda tu docente.', '1'], ['De acuerdo a su estructura o formato, el texto es:', 'a. Continuo.', 'b. Discontinuo.', 'c. Mixto.', 'd. Múltiple.'], ['2'], ['¿Para qué se debe contar con la cantidad de productos necesarios?', 'a. Para cubrir las ventas planificadas.', 'b. Para atender la necesidad del público.', 'c. Para ganarle a la competencia.', 'd. Para mejorar el prestigio del negocio.'], ['3'], ['¿Cuál es el propósito del autor al publicar el texto?', 'a. Que el público conozca cómo está organizado un negocio.', 'b. Brindar orientaciones para tener un negocio exitoso.', 'c. Lograr que las ventas sean exitosas en todo momento.', 'd. Publicitar los productos que hay en un negocio.'], ['4'], ['¿Consideras que es importante la promoción de ofertas? Justifica tu respuesta.'], ['158'], ['Interiores Libro Comunicacion 1 Secundaria Comprension Lectora .indd 158'], ['4/22/17 9:58 AM']]\n",
      "~~~~~~~~~~~\n",
      "[['Comprensión lectora 1', 'Ficha: Los recursos textuales en los textos argumentativos', 'APRENDEMOS', 'Lee el siguiente texto considerando las orientaciones que brinda tu docente.'], ['Alimentos transgénicos vs alimentos orgánicos1', 'En el mundo se discute la importancia de los alimentos transgénicos y los alimentos orgánicos. Elegir entre ambos no resulta sencillo, dado que cada uno tiene sus seguidores y detractores, que esgrimen argumentos muy claros sobre el asunto. Hoy vamos a escuchar a las dos partes para que tú elijas quién gana esta escaramuza en la batalla por la alimentación saludable.'], ['¿Qué son los alimentos transgénicos?'], ['Fuente de imagen: <https://goo.gl/aOku6R>'], ['La definición de alimentos transgénicos es sencilla, se trata de alimentos que han sido producidos a partir de un organismo modificado de forma genética. Para los adeptos al grupo de los alimentos transgénicos, estos alimentos tienen una justificación en su producción.', 'Todo comienza cuando en el mundo se inicia una alta demanda de alimentos para la población y, de alguna manera, se buscaba producir más alimentos. Además, se busca intervenir en la producción para que los alimentos sean más resistentes a pesticidas, bacterias u otros tipos de contaminantes.', 'Los más expertos en biotecnología confían en que estas prácticas de intervención lleguen a producir suficiente comida para los 9 billones de personas que habitarán'], ['1'], ['Adaptado de los siguientes textos: Alimentos transgénicos: ¿Qué son? Ventajas y desventajas. (26 noviembre de 2013). Mi piel sana. Recuperado de < http://www.mipielsana.com/alimentos-transgenicos/> Alimentos orgánicos vs. alimentos transgénicos. (s/f). IMujer. Recuperado de <http://www.imujer.com/salud/2009/10/30/alimentos-organicos-vs-alimentos-transgenicos>'], ['160'], ['Interiores Libro Comunicacion 1 Secundaria Comprension Lectora .indd 160'], ['4/22/17 9:58 AM']]\n",
      "---\n",
      "[['1.er grado de secundaria'], ['la Tierra en el 2050. De todas formas, sobre estas prácticas existe mucha reserva porque las personas que se oponen a los alimentos transgénicos argumentan que el uso de químicos en la agricultura, por ejemplo, puede empeorar las condiciones de los suelos produciendo mayor contaminación y pérdida de la biodiversidad.', 'Si bien el proceso de creación de alimentos transgénicos puede acarrear varios efectos secundarios, no solo en la salud de las personas, sino también en los especímenes utilizados para el procedimiento, hay que reconocer que los transgénicos aportan ciertos beneficios que han permitido que la investigación para la mejora de estos productos continúe.'], ['Beneficios de los alimentos transgénicos', '\\uf0a1 Alimentos con mejores y más cantidad de nutrientes.', '\\uf0a1 Mejor sabor en los productos creados.', '\\uf0a1 Mejor adaptación de las plantas a condiciones de vida más difíciles.', '\\uf0a1 Aumento en la producción de los alimentos con un sustancial ahorro de recursos.', '\\uf0a1 Aceleración del crecimiento de las plantas y animales.', '\\uf0a1 Mejores características de los alimentos producidos a la hora de cocinarse.', '\\uf0a1 Capacidad de los alimentos para ser utilizados como medicamentos o vacunas para'], ['la prevención y el tratamiento de enfermedades.'], ['¿Qué son los alimentos orgánicos?'], ['Fuente de imagen: <https://goo.gl/0lYqIC>'], ['La otra cara de la moneda nos muestra a los alimentos orgánicos, que son aquellos que no tuvieron ningún tipo de intervención de pesticidas, herbicidas o fertilizantes durante su producción. Es decir, son alimentos libres de aditivos y sustancias sintéticas.'], ['161'], ['Interiores Libro Comunicacion 1 Secundaria Comprension Lectora .indd 161'], ['4/22/17 9:58 AM']]\n",
      "~~~~~~~~~~~\n",
      "[['Comprensión lectora 1'], ['PRACTICAMOS', 'Lee el siguiente texto considerando las orientaciones que brinda tu docente.'], ['Los videojuegos2'], ['Fuente de imagen: <http://cde.peru21.pe/ima/0/0/0/3/9/39456.jpg>'], ['Los videojuegos adquirieren cada vez mayor importancia en nuestra sociedad. ¡Eso no me lo negarán ustedes! Ya no son solo una distracción para los llamados “frikis” (sujetos que practican obsesivamente una afición). Tienen un potencial mucho mayor que ha comenzado a explorarse. No por nada, el creador de la Nintendo DS, Shigeru Miyamoto, ha dicho: “Los videojuegos nos hacen mejores”.', 'A pesar de esto, son diversos los sectores que no apoyan esta opinión. Muchos catalogan los videojuegos de perjudiciales y no dudan en decir que empeoran la educación de los niños; lo cual es una mentira tan grande como los billetes de 300 soles: los videojuegos estimulan una parte del cerebro que mejora la psicomotricidad en los niños y la rapidez mental en los jóvenes.', 'El lado negativo de jugar videojuegos es que puede ser adictivo como cualquier otra actividad de ocio. Además, si los padres de menores de edad no prestan la atención necesaria, sus hijos podrían jugar a videojuegos para mayores de 18 años con temáticas violentas, amorales o indecorosas, lo cual puede conllevar confusión con respecto a conceptos morales y éticos. Otro punto en contra es que el exceso de horas delante de la pantalla del televisor o del portátil puede generar deterioro temprano de la vista.'], ['2'], ['Adaptado de Ejemplo de texto argumentativo sobre los videojuegos. (12 septiembre del 2014). Ejemplos de textos. Recuperado de <http://www. ejemplosdetextos.com/ejemplo-de-texto-argumentativo-sobre-los-videojuegos/>'], ['164'], ['Interiores Libro Comunicacion 1 Secundaria Comprension Lectora .indd 164'], ['4/22/17 9:58 AM']]\n",
      "---\n",
      "[['1.er grado de secundaria'], ['Pero no todo lo que rodea al mundo de los videojuegos es negativo, por ejemplo, las consolas (como la famosísima Nintendo Wii) ayudan al niño en la percepción de su alrededor y en la movilidad de las muñecas y de las manos. Otro punto a favor de los videojuegos es que a los niños les parecen muy divertidos.', 'Por otro lado, como todos sabemos, las innovaciones nos ayudan en la vida cotidiana facilitándonos muchas tareas. En ese contexto, los videojuegos realizan innovaciones importantísimas que pueden ser empleadas en espacios diversos. Además, cada día el mundo de los videojuegos aporta cosas nuevas, y seguramente sus innovaciones nos depararán agradables sorpresas en el futuro. Cabe decir que debemos desterrar la idea de que los videojuegos solo están destinados a un sector de la sociedad. Los videojuegos hace tiempo que han llegado y están aquí para quedarse.'], ['El eterno debate: ¿los videojuegos son una adicción?3'], ['Fuente de imagen: <http://aldianews.com/sites/default/files/styles/article_image_scaled/public/ field/image/gamer.jpg?itok=HF-65lZy>'], ['Para muchas personas, es incomprensible que un adolescente o adulto pueda estar sentado frente a una pantalla por tanto tiempo, inmóvil.', 'Se cuestiona a los videojuegos como un peligro para la salud, ya que algunas personas afirman que su prolongada práctica puede conducir al sedentarismo, volver violentos a quienes juegan, entre otras consecuencias negativas. Incluso, un grupo más fuerte sostiene que puede causar daños cerebrales, aunque no hay pruebas científicas que hayan demostrado esa teoría.', 'Por otro lado, diversos estudios y encuestas, efectivamente, han concluido que aquellos jóvenes que hacen de los videojuegos una actividad en la cual invierten una considerable cantidad de tiempo son propensos a desarrollar actitudes en cierto grado antisociales. Esto se debe, en parte, a que la experiencia de juego,', '3'], ['Adaptado de Cáceres Ramírez, Orlando (s/f). Texto argumentativo sobre los videojuegos. About en español. Recuperado de <http://reglasespanol.about.com/od/ comohacerunensayo/fl/Texto-argumentativo-sobre-los-videojuegos.htm>'], ['165'], ['Interiores Libro Comunicacion 1 Secundaria Comprension Lectora .indd 165'], ['5/3/17 4:58 PM']]\n",
      "~~~~~~~~~~~\n",
      "[['Comprensión lectora 1'], ['EXTENSIÓN', 'Lee el siguiente texto considerando las orientaciones que brinda tu docente.'], ['Conciencia ecológica4'], ['Fuente de imagen: <https://goo.gl/rkPaXS>'], ['Tener conciencia ecológica es entender que somos dependientes de la naturaleza y responsables de su estado de conservación. Ignorar esta verdad equivale a autodestruirnos porque, al degradar el ambiente, estamos empeorando nuestra calidad de vida y poniendo en peligro el futuro de nuestros descendientes.', 'Al contrario de lo que se podría pensar, desarrollo económico y conciencia ecológica no tienen por qué ser antónimos. Se puede producir de manera sustentable, fomentar la generación de energías limpias, reducir y reciclar la basura y reutilizar un gran número de materiales que producirán nuevos productos, útiles para el día a día del hombre moderno.', 'Es cierto que la conciencia ecológica debe comenzar en el seno del hogar, pero debe extenderse a todos los ámbitos de nuestra existencia porque, simplemente, todas nuestras acciones inciden —de manera positiva o negativa— sobre la naturaleza.'], ['4'], ['Tomado de ¿Qué es la conciencia ecológica? (s/f). Ocio Ultimate Magazine. Recuperado de <http://www.ocio.net/estilo-de-vida/ecologismo/que-es-laconciencia-ecologica/>'], ['168'], ['Interiores Libro Comunicacion 1 Secundaria Comprension Lectora .indd 168'], ['4/22/17 9:58 AM']]\n",
      "---\n",
      "[['1.er grado de secundaria'], ['Una actitud positiva por nuestro ambiente', 'Mientras ellos te prometen la luna, nosotros te garantizamos la Tierra.', 'Hablar de una actitud positiva en beneficio de nuestro ambiente es actuar para su cuidado y protección. Observemos los porcentajes obtenidos al respecto en una encuesta de opinión: el 46,6 % se identifica con la alternativa “Algo” en relación con el conocimiento sobre el cambio climático.'], ['Conocimientos sobre cambio climático'], ['%'], ['Nada'], ['.....'], ['Casi nada'], ['39'], ['32,5'], ['Indiferente'], ['25'], ['20,8'], ['Algo'], ['56'], ['46,6'], ['Esto significa que la conciencia ecológica ... no está arraigada. La conciencia ecológica Mucho se refiere a la aprehensión real y profunda TOTAL 120 99,9 de actitudes conscientes en beneficio propio, de los otros y del planeta. Es por Fuente: elaboración propia 2014. ello que el concepto de ambiente involucra al entorno que afecta y condiciona especialmente las circunstancias de vida de las personas.', 'Por ello, estudios afirman que la conciencia ecológica se forma en la familia, y el papel de la educación (tanto formal como no formal) es reforzar los valores aprendidos en el hogar. Dicha conciencia se manifiesta en todos los actos de la vida, lo que implica, por ejemplo: el cuidado de las áreas verdes que rodean urbanizaciones, la disposición de la basura, el mantener limpio el frente de casas y edificios, el unirse con los vecinos para tomar acciones y hacer gestiones que mejoren las condiciones de vida en la comunidad.'], ['Responde las preguntas tomando como referencia el texto anterior.', '1'], ['¿Qué significa tener conciencia ecológica?', 'a. Ser responsables con la conservación de la naturaleza.', 'b. Mostrarse indiferente con el cuidado del ambiente.', 'c. Preocuparse por la creación de industrias y fábricas.', 'd. Incrementar el consumo de pesticidas y aerosoles.'], ['169'], ['Interiores Libro Comunicacion 1 Secundaria Comprension Lectora .indd 169'], ['4/22/17 9:58 AM']]\n",
      "~~~~~~~~~~~\n",
      "[['Comprensión lectora 1', 'Ficha: Reflexionamos sobre el contenido de un texto descriptivo', 'APRENDEMOS', 'Lee el siguiente texto considerando las orientaciones que brinda tu docente.'], ['La vaquita marina (Phocoenasinus)1'], ['Fuente de imagen: <https://goo.gl/WWTpX5>'], ['Es una especie de cetáceo odontoceto de la familia Phocoenida de la cual quedan 97 ejemplares. Se han puesto en marcha medidas de conservación. Sin embargo, la especie está considerada en peligro inminente de extinción.', 'Es un cetáceo endémico de aguas mexicanas que habita en la reserva del alto golfo de California. Es uno de los más pequeños, en ningún otro sitio del mundo existe este sorprendente animal de 150 cm que pesa hasta 50 kg.', 'Una característica de esta especie es la apariencia sobresaliente de sus labios. Por otro lado, la parte superior de su cuerpo es gris oscuro y la parte inferior es casi blanca o gris claro. También resaltan sus aletas, proporcionalmente grandes.', 'Esta enigmática especie es muy tímida, y no salta como los delfines en la superficie del mar, sino simplemente emerge algunos segundos para tomar aire. La pesca con redes de enmalle ha ocasionado que esta especie se encuentre muy cerca de la extinción. Por lo que ver un espécimen de la mítica vaquita marina es casi imposible.'], ['1'], ['Tomado de Phocoena sinus (s/f). Wikipedia. Recuperado de <https://es.wikipedia.org/wiki/Phocoena_sinus>'], ['172'], ['Interiores Libro Comunicacion 1 Secundaria Comprension Lectora .indd 172'], ['4/22/17 9:58 AM']]\n",
      "---\n",
      "[['1.er grado de secundaria'], ['Las vaquitas utilizan sonidos agudos para comunicarse entre sí y para navegar en sus hábitats (ecolocación). Por lo general, nadan y se alimentan a un ritmo pausado. Las vaquitas evitan acercarse a los barcos, suben a respirar lentamente y luego desaparecen de manera rápida. Estar alejadas de la superficie hace que sea difícil observarlas. Están generalmente solas, a menos que estén acompañadas de una cría, siendo menos sociales que otras especies de delfines. Las vaquitas pueden ser muy competitivas durante su etapa de apareamiento. Es la única especie perteneciente a la familia de las marsopas que vive en aguas calientes. Son depredadores no selectivos.', 'Se sabe poco acerca de su ciclo de vida. Los científicos siguen investigando muchas cosas, tales como su edad de maduración sexual, longevidad, ciclo de reproducción sexual y su interacción. Se han hecho suposiciones, pero se necesita más investigación para establecer valores concretos, muchas de estas suposiciones han sido estimadas gracias al estudio de vaquitas abandonadas o atrapadas en las redes, otras se basan en investigaciones de otras especies de marsopas similares a las vaquitas marinas.', 'Se cree que las vaquitas viven aproximadamente 20 años en condiciones ideales. Alcanzan su madurez sexual a los 3 años, la reproducción ocurre durante finales de primavera o principios de verano, su periodo de gestación es de 10 a 11 meses y llegan a tener una cría.', 'Ellas rara vez nadan a más de 30 metros de profundidad y son conocidas por vivir en lagos poco profundos, tanto que su espalda llega a sobresalir de la superficie del agua. Tienden a escoger hábitats con aguas turbias porque poseen un alto contenido de nutrientes. Estos nutrientes ayudan a atraer pequeños peces, calamares y crustáceos que les sirven de alimento.', 'La vaquita marina está considerada en el más alto riesgo de extinción de entre las 129 especies de mamíferos marinos. Se encuentra clasificada como una de las 100 especies de mamíferos evolucionariamente distintas y no tiene parientes cercanos. Estos animales representan uno de los tres que son prioritarios para hacer campañas de conservación. El Gobierno de Estados Unidos ha listado a la vaquita en la categoría de las especies que están en peligro crítico de extinción.', 'La mayor amenaza para la vaquita marina es el uso indiscriminado de redes de enmalle. En 1997, la población de vaquitas era de 567. En el año 2000, se registró que el número de ejemplares estaba entre 150 y 300. En el 2014, la población se estimó en 100 individuos. La recomendación para hacer prosperar su recuperación es que se prohíba el uso de redes de enmalle. El 16 de abril de 2015, el presidente de México, Enrique Peña Nieto, anunció un programa para el rescate y la conservación de la vaquita, el cual incluye vedas y apoyo económico a los pescadores de la zona.'], ['173'], ['Interiores Libro Comunicacion 1 Secundaria Comprension Lectora .indd 173'], ['4/22/17 9:58 AM']]\n",
      "~~~~~~~~~~~\n",
      "[['Comprensión lectora 1'], ['PRACTICAMOS', 'Lee el siguiente texto considerando las orientaciones que brinda tu docente.'], ['Gallito de las rocas2'], ['Fuente de imagen: <https://goo.gl/bzY9u1>'], ['En los densos bosques de la selva alta vive una de las aves más bellas del Perú, es considerada ave nacional. Su nombre en quechua es tunqui y en español es \"gallito de las rocas\".', 'Es un ave mediana de unos 32 cm de largo y con un marcado dimorfismo sexual relacionado con el color. El macho es de un hermoso color rojo-anaranjado intenso; posee ojos anaranjados; su pico y patas son amarillo-anaranjados; tiene una cresta erecta de plumas sobre el pico y la frente; sus alas y cola son de color negro, aunque también tiene algunas plumas de color gris perla en las alas. La hembra es de color marrón-rojizo oscuro en su totalidad y posee una cresta más pequeña.', 'El gallito de las rocas prefiere vivir en ciertas zonas de los bosques húmedos y cerrados, generalmente cerca de arroyos y paredes rocosas o acantilados; allí puede ser muy común verlos. Es un ave, por lo general, silenciosa, que solo emite sonidos cuando está en celo (una especie de gruñidos) o cuando se espanta o está alejado de su territorio (un sonido como “uankk”).', 'Es solitaria, solo en la época de reproducción se reúnen alrededor de 40 machos que esperan ser escogidos por la hembra. Los machos se sitúan en un espacio de alrededor de medio metro denominado lek, donde podrán danzar y lucirse, a la espera de ser escogidos. Estas danzas nupciales son todo un espectáculo porque se puede ver a un grupo de varios', '2'], ['Tomado de Gallito de las rocas (s/f). Sumaq Perú. Recuperado de <https://goo.gl/bzY9u1>'], ['176'], ['Interiores Libro Comunicacion 1 Secundaria Comprension Lectora .indd 176'], ['4/22/17 9:58 AM']]\n",
      "---\n",
      "[['1.er grado de secundaria'], ['machos realizando la danza y a las hembras posadas en las ramas, contemplándolos. Este será el único momento en que encontraremos a la gallina acompañada, ya que ella sola se encargará del cuidado de sus polluelos: desde la construcción especial de sus nidos, pasando por la incubación y protección, hasta la alimentación.', 'Estas bellas aves, al alimentarse principalmente de frutos, son activos dispersadores de semillas. Así ayudan a la regeneración natural del bosque donde habitan.', 'El tunqui goza de protección legal, estando prohibida su caza y comercialización; sin embargo, esta disposición no es acatada y lo comercializan vivo o disecado en muchas partes.', 'En el Perú se encuentra en varias áreas protegidas, como parques nacionales (Río Abiseo, San Martín; Yanachaga-Chemillén, Pasco; Tingo María, Huánuco, y Manu, Cusco-Madre de Dios) y bosques de protección (Alto Mayo, San Martín; San Matías-San Carlos, Pasco, y PuiPui, Junín).'], ['Responde las preguntas tomando como referencia el texto anterior y las orientaciones que brinda tu docente.', '1'], ['El gallito de las rocas:', 'a. Goza de protección legal.', 'b. Se alimenta de semillas.', 'c. Vive en zonas rígidas.', 'd. Es pequeño y solitario.'], ['2'], ['Del texto podemos deducir.', 'a. Que el tunqui es considerado ave nacional del Perú.', 'b. Que está prohibida su caza y comercialización.', 'c. Que el macho es más atractivo y vistoso que la hembra.', 'd. Que es un activo dispersador de frutas y semillas.'], ['3'], ['¿Por qué danzan los machos?', 'a. Porque así protegen sus nidos y crías.', 'b. Porque es una forma de reproducirse.', 'c. Porque celebran la época de cosecha.', 'd. Porque quieren ser escogidos por una hembra.', '177'], ['Interiores Libro Comunicacion 1 Secundaria Comprension Lectora .indd 177'], ['5/3/17 4:58 PM']]\n",
      "~~~~~~~~~~~\n",
      "[['1.er grado de secundaria'], ['EXTENSIÓN', 'Lee el siguiente texto considerando las orientaciones que brinda tu docente.'], ['El león3'], ['Fuente de imagen: <https://goo.gl/83XsyG>'], ['El león, siempre conocido por ser el rey de la selva, es muy sociable, es el único felino que vive en manadas usualmente compuestas por hasta 15 hembras, de 1 a 3 machos y muchos cachorros, todos ellos menores de tres años.', 'Llega a medir entre 1,4 y 2,30 metros, sin incluir la cola, la cual puede medir de 68 a 100 cm. De forma silvestre, viven entre 10 y 16 años; mientras que en cautiverio, pueden llegar a vivir entre 20 y 25 años.', 'Los machos se diferencian fácilmente de las hembras, ya que tienen una melena abundante, además de ser más robustos. Algunos machos tienen la melena de color negra, pero la mayoría la tiene de color más claro, aunque más oscura que el color del pelaje del cuerpo, que es de color dorado. Los machos pesan un 45 % más que las hembras, llegando a alcanzar los 225 kg.', 'La vista del león es muy buena; tiene una visión nocturna seis veces mejor que la de los humanos. Sus oídos son tan sensibles que le permiten escuchar hasta la presa más pequeña, un ratón. Además, posee una mandíbula y unos dientes fuertes.'], ['3'], ['Tomado de ¿Dónde vive el león? (s/f). ¿Dónde vive...? Recuperado de <https://goo.gl/83XsyG>'], ['179'], ['Interiores Libro Comunicacion 1 Secundaria Comprension Lectora .indd 179'], ['5/3/17 4:59 PM']]\n",
      "---\n",
      "[['Comprensión lectora 1'], ['Habita al sur del Sahara, en África, y en el noroeste de la India.', 'Las hembras tienen de dos a cuatro cachorros por parición, y el tiempo de gestación es de 100 días. Para parir, las leonas se apartan de la manada.', 'Durante los primeros tres meses, los cachorros solo se alimentan de la leche de la madre, luego ya tienen todos sus dientes y comienzan a comer carne. Usualmente la caza la realizan las hembras, las cuales acechan a las cebras, a los antílopes, a los búfalos africanos y a varios animales más. Aunque las hembras tienen la tarea de cazar, los primeros en comer son siempre los machos. Cuando salen de caza, que no son todos los días, las leonas ocupan de dos a tres horas en esta actividad. La principal tarea del león es cuidar de la manada, no buscar alimento.', 'Las hembras también tienen la tarea de criar a los cachorros. Son muy protectoras de sus hijos, los transportan en sus bocas y así los defienden de los machos invasores, que suelen matar a las crías para que así las hembras queden libres y puedan aparearse con ellos.', 'Los machos tienen la importante tarea de proteger a su manada y su territorio. Siempre están atentos para prevenir cualquier ataque, especialmente de otros leones machos ajenos a la manada. Para esto rugen, y lo hacen tan fuerte que los rugidos se pueden llegar a escuchar a ocho kilómetros de distancia. Utilizan esto para advertir la presencia de intrusos en su territorio y así reunir a toda la manada.'], ['Responde las preguntas tomando como referencia el texto anterior y las orientaciones que brinda tu docente.', '1'], ['La principal tarea del león es:', 'a. Proteger a la hembra.', 'b. Salir a cazar cebras.', 'c. Buscar el alimento.', 'd. Cuidar de la manada.'], ['2'], ['Según lo leído, se puede deducir que los leones:', 'a. Son cazadores y se alimentan de carroña.', 'b. Son grandes, fuertes y protectores.', 'c. Tienen abundante melena y son robustos.', 'd. Son muy sociables y viven en manada.'], ['180'], ['Interiores Libro Comunicacion 1 Secundaria Comprension Lectora .indd 180'], ['4/22/17 9:58 AM']]\n",
      "~~~~~~~~~~~\n",
      "[['Comprensión lectora 1', 'Ficha: Contrastamos ideas en textos argumentativos', 'APRENDEMOS', 'Lee el siguiente texto considerando las orientaciones que brinda tu docente.'], ['¿Libro en papel o libro electrónico?1', 'En la historia del libro y de la lectura surge la polémica sobre si se debe optar por el formato tradicional (en papel) o por el electrónico. Sucede que cada uno de estos formatos tiene puntos fuertes y débiles.'], ['Fuente de imagen: <https://goo.gl/vAGH5l>'], ['Los beneficios del libro en papel', 'Leer es beneficioso, sin embargo, leer de un libro de papel o de un libro electrónico no es lo mismo; la lectura del primero se disfruta mucho más.', 'No me imagino un buen lector sin un libro bajo el brazo, conectado al olor, al tacto, a la belleza visual y volumen del papel.', 'Un libro de papel no te abandonará porque se acabó la batería, porque no reconoce el formato o porque la actualización del software no se pudo realizar.', 'Existen otras ventajas que tiene el libro de papel y que me permiten preferirlo: pueden llegar a durar décadas o siglos; puedo hacer una gran biblioteca personal con ellos y mostrarla a mis amigos y conocidos; su funcionamiento es muy sencillo, basta con abrirlo y empezar a leer; me acompaña a cualquier lugar, incluso si me voy de viaje; siempre es un gran regalo; se puede prestar a un amigo, a un familiar, a un vecino, a un compañero de clase o de trabajo.', 'Cada libro nos puede hacer recordar un momento especial, por ejemplo, un viaje, ya que es el compañero perfecto para cualquier travesía.'], ['1'], ['Tomado de Pallarés Molíns, Enrique (3 de mayo del 2015). ¿Libro electrónico o libro de papel? [Web log post]. Recuperado de < https://goo.gl/m9mQYM>'], ['182'], ['Interiores Libro Comunicacion 1 Secundaria Comprension Lectora .indd 182'], ['4/22/17 9:58 AM']]\n",
      "---\n",
      "[['1.er grado de secundaria'], ['No podemos olvidar sus anotaciones en los márgenes, las dobleces en las páginas, sus marcapáginas o demás cosas que solemos usar para guardar una lectura, como cartas, fotografías, calendarios, billetes de tren […].', 'Entre estas consideraciones, privilegio al libro de papel por el placer de descubrir lecturas en un estante o, simplemente, por permitir que lo ojeemos al azar.'], ['Las ventajas de leer libros electrónicos2'], ['Fuente de imagen: <https://goo.gl/0TdK0Z>'], ['La lectura de los libros electrónicos es más ventajosa que los libros constituidos por tapa, contratapa, hojas, lomo, etc. No trato de mostrar los defectos del libro en papel, sino los beneficios del libro electrónico que saltan a la vista.', 'Por ejemplo, una de sus ventajas es que no ocupa espacio en casa, puedes llevar una gran cantidad de ellos en tu cartera o maleta; además, permiten tomar anotaciones, subrayarlos, marcar páginas, etc.', 'Facilita el acceso a la lectura para personas con deficiencias visuales, se puede adaptar el tamaño de las letras, cambiar la tipografía y darles mayor oscuridad o claridad.', 'Permite buscar una palabra o frase instantáneamente, tienen diccionarios incorporados o permiten incorporarlos, y se pueden instalar otros diccionarios si se lee en diferentes idiomas. También tienen hyperlinks para buscar información adicional. Se socializan las lecturas, pues fácilmente se comparten citas a través de Facebook, Twitter y otras redes.', 'El poder de la tecnología ha logrado modificar la vida de las personas; en este proceso se ubican los libros electrónicos (e-books, eReaders o digitales), cada vez más accesibles y ventajosos.'], ['2'], ['Tomado de Las ventajas de leer libros electrónicos y dejar de lado el papel. (s/f). Informador. Recuperado de: <https://goo.gl/dNsp9Y >'], ['183'], ['Interiores Libro Comunicacion 1 Secundaria Comprension Lectora .indd 183'], ['4/22/17 9:58 AM']]\n",
      "~~~~~~~~~~~\n",
      "[['1.er grado de secundaria'], ['PRACTICAMOS', 'Lee el siguiente texto considerando las orientaciones que brinda tu docente.'], ['¿Mochilas con tirantes o ruedas?'], ['Fuente de imagen: <https://goo.gl/UARo2Q>'], ['\"Las típicas\"', 'El tema del uso de las mochilas es una preocupación anual de los padres de familia al iniciar el año escolar.', 'Rita Gutiérrez, especialista en terapia física y rehabilitación del Instituto Nacional de Salud, recomendó a los padres adquirir mochilas con tirantes, debido a que son más adecuadas para el traslado de los útiles escolares.', 'Según la especialista, los músculos de la espalda pueden soportar el peso de los útiles escolares. Indicó que el peso correcto de las mochilas no debería ser mayor de 10 % del peso corporal del niño y, en el caso de los adolescentes, de 15 %. Es decir, si el escolar pesa 40 kg, el peso máximo que puede cargar en la mochila es de 4 kg. Considerando esta recomendación, este tipo de mochila no tiene por qué causar daño a los niños ni adolescentes; se reparte el peso de manera adecuada cuando se utiliza correctamente.', 'Otra de las ventajas es que tiene mucho espacio y es cómoda de llevar, además de ser ajustable para colocarla a la altura perfecta.'], ['185'], ['Interiores Libro Comunicacion 1 Secundaria Comprension Lectora .indd 185'], ['4/22/17 9:58 AM']]\n",
      "---\n",
      "[['Comprensión lectora 1'], ['Estas mochilas clásicas suelen estar al alcance de la mayoría por ser más económicas. Además, pueden plegarse totalmente, facilitando su guardado cuando no se utilizan.', 'Finalmente, se debe tomar en cuenta que las mejores mochilas escolares no siguen modas, se adaptan a las necesidades, contribuyen a un buen cuidado de la salud, son cómodas y no perjudican la economía familiar.'], ['Fuente de imagen: <https://goo.gl/GvQov0>'], ['¡Lo mejor son los carritos!', 'Muchos padres, cuando el año escolar da inicio, se preocupan por los daños que la sobrecarga de útiles escolares pueda causar en la espalda de sus hijos. La mochila de ruedas salió al mercado como una buena alternativa de solución a este problema.', 'No cargamos nada en la espalda, ya que la mochila siempre está en contacto con el suelo. El esfuerzo que debemos hacer es muchísimo menor.', 'No obstante, permite que en un momento dado podamos cargarla a la espalda, por ejemplo, para poder subir escaleras; ya que, además de las ruedas, cuenta con las clásicas asas.', 'Suelen ser de mayor tamaño, por lo que la capacidad es mayor; en algunos casos es necesario tener más espacio para guardar los accesorios extraescolares, etc.'], ['186'], ['Interiores Libro Comunicacion 1 Secundaria Comprension Lectora .indd 186'], ['4/22/17 9:58 AM']]\n",
      "~~~~~~~~~~~\n",
      "[['1.er grado de secundaria'], ['EXTENSIÓN', 'Lee el siguiente texto considerando las orientaciones que brinda tu docente.'], ['Las redes sociales3'], ['Fuente de imagen: <https://goo.gl/UnlYN7>'], ['Uso y abuso de las redes sociales', 'Utilizar Facebook a diario puede ser un arma de doble filo. Dicha red social, al igual que Twitter, constituye una herramienta masiva y poderosa de comunicación.', 'Una red social puede servir, en pocas palabras, para realizar acciones buenas y honrosas o para realizar acciones malas, que pueden causar diversos daños.', 'Obviamente, la calidad de las comunicaciones, es decir, de lo que se transmite, depende enteramente de las personas.', 'En Egipto, no hace mucho, se desató una revolución que terminó por derrocar al Gobierno de dicho país. Este fenómeno se debió, en parte, a la expansión de los medios de comunicaciones, a la publicidad y a lo fácil que les resultó a los ciudadanos comunicarse y organizarse a través de las redes sociales.', 'Lo que suele ocurrir es que muchos jóvenes, la mayoría de las veces sin tener conciencia de las consecuencias, realizan un mal uso de las herramientas digitales.', 'Un tema importante es el que se refiere a la privacidad. Internet es un mundo abierto, público, donde nunca se puede saber con certeza qué tan seguros se encuentran nuestros datos ni cuánto peligra la seguridad de las personas.', 'Como señala Borja Fernández Canel en el libro Las Redes Sociales, lo que hacen sus hijos en internet: “La facilidad de estar en contacto con personas de tu barrio, ciudad, o incluso de otros países ha producido que las redes sociales sean actualmente el boom de internet, y era de prever que sucedería\".', '3'], ['Adaptado de los siguientes textos: Cáceres Ramírez, Orlando (s/f). Texto argumentativo sobre las redes sociales. About en español. Recuperado de <https://goo.gl/30I5mx> Texto argumentativo. En contra de Internet y la perdida de la privacidad. (s/f). Recuperado de <https://goo.gl/1t6lgr>'], ['189'], ['Interiores Libro Comunicacion 1 Secundaria Comprension Lectora .indd 189'], ['4/22/17 9:58 AM']]\n",
      "---\n",
      "[['Comprensión lectora 1'], ['Fuente de imagen: <https://goo.gl/0XO6N8>'], ['En contra de internet y la pérdida de la privacidad', 'Hoy en día, hay una notoria pérdida de privacidad, la cual se ve reflejada en la sociedad. Esta pérdida comenzó con el uso masivo de internet y el manejo de la información personal en las redes sociales.', 'La información íntima de las personas, que antes se consideraba perteneciente al ámbito privado, pasó a ser exhibida en espacios públicos, sin que se respetaran límites ni edades. Estos espacios que nos ofrece internet (Facebook, Twitter, blogs, etc.) son los que más perjudican a la sociedad.', 'Se ha demostrado mediante estadísticas que en las últimas 20 décadas hubo una pérdida del 90 % de la privacidad en todo el mundo, lo que conlleva a problemas serios de seguridad […].', 'Sin embargo, resulta más preocupante la pérdida de respeto hacia uno mismo. Los adolescentes, por ejemplo, hacen confesiones personales innecesarias, suben fotos donde salen desprovistos de ropas y haciendo poses insinuantes […].', 'Creo que, a partir de esto, ya no hay vuelta atrás. A lo único a lo que se puede aspirar es a la toma de conciencia de la gente.', 'Termino estos pensamiento con la frase de Cyril Connolly (escritor y crítico literario inglés): “Es mejor escribir para uno mismo y no encontrar público, que escribir para el público y no encontrarse uno mismo”.'], ['190'], ['Interiores Libro Comunicacion 1 Secundaria Comprension Lectora .indd 190'], ['4/22/17 9:58 AM']]\n"
     ]
    },
    {
     "ename": "TypeError",
     "evalue": "'Text' object is not iterable",
     "output_type": "error",
     "traceback": [
      "\u001b[0;31m---------------------------------------------------------------------------\u001b[0m",
      "\u001b[0;31mTypeError\u001b[0m                                 Traceback (most recent call last)",
      "\u001b[0;32m<ipython-input-98-4023353d5917>\u001b[0m in \u001b[0;36m<module>\u001b[0;34m()\u001b[0m\n\u001b[0;32m----> 1\u001b[0;31m \u001b[0mresult\u001b[0m \u001b[0;34m=\u001b[0m \u001b[0mtransformDocument\u001b[0m\u001b[0;34m(\u001b[0m\u001b[0mlistOfTexts\u001b[0m\u001b[0;34m)\u001b[0m\u001b[0;34m\u001b[0m\u001b[0m\n\u001b[0m\u001b[1;32m      2\u001b[0m \u001b[0mresult\u001b[0m\u001b[0;34m\u001b[0m\u001b[0m\n",
      "\u001b[0;32m<ipython-input-97-f44160394473>\u001b[0m in \u001b[0;36mtransformDocument\u001b[0;34m(listOfUTexts)\u001b[0m\n\u001b[1;32m      2\u001b[0m     \u001b[0mlistOfText\u001b[0m \u001b[0;34m=\u001b[0m \u001b[0mlist\u001b[0m\u001b[0;34m(\u001b[0m\u001b[0;34m)\u001b[0m\u001b[0;34m\u001b[0m\u001b[0m\n\u001b[1;32m      3\u001b[0m \u001b[0;34m\u001b[0m\u001b[0m\n\u001b[0;32m----> 4\u001b[0;31m     \u001b[0;32mfor\u001b[0m \u001b[0mfirstPage\u001b[0m\u001b[0;34m,\u001b[0m \u001b[0msecondPage\u001b[0m \u001b[0;32min\u001b[0m \u001b[0mlistOfUTexts\u001b[0m\u001b[0;34m:\u001b[0m\u001b[0;34m\u001b[0m\u001b[0m\n\u001b[0m\u001b[1;32m      5\u001b[0m         \u001b[0marrParagrahps\u001b[0m \u001b[0;34m=\u001b[0m \u001b[0mlist\u001b[0m\u001b[0;34m(\u001b[0m\u001b[0;34m)\u001b[0m\u001b[0;34m\u001b[0m\u001b[0m\n\u001b[1;32m      6\u001b[0m         \u001b[0mprint\u001b[0m\u001b[0;34m(\u001b[0m\u001b[0;34m'~~~~~~~~~~~'\u001b[0m\u001b[0;34m)\u001b[0m\u001b[0;34m\u001b[0m\u001b[0m\n",
      "\u001b[0;31mTypeError\u001b[0m: 'Text' object is not iterable"
     ]
    }
   ],
   "source": [
    "result = transformDocument(listOfTexts)\n",
    "result "
   ]
  },
  {
   "cell_type": "code",
   "execution_count": null,
   "metadata": {},
   "outputs": [],
   "source": []
  }
 ],
 "metadata": {
  "colab": {
   "default_view": {},
   "name": "ConvertPdfToText.ipynb",
   "provenance": [],
   "version": "0.3.2",
   "views": {}
  },
  "kernelspec": {
   "display_name": "Python 3",
   "language": "python",
   "name": "python3"
  },
  "language_info": {
   "codemirror_mode": {
    "name": "ipython",
    "version": 3
   },
   "file_extension": ".py",
   "mimetype": "text/x-python",
   "name": "python",
   "nbconvert_exporter": "python",
   "pygments_lexer": "ipython3",
   "version": "3.6.4"
  }
 },
 "nbformat": 4,
 "nbformat_minor": 1
}
