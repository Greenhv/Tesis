{
 "cells": [
  {
   "cell_type": "markdown",
   "metadata": {},
   "source": [
    "### Import the text representation from local module"
   ]
  },
  {
   "cell_type": "code",
   "execution_count": 1,
   "metadata": {},
   "outputs": [],
   "source": [
    "import os\n",
    "import sys\n",
    "\n",
    "module_path = os.path.abspath(os.path.join('..'))\n",
    "\n",
    "if module_path not in sys.path:\n",
    "    sys.path.append(module_path)"
   ]
  },
  {
   "cell_type": "markdown",
   "metadata": {},
   "source": [
    "### Import the necessary dependencies to extract the text from the pdf"
   ]
  },
  {
   "cell_type": "code",
   "execution_count": 2,
   "metadata": {
    "colab": {
     "autoexec": {
      "startup": false,
      "wait_interval": 0
     }
    },
    "colab_type": "code",
    "id": "FCG7C4pc-ul2"
   },
   "outputs": [],
   "source": [
    "import numpy as np\n",
    "import pdfparser.poppler as pdf\n",
    "from simple_text_representation.classes import Text, Paragraph, Sentence, Word\n",
    "from simple_text_representation.models import Database, TextModel, ParagraphModel, SentenceModel\n",
    "from dateutil.parser import parse"
   ]
  },
  {
   "cell_type": "markdown",
   "metadata": {},
   "source": [
    "### Initialize the Database connection"
   ]
  },
  {
   "cell_type": "code",
   "execution_count": 3,
   "metadata": {},
   "outputs": [
    {
     "name": "stdout",
     "output_type": "stream",
     "text": [
      "<peewee.PostgresqlDatabase object at 0x103a034e0>\n"
     ]
    }
   ],
   "source": [
    "database = Database('educationalTexts', 'postgres', '', '0.0.0.0', 5432)\n",
    "\n",
    "''' If the database it's empty, use the following command to create all the tables '''\n",
    "database.createTables([TextModel, ParagraphModel, SentenceModel])"
   ]
  },
  {
   "cell_type": "markdown",
   "metadata": {},
   "source": [
    "### Set global variables that describe the structure of the pdf file"
   ]
  },
  {
   "cell_type": "code",
   "execution_count": 4,
   "metadata": {
    "colab": {
     "autoexec": {
      "startup": false,
      "wait_interval": 0
     }
    },
    "colab_type": "code",
    "id": "YMs-xNSs-ul6"
   },
   "outputs": [],
   "source": [
    "INITIAL_PAGE = 5\n",
    "PAGES_PER_TEXT = 2\n",
    "ALLOWED_TAGS = ['APRENDEMOS', 'PRACTICAMOS', 'EXTENSIÓN']"
   ]
  },
  {
   "cell_type": "code",
   "execution_count": 5,
   "metadata": {
    "colab": {
     "autoexec": {
      "startup": false,
      "wait_interval": 0
     }
    },
    "colab_type": "code",
    "id": "vgEKkjlt-ul9"
   },
   "outputs": [],
   "source": [
    "def convertPDFtoText(fileName):\n",
    "    document = pdf.Document(fileName.encode('UTF-8'))\n",
    "\n",
    "    print('No of pages', document.no_of_pages)\n",
    "#     for page in document:\n",
    "#         print('Page', page.page_no, 'size =', page.size)\n",
    "#         for f in page:\n",
    "# #             print(' '*1,'Flow')\n",
    "#             for b in f:\n",
    "# #                 print(' '*2,'Block', 'bbox=', b.bbox.as_tuple())\n",
    "#                 for l in b:\n",
    "#                     print(' '*3, l.text)\n",
    "#                     #assert l.char_fonts.comp_ratio < 1.0\n",
    "# #                     for i in range(len(l.text)):\n",
    "# #                         print(l.text[i].encode('UTF-8'), '(%0.2f, %0.2f, %0.2f, %0.2f)'% l.char_bboxes[i].as_tuple(),\\\n",
    "# #                             l.char_fonts[i].name, l.char_fonts[i].size, l.char_fonts[i].color,)\n",
    "#                     print()\n",
    "#                 print(\"=============================================================================\")\n",
    "    return document"
   ]
  },
  {
   "cell_type": "code",
   "execution_count": 6,
   "metadata": {
    "colab": {
     "autoexec": {
      "startup": false,
      "wait_interval": 0
     },
     "base_uri": "https://localhost:8080/",
     "height": 35,
     "output_extras": [
      {
       "item_id": 1
      }
     ]
    },
    "colab_type": "code",
    "executionInfo": {
     "elapsed": 564,
     "status": "ok",
     "timestamp": 1521779623782,
     "user": {
      "displayName": "HERBERT SANTIAGO VIDELA CALIXTO",
      "photoUrl": "https://lh3.googleusercontent.com/a/default-user=s128",
      "userId": "118050786734198761937"
     },
     "user_tz": 300
    },
    "id": "6DFbHVy7-ul_",
    "outputId": "6a5f0820-c432-4252-b379-b95e80a75ef4"
   },
   "outputs": [
    {
     "name": "stdout",
     "output_type": "stream",
     "text": [
      "No of pages 194\n"
     ]
    }
   ],
   "source": [
    "document = convertPDFtoText(\"../files/comprension_lectora_1.pdf\")"
   ]
  },
  {
   "cell_type": "markdown",
   "metadata": {
    "colab_type": "text",
    "id": "ljSPbKTO-umW"
   },
   "source": [
    "# Limpieza de Textos\n",
    "\n",
    "## Estructura actual de un Texto\n",
    "\n",
    "Despues de realizar la estracción de textos con la herramienta PDFtoText se consigue un listado de elementos, donde cada elemento representa una parte de un texto y cada par de elementos adyacentes representan un texto completo. En su estado original, estos traen mucha información innecesaria que debe ser removida y que detallará a continuación.\n",
    "\n",
    "* Tema a tratar\n",
    "* Etiqueta de la sección\n",
    "* Indicaciones del texto\n",
    "* Titulo del texto\n",
    "* Referencias de imagenes\n",
    "* Preguntas relacionas al texto.\n",
    "* Referencias del texto\n",
    "* Pie de pagina\n",
    "* Descripción de la hoja actual.\n",
    "\n",
    "\n",
    "## Retos de la Limpieza\n",
    "\n",
    "* Conservar la estructura original del texto, es decir, que todos los parrafos sean identificables.\n",
    "* Eliminar todas las referencias de imagenes existentes, ya que se usan de forma indeterminada en distintas partes de un texto.\n",
    "* Adaptar las diferentes estructuras de los archivos PDF provistos\n",
    "\n",
    "## Pasos de Limpieza\n",
    "\n",
    "* Usar la Etiqueta de cada texto para determinar el inicio de este.\n",
    "    * Remover la información previa a la etiqueta\n",
    "    * Remover la información antes del inicio del texto y despues de la etiqueta\n",
    "* Eliminar la información extra por hoja.\n",
    "    * Eliminar la información extra de la primera pagina (referencias y pie de pagina)\n",
    "    * Eliminar la información extra de la segunda pagina (referencias, preguntas y pie de pagina)\n",
    "* Eliminar las referencias a imagenes aún existentes.\n",
    "\n",
    "## Resultado esperado\n",
    "\n",
    "Finalmente, se espera obtener un arreglo de elementos donde cada represente a un texto completo y que este listo para ser pre-procesado."
   ]
  },
  {
   "cell_type": "code",
   "execution_count": 7,
   "metadata": {
    "colab": {
     "autoexec": {
      "startup": false,
      "wait_interval": 0
     }
    },
    "colab_type": "code",
    "id": "DqgM2QSX-umE"
   },
   "outputs": [],
   "source": [
    "def hasAllowedTag(line):\n",
    "    return any(TAG in line for TAG in ALLOWED_TAGS)"
   ]
  },
  {
   "cell_type": "code",
   "execution_count": 8,
   "metadata": {},
   "outputs": [],
   "source": [
    "def transformToPython(page):\n",
    "    listOfFlows = list()\n",
    "    for flow in page:\n",
    "        listOfBlocks = list()\n",
    "        for paragraph in flow:\n",
    "            listOfLines = ''\n",
    "            for line in paragraph:\n",
    "                listOfLines = joinLine(listOfLines, line.text)\n",
    "#                 listOfLines.append(line.text)\n",
    "#                 print(line.text)\n",
    "#                 print('~~~~~~~~~~~~~~~~~~~~~~~~~~~~~~~~~~~~~~~~~~~~~~~~~~~~~~~~')\n",
    "            listOfBlocks.append(listOfLines)\n",
    "#             listOfBlocks.append(''.join(listOfLines))\n",
    "        listOfFlows.append(listOfBlocks)\n",
    "\n",
    "    return listOfFlows"
   ]
  },
  {
   "cell_type": "code",
   "execution_count": 9,
   "metadata": {},
   "outputs": [],
   "source": [
    "def joinLine(listOfLines, line):\n",
    "    newListOfLines = listOfLines\n",
    "    separator = ''\n",
    "    \n",
    "    if (newListOfLines):\n",
    "        if (newListOfLines[- 1] == '-'):\n",
    "            newListOfLines = newListOfLines[:-1]\n",
    "        else:\n",
    "            separator = ' '\n",
    "        newListOfLines = newListOfLines + separator + line\n",
    "    else:\n",
    "        newListOfLines = newListOfLines + line\n",
    "\n",
    "    return newListOfLines"
   ]
  },
  {
   "cell_type": "code",
   "execution_count": 10,
   "metadata": {
    "colab": {
     "autoexec": {
      "startup": false,
      "wait_interval": 0
     }
    },
    "colab_type": "code",
    "id": "IqjbWxyj-umG"
   },
   "outputs": [],
   "source": [
    "def cleanDocument(file):\n",
    "    nextPageAdded = -1\n",
    "    listOfTexts = list()\n",
    "    text = list()\n",
    "    \n",
    "    for index,page in enumerate(file):\n",
    "        if (index > INITIAL_PAGE):\n",
    "            if (nextPageAdded == 1):\n",
    "                text.append(transformToPython(page))\n",
    "                textTuple = (text[0], text[1])\n",
    "                listOfTexts.append(textTuple)\n",
    "                nextPageAdded = -1\n",
    "            else:\n",
    "                text = list()\n",
    "                listOfFlows = list()\n",
    "                for flow in page:\n",
    "                    listOfBlocks = list()\n",
    "                    for paragraph in flow:\n",
    "                        listOfLines = ''\n",
    "                        for line in paragraph:\n",
    "                            listOfLines = joinLine(listOfLines, line.text)\n",
    "#                             print(line.text)\n",
    "#                             print('========================================')\n",
    "#                             listOfLines.append(line.text)\n",
    "                            if (hasAllowedTag(line.text)):\n",
    "                                nextPageAdded = 1\n",
    "#                             print(line.text)\n",
    "#                         listOfBlocks.append(''.join(listOfLines))\n",
    "                        listOfBlocks.append(listOfLines)\n",
    "#                         print(\"------------------------------------------------------\")\n",
    "                    listOfFlows.append(listOfBlocks)\n",
    "                text.append(listOfFlows)\n",
    "\n",
    "    return listOfTexts"
   ]
  },
  {
   "cell_type": "markdown",
   "metadata": {},
   "source": [
    "### List of unformated Texts"
   ]
  },
  {
   "cell_type": "code",
   "execution_count": 11,
   "metadata": {
    "colab": {
     "autoexec": {
      "startup": false,
      "wait_interval": 0
     }
    },
    "colab_type": "code",
    "id": "kOAx-a0x-umI",
    "scrolled": true
   },
   "outputs": [],
   "source": [
    "listOfTexts = cleanDocument(document)"
   ]
  },
  {
   "cell_type": "markdown",
   "metadata": {},
   "source": [
    "### Clean conditions"
   ]
  },
  {
   "cell_type": "code",
   "execution_count": 12,
   "metadata": {},
   "outputs": [],
   "source": [
    "def hasLinkReference(block):\n",
    "    return 'http' in block"
   ]
  },
  {
   "cell_type": "code",
   "execution_count": 13,
   "metadata": {},
   "outputs": [],
   "source": [
    "def isBibliographicCitation(block):\n",
    "    return 'Tomado de' in block"
   ]
  },
  {
   "cell_type": "code",
   "execution_count": 14,
   "metadata": {},
   "outputs": [],
   "source": [
    "def isPageNumeration(block):\n",
    "    try:\n",
    "        int(block)\n",
    "        return True\n",
    "    except ValueError:\n",
    "        return False"
   ]
  },
  {
   "cell_type": "code",
   "execution_count": 15,
   "metadata": {},
   "outputs": [],
   "source": [
    "def onlyOneCharacter(block):\n",
    "    return len(block) == 1"
   ]
  },
  {
   "cell_type": "code",
   "execution_count": 16,
   "metadata": {},
   "outputs": [],
   "source": [
    "def isOnlyDate(block):\n",
    "    try: \n",
    "        parse(block)\n",
    "        return True\n",
    "    except ValueError:\n",
    "        return False"
   ]
  },
  {
   "cell_type": "code",
   "execution_count": 17,
   "metadata": {},
   "outputs": [],
   "source": [
    "def isStartOfQuestionary(block):\n",
    "    return ('Responde las preguntas' in block) or ('A partir de la lectura anterior' in block) or ('responde las preguntas' in block) or ('Utiliza el' in block)"
   ]
  },
  {
   "cell_type": "code",
   "execution_count": 18,
   "metadata": {},
   "outputs": [],
   "source": [
    "def hasIndications(block):\n",
    "    return 'Lee el siguiente text' in block"
   ]
  },
  {
   "cell_type": "code",
   "execution_count": 19,
   "metadata": {},
   "outputs": [],
   "source": [
    "def specialCases(block):\n",
    "    return ('Libro Comunicacion' in block) or ('Comprensión lectora' in block) or ('grado de secundaria' in block)"
   ]
  },
  {
   "cell_type": "code",
   "execution_count": 20,
   "metadata": {},
   "outputs": [],
   "source": [
    "def cleanContiditions(block):\n",
    "    return not ( hasLinkReference(block) or onlyOneCharacter(block) or isOnlyDate(block) or specialCases(block) or isPageNumeration(block) or isBibliographicCitation(block) )"
   ]
  },
  {
   "cell_type": "code",
   "execution_count": 21,
   "metadata": {},
   "outputs": [],
   "source": [
    "def getSecondPage(newPage):\n",
    "    secondPage = list()\n",
    "\n",
    "    for block in newPage:\n",
    "        for line in block:\n",
    "            secondPage.append(line)\n",
    "    \n",
    "    return secondPage"
   ]
  },
  {
   "cell_type": "code",
   "execution_count": 22,
   "metadata": {},
   "outputs": [],
   "source": [
    "def getTitleAndFirstPage(newPage):\n",
    "    title = ''\n",
    "    firstPage = list()\n",
    "\n",
    "    for i,block in enumerate(newPage):\n",
    "        for j,line in enumerate(block):\n",
    "            if (i == 0 and j ==0):\n",
    "                title = line\n",
    "            else:\n",
    "                firstPage.append(line)\n",
    "\n",
    "    return title, firstPage"
   ]
  },
  {
   "cell_type": "code",
   "execution_count": 23,
   "metadata": {},
   "outputs": [],
   "source": [
    "def cleanPage(page, isQuestionaryFound = False, isFirstPage = False):\n",
    "    newPage = list()\n",
    "    isTagFound = False\n",
    "    isIndications = False\n",
    "    questionary = isQuestionaryFound\n",
    "\n",
    "    for flow in page:\n",
    "        listOfBlocks = list()\n",
    "        for block in flow:\n",
    "            if (cleanContiditions(block)):\n",
    "                listOfBlocks.append(block)\n",
    "            isTagFound = isTagFound or hasAllowedTag(block)\n",
    "            isIndications = isIndications or hasIndications(block)\n",
    "            questionary = questionary or isStartOfQuestionary(block)\n",
    "#         print(isTagFound, isIndications, questionary, listOfBlocks)\n",
    "#         print('~~~~~~~~~~~~~~~~~~~~~~~~~~~~~~~~~~~~~~~~~~~~~~~~~~~~~~~~~~~~~~~~~~')\n",
    "        if questionary:\n",
    "            break;\n",
    "        if isTagFound or isIndications:\n",
    "            newPage = list()\n",
    "            listOfBlocks = list()\n",
    "            isTagFound = False\n",
    "            isIndications = False\n",
    "        if (len(listOfBlocks) > 0):\n",
    "            newPage.append(listOfBlocks)\n",
    "\n",
    "#     print (listOfBlocks)\n",
    "#     print('=================================================================')\n",
    "    if (newPage and (isFirstPage and len(newPage) > 1)):\n",
    "#         print(newPage)\n",
    "#         print('========================================================')\n",
    "        title, firstPage = getTitleAndFirstPage(newPage)\n",
    "        return title, firstPage, questionary\n",
    "    elif (newPage and not isFirstPage):\n",
    "        return getSecondPage(newPage), questionary\n",
    "    elif (not newPage and not isFirstPage):\n",
    "        return [], False\n",
    "    else:\n",
    "        return '', [], False"
   ]
  },
  {
   "cell_type": "markdown",
   "metadata": {},
   "source": [
    "### After declaring all the methods needed to clean the text, we do a simple text with the first two pages"
   ]
  },
  {
   "cell_type": "code",
   "execution_count": 24,
   "metadata": {
    "scrolled": true
   },
   "outputs": [
    {
     "data": {
      "text/plain": [
       "60"
      ]
     },
     "execution_count": 24,
     "metadata": {},
     "output_type": "execute_result"
    }
   ],
   "source": [
    "len(listOfTexts)"
   ]
  },
  {
   "cell_type": "code",
   "execution_count": 25,
   "metadata": {},
   "outputs": [],
   "source": [
    "testTextIndex = 0\n",
    "mockQuestionary = False\n",
    "testFirstPage = listOfTexts[testTextIndex][0]\n",
    "testSecondPage = listOfTexts[testTextIndex][1]"
   ]
  },
  {
   "cell_type": "code",
   "execution_count": 26,
   "metadata": {},
   "outputs": [
    {
     "data": {
      "text/plain": [
       "[['1.er grado de secundaria'],\n",
       " ['Ficha: Reconocemos la estructura del texto argumentativo', 'APRENDEMOS'],\n",
       " ['Lee el siguiente texto considerando las orientaciones que brinda tu docente.'],\n",
       " ['El acto solidario de la donación de órganos1'],\n",
       " ['Fuente de imagen: <https://goo.gl/exLu3M>'],\n",
       " ['Si bien los trasplantes se han convertido en una práctica habitual, aún persisten fuertes temores en la población para donar órganos, lograr su superación es la clave para aumentar el número de los donadores solidarios que hacen falta para salvar miles de vidas.',\n",
       "  'Es preciso, entonces, que se aclaren algunas dudas para que las personas pierdan el miedo a donar. Primero, que lo complicado de los procedimientos de extirpación y trasplantación, en el que intervienen varios equipos médicos altamente especializados, vuelve muy difícil la existencia de mafias. Segundo, que la necesaria compatibilidad (afinidad de grupo sanguíneo) entre donante y receptor dificulta la posibilidad de muertes “a pedido”.'],\n",
       " ['1'],\n",
       " ['Adaptado de El acto solidario de la donación de órganos. (26 de julio de 2002). Clarín. Recuperado de <http://edant.clarin.com/diario/2002/07/26/o-02201.htm>'],\n",
       " ['5'],\n",
       " ['Interiores Libro Comunicacion 1 Secundaria Comprension Lectora .indd 5'],\n",
       " ['4/22/17 9:57 AM']]"
      ]
     },
     "execution_count": 26,
     "metadata": {},
     "output_type": "execute_result"
    }
   ],
   "source": [
    "testFirstPage"
   ]
  },
  {
   "cell_type": "code",
   "execution_count": 27,
   "metadata": {
    "scrolled": false
   },
   "outputs": [
    {
     "name": "stdout",
     "output_type": "stream",
     "text": [
      "False El acto solidario de la donación de órganos1 ['Si bien los trasplantes se han convertido en una práctica habitual, aún persisten fuertes temores en la población para donar órganos, lograr su superación es la clave para aumentar el número de los donadores solidarios que hacen falta para salvar miles de vidas.', 'Es preciso, entonces, que se aclaren algunas dudas para que las personas pierdan el miedo a donar. Primero, que lo complicado de los procedimientos de extirpación y trasplantación, en el que intervienen varios equipos médicos altamente especializados, vuelve muy difícil la existencia de mafias. Segundo, que la necesaria compatibilidad (afinidad de grupo sanguíneo) entre donante y receptor dificulta la posibilidad de muertes “a pedido”.']\n"
     ]
    }
   ],
   "source": [
    "mockTitle, mockFirstPage, mockQuestionary = cleanPage(testFirstPage, mockQuestionary, True)\n",
    "print(mockQuestionary, mockTitle, mockFirstPage)"
   ]
  },
  {
   "cell_type": "code",
   "execution_count": 28,
   "metadata": {
    "scrolled": false
   },
   "outputs": [
    {
     "data": {
      "text/plain": [
       "[['Comprensión lectora 1'],\n",
       " ['Fuente de imagen: <https://goo.gl/jPn0vJ>'],\n",
       " ['La última cuestión es la más compleja; en la actualidad, aunque alguien haya manifestado expresamente su voluntad de donar, es a la familia a la que se consulta en el momento en que la donación puede efectuarse. Como se entiende, tal consulta llega en un momento difícil y poco propicio para las reflexiones profundas, más aún si se tiene que tomar una decisión rápida.',\n",
       "  'Por lo tanto, las campañas públicas deben esclarecer la naturaleza de los procedimientos técnicos y legales, para disipar miedos; pero, esencialmente, deben apuntar a que se tome conciencia de lo que significa salvar otra vida, porque para decidirlo en un momento crucial es necesario que la idea se haya considerado y discutido previamente, con reflexión y calma.'],\n",
       " ['6'],\n",
       " ['Interiores Libro Comunicacion 1 Secundaria Comprension Lectora .indd 6'],\n",
       " ['4/22/17 9:57 AM']]"
      ]
     },
     "execution_count": 28,
     "metadata": {},
     "output_type": "execute_result"
    }
   ],
   "source": [
    "testSecondPage"
   ]
  },
  {
   "cell_type": "code",
   "execution_count": 29,
   "metadata": {
    "scrolled": true
   },
   "outputs": [
    {
     "name": "stdout",
     "output_type": "stream",
     "text": [
      "False ['La última cuestión es la más compleja; en la actualidad, aunque alguien haya manifestado expresamente su voluntad de donar, es a la familia a la que se consulta en el momento en que la donación puede efectuarse. Como se entiende, tal consulta llega en un momento difícil y poco propicio para las reflexiones profundas, más aún si se tiene que tomar una decisión rápida.', 'Por lo tanto, las campañas públicas deben esclarecer la naturaleza de los procedimientos técnicos y legales, para disipar miedos; pero, esencialmente, deben apuntar a que se tome conciencia de lo que significa salvar otra vida, porque para decidirlo en un momento crucial es necesario que la idea se haya considerado y discutido previamente, con reflexión y calma.']\n"
     ]
    }
   ],
   "source": [
    "mockSecondPage, mockQuestionary = cleanPage(testSecondPage, mockQuestionary)\n",
    "print(mockQuestionary, mockSecondPage)"
   ]
  },
  {
   "cell_type": "code",
   "execution_count": 30,
   "metadata": {},
   "outputs": [],
   "source": [
    "def mergePages(firstPage, secondPage):\n",
    "    unformatedPage = firstPage + secondPage\n",
    "    skipPage = False\n",
    "    finalPage = list()\n",
    "    \n",
    "    for i, block in enumerate(unformatedPage):\n",
    "        paragraph = ''\n",
    "        lastChar = block[-1]\n",
    "        if (not skipPage):            \n",
    "            if (lastChar == '.'):\n",
    "                paragraph = block\n",
    "            else:\n",
    "                nexBlock = unformatedPage[i+1] if i < len(unformatedPage) - 1 else ''\n",
    "                paragraph = block + ' ' + nexBlock\n",
    "                skipPage = True \n",
    "            finalPage.append(paragraph)\n",
    "        else:\n",
    "            skipPage = False\n",
    "    \n",
    "    return finalPage"
   ]
  },
  {
   "cell_type": "code",
   "execution_count": 31,
   "metadata": {
    "colab": {
     "autoexec": {
      "startup": false,
      "wait_interval": 0
     },
     "base_uri": "https://localhost:8080/",
     "height": 35,
     "output_extras": [
      {
       "item_id": 1
      }
     ]
    },
    "colab_type": "code",
    "executionInfo": {
     "elapsed": 386,
     "status": "ok",
     "timestamp": 1521761355840,
     "user": {
      "displayName": "HERBERT SANTIAGO VIDELA CALIXTO",
      "photoUrl": "https://lh3.googleusercontent.com/a/default-user=s128",
      "userId": "118050786734198761937"
     },
     "user_tz": 300
    },
    "id": "pFgwJ0N_-umM",
    "outputId": "ad7c1c11-c6b3-4b82-988d-4ed981503d01"
   },
   "outputs": [],
   "source": [
    "def transformDocument(listOfUTexts):\n",
    "    cleanListOfText = list()\n",
    "\n",
    "    for textTuple in listOfUTexts:\n",
    "        questionaryFound = False\n",
    "        firstPage, secondPage = textTuple\n",
    "        arrParagrahps = []\n",
    "        text = Text()\n",
    "        title, cleanFirstPage, questionaryFound = cleanPage(firstPage, questionaryFound, True)\n",
    "        \n",
    "        if (cleanFirstPage):\n",
    "            cleanSecondPage, questionaryFound = cleanPage(secondPage, questionaryFound)\n",
    "            arrParagrahps = mergePages(cleanFirstPage, cleanSecondPage)\n",
    "            text.setTitle(title)\n",
    "            text.setUnformatedParagraphs(arrParagrahps)\n",
    "            text.formatParagraphs()\n",
    "            cleanListOfText.append(text)\n",
    "\n",
    "    return cleanListOfText"
   ]
  },
  {
   "cell_type": "code",
   "execution_count": 32,
   "metadata": {
    "colab": {
     "autoexec": {
      "startup": false,
      "wait_interval": 0
     }
    },
    "colab_type": "code",
    "id": "qVhJHn4U-umd"
   },
   "outputs": [],
   "source": [
    "results = transformDocument(listOfTexts)"
   ]
  },
  {
   "cell_type": "code",
   "execution_count": 33,
   "metadata": {
    "scrolled": true
   },
   "outputs": [
    {
     "data": {
      "text/plain": [
       "[<simple_text_representation.classes.Text.Text at 0x104323908>,\n",
       " <simple_text_representation.classes.Text.Text at 0x104323f28>,\n",
       " <simple_text_representation.classes.Text.Text at 0x10433a7b8>,\n",
       " <simple_text_representation.classes.Text.Text at 0x104343e10>,\n",
       " <simple_text_representation.classes.Text.Text at 0x10435c2b0>,\n",
       " <simple_text_representation.classes.Text.Text at 0x104385128>,\n",
       " <simple_text_representation.classes.Text.Text at 0x104393cf8>,\n",
       " <simple_text_representation.classes.Text.Text at 0x1043b7cc0>,\n",
       " <simple_text_representation.classes.Text.Text at 0x1043c9b00>,\n",
       " <simple_text_representation.classes.Text.Text at 0x1043dc9b0>,\n",
       " <simple_text_representation.classes.Text.Text at 0x1043ecbe0>,\n",
       " <simple_text_representation.classes.Text.Text at 0x104410a58>,\n",
       " <simple_text_representation.classes.Text.Text at 0x1043ecb38>,\n",
       " <simple_text_representation.classes.Text.Text at 0x10445b828>,\n",
       " <simple_text_representation.classes.Text.Text at 0x10446ab70>,\n",
       " <simple_text_representation.classes.Text.Text at 0x10447c2b0>,\n",
       " <simple_text_representation.classes.Text.Text at 0x104428470>,\n",
       " <simple_text_representation.classes.Text.Text at 0x104480ba8>,\n",
       " <simple_text_representation.classes.Text.Text at 0x10448c358>,\n",
       " <simple_text_representation.classes.Text.Text at 0x1044adc50>,\n",
       " <simple_text_representation.classes.Text.Text at 0x1044c42b0>,\n",
       " <simple_text_representation.classes.Text.Text at 0x1044d4240>,\n",
       " <simple_text_representation.classes.Text.Text at 0x1044dee10>,\n",
       " <simple_text_representation.classes.Text.Text at 0x1044f16d8>,\n",
       " <simple_text_representation.classes.Text.Text at 0x1045066d8>,\n",
       " <simple_text_representation.classes.Text.Text at 0x10451de80>,\n",
       " <simple_text_representation.classes.Text.Text at 0x104532ac8>,\n",
       " <simple_text_representation.classes.Text.Text at 0x104539cf8>,\n",
       " <simple_text_representation.classes.Text.Text at 0x104549668>,\n",
       " <simple_text_representation.classes.Text.Text at 0x1045719b0>,\n",
       " <simple_text_representation.classes.Text.Text at 0x10457a198>,\n",
       " <simple_text_representation.classes.Text.Text at 0x10457e438>,\n",
       " <simple_text_representation.classes.Text.Text at 0x104599048>,\n",
       " <simple_text_representation.classes.Text.Text at 0x10459aa90>,\n",
       " <simple_text_representation.classes.Text.Text at 0x1045ae978>,\n",
       " <simple_text_representation.classes.Text.Text at 0x1045b53c8>,\n",
       " <simple_text_representation.classes.Text.Text at 0x1045a6da0>,\n",
       " <simple_text_representation.classes.Text.Text at 0x1045c4e80>,\n",
       " <simple_text_representation.classes.Text.Text at 0x1045dd160>,\n",
       " <simple_text_representation.classes.Text.Text at 0x1045f8e10>,\n",
       " <simple_text_representation.classes.Text.Text at 0x1046174e0>,\n",
       " <simple_text_representation.classes.Text.Text at 0x1046355f8>,\n",
       " <simple_text_representation.classes.Text.Text at 0x10292e160>,\n",
       " <simple_text_representation.classes.Text.Text at 0x10466e400>,\n",
       " <simple_text_representation.classes.Text.Text at 0x104679a90>]"
      ]
     },
     "execution_count": 33,
     "metadata": {},
     "output_type": "execute_result"
    }
   ],
   "source": [
    "results"
   ]
  },
  {
   "cell_type": "code",
   "execution_count": 34,
   "metadata": {},
   "outputs": [
    {
     "data": {
      "text/plain": [
       "'El acto solidario de la donación de órganos1'"
      ]
     },
     "execution_count": 34,
     "metadata": {},
     "output_type": "execute_result"
    }
   ],
   "source": [
    "results[0].getTitle()"
   ]
  },
  {
   "cell_type": "code",
   "execution_count": 35,
   "metadata": {},
   "outputs": [
    {
     "name": "stdout",
     "output_type": "stream",
     "text": [
      "0 Si bien los trasplantes se han convertido en una práctica habitual aún persisten fuertes temores en la población para donar órganos lograr su superación es la clave para aumentar el número de los donadores solidarios que hacen falta para salvar miles de vidas.\n",
      "Es preciso entonces que se aclaren algunas dudas para que las personas pierdan el miedo a donar. Primero que lo complicado de los procedimientos de extirpación y trasplantación en el que intervienen varios equipos médicos altamente especializados vuelve muy difícil la existencia de mafias. Segundo que la necesaria compatibilidad afinidad de grupo sanguíneo entre donante y receptor dificulta la posibilidad de muertes a pedido.\n",
      "La última cuestión es la más compleja en la actualidad aunque alguien haya manifestado expresamente su voluntad de donar es a la familia a la que se consulta en el momento en que la donación puede efectuarse. Como se entiende tal consulta llega en un momento difícil y poco propicio para las reflexiones profundas más aún si se tiene que tomar una decisión rápida.\n",
      "Por lo tanto las campañas públicas deben esclarecer la naturaleza de los procedimientos técnicos y legales para disipar miedos pero esencialmente deben apuntar a que se tome conciencia de lo que significa salvar otra vida porque para decidirlo en un momento crucial es necesario que la idea se haya considerado y discutido previamente con reflexión y calma.\n",
      "\n",
      "========================================================================\n",
      "1 La televisión es un sistema que permite a las personas recibir sonidos e imágenes en movimiento y eso es posible gracias a las ondas.\n",
      "En la actualidad se puede afirmar que en la mayoría de los hogares hay como mínimo un televisor. Con el paso de los años se ha convertido en un objeto fundamental y cotidiano que normalmente suele presidir el centro del salón donde toda la familia se reúne frente a él para ver diferentes programas.\n",
      "Se ha hablado mucho sobre la televisión y los aspectos positivos y negativos. Por ejemplo Bernice Buresh la ha definido con estas palabras La televisión puede darnos muchas cosas salvo tiempo para pensar. Es por ello que en esta argumentación hablaré sobre el valor de la televisión en la sociedad actual.\n",
      "En primer lugar hay que decir que la televisión puede entenderse como algo positivo dado que entre otras cosas permite que las personas estén informadas en todo momento a través de los informativos. Otro aspecto a su favor es que permite gracias a programas como los de concurso aprender sobre diversos temas. La televisión también destaca por el hecho de ser un medio de entretenimiento como cuando tenemos la oportunidad de ver una película nuestra serie favorita o alguna transmisión deportiva relacionada con el fútbol o el vóleibol por citar algunos ejemplos.\n",
      "Pero no todo lo que rodea el mundo de la televisión es positivo. Por desgracia hay programas que aportan muy poco valor al espectador. Otro aspecto negativo es el hecho de que hay gente que se pasa muchas horas frente al televisor lo cual crea adicción. También está el inconveniente de que por culpa de la televisión los miembros de una familia hablan muy poco cuando están reunidos en el salón o en la cocina justamente porque están pendientes de lo que pasa en la pantalla del televisor. En mi caso debo decirles que suelo ver la televisión casi todos los días pero normalmente es para ver algún informativo y estar al día con lo que pasa en el mundo o mirar alguno que otro acontecimiento deportivo.\n",
      "En resumen cuando nos referimos a la televisión podemos encontrar argumentos a favor y en contra. Pero creo que lo más importante al respecto es que cada uno debe ser capaz de usar responsablemente este aparato que nos guste o no forma parte de nuestras vidas.\n",
      "Por otro lado si conseguimos que las personas se eduquen mirando la televisión probablemente los beneficios que se obtengan serán mucho mayores que los inconvenientes.\n",
      "\n",
      "========================================================================\n",
      "2 Los videojuegos adquirieren cada vez mayor importancia en nuestra sociedad. Eso no me lo negarán ustedes Ya no son solo una distracción para los llamados frikis sujetos que practican obsesivamente una afición. Tienen un potencial mucho mayor que ha comenzado a explorarse. No por nada el creador de la Nintendo DS Shigeru Miyamoto ha dicho Los videojuegos nos hacen mejores.\n",
      "A pesar de esto son diversos los sectores que no apoyan esta opinión. Muchos catalogan los videojuegos de perjudiciales y no dudan en decir que empeoran la educación de los niños lo cual es una mentira tan grande como los billetes de 300 soles los videojuegos estimulan una parte del cerebro que mejora la psicomotricidad en los niños y la rapidez mental en los jóvenes.\n",
      "El lado negativo de jugar videojuegos es que puede ser adictivo como cualquier otra actividad de ocio. Además si los padres de menores de edad no prestan la atención necesaria sus hijos podrían jugar a videojuegos para mayores de 18 años con temáticas violentas amorales o indecorosas lo cual puede conllevar confusión con respecto a conceptos morales y éticos. Otro punto en contra es que el exceso de horas delante de la pantalla del televisor o del portátil puede generar deterioro temprano de la vista.\n",
      "Pero no todo lo que rodea al mundo de los videojuegos es negativo por ejemplo las consolas como la famosísima Nintendo Wii ayudan al niño en la percepción de su alrededor y en la movilidad de las muñecas y de las manos. Otro punto a favor de los videojuegos es que a los niños les parecen muy divertidos.\n",
      "Por otro lado como todos sabemos las innovaciones nos ayudan en la vida cotidiana facilitándonos muchas tareas. En ese contexto los videojuegos realizan innovaciones importantísimas que pueden ser empleadas en espacios diversos. Además cada día el mundo de los videojuegos aporta cosas nuevas y seguramente sus innovaciones nos depararán agradables sorpresas en el futuro. Cabe decir que debemos desterrar la idea de que los videojuegos solo están destinados a un sector de la sociedad. Los videojuegos hace tiempo que han llegado y están aquí para quedarse.\n",
      "\n",
      "========================================================================\n",
      "3 Cuando me disponía a venir a Lima conocí a don Guillermo que muy amablemente me invitó a subir a su camión que transportaba cereales a la capital desde Huancavelica. Recuerdo que subí en La Oroya. Le dije que tenía el mismo nombre de mi abuelo ya fallecido que también se dedicaba en sus años de juventud a viajar transportando alimentos de Huancayo a Huancavelica y viceversa.\n",
      "Te cuento lo que me pasó en el pueblo de Pampas cuando viajaba para Huancayo trayendo carga me dijo. Cuando salía de Pampas ya muy de noche y bajo una interminable lluvia pude avistar a una mujer en el camino. Ella iba caminando muy lentamente en la carretera. Debiste verla. con aquel vestido blanco totalmente empapado. Frené suavemente pues también iba despacio por el mal estado de la carretera.\n",
      "Le hice una señal para que suba al camión y así pudiera protegerse de la lluvia ella asintió y se sentó en el mismo lugar en donde estás tú. Era una mujer muy joven y bella al verla en esas condiciones le ofrecí mi casaca para que pudiera abrigarse me agradeció y en su rostro vi dibujada una sonrisa tierna.\n",
      "Al acercarnos al poblado La Mejorada ella me pidió que me detenga para que pudiera bajarse del camión pues tenía familia allí. Como aún llovía y eran apenas las dos de la madrugada le dije que se quede con mi casaca que en otro momento iría por ella. Solo le pedí la dirección de su casa.\n",
      "Pasó una semana y cuando volví a La Mejorada fui a buscarla hasta su casa. Grande fue mi sorpresa cuando salió su madre y me dijo que Virginia así se llamaba la joven había muerto hace diez años precisamente en un accidente de carreteras cuando el bus que la transportaba de Pampas se fue directo al barranco que está cerca del lugar donde la recogí.\n",
      "Yo no le creí a la señora y pensé que se querían quedar con mi casaca. Para confirmar los hechos su madre me llevó hasta el cementerio del pueblo y allí pude corroborar que en verdad la joven y bella Virginia estaba muerta. La fotografía en el nicho era la de la misma chica que vi hacía como una semana. Pero lo que más me sorprendió fue ver mi casaca a un costado cerca del nicho de la joven. Su madre no tenía explicación alguna por lo sucedido solo me dijo que era la cuarta vez que pasaba eso habían preguntado por su hija que supuestamente había subido al camión en la carretera a Pampas.\n",
      "Quizá sea un relato cierto porque mi abuelo Guillermo me contó lo mismo. Para poder confirmar esta historia fascinante viajé hasta el poblado La Mejorada en Huancavelica. No busqué precisamente el domicilio de la joven Virginia sino que fui directamente hasta el cementerio y busqué su nicho toda la mañana de un sábado de junio de 2000.\n",
      "Cuando me sentí desanimado y listo para salir del lugar vi algo que me llamó la atención. Me acerqué rápidamente hasta aquel sitio y noté algo al costado de un nicho era una bolsa. Dentro de ella pude ver una chompa de alpaca de color marrón y franjas blancas. Era el nicho que estaba en un extremo del cementerio casi escondido casi olvidado. En la lápida semidestruida pude distinguir el nombre de Virginia Matos fallecida en 1989. Aunque no pude ver la fotografía.\n",
      "Dejé las cosas en su lugar y salí del cementerio ya era de tarde. Sentí el deseo de ir a la casa de Virginia. Al volver a Huancayo me preguntaba cómo pudo llegar aquella bolsa con una chompa hasta ese lugar por qué precisamente ahora que fui a confirmar la historia será que Virginia me tenía algo preparado como bienvenida Quizá apenas haya sido una mala pasada de mi imaginación.\n",
      "\n",
      "========================================================================\n",
      "4 Al mirar el horizonte de la bella ciudad de Tingo María Perú vemos el perfil de una hermosa mujer echada de espaldas que mira el cielo y está cubierta de un manto verde es la montaña de la bella durmiente símbolo natural de Tingo María. La leyenda transmitida de generación en generación la identifica como la Princesa Nunash princesa de la selva. Se habla también de un joven llamado Cuynac jefe de la tribu que atravesando la selva de los huanucos tribu indígena se enamoró de la princesa Nunash.\n",
      "Los dos llegaron a amarse tanto que él levantó un palacete en un lugar cercano al poblado de los pachas al que le puso el nombre de Cuynash en honor de su amada. Vivieron tiempos felices rodeados de sus vasallos pero su felicidad quedó truncada cuando fueron atacados por el padre de la princesa llamado Amarú convertido en un monstruo en forma de culebra. Cuynac valiéndose de su hechicería convirtió a Nunash en mariposa y él mismo se transformó en piedra. Ella en su nuevo estado de mariposa voló hacia la selva y retornó con ayuda para combatir al monstruo Amarú.\n",
      "Los enemigos fueron vencidos. Cuynac entonces trató de recuperar su forma humana sin conseguirlo. Nunash sí pudo volver a su forma primitiva y buscó inútilmente a Cuynac. Cansada se sentó cerca de la piedra en la que Cuynac se había convertido y se quedó dormida. Mientras dormía escuchó en sus sueños la voz de su amado que decía Amada no me busques mi voluntad fue pedir a los dioses que me convirtieran en piedra y mi pedido fue complacido. Ahora soy solo una piedra destinada a permanecer en este estado toda mi vida. Si tú en realidad me has querido y me sigues queriendo deseo que permanezcas a mi lado toda mi vida sobre este cerro y que en las noches de luna aparezcas ante la mirada de la gente como una mujer que duerme. Nunash siempre en sueños aceptó la propuesta de su amado y quedó convertida en piedra la que hoy es la figura de la bella durmiente.\n",
      "\n",
      "========================================================================\n",
      "5 En el distrito de Sechura en el desierto a unos veinte kilómetros de la población se encuentra un inmenso médano que por la blancura de sus arenas le llaman médano Blanco.\n",
      "Este es muy alto nadie puede subirlo porque dicen que está encantado.\n",
      "Está rodeado de forraje y cuentan los pastores que habitan por allí que siempre oían tocar un tamborcito pero que nunca llegó a ser descubierto quién lo tocaba. En el centro del médano hay corales y cosas de oro por eso la gente quería subir y apenas habrían subido cinco a seis metros comenzaban a hundirse y como tenían miedo no continuaban.\n",
      "Se cuenta que dos señores yendo por esos lugares se perdieron del camino. Cuando se dieron cuenta de que estaban perdidos ya habían caminado bastante tenían sed y no encontraron dónde tomar agua.\n",
      "Caminaron más y más buscando cómo orientarse. De pronto vieron un río se alegraron y se dirigieron a él. Cuando llegaron hicieron beber a sus caballos. Ellos llevaban dos depósitos y también los llenaron de agua. Creían que era el río de Batán que pasa cerca de Sechura pero como estaban cansados se quedaron a descansar y se durmieron. Cuando despertaron cuál sería su sorpresa al ver que el río era un médano los depósitos que llenaron de agua estaban llenos de arena.\n",
      "Estaban encantados este médano era el famoso médano Blanco y no sabían cómo llegaron a él.\n",
      "Dicen que en época de Semana Santa aparecen varios de esos llamados encantos cerca del médano también dicen que aparece un patito y creen que este fue una persona que por curiosa subió al médano y se quedó encantada. Algunas veces el patito aparece en los ríos transformado en patito de oro y cuando encuentra alguna persona buena sale a hablarle diciéndole que en tal o cual lugar hay un tesoro reservado para ella.\n",
      "Médano acumulación de arena en forma de media luna que forma y empuja el viento en la costa o en el desierto.\n",
      "\n",
      "========================================================================\n",
      "6 Entre las más hermosas criaturas que viven en las cuencas de los ríos amazónicos figura el delfín rosado. Se le encuentra en Perú Brasil Bolivia Venezuela y Colombia. El color rosado de su piel es propio de los adultos mientras que los jóvenes tienen el dorso gris negruzco y el vientre más claro. Es una de las cinco especies de delfines de agua dulce. Suele medir 25 metros de largo y pesa entre 120 kg y 200 kg. Tiene cabeza prominente y ojos pequeños. Su hocico es alargado y provisto de una dentadura heterodonta tiene incisivos y molares entre 48 y 68 dientes a diferencia del delfín marino que tiene dentadura homodonta. Se alimenta de peces y cangrejos.\n",
      "La gran flexibilidad de su cuerpo le permite maniobrar entre los obstáculos que abundan en la selva inundada. Puede doblar su cabeza más que otros delfines porque algunas de las vértebras no están fusionadas. Respira fuera del agua y pocas veces permanece sumergido más de dos minutos. Cuando el río está fangoso y la visión es mínima utiliza la ecolocalización que le permite orientarse por medio del sonido como lo hacen los radares.\n",
      "Son muchos los mitos y leyendas que rodean a esta especie. Los nativos de la selva le atribuyen poderes mágicos dicen que en las noches se transforman en hermosas doncellas que seducen a los incautos y los arrastran al fondo del río. Durante años esta superstición ayudó al delfín rosado a ser casi intocable pero hoy su supervivencia está seriamente amenazada por la deforestación de la Amazonía la polución de la agricultura y por la minería y la pesca informales.\n",
      "\n",
      "========================================================================\n"
     ]
    },
    {
     "name": "stdout",
     "output_type": "stream",
     "text": [
      "7 El sistema para nombrar a estos fenómenos atmosféricos busca facilitar que la población los identifique.\n",
      "El huracán Patricia es el más poderoso registrado en el Pacífico mexicano y tiene vientos máximos cercanos a los 325 kilómetros por hora. Es catalogado como la tormenta más fuerte documentada hasta el momento.\n",
      "Pero cómo deciden ponerles nombres a estos fenómenos atmosféricos Cada año se prepara una lista con los nombres que recibirán los huracanes que vayan ocurriendo a lo largo de la temporada.\n",
      "Esta lista que se repite cada seis años incluye un nombre por cada letra del alfabeto y se alternan nombres masculinos y femeninos. Se buscan nombres fáciles de recordar para optimizar la comunicación escrita y que de esta forma sea más sencillo alertar a la población.\n",
      "Al inicio se nombraba a las tormentas de forma arbitraria. Sin embargo a mediados del siglo XIX se decidió identificar a las tormentas con nombres de mujer. En 1979 comenzaron a incluirse también nombres de hombres para las tormentas del Pacífico Norte Oriental. La unificación llegó un año más tarde cuando la Organización Meteorológica Mundial y el Servicio Meteorológico de Estados Unidos decidieron alternar nombres de hombres y mujeres para el nombramiento de tormentas.\n",
      "Cabe destacar que las letras Q U X Y y Z no son utilizadas para la nomenclatura de las tormentas. Asimismo cuando un huracán tiene efectos muy devastadores su nombre no vuelve a ser usado nuevamente.\n",
      "Existen seis listas rotativas para el Atlántico y seis para el Pacífico de esta forma la lista que se utilizó en 2009 es la que se utiliza en 2015.\n",
      "Dato en 2014 un estudio reportó que los nombres de huracanes femeninos eran más letales debido a que las personas los perciben como menos peligrosos y por ello no toman las precauciones necesarias. El reporte analizó la cifra de muertes causadas por huracanes en EE. UU. en los últimos 60 años.\n",
      "\n",
      "========================================================================\n",
      "8 El planeta es de tamaño similar y tiene una estrella brillante como nuestro Sol además podría tener agua en su superficie.\n",
      "Por primera vez científicos hallaron un planeta de tamaño similar al de la Tierra que orbita una zona que permitiría las condiciones para el desarrollo de la vida en torno a una estrella distante.\n",
      "El descubrimiento es lo más cerca que los científicos han estado de hallar un planeta gemelo a la Tierra. La estrella conocida como Kepler186 y ubicada a unos 500 años luz en la constelación Cygnus es más pequeña y más roja que el Sol.\n",
      "Kepler186f Tierra.\n",
      "Planetas similares Kepler  186f y la Tierra El planeta llamado Kepler186f recibe cerca de un tercio de la radiación de su estrella madre tal como lo hace la Tierra con el Sol lo que significa que la tarde sería similar a la de la Tierra una hora antes de la puesta de sol dijo el astrónomo de la Nasa Thomas Barclay.\n",
      "El planeta está a la distancia correcta de su estrella para que el agua si existe sea líquida en la superficie una condición que los científicos sospechan que es necesaria para la vida.\n",
      "Este planeta es un primo de la Tierra no un gemelo dijo Barclay quien es parte de un equipo de científicos que reportó el descubrimiento en la revista Science esta semana.\n",
      "Los científicos no saben nada sobre la atmósfera del Kepler186f pero será blanco de futuros telescopios que puedan buscar químicos que revelen la posible existencia de vida.\n",
      "\n",
      "========================================================================\n",
      "9 Me encuentro bastante preocupado veo a mi hijo prácticamente pegado a los videojuegos hasta he llegado a pensar que se está volviendo adicto a los juegos en línea y si aún no lo es qué daños mentales o físicos le pueden ocurrir de seguir así Por otro lado considero que los videojuegos son muy violentos y fomentan en él tanto la agresividad como la ansiedad. Lo tienen ausente de la realidad ya casi no conversa con nosotros prefiere estar sentado frente a esa maquinita. Cuando le hablo apenas responde.\n",
      "Ojalá prefiriera un buen libro o ir a jugar un partido de fútbol con los amigos como lo hacíamos nosotros a su edad. Esos sí que eran juegos Cómo nos divertíamos con el matagente las escondidas etc.\n",
      "Ayer quisimos pasar un rato en familia pero él se negó llevaba ya cinco horas frente al dichoso juego sin hacer nada útil. No pude soportarlo más Creo que como padre debo ponerle límites y lo hice simplemente le dije Deja de jugar eso y desconecté el aparato. No me dejó otra opción.\n",
      "Yzaguirre Sandoval Claudia María 2015. Los videojuegos y su impacto en la familia. Documento de trabajo.\n",
      "Mi diversión los videojuegos Auxilio estoy harto ya no aguanto más. Ayer mi padre me apagó la consola justo cuando había subido de nivel.\n",
      "Es que ellos no pueden entender que si antes jugaban mundo bolitas trompos y otras cosas raras ahora los videojuegos son nuestra forma de divertirnos Se quemarán tus neuronas me dice constantemente. Lo que no entiende es que cuando juego no solo me entretengo mi imaginación vuela me olvido de mis preocupaciones empleo estrategias tengo aspiraciones y me pongo retos que me ayudan a ser mejor. Por ejemplo cuando avanzo de un nivel a otro me doy cuenta de que puedo ser el mejor.\n",
      "Mis padres quieren que haga otras cosas en mis ratos libres pero no todo es tarea dónde queda el juego el buen humor y lo que a mí me interesa Será posible que mis padres se den cuenta de que están muy lejos de comprender la personalidad y el mundo de un adolescente como yo.\n",
      "\n",
      "========================================================================\n",
      "10 La rebelión de los emoticones2 He estado un rato buscando un emoticón que me ayudase a decirle a una amiga de forma fácil y rápida en un mensaje de chat En qué andas no lo he encontrado a pesar de que me tomé un tiempo en buscar un detalle gracioso.\n",
      "Después he pensado lo necesito en verdad Pues no. En realidad puedo escribir fácilmente en qué andas y decir lo que quiero. Entonces por qué busco un emoticón para escribir mis mensajes de texto si no lo necesito La respuesta es que de alguna forma sí los necesito. Tal vez podría decir a mi favor que usar emoticones es más corto y rápido que escribir textos o que es más divertido.\n",
      "Últimamente yo lo creo también los emoticones han reemplazado a las palabras y al poder expresivo de estas.\n",
      "Yzaguirre Sandoval Claudia María 2015. La rebelión de los emoticones  No quiero ser humanoide sino humano. Material de trabajo.\n",
      "La Clave  Porfirio Elss No quiero ser humanoide sino humano.\n",
      "Me resulta casi cómica la idea de muchos emoticonlovers es así como llamo a todos mis amigos que siempre en lugar de decirme algo directamente me envían estos odiosos dibujitos que encima debo interpretar. Y qué pasa si entiendo algo diferente Realmente su uso no deja de ser un intento de humanizar este mundo virtual del que soy parte sin haberlo elegido.\n",
      "Los emoticones nos invaden Pero he decidido emprender mi pelea individual contra ellos por eso cuando quiera decir que estoy triste no pondré un círculo amarillo con gotitas en los ojos cuando quiera decir que estoy enojado no colocaré a esa esfera con lentes de matón y dientes de tiburón. Yo a partir de ahora diré lo que siento como debe decirse con palabras .\n",
      "\n",
      "========================================================================\n",
      "11 Análisis  Josep Iturbe Santillán No debemos rendirnos.\n",
      "Una de las grandes e incomprensibles ideas de la humanidad es que hombres y mujeres nacemos libres pero necesitamos luchar para ganarnos la libertad para mantenerla. Como si no fuese una condición propia de los seres humanos como si tuviésemos que darnos o permitirnos poder ser más o menos libres.\n",
      "La delincuencia que hoy vemos en el país debe servirnos también para salir a las calles a marchar y exigir una vez más los derechos y libertades que tanto nos han costado conseguir y que nada ni nadie debe poner en peligro. No debemos rendirnos.\n",
      "La Clave  Claudia Sabater de Mayo Defensa de la democracia.\n",
      "Los derechos humanos y la Constitución del Perú determinan que la libertad de expresión es la piedra angular de un país democrático pero dicha condición no está sometida a gustos o ideas personales nadie puede hacer lo que quiera sino lo que la ley dice.\n",
      "Pero de eso a responder a la violencia con más violencia con marchas y protestas que afectan de un modo u otro a los transeúntes no es más que un medio equivocado de querer cambiar las cosas.\n",
      "Confiemos en nuestras autoridades en nuestras leyes ellas sabrán qué hacer frente a la violencia que vivimos. Es el momento de ser pacientes.\n",
      "\n",
      "========================================================================\n",
      "12 Era un buen hombre llamado Willi hijo de madre trujillana y padre cusqueño trabajó desde muy joven y aprendió en la práctica como muchos peruanos diversos oficios que le permitieron llevar una vida honrada y formar una familia.\n",
      "No era muy alto pero tampoco bajo tenía una estatura normal. Cabello lacio y grueso canoso por el paso del tiempo. Sus ojos achinados y marrones como los granos de café bien tostado eran iguales a los de sus antepasados. Su piel trigueña bronceada por el sol reflejaba el trabajo arduo y esforzado de muchos años. Tenía unos labios delgados que apenas perfilaban una tenue sonrisa pero eso sí de amplia y franca carcajada si la ocasión lo ameritaba como la celebración de un gol de su equipo blanquiazul Alianza Lima de sus amores. Sus manos de generosa palma hacían cosas maravillosas como ninguna otra persona recuerdo la ocasión en que preparó como regalo navideño una linda cabina de teléfono en tono rosado bebé porque ese era el color preferido de sus queridas nietas. La mayor lo llamaba con emoción y amor Papá Willi quizá por tantos momentos compartidos y por la admiración guía y protección que pudo proyectar el abuelito en su primera nieta.\n",
      "Chancahuaña Cueva Sara María 2015. Qué abuelito Material de trabajo.\n",
      "Se mostraba ágil y muy ordenado tras haber cumplido los setenta años. Pero lamentablemente su gusto por el cigarro fue minando poco a poco su estado de salud. Dejó el cigarro cuando se dio cuenta del daño que le causaba pero fue demasiado tarde el cáncer lo iría consumiendo silenciosamente.\n",
      "No vestía con mucho colorido porque no le gustaba llamar la atención aunque no le quedaba mal pues era muy alegre y bromista. En algunas ocasiones solía vestir con pantalones plomos azules y marrones pero la mayoría de las veces los clásicos jeans y los polos sencillos eran sus preferidos. Usaba también camisas a cuadros más informales y de colores tenues y un par de sandalias cómodas testigos de su arduo caminar y paso por una vida llena de múltiples peripecias. Con respecto a los complementos de su atuendo solía llevar gorros de su prestigiosa institución la Marina de Guerra del Perú o una boina de tono oscuro que iba acorde con su personalidad.\n",
      "Era paciente y muy atento ante algún requerimiento de sus pequeñas era el abuelito ideal las escuchaba aconsejaba y jugaba con ellas siempre les dedicaba tiempo. Cuántos paseos pasacalles y eventos infantiles Era como un niño disfrutando de la compañía y gracia que la vida le había regalado.\n",
      "Vivió amando a su familia y tuvo grandes amigos en quienes veía solo virtudes. Así conservó la amistad de su compadre pese a que era del equipo crema su clásico oponente deportivo. Eso en vez de separarlos los unió más lo que le importaba era disfrutar de una sana competencia en compañía de un buen amigo.\n",
      "Era agradable bondadoso generoso respetuoso y trabajador incansable. Qué no hizo para sacar adelante a sus seres queridos Nunca se rendía perseveraba en su objetivo y hacía lo humanamente posible para lograrlo quizá contagiado por el ímpetu y firmeza de su entrañable esposa.\n",
      "Él decía En la vida hay que ser honestos Lo que dignifica al hombre es su trabajo por más humilde que sea No sirve de nada contar con muchos títulos si no eres leal con tus valores y principios Uno siempre debe respetar y ser responsable. Muy seguro de sí firme y constante en su proceder nos aconsejaba No vivas odiando Sé feliz A los toros se les mira de lejos etc. Era muy sensible y fácilmente percibía los sentimientos y pensamientos de aquellos con quienes conversaba sus dones para observar y escuchar caracterizaron su ser especial.\n",
      "Los que tuvimos la suerte de gozar de su amistad lo recordamos como un ser humano confiable discreto solícito en brindar apoyo o alguna ayuda a todo aquel que lo necesitase si estaba al alcance de sus prodigiosas manos. Fue un padre ejemplar que buscó en todo momento la unión familiar mejor esposo maravilloso suegro y especialmente un gran abuelito.\n",
      "Nos dejó enseñanzas que todos sus amigos familiares y nietas recordaremos como lecciones de vida que serán rememoradas por siempre.\n",
      "\n",
      "========================================================================\n",
      "13 La plaza Mayor de Lima es uno de los lugares más visitados en especial por todo turista que viene a conocer el Perú y pasa por la capital. Además de apreciar la Catedral el Palacio de Gobierno el edificio de la Municipalidad y los portales llama su atención la antigua pileta que se encuentra en el centro inaugurada el año 1650 y hecha completamente de bronce aunque hoy luce pintada de color negro. Esta pileta es coronada por una hermosa figura alada que lleva una trompeta en la mano derecha y un documento en la otra y muchos la llaman El ángel de la Fama.\n",
      "Dicha figura alegórica en lo alto de la pileta de la plaza de Armas de Lima no es un ángel. Cuenta la historia que dicho ángel no siempre estuvo ahí. La primera pileta de la plaza de Armas la mandó a construir el virrey Francisco de Toledo 1578. En la cima solo había una esfera de la cual salía agua. Sobre la esfera se encontraba la figura del escudo de la ciudad.\n",
      "Esta pileta fue reemplazada por otra encargada por el virrey García Sarmiento de Sotomayor conde de Salvatierra e inaugurada el 8 de setiembre de 1651 la que con algunas refacciones se mantiene hasta la actualidad.\n",
      "En 1900 el entonces alcalde de Lima Federico Elguera ordenó arreglar la plaza para lo cual hubo que bajar al ángel. Los obreros lo hicieron con tan mala suerte que la estatua cayó y nuestro angelito dejó de volar por un buen tiempo.\n",
      "En 1997 volvió a su pedestal gracias a la gestión de Alberto Andrade siendo esta una réplica basada en imágenes e investigación de otras alegorías de la Fama diseminadas alrededor del mundo de la que se perdió en el año 1900. Fue colocada por el arquitecto Jorge Orrego Vargas quien estuvo a cargo de la restauración de la fuente ornamental.\n",
      "El arquitecto tuvo que hacer hasta seis esculturas para llegar al modelo definitivo en bronce. El ángel pesa aproximadamente 145 kilos y mide 143 metros.\n",
      "Después de una investigación se descubrió que este señor o ángel de la Fama es una señora griega llamada Fama Los antiguos griegos representaban a Fama como una regia doncella con alas de águila sobre las nubes o en lo alto de los cielos tocando una trompeta. Frecuentemente esta es doble lo cual indica que proclama indiscriminadamente la verdad y la mentira pero la nuestra solo tiene una trompeta.\n",
      "\n",
      "========================================================================\n",
      "14 HIGIENE Recomendaciones.\n",
      "Conducta alimentaria  Cambia el cepillo dental cada tres meses.\n",
      "A Evita beber con frecuencia té café vino o zumos ácidos manchan el diente.\n",
      "2 Limpiar también la lengua y el paladar.\n",
      "3 Usar seda o hilo dental antes de irse a dormir.\n",
      "B Los alimentos ricos en azúcares provocan caries.\n",
      "C Consume alimentos que contengan proteínas calcio flúor o vitaminas A C D y K.\n",
      " Acude al dentista dos veces al año.\n",
      "4 Usa un colutorio recomendado por el especialista.\n",
      " Elimina de raíz el consumo del tabaco.\n",
      "\n",
      "========================================================================\n"
     ]
    },
    {
     "name": "stdout",
     "output_type": "stream",
     "text": [
      "15 Procure instalar un detector de humo.\n",
      "Chequee constantemente llaves uniones y cilindros que contengan cualquier tipo de gas inflamable.\n",
      "Si hay humo agáchese y gatee.\n",
      "Siga las instrucciones que le indiquen los cuerpos de socorro.\n",
      "Aléjese del incidente y permita que los cuerpos de socorro concluyan con su labor.\n",
      "No sobrecargue las instalaciones eléctricas.\n",
      "Si su ropa arde no corra deténgase agáchese y ruede en el piso para apagar el fuego.\n",
      "Si hay heridos pida auxilio a los cuerpos de socorro.\n",
      "\n",
      "========================================================================\n",
      "16 Se cree que fue Hera la esposa de Zeus el dios de dioses la que dio origen a la Vía Láctea nuestra galaxia.\n",
      "Zeus era muy aventurero y le gustaba mucho tener diferentes mujeres por lo que nunca le guardó fidelidad a su esposa. En una de estas aventuras Zeus se unió con Alcmena en ausencia de su esposo. El dios se hizo pasar por el ausente y decidió estar con ella en una noche que durase más tiempo del normal para ello ordenó al sol que no saliera cuando tenía que hacerlo.\n",
      "Después el esposo de Alcmena Anfitrión regresó y se unió a ella. De ambas uniones Alcmena quedó embarazada. El hijo de Zeus fue Heracles Hércules en la tradición latina y el hijo de Anfitrión fue Ificles.\n",
      "Heracles fue desde su concepción el favorito de Zeus a lo que Hera respondió con ira y celos pues no soportaba la idea de que el hijo de otra mujer fuera tan querido para su divino esposo.\n",
      "Así la diosa decidió complicar el nacimiento de Heracles quien se quedó 10 meses dentro del vientre de su madre. Hera también fue la responsable de que el héroe tuviera que sufrir los doce trabajos. Además cuando era un bebé de ocho meses Hera le envió dos terribles serpientes para asesinarlo sin embrago el niño supo defenderse sin problemas.\n",
      "Ahora bien existía la condición de que Heracles solo sería inmortal si mamaba de Hera y esto no iba a ocurrir con el consentimiento de la diosa.\n",
      "Sobre esta historia existen dos versiones. Primero se cree que Hermes el mensajero de los dioses llevó al niño a donde Hera mientras ella dormía y lo puso en su seno para que mamara la leche divina. Cuando Hera se despertó y descubrió a Heracles en su pecho lo retiró bruscamente y la leche siguió manando se esparció por el universo y formó la Vía Láctea.\n",
      "La otra versión indica que Hera iba con Atenea paseando por el campo cuando vieron al niño descansando en la hierba. Atenea convenció a la diosa de que lo amamantara pues era muy hermoso. Hera accedió pero pronto Heracles chupó la leche con tal violencia que hirió a la diosa. Hera lo apartó de su seno vigorosamente y la leche siguió fluyendo hasta que formó la Vía Láctea.\n",
      "\n",
      "========================================================================\n",
      "17 Mitología china Muchos son los mitos que abarcan los más de 5000 años de cultura china pero los más antiguos y todavía vigentes son los mitos sobre el origen del universo los orígenes humanos la creación cultural y las guerras tribales.\n",
      "Una historia que todo padre chino le ha contado a su niño es la que señala que el universo fue creado por Pangu más conocido como el Dios de la creación.\n",
      "Mucho tiempo antes de que fuera creado el universo no tenía forma y el cielo y la tierra no estaban separados. Era como un huevo en el que no había luz ni sonido. En el huevo universal yacía un ser dormido llamado Pangu. Pangu durmió en este gran huevo por 18 000 años. Cuando despertó estaba muy oscuro dentro del huevo entonces Pangu estiró sus brazos y piernas y el huevo se rompió. El liviano y claro Qi Yang se levantó y formó el cielo azul. Por otro lado el pesado y grueso Qi Yin se hundió y formó la expansiva tierra. Desde entonces el universo tuvo cielo y tierra.\n",
      "Pangu se puso de pie entre el cielo y la tierra. Desde entonces día a día el cielo estaba más arriba y la tierra estaba más abajo y se volvía más pesada y densa. De esta forma Pangu se volvió más y más alto. Pasaron otros 18 000 años para que el cielo dejara de subir y la tierra de bajar. Por consiguiente Pangu se volvió un gigante para sostener el cielo y la tierra y evitar que el universo se revierta al estado de caos en el que estaba antes.\n",
      "Pangu era el único hombre entre el cielo y la tierra. Su estado emocional podía cambiar el universo cuando estaba complacido el cielo se encontraba sin nubes y cuando estaba enojado el clima era sombrío. Su llanto traía lluvia y sus suspiros fuertes vientos. Al pestañear el cielo relampagueaba si roncaba los truenos rugían.\n",
      "Viendo que el cielo y la tierra estaban bien formados y estables Pangu murió. Sus miembros se convirtieron en montañas su sangre dio origen a los ríos sus músculos formaron los campos y su piel y pelo se convirtieron en miríadas de plantas y animales. El aire que exhaló formó el viento y las nubes y su sonido llegó a ser el rugido de los truenos. Su ojo izquierdo se convirtió en el sol y el ojo derecho se convirtió en la luna su sudor se transformó en el rocío de la mañana y la nutritiva lluvia.\n",
      "Usando su cuerpo Pangu creó un mundo pródigo y hermoso.\n",
      "\n",
      "========================================================================\n",
      "18 Al principio creó Dios el cielo y la tierra. La tierra era entonces confusión oscuridad y desorden. Y dijo Dios Hágase la luz y hubo luz así la separó de la oscuridad y llamó a la luz día y a la oscuridad noche. Este fue el primer día de la creación.\n",
      "El segundo día hizo el firmamento del cielo y lo separó de las aguas.\n",
      "El tercer día Dios juntó las aguas para que apareciera también lo seco y a la reunión de las aguas la llamó mares y a lo seco lo llamó tierra. Después hizo brotar sobre la tierra la hierba verde las plantas y todos los árboles con sus frutos y semillas. Y vio Dios que eso era bueno.\n",
      "El cuarto día creó el sol para que alumbrase el día y la luna y las estrellas para que destacaran por la noche también los creó para que nos señalasen la duración de los días y poder así medir los años y el tiempo.\n",
      "El quinto día creó Dios las aves que vuelan por el cielo al igual que los peces y las criaturas marinas. Y vio Dios que eso era bueno y los bendijo para que se multiplicasen por el cielo y por el mar.\n",
      "El sexto día creó a todos los animales de la tierra y tras ello dijo Hagamos al hombre a nuestra imagen y semejanza y domine sobre todos los animales de la tierra del cielo y del mar. Y creó Dios al hombre y con él a la mujer. Ambos fueron creados a imagen y semejanza de Dios y les dijo Creced y multiplicaos y llenad la tierra y sometedla y dominad sobre todos los animales. Al terminar ese día vio Dios que todo lo que había hecho era muy bueno.\n",
      "Así pues acabados el cielo la tierra y todo cuanto dejó en ellos dio por finalizada su obra creadora. Y el día séptimo descansó. Dios bendijo el día séptimo y lo santificó.\n",
      "\n",
      "========================================================================\n",
      "19 En el centro abre un hueco o cepa tan ancho y profundo como la raíz de tu planta.\n",
      "Toma la planta de la parte más baja del tallo con dos dedos. No la maltrates ni toques la raíz.\n",
      "Ponla en la cepa al ras del suelo.\n",
      "Cubre la raíz de tu planta con la tierra.\n",
      "Compacta la tierra con las manos no debe quedar muy apretada ni muy floja.\n",
      "Haz un borde o cajete alrededor para favorecer la captación de agua.\n",
      "hos  muc o l e t r pá.\n",
      " n e b a o lo s Com.\n",
      "\n",
      "========================================================================\n",
      "20 Ingredientes 6 personas  3 cucharadas de mantequilla o margarina.\n",
      " 2 cucharadas de perejil picado chiffonade.\n",
      " 12 taza de harina sin preparar.\n",
      " 2 cucharadas de zumo de limón.\n",
      " 1 huevo.\n",
      " 1 taza de leche.\n",
      " Pan rallado.\n",
      " Sal pimienta y nuez moscada.\n",
      " Aceite para freír.\n",
      " 2 latas de atún.\n",
      "A cocinar  En la margarina derretida incorporar la harina sin preparar.\n",
      " Mezclar y agregar en chorritos la leche caliente sin dejar de mover.\n",
      " Sazonar con sal pimienta y nuez moscada.\n",
      " Colocar el resultado en un recipiente y sellarlo con plástico para evitar la formación de nata.\n",
      " Mezclar con los demás ingredientes.\n",
      " Humedecerse las manos para poder formar las croquetas bolas con facilidad.\n",
      " Pasar las croquetas por huevo batido y por pan rallado.\n",
      " Freír en abundante aceite por un periodo de 7 a 8 minutos.\n",
      "Tip Cocina Perú El atún se puede reemplazar por pollo o carne. A su vez se puede incorporar cebollita china y pimienta china.\n",
      "\n",
      "========================================================================\n"
     ]
    },
    {
     "name": "stdout",
     "output_type": "stream",
     "text": [
      "21 Ingredientes  ½ kg de mondongo cocido y cortado en tiras.\n",
      " ½ kg de papas fritas en tiras.\n",
      " ½ taza de alverjitas cocidas.\n",
      " ¼ de taza de aceite.\n",
      " 1 cebolla cortada finamente.\n",
      " 1 tomate grande pelado y picado.\n",
      " 2 cucharadas soperas de pasta de tomate.\n",
      " 1 cucharadita de pimiento molido.\n",
      " Hongos.\n",
      " Laurel.\n",
      " Sal.\n",
      "Preparación  Para empezar a preparar este delicioso plato de mondonguito a la italiana con arroz blanco pon a hervir el mondongo con agua y sal. Luego cuando notes que ya pasó un tiempo considerable escúrrelo y córtalo en tiras.\n",
      " Por otro lado prepara el aderezo. Fríe la cebolla el tomate la pasta de tomate el pimiento los hongos y el laurel. Déjalo cocinar con un poco de agua y después échale su punto de sal.\n",
      " Cuando el aderezo hierva agrega el mondongo las alverjitas y las zanahorias. Ten papas fritas listas agrégalas y revuelve todo para que adquieran los sabores. Agrega el perejil y listo.\n",
      "\n",
      "========================================================================\n",
      "22 Una corazonada nos dice que el origen del anticucho se pierde en la inmensidad del tiempo que su preparación no es exclusivamente peruana y que dentro de la amplísima oferta de street food que existe en el mundo nuestro plato bandera no es el que genera más desagrado a los paladares extranjeros luego de conocer de dónde proviene aquella carne que al calor de las brasas huele tan pero tan bien.\n",
      "Cierto es que la palabra anticucho está relacionada con el quechua pues en ella se identifican vocablos como anti Andes kuchu corte y uchu ají. En el libro La comida popular ambulante de antaño y hogaño en Lima los historiadores Pablo Macera y María Belén Soria refieren que el anticucho tuvo dos versiones que cambiaron con la Conquista. En la época prehispánica indican esta opción culinaria se preparaba con carne de llama luego con la llegada de los esclavos la proteína habría variado se cambia la carne por menudencia masificándose así su consumo.\n",
      "Los investigadores indican que lo cocinaban los afroperuanos quienes también lo vendían en las plazas y calles cercanas a mercados y zonas pobladas. Bastaba encender el brasero y colocar las brochetas con cortes de corazón ensartados para que el aroma de su cocción se convierta en la mejor herramienta de marketing para atraer parroquianos urgidos de un bocado.\n",
      "La calle y el comensal de a pie ayudaron a preservar esta práctica humilde que fue cambiando de imagen y se hizo famosa en los rostros de emprendedores que hoy inspiran a muchos para alcanzar sus sueños que se avivan como las llamas del fogón.\n",
      "Grimanesa la célebre Grimanesa Vargas Arauco es el mejor ejemplo de emprendimiento. Madre desde los 23 años. Aunque solo tiene estudios escolares incompletos esta ayacuchana cuenta con el mejor posgrado en economía que la calle le pudo haber expedido el cual está firmado por la necesidad.\n",
      "Empezó hace más de 40 años con un braserito. Vendió chanfainita y luego choncholí. Finalmente notó que en la esquina de Miraflores donde se instaló el anticucho era lo más cool que su clientela podía probar.\n",
      "Firme en su esquina Grimanesa mantuvo el carbón encendido primero sola y luego con el apoyo de sus hijos que son cinco. A ellos les brindó la educación que ella nunca tuvo.\n",
      "La tradición de una receta fue el pilar de su éxito y el trabajo constante la firmeza y la disciplina fueron sus armas para alcanzar el éxito. Porque si bien la Aventura culinaria de Gastón Acurio la catapultó es justo decir que la buena anticuchera ya se había hecho por años de una buena cartera de clientes.\n",
      " .\n",
      "\n",
      "========================================================================\n",
      "23 Los científicos afirman que las medusas son una de las criaturas vivientes más antiguas de la Tierra. Existen pruebas que sugieren que han existido hace más de 700 millones de años información que se basa en restos fósiles cuidadosamente recopilados y analizados. Estas criaturas habitan las aguas oceánicas de todo el mundo viven en diferentes temperaturas y las profundidades que alcanzan varían en función de las especies.\n",
      "Algunos de estos animales miden menos de una pulgada de diámetro mientras que otros son muy grandes. La medusa melena de león es la especie más grande de medusas conocidas en el mundo mide 120 pies de largo 3657 metros incluyendo los tentáculos.\n",
      "Las medusas se presentan en una amplia variedad de colores tamaños y formas. Es por eso que puede ser difícil para la persona promedio saber que lo que acaba de ver es en realidad una medusa. La diversidad entre las medusas ha sido estudiada por los expertos durante años y es la razón por la que han sido divididas en varios grupos de especies sobre la base de sus características. Hoy en día existen más de 2000 especies de medusas identificadas y la mayoría de los investigadores creen que hay muchas más que aún no hemos descubierto.\n",
      "La vida de una medusa tiene lugar en el agua. Ellas no son capaces de moverse con gracia o rápidamente pero pueden dar la apariencia de ser muy peligrosas. La mayoría de las personas que han visto a una medusa en su medio silvestre lo han hecho cuando estas quedan varadas en la costa o playas si no logran volver al agua mueren.  Clasificaciones inferiores.\n",
      "Medusa Hydrozoa.\n",
      "Polypodiozoa Las medusas también llamadas aguamalas malaguas aguavivas aguacuajada avispas de mar o lágrimas de mar son animales marinos pertenecientes al filo Cnidaria son pelágicos de cuerpo gelatinoso.\n",
      "Categoría subfilo.\n",
      "Clasificación superior Cnidaria.\n",
      "\n",
      "========================================================================\n",
      "24 La gran mayoría de quienes practican deportes o se ejercitan con regularidad quieren hacerlo escuchando música y para ello existen muchas soluciones tecnológicas. Esto se puede hacer usando audífonos con cables o inalámbricos pero esto suele presentar problemas de incomodidad debido a los cables o a que para ciertas actividades se requieran accesorios adicionales.\n",
      "Para solucionar estos inconvenientes ha salido al mercado un producto novedoso. Se trata de unos audífonos todoterreno hechos por una empresa canadiense. Estos dispositivos se promocionan como los primeros audífonos inalámbricos de talla única pero que calzan perfecto en todos los oídos usan tecnología Bluetooth y son resistentes al agua. Así es no se necesita hacer uso de ningún otro accesorio si es que el usuario decide por ejemplo nadar con ellos.\n",
      "Y cómo se controlan los audífonos En la parte superior tienen los controles. Además el dispositivo ofrece hasta seis horas de reproducción de música continua gracias a su batería de ionlitio que se puede recargar al 80  en solo 30 minutos usando la caja que también sirve para guardarlos.\n",
      "Estos audífonos usan tecnología inalámbrica que permite una cobertura de hasta 30 metros y a través de una aplicación se puede identificar dónde están los audífonos si no los encuentras.\n",
      "Lo que debes saber para escoger audífonos a tu medida4 Expertos indican que al momento de elegir se debe considerar la actividad que se realizará mientras se escucha música.\n",
      "Vale la pena comprar unos audífonos cerrados Con este tipo de aparatos los oídos están completamente aislados del ruido del exterior. Son ideales para no molestar a otras personas con nuestra música. Son una buena opción los audífonos abiertos.\n",
      "Los auriculares abiertos están fabricados para que el oído no se tape completamente. Son más pequeños y livianos por lo que son más fáciles de usar. Además se pueden utilizar durante varias horas sin que produzcan molestias. La calidad de sonido es mejor. Alámbricos o inalámbricos Los auriculares que no cuentan con cables son mucho más prácticos ya que ofrecen máxima libertad de movimiento. Para escuchar música durante las prácticas deportivas qué se recomienda.\n",
      "Eso depende del tipo de ejercicio. Por ejemplo para montar bicicleta trotar u otras actividades que implican movimiento la recomendación es utilizar audífonos diseñados para fijarse alrededor de la oreja y que sean del tipo inear dentro de la oreja.\n",
      "\n",
      "========================================================================\n",
      "25 Al niño chico lo ha despertado en la cuna un rayito de sol que entra en el cuarto oscuro de verano por una rendija de la ventana cerrada.\n",
      "Si se hubiera despertado sin él el niño se habría echado a llorar llamando a su madre. Pero la belleza iluminada del rayito de sol le ha abierto en los mismos ojos un paraíso florido y mágico que lo tiene suspenso.\n",
      "Y el niño palmotea y ríe y hace grandes conversaciones sin palabras consigo mismo cogiéndose con las dos manos los dos pies y arrullando su delicia.\n",
      "Le pone la manita al rayo de sol luego el pie con qué dificultad y qué paciencia luego la boca luego el ojo y se deslumbra y se ríe refregándoselo cerrado y llenándose de baba la boca apretada. Si en la lucha por jugar con él se da un golpe en la baranda aguanta el dolor y el llanto y se ríe con lágrimas que le complican en iris precioso el bello sol del rayo.\n",
      "Pasa el instante y el rayito se va del niño poco a poco pared arriba. Aún lo mira el niño suspenso como una imposible mariposa de verdad para él.\n",
      "De pronto ya no está el rayo. Y en el cuarto oscuro el niño qué tiene el niño dicen todos corriendo qué tendrá llora desesperadamente por su madre.\n",
      "\n",
      "========================================================================\n",
      "26 Se dice del túnel cuyo ingreso está en la secretaría de la dirección que al bajar por sus escaleras se llega a un callejón al estilo de las galerías subterráneas del Templo Viejo de Chavín de Huántar. Después de ese túnel hay un gran salón con tres túneles más pequeños borrosamente se puede leer algunas letras en la parte superior letras que engloban una frase inentendible.\n",
      "La historia relata que uno de los túneles conduce a la playa el otro al palacio de gobierno y el último a las orillas del hoy subterráneo río Surco.\n",
      "Sin embargo los protagonistas de este relato le dan otro significado manifiestan que el primer túnel conduce a la libertad de los esclavos que trabajaban en la época virreinal en el sótano de la casona y que lo construyeron con utensilios de cocina y una que otra herramienta de jardinería que ocultaban a sus celadores. Al ser descubierto uno de los ocasionales patrones mandó construir dos túneles exactamente iguales. Uno de ellos conducía a una sala de manera que los fugitivos en su rauda huida caían a un perol con agua hirviente. Los restos de los infortunados eran cocinados a tal punto que se les extraían las vísceras y huesos y con su pulpa y grasa se fabricaban jabones o se usaban para pulir las finas alhajas de oro de las bellas damas de la nobleza limeña.\n",
      "El segundo túnel conducía a una bóveda herméticamente cerrada con un portón de fierro. Al abrir la puerta el fugitivo caía a un profundo y nauseabundo pozo lleno de eses.\n",
      "Distinguir los diferentes túneles era muy complicado la oscuridad y similitud rara vez conducía a los fugitivos a la libertad.\n",
      "Túnel de Chavín de Huántar .\n",
      "\n",
      "========================================================================\n",
      "27 Eran entre sí muy parecidas al extremo de semejar una la sombra de la otra. No iban a prisa. Avanzaban calladas acaso intercambiando frases cortas. Aun así no se notaba el movimiento de sus labios sus manos desconocían la mímica. Eran pobres pobrísimas pero envueltas en sus mantas de vapor esas negras y delgadas que entonces se traían de la China caminaban con cierta parsimonia que trasuntaba gravedad o señorío. Les decían la Yunta o las Faldonas pero ninguno de estos apodos caló.\n",
      "Vivían en una casucha de tablas en la calle Ayacucho y se les veía caminar las tres bajadas del pueblo la de la Oroya la de Zepita y la famosa de los Baños descubriéndoseles en los crepúsculos matinal y vespertino yendo a rezar a la ermita.\n",
      "Verlas cruzar el puente de los Suspiros en la oscuridad casi nocturna daba miedo.\n",
      "Magras silentes enmantadas sugerían un cuadro fantasmal. Parecían almas en pena. El vecindario las vio así y les puso duradero sobrenombre vinculado al purgatorio. Desde entonces cuando se les veía ir venir o pasar los chicos nos alertábamos con un codazo y concluíamos en voz baja Las Ánimas.\n",
      "Eran hermanas de padre y madre. La madre había sido una mulata muy bella mulata bonita la recordaban las viejas y el padre un señorón de títulos y campanillas hombre rico en el lugar y con mundo social en Lima.\n",
      "A pesar de la riqueza del padre ambas eran pobres. Tanto que a veces no tenían qué comer. Entonces sus amigas algunas de cierta holgura con delicadeza y cariño las invitaban a almorzar las esperaban a cenar o les obsequiaban las negras mantas con las que envolvían sus figuras. Ellas no lo tomaban a dádiva sino como regalo amical. Y lo agradecían cumplidamente. Más tarde estas mismas amigas para poder darles dinero sin ofenderlas les inventaron un trabajo. A raíz de ello ambas hermanas sacaban a pasear un perrillo.\n",
      "Eran muy piadosas. Pertenecían a ese tipo de beatas que solo se veía en Barranco en algunos barrios de Lima y en los cuadros de Camino Brent. Todos los días lo hemos dicho acudían a la ermita y por las mañanas a misa. Hincadas de rodillas oraban con verdadera unción. Pero pese a ir a misa todas las mañanas nadie las había visto comulgar. No faltó una beata impertinente que les preguntó a quemarropa Y ustedes que son tan rezadoras por qué no comulgan. El momento debió ser terrible. Las hermanas se miraron en silencio. El tiempo se hizo larguísimo. Rosalía miró a Agripina y esta asintió con la cabeza. Entonces fue que Rosalía contando con la anuencia de su hermana mayor tomó la palabra y respondió serenamente Porque para comulgar hay que perdonar y nosotras no podemos perdonar al padre que nunca nos reconoció por hijas.\n",
      "\n",
      "========================================================================\n",
      "28 Un caballero inglés fervoroso católico ocultó la imagen del Crucificado para salvarla de la destrucción en tiempos de la reforma de Martín Lutero en Alemania 15171560 o tal vez de la persecución desatada en Inglaterra por Enrique VIII 15531560.\n",
      "Luego este personaje se la entregó a un hidalgo español para que la trajera a América. Este resolvió traerla a Lima y se embarcó con la imagen en una noche oscura de mayo rumbo al Nuevo Mundo.\n",
      "Pero una fuerte tormenta interrumpió el viaje frente al puerto del Callao y el barco al perder el control de su timonel llegó frente a las costas de Ica. Entonces la imagen equivocadamente fue desembarcada e inmediatamente puesta a lomo de mula con dirección a Lima.\n",
      "Por capricho del destino la mula se perdió sin que se diera cuenta el arriero y fue a parar al lugar de HurinIka en donde la mula no quiso moverse para ningún lado.\n",
      "Así estuvo mucho tiempo con su carga sobre el lomo y sin que al parecer le molestara en absoluto el peso del Crucificado.\n",
      "Finalmente fue visto por unos pobladores del lugar y sin ningún contratiempo allí mismo le levantaron una capilla en donde comenzó la explosiva devoción de los lugareños.\n",
      "\n",
      "========================================================================\n",
      "29 Polideportivo PUCP 200 p. m  800 p. m.\n",
      "\n",
      "========================================================================\n"
     ]
    },
    {
     "name": "stdout",
     "output_type": "stream",
     "text": [
      "30 Hay muchos caminos que conducen a Machu Picchu pero ninguno como el Camino Inca el más popular entre los viajeros y la vía peatonal más famosa del continente americano. Desde Cusco 43 kilómetros de una ruta entre bosques y densas nieblas escalones de piedra milenarios y vistas majestuosas.\n",
      "Al final está la recompensa la famosa Puerta del Sol y sus impresionantes vistas de las ruinas de Machu Picchu.\n",
      "Hacer el Camino Inca es un rito para el viajero y una aventura única. El trayecto más largo se inicia en Piscacucho km 82 de la línea férrea hacia Machu Picchu. Atraviesa diferentes ecosistemas colosales sitios arqueológicos y parajes ricos en flora y fauna hasta llegar a la ciudadela de Machu Picchu.\n",
      "Es importante escoger la mejor época. Se organizan grupos todo el año excepto en febrero cuando llueve a cántaros y el Camino Inca se cierra por mantenimiento pero los mejores meses más fríos y secos son junio julio y agosto.\n",
      "Para realizar la excursión es indispensable contactar con una agencia de turismo especializada o con un guía oficial de turismo.\n",
      "Datos generales Ubicación departamento de Cusco. Provincia de Urubamba 2400 m s. n. m. Machu Picchu.\n",
      "Clima templado Temperatura promedio 15 C.\n",
      "Temporada recomendado entre los meses de abril a octubre cerrado por mantenimiento durante el mes de febrero Acceso vías aérea y terrestre de Lima y Arequipa a Cusco. Vía férrea PoroyPiscacucho km 82 y Machu Picchu  Poroy retorno 92 km en 3 horas 30 minutos.\n",
      "Nivel medio Tiempo 4 días.\n",
      "\n",
      "========================================================================\n",
      "31 Dibujos de algunas de las caras esculpidas en las cabezas clavas según una teoría representarían rostros de sacerdotes bajo los efectos de alucinógenos.\n",
      "La cultura Chavín se expresa de modo elocuente en la arquitectura del sitio de Chavín tradicionalmente conocido como Chavín de Huántar cuya jurisdicción pertenece al distrito de Chavín de Huántar.\n",
      "Los muchos monolitos esculpidos con figuras de seres sobrenaturales que en su mayoría adornaban sus muros dan prestigio a este sitio arqueológico. Una de las características generales de estos monolitos es que fueron hechos de piedra arte lítico y con énfasis religioso.\n",
      "La magnificencia y majestad de Chavín es tal que su construcción era asignada a una raza de gigantes y no a hombres comunes. Registra esta explicación mítica Pedro Cieza de León 1553 al describir lo que ya en su tiempo era una antigualla abandonada por el hombre.\n",
      "Información general Ubicación Faldas orientales de la Cordillera Blanca.\n",
      "Altitud 3185 metros de altitud.\n",
      "Descripción Triángulo formado por el Huachecsa y el Mosna ríos que se unen para al Marañón. geográfica Las cabezas clavas. Principales El Lanzón Monolítico. esculturas La Estela de Raimondi.\n",
      "\n",
      "========================================================================\n",
      "32 6 a. m. a 9 a. m. 6 p. m. a 9 p. m.\n",
      "Información para la primera semana de enero de 2012 durante el periodo de pruebas .\n",
      "\n",
      "========================================================================\n",
      "33 Responsabilidad Un compromiso con la comunidad y el lugar donde viven para generar un impacto positivo. Permite reflexionar administrar orientar y valorar las consecuencias de los actos.\n",
      "Paz Es producto de la armonía social. Va acompañado de la JUSTICIA y la LIBERTAD.\n",
      "R e s p e t o Yo respeto tus derechos.\n",
      "Yo respeto tus derechos.\n",
      "Solidaridad Ayudarse los unos a los otros por el bien de toda la sociedad.\n",
      "\n",
      "========================================================================\n",
      "34 INGREDIENTES  1 kg de carne bistec huachalomo lomo fino.\n",
      " 12 kg de cebolla cortada a lo largo gruesa.\n",
      " 250 g de tomates pelados y cortados a lo largo.\n",
      " 1 kg de papas cortadas para freírlas.\n",
      " Sal pimienta y ajos al gusto.\n",
      " Sillao.\n",
      " 12 taza de perejil picado.\n",
      " Vinagre.\n",
      " Aceite.\n",
      "ORIGEN El lomo saltado se originó a mediados del siglo XIX de la mezcla de la cocina cantonesa con la criolla. La receta para preparar este delicioso plato típico peruano es bastante sencilla.\n",
      "PREPARACIÓN  Freír las papas en regular cantidad de aceite bien caliente.  Echar las papas fritas en un recipiente en el que previamente se colocó papel toalla o servilletas de papel para absorber el aceite.  Lavar la carne y escurrir bien luego sazonarla con sal pimienta ajos y sillao. De preferencia dejar reposar.  En una sartén con aceite bien caliente freír la carne procurando flamearla para obtener un delicioso sabor.  Para obtener el flambeado es necesario calentar el aceite hasta que comience a humear en ese momento echar la carne cebolla y tomate. Luego mover un poco la sartén obteniendo así que las llamas entren al sartén.  En el caso de la cebolla y el tomate una vez que se han enviado al aceite caliente proceda a agregar un chorrito de vinagre que es lo que va a producir el flambeado obteniendo así el sabor característico del lomo saltado. Agregar sal a gusto.  Una vez cocinadas la carne cebolla y tomate unir con las papas fritas y el perejil picado. Revisar la sal.  Acompañar con arroz blanco graneado.\n",
      "\n",
      "========================================================================\n",
      "35 Mi negocio  Destina un espacio de gran visibilidad para ubicar tus promociones.\n",
      " Ten la cantidad de productos necesarios para cubrir las ventas planificadas.\n",
      "Investiga las nuevas tendencias en tu rubro y las expectativas de tus clientes.\n",
      "Visita tiendas de tu rubro consulta a tus proveedores por nuevas ofertas.\n",
      "Presupuesta lo que te costará la campaña.\n",
      "Define qué te va a diferenciar de la competencia.\n",
      "\n",
      "========================================================================\n",
      "36 En el mundo se discute la importancia de los alimentos transgénicos y los alimentos orgánicos. Elegir entre ambos no resulta sencillo dado que cada uno tiene sus seguidores y detractores que esgrimen argumentos muy claros sobre el asunto. Hoy vamos a escuchar a las dos partes para que tú elijas quién gana esta escaramuza en la batalla por la alimentación saludable.\n",
      "Qué son los alimentos transgénicos La definición de alimentos transgénicos es sencilla se trata de alimentos que han sido producidos a partir de un organismo modificado de forma genética. Para los adeptos al grupo de los alimentos transgénicos estos alimentos tienen una justificación en su producción.\n",
      "Todo comienza cuando en el mundo se inicia una alta demanda de alimentos para la población y de alguna manera se buscaba producir más alimentos. Además se busca intervenir en la producción para que los alimentos sean más resistentes a pesticidas bacterias u otros tipos de contaminantes.\n",
      "Los más expertos en biotecnología confían en que estas prácticas de intervención lleguen a producir suficiente comida para los 9 billones de personas que habitarán la Tierra en el 2050. De todas formas sobre estas prácticas existe mucha reserva porque las personas que se oponen a los alimentos transgénicos argumentan que el uso de químicos en la agricultura por ejemplo puede empeorar las condiciones de los suelos produciendo mayor contaminación y pérdida de la biodiversidad.\n",
      "Si bien el proceso de creación de alimentos transgénicos puede acarrear varios efectos secundarios no solo en la salud de las personas sino también en los especímenes utilizados para el procedimiento hay que reconocer que los transgénicos aportan ciertos beneficios que han permitido que la investigación para la mejora de estos productos continúe.\n",
      "Beneficios de los alimentos transgénicos  Alimentos con mejores y más cantidad de nutrientes.\n",
      " Mejor sabor en los productos creados.\n",
      " Mejor adaptación de las plantas a condiciones de vida más difíciles.\n",
      " Aumento en la producción de los alimentos con un sustancial ahorro de recursos.\n",
      " Aceleración del crecimiento de las plantas y animales.\n",
      " Mejores características de los alimentos producidos a la hora de cocinarse.\n",
      " Capacidad de los alimentos para ser utilizados como medicamentos o vacunas para la prevención y el tratamiento de enfermedades.\n",
      "Qué son los alimentos orgánicos La otra cara de la moneda nos muestra a los alimentos orgánicos que son aquellos que no tuvieron ningún tipo de intervención de pesticidas herbicidas o fertilizantes durante su producción. Es decir son alimentos libres de aditivos y sustancias sintéticas.\n",
      "\n",
      "========================================================================\n",
      "37 Los videojuegos adquirieren cada vez mayor importancia en nuestra sociedad. Eso no me lo negarán ustedes Ya no son solo una distracción para los llamados frikis sujetos que practican obsesivamente una afición. Tienen un potencial mucho mayor que ha comenzado a explorarse. No por nada el creador de la Nintendo DS Shigeru Miyamoto ha dicho Los videojuegos nos hacen mejores.\n",
      "A pesar de esto son diversos los sectores que no apoyan esta opinión. Muchos catalogan los videojuegos de perjudiciales y no dudan en decir que empeoran la educación de los niños lo cual es una mentira tan grande como los billetes de 300 soles los videojuegos estimulan una parte del cerebro que mejora la psicomotricidad en los niños y la rapidez mental en los jóvenes.\n",
      "El lado negativo de jugar videojuegos es que puede ser adictivo como cualquier otra actividad de ocio. Además si los padres de menores de edad no prestan la atención necesaria sus hijos podrían jugar a videojuegos para mayores de 18 años con temáticas violentas amorales o indecorosas lo cual puede conllevar confusión con respecto a conceptos morales y éticos. Otro punto en contra es que el exceso de horas delante de la pantalla del televisor o del portátil puede generar deterioro temprano de la vista.\n",
      "Pero no todo lo que rodea al mundo de los videojuegos es negativo por ejemplo las consolas como la famosísima Nintendo Wii ayudan al niño en la percepción de su alrededor y en la movilidad de las muñecas y de las manos. Otro punto a favor de los videojuegos es que a los niños les parecen muy divertidos.\n",
      "Por otro lado como todos sabemos las innovaciones nos ayudan en la vida cotidiana facilitándonos muchas tareas. En ese contexto los videojuegos realizan innovaciones importantísimas que pueden ser empleadas en espacios diversos. Además cada día el mundo de los videojuegos aporta cosas nuevas y seguramente sus innovaciones nos depararán agradables sorpresas en el futuro. Cabe decir que debemos desterrar la idea de que los videojuegos solo están destinados a un sector de la sociedad. Los videojuegos hace tiempo que han llegado y están aquí para quedarse.\n",
      "El eterno debate los videojuegos son una adicción3 Para muchas personas es incomprensible que un adolescente o adulto pueda estar sentado frente a una pantalla por tanto tiempo inmóvil.\n",
      "Se cuestiona a los videojuegos como un peligro para la salud ya que algunas personas afirman que su prolongada práctica puede conducir al sedentarismo volver violentos a quienes juegan entre otras consecuencias negativas. Incluso un grupo más fuerte sostiene que puede causar daños cerebrales aunque no hay pruebas científicas que hayan demostrado esa teoría.\n",
      "Por otro lado diversos estudios y encuestas efectivamente han concluido que aquellos jóvenes que hacen de los videojuegos una actividad en la cual invierten una considerable cantidad de tiempo son propensos a desarrollar actitudes en cierto grado antisociales. Esto se debe en parte a que la experiencia de juego .\n",
      "\n",
      "========================================================================\n"
     ]
    },
    {
     "name": "stdout",
     "output_type": "stream",
     "text": [
      "38 Tener conciencia ecológica es entender que somos dependientes de la naturaleza y responsables de su estado de conservación. Ignorar esta verdad equivale a autodestruirnos porque al degradar el ambiente estamos empeorando nuestra calidad de vida y poniendo en peligro el futuro de nuestros descendientes.\n",
      "Al contrario de lo que se podría pensar desarrollo económico y conciencia ecológica no tienen por qué ser antónimos. Se puede producir de manera sustentable fomentar la generación de energías limpias reducir y reciclar la basura y reutilizar un gran número de materiales que producirán nuevos productos útiles para el día a día del hombre moderno.\n",
      "Es cierto que la conciencia ecológica debe comenzar en el seno del hogar pero debe extenderse a todos los ámbitos de nuestra existencia porque simplemente todas nuestras acciones inciden de manera positiva o negativa sobre la naturaleza.\n",
      "Una actitud positiva por nuestro ambiente Mientras ellos te prometen la luna nosotros te garantizamos la Tierra.\n",
      "Hablar de una actitud positiva en beneficio de nuestro ambiente es actuar para su cuidado y protección. Observemos los porcentajes obtenidos al respecto en una encuesta de opinión el 466  se identifica con la alternativa Algo en relación con el conocimiento sobre el cambio climático.\n",
      "Conocimientos sobre cambio climático Nada.\n",
      "\n",
      "Casi nada Indiferente.\n",
      "Algo Esto significa que la conciencia ecológica . no está arraigada. La conciencia ecológica Mucho se refiere a la aprehensión real y profunda TOTAL 120 999 de actitudes conscientes en beneficio propio de los otros y del planeta. Es por Fuente elaboración propia 2014. ello que el concepto de ambiente involucra al entorno que afecta y condiciona especialmente las circunstancias de vida de las personas.\n",
      "Por ello estudios afirman que la conciencia ecológica se forma en la familia y el papel de la educación tanto formal como no formal es reforzar los valores aprendidos en el hogar. Dicha conciencia se manifiesta en todos los actos de la vida lo que implica por ejemplo el cuidado de las áreas verdes que rodean urbanizaciones la disposición de la basura el mantener limpio el frente de casas y edificios el unirse con los vecinos para tomar acciones y hacer gestiones que mejoren las condiciones de vida en la comunidad.\n",
      "\n",
      "========================================================================\n",
      "39 Es una especie de cetáceo odontoceto de la familia Phocoenida de la cual quedan 97 ejemplares. Se han puesto en marcha medidas de conservación. Sin embargo la especie está considerada en peligro inminente de extinción.\n",
      "Es un cetáceo endémico de aguas mexicanas que habita en la reserva del alto golfo de California. Es uno de los más pequeños en ningún otro sitio del mundo existe este sorprendente animal de 150 cm que pesa hasta 50 kg.\n",
      "Una característica de esta especie es la apariencia sobresaliente de sus labios. Por otro lado la parte superior de su cuerpo es gris oscuro y la parte inferior es casi blanca o gris claro. También resaltan sus aletas proporcionalmente grandes.\n",
      "Esta enigmática especie es muy tímida y no salta como los delfines en la superficie del mar sino simplemente emerge algunos segundos para tomar aire. La pesca con redes de enmalle ha ocasionado que esta especie se encuentre muy cerca de la extinción. Por lo que ver un espécimen de la mítica vaquita marina es casi imposible.\n",
      "Las vaquitas utilizan sonidos agudos para comunicarse entre sí y para navegar en sus hábitats ecolocación. Por lo general nadan y se alimentan a un ritmo pausado. Las vaquitas evitan acercarse a los barcos suben a respirar lentamente y luego desaparecen de manera rápida. Estar alejadas de la superficie hace que sea difícil observarlas. Están generalmente solas a menos que estén acompañadas de una cría siendo menos sociales que otras especies de delfines. Las vaquitas pueden ser muy competitivas durante su etapa de apareamiento. Es la única especie perteneciente a la familia de las marsopas que vive en aguas calientes. Son depredadores no selectivos.\n",
      "Se sabe poco acerca de su ciclo de vida. Los científicos siguen investigando muchas cosas tales como su edad de maduración sexual longevidad ciclo de reproducción sexual y su interacción. Se han hecho suposiciones pero se necesita más investigación para establecer valores concretos muchas de estas suposiciones han sido estimadas gracias al estudio de vaquitas abandonadas o atrapadas en las redes otras se basan en investigaciones de otras especies de marsopas similares a las vaquitas marinas.\n",
      "Se cree que las vaquitas viven aproximadamente 20 años en condiciones ideales. Alcanzan su madurez sexual a los 3 años la reproducción ocurre durante finales de primavera o principios de verano su periodo de gestación es de 10 a 11 meses y llegan a tener una cría.\n",
      "Ellas rara vez nadan a más de 30 metros de profundidad y son conocidas por vivir en lagos poco profundos tanto que su espalda llega a sobresalir de la superficie del agua. Tienden a escoger hábitats con aguas turbias porque poseen un alto contenido de nutrientes. Estos nutrientes ayudan a atraer pequeños peces calamares y crustáceos que les sirven de alimento.\n",
      "La vaquita marina está considerada en el más alto riesgo de extinción de entre las 129 especies de mamíferos marinos. Se encuentra clasificada como una de las 100 especies de mamíferos evolucionariamente distintas y no tiene parientes cercanos. Estos animales representan uno de los tres que son prioritarios para hacer campañas de conservación. El Gobierno de Estados Unidos ha listado a la vaquita en la categoría de las especies que están en peligro crítico de extinción.\n",
      "La mayor amenaza para la vaquita marina es el uso indiscriminado de redes de enmalle. En 1997 la población de vaquitas era de 567. En el año 2000 se registró que el número de ejemplares estaba entre 150 y 300. En el 2014 la población se estimó en 100 individuos. La recomendación para hacer prosperar su recuperación es que se prohíba el uso de redes de enmalle. El 16 de abril de 2015 el presidente de México Enrique Peña Nieto anunció un programa para el rescate y la conservación de la vaquita el cual incluye vedas y apoyo económico a los pescadores de la zona.\n",
      "\n",
      "========================================================================\n",
      "40 En los densos bosques de la selva alta vive una de las aves más bellas del Perú es considerada ave nacional. Su nombre en quechua es tunqui y en español es gallito de las rocas.\n",
      "Es un ave mediana de unos 32 cm de largo y con un marcado dimorfismo sexual relacionado con el color. El macho es de un hermoso color rojoanaranjado intenso posee ojos anaranjados su pico y patas son amarilloanaranjados tiene una cresta erecta de plumas sobre el pico y la frente sus alas y cola son de color negro aunque también tiene algunas plumas de color gris perla en las alas. La hembra es de color marrónrojizo oscuro en su totalidad y posee una cresta más pequeña.\n",
      "El gallito de las rocas prefiere vivir en ciertas zonas de los bosques húmedos y cerrados generalmente cerca de arroyos y paredes rocosas o acantilados allí puede ser muy común verlos. Es un ave por lo general silenciosa que solo emite sonidos cuando está en celo una especie de gruñidos o cuando se espanta o está alejado de su territorio un sonido como uankk.\n",
      "Es solitaria solo en la época de reproducción se reúnen alrededor de 40 machos que esperan ser escogidos por la hembra. Los machos se sitúan en un espacio de alrededor de medio metro denominado lek donde podrán danzar y lucirse a la espera de ser escogidos. Estas danzas nupciales son todo un espectáculo porque se puede ver a un grupo de varios machos realizando la danza y a las hembras posadas en las ramas contemplándolos. Este será el único momento en que encontraremos a la gallina acompañada ya que ella sola se encargará del cuidado de sus polluelos desde la construcción especial de sus nidos pasando por la incubación y protección hasta la alimentación.\n",
      "Estas bellas aves al alimentarse principalmente de frutos son activos dispersadores de semillas. Así ayudan a la regeneración natural del bosque donde habitan.\n",
      "El tunqui goza de protección legal estando prohibida su caza y comercialización sin embargo esta disposición no es acatada y lo comercializan vivo o disecado en muchas partes.\n",
      "En el Perú se encuentra en varias áreas protegidas como parques nacionales Río Abiseo San Martín YanachagaChemillén Pasco Tingo María Huánuco y Manu CuscoMadre de Dios y bosques de protección Alto Mayo San Martín San MatíasSan Carlos Pasco y PuiPui Junín.\n",
      "\n",
      "========================================================================\n"
     ]
    },
    {
     "name": "stdout",
     "output_type": "stream",
     "text": [
      "41 El león siempre conocido por ser el rey de la selva es muy sociable es el único felino que vive en manadas usualmente compuestas por hasta 15 hembras de 1 a 3 machos y muchos cachorros todos ellos menores de tres años.\n",
      "Llega a medir entre 14 y 230 metros sin incluir la cola la cual puede medir de 68 a 100 cm. De forma silvestre viven entre 10 y 16 años mientras que en cautiverio pueden llegar a vivir entre 20 y 25 años.\n",
      "Los machos se diferencian fácilmente de las hembras ya que tienen una melena abundante además de ser más robustos. Algunos machos tienen la melena de color negra pero la mayoría la tiene de color más claro aunque más oscura que el color del pelaje del cuerpo que es de color dorado. Los machos pesan un 45  más que las hembras llegando a alcanzar los 225 kg.\n",
      "La vista del león es muy buena tiene una visión nocturna seis veces mejor que la de los humanos. Sus oídos son tan sensibles que le permiten escuchar hasta la presa más pequeña un ratón. Además posee una mandíbula y unos dientes fuertes.\n",
      "Habita al sur del Sahara en África y en el noroeste de la India.\n",
      "Las hembras tienen de dos a cuatro cachorros por parición y el tiempo de gestación es de 100 días. Para parir las leonas se apartan de la manada.\n",
      "Durante los primeros tres meses los cachorros solo se alimentan de la leche de la madre luego ya tienen todos sus dientes y comienzan a comer carne. Usualmente la caza la realizan las hembras las cuales acechan a las cebras a los antílopes a los búfalos africanos y a varios animales más. Aunque las hembras tienen la tarea de cazar los primeros en comer son siempre los machos. Cuando salen de caza que no son todos los días las leonas ocupan de dos a tres horas en esta actividad. La principal tarea del león es cuidar de la manada no buscar alimento.\n",
      "Las hembras también tienen la tarea de criar a los cachorros. Son muy protectoras de sus hijos los transportan en sus bocas y así los defienden de los machos invasores que suelen matar a las crías para que así las hembras queden libres y puedan aparearse con ellos.\n",
      "Los machos tienen la importante tarea de proteger a su manada y su territorio. Siempre están atentos para prevenir cualquier ataque especialmente de otros leones machos ajenos a la manada. Para esto rugen y lo hacen tan fuerte que los rugidos se pueden llegar a escuchar a ocho kilómetros de distancia. Utilizan esto para advertir la presencia de intrusos en su territorio y así reunir a toda la manada.\n",
      "\n",
      "========================================================================\n",
      "42 En la historia del libro y de la lectura surge la polémica sobre si se debe optar por el formato tradicional en papel o por el electrónico. Sucede que cada uno de estos formatos tiene puntos fuertes y débiles.\n",
      "Los beneficios del libro en papel Leer es beneficioso sin embargo leer de un libro de papel o de un libro electrónico no es lo mismo la lectura del primero se disfruta mucho más.\n",
      "No me imagino un buen lector sin un libro bajo el brazo conectado al olor al tacto a la belleza visual y volumen del papel.\n",
      "Un libro de papel no te abandonará porque se acabó la batería porque no reconoce el formato o porque la actualización del software no se pudo realizar.\n",
      "Existen otras ventajas que tiene el libro de papel y que me permiten preferirlo pueden llegar a durar décadas o siglos puedo hacer una gran biblioteca personal con ellos y mostrarla a mis amigos y conocidos su funcionamiento es muy sencillo basta con abrirlo y empezar a leer me acompaña a cualquier lugar incluso si me voy de viaje siempre es un gran regalo se puede prestar a un amigo a un familiar a un vecino a un compañero de clase o de trabajo.\n",
      "Cada libro nos puede hacer recordar un momento especial por ejemplo un viaje ya que es el compañero perfecto para cualquier travesía.\n",
      "No podemos olvidar sus anotaciones en los márgenes las dobleces en las páginas sus marcapáginas o demás cosas que solemos usar para guardar una lectura como cartas fotografías calendarios billetes de tren .\n",
      "Entre estas consideraciones privilegio al libro de papel por el placer de descubrir lecturas en un estante o simplemente por permitir que lo ojeemos al azar.\n",
      "Las ventajas de leer libros electrónicos2 La lectura de los libros electrónicos es más ventajosa que los libros constituidos por tapa contratapa hojas lomo etc. No trato de mostrar los defectos del libro en papel sino los beneficios del libro electrónico que saltan a la vista.\n",
      "Por ejemplo una de sus ventajas es que no ocupa espacio en casa puedes llevar una gran cantidad de ellos en tu cartera o maleta además permiten tomar anotaciones subrayarlos marcar páginas etc.\n",
      "Facilita el acceso a la lectura para personas con deficiencias visuales se puede adaptar el tamaño de las letras cambiar la tipografía y darles mayor oscuridad o claridad.\n",
      "Permite buscar una palabra o frase instantáneamente tienen diccionarios incorporados o permiten incorporarlos y se pueden instalar otros diccionarios si se lee en diferentes idiomas. También tienen hyperlinks para buscar información adicional. Se socializan las lecturas pues fácilmente se comparten citas a través de Facebook Twitter y otras redes.\n",
      "El poder de la tecnología ha logrado modificar la vida de las personas en este proceso se ubican los libros electrónicos ebooks eReaders o digitales cada vez más accesibles y ventajosos.\n",
      "\n",
      "========================================================================\n",
      "43 Las típicas El tema del uso de las mochilas es una preocupación anual de los padres de familia al iniciar el año escolar.\n",
      "Rita Gutiérrez especialista en terapia física y rehabilitación del Instituto Nacional de Salud recomendó a los padres adquirir mochilas con tirantes debido a que son más adecuadas para el traslado de los útiles escolares.\n",
      "Según la especialista los músculos de la espalda pueden soportar el peso de los útiles escolares. Indicó que el peso correcto de las mochilas no debería ser mayor de 10  del peso corporal del niño y en el caso de los adolescentes de 15 . Es decir si el escolar pesa 40 kg el peso máximo que puede cargar en la mochila es de 4 kg. Considerando esta recomendación este tipo de mochila no tiene por qué causar daño a los niños ni adolescentes se reparte el peso de manera adecuada cuando se utiliza correctamente.\n",
      "Otra de las ventajas es que tiene mucho espacio y es cómoda de llevar además de ser ajustable para colocarla a la altura perfecta.\n",
      "Estas mochilas clásicas suelen estar al alcance de la mayoría por ser más económicas. Además pueden plegarse totalmente facilitando su guardado cuando no se utilizan.\n",
      "Finalmente se debe tomar en cuenta que las mejores mochilas escolares no siguen modas se adaptan a las necesidades contribuyen a un buen cuidado de la salud son cómodas y no perjudican la economía familiar.\n",
      "Lo mejor son los carritos Muchos padres cuando el año escolar da inicio se preocupan por los daños que la sobrecarga de útiles escolares pueda causar en la espalda de sus hijos. La mochila de ruedas salió al mercado como una buena alternativa de solución a este problema.\n",
      "No cargamos nada en la espalda ya que la mochila siempre está en contacto con el suelo. El esfuerzo que debemos hacer es muchísimo menor.\n",
      "No obstante permite que en un momento dado podamos cargarla a la espalda por ejemplo para poder subir escaleras ya que además de las ruedas cuenta con las clásicas asas.\n",
      "Suelen ser de mayor tamaño por lo que la capacidad es mayor en algunos casos es necesario tener más espacio para guardar los accesorios extraescolares etc.\n",
      "\n",
      "========================================================================\n",
      "44 Uso y abuso de las redes sociales Utilizar Facebook a diario puede ser un arma de doble filo. Dicha red social al igual que Twitter constituye una herramienta masiva y poderosa de comunicación.\n",
      "Una red social puede servir en pocas palabras para realizar acciones buenas y honrosas o para realizar acciones malas que pueden causar diversos daños.\n",
      "Obviamente la calidad de las comunicaciones es decir de lo que se transmite depende enteramente de las personas.\n",
      "En Egipto no hace mucho se desató una revolución que terminó por derrocar al Gobierno de dicho país. Este fenómeno se debió en parte a la expansión de los medios de comunicaciones a la publicidad y a lo fácil que les resultó a los ciudadanos comunicarse y organizarse a través de las redes sociales.\n",
      "Lo que suele ocurrir es que muchos jóvenes la mayoría de las veces sin tener conciencia de las consecuencias realizan un mal uso de las herramientas digitales.\n",
      "Un tema importante es el que se refiere a la privacidad. Internet es un mundo abierto público donde nunca se puede saber con certeza qué tan seguros se encuentran nuestros datos ni cuánto peligra la seguridad de las personas.\n",
      "Como señala Borja Fernández Canel en el libro Las Redes Sociales lo que hacen sus hijos en internet La facilidad de estar en contacto con personas de tu barrio ciudad o incluso de otros países ha producido que las redes sociales sean actualmente el boom de internet y era de prever que sucedería.\n",
      "En contra de internet y la pérdida de la privacidad Hoy en día hay una notoria pérdida de privacidad la cual se ve reflejada en la sociedad. Esta pérdida comenzó con el uso masivo de internet y el manejo de la información personal en las redes sociales.\n",
      "La información íntima de las personas que antes se consideraba perteneciente al ámbito privado pasó a ser exhibida en espacios públicos sin que se respetaran límites ni edades. Estos espacios que nos ofrece internet Facebook Twitter blogs etc. son los que más perjudican a la sociedad.\n",
      "Se ha demostrado mediante estadísticas que en las últimas 20 décadas hubo una pérdida del 90  de la privacidad en todo el mundo lo que conlleva a problemas serios de seguridad .\n",
      "Sin embargo resulta más preocupante la pérdida de respeto hacia uno mismo. Los adolescentes por ejemplo hacen confesiones personales innecesarias suben fotos donde salen desprovistos de ropas y haciendo poses insinuantes .\n",
      "Creo que a partir de esto ya no hay vuelta atrás. A lo único a lo que se puede aspirar es a la toma de conciencia de la gente.\n",
      "Termino estos pensamiento con la frase de Cyril Connolly escritor y crítico literario inglés Es mejor escribir para uno mismo y no encontrar público que escribir para el público y no encontrarse uno mismo.\n",
      "\n",
      "========================================================================\n"
     ]
    }
   ],
   "source": [
    "for index, resultT in enumerate(results):\n",
    "    resultT.save(database)\n",
    "    print(index, resultT.toString())\n",
    "    print('========================================================================')"
   ]
  },
  {
   "cell_type": "code",
   "execution_count": null,
   "metadata": {},
   "outputs": [],
   "source": []
  },
  {
   "cell_type": "code",
   "execution_count": null,
   "metadata": {},
   "outputs": [],
   "source": []
  },
  {
   "cell_type": "code",
   "execution_count": null,
   "metadata": {},
   "outputs": [],
   "source": []
  }
 ],
 "metadata": {
  "colab": {
   "default_view": {},
   "name": "ConvertPdfToText.ipynb",
   "provenance": [],
   "version": "0.3.2",
   "views": {}
  },
  "kernelspec": {
   "display_name": "Python 3",
   "language": "python",
   "name": "python3"
  },
  "language_info": {
   "codemirror_mode": {
    "name": "ipython",
    "version": 3
   },
   "file_extension": ".py",
   "mimetype": "text/x-python",
   "name": "python",
   "nbconvert_exporter": "python",
   "pygments_lexer": "ipython3",
   "version": "3.6.4"
  }
 },
 "nbformat": 4,
 "nbformat_minor": 1
}
