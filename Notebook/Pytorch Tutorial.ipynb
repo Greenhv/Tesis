{
 "cells": [
  {
   "cell_type": "code",
   "execution_count": 20,
   "metadata": {},
   "outputs": [
    {
     "data": {
      "text/plain": [
       "<torch._C.Generator at 0x7f4ba403c6b0>"
      ]
     },
     "execution_count": 20,
     "metadata": {},
     "output_type": "execute_result"
    }
   ],
   "source": [
    "# Author: Robert Guthrie\n",
    "\n",
    "import torch\n",
    "import torch.nn as nn\n",
    "import torch.nn.functional as F\n",
    "import torch.optim as optim\n",
    "\n",
    "torch.manual_seed(1)"
   ]
  },
  {
   "cell_type": "code",
   "execution_count": 51,
   "metadata": {},
   "outputs": [
    {
     "name": "stdout",
     "output_type": "stream",
     "text": [
      "Batch torch input and hidden state\n",
      "Input:\n",
      "torch.Size([300, 32, 300])\n",
      "Initial Hidden:\n",
      "torch.Size([1, 32, 32])\n",
      "===================================\n",
      "Final result!\n",
      "Out:  torch.Size([32, 300, 32])\n",
      "Hidden:  torch.Size([1, 32, 32])\n"
     ]
    }
   ],
   "source": [
    "lstm = nn.LSTM(300, 32)  # Input dim is 3, output dim is 3\n",
    "inputs = [torch.randn(1, 300, 300) for _ in range(32)]  # make a sequence of length 5\n",
    "# initialize the hidden state.\n",
    "# hidden = (torch.randn(1, 1, 2),\n",
    "#           torch.randn(1, 1, 2))\n",
    "# for i in inputs:\n",
    "#     # Step through the sequence one element at a time.\n",
    "#     # after each step, hidden contains the hidden state.\n",
    "#     out, hidden = lstm(i.view(1, 1, -1), hidden)\n",
    "\n",
    "# alternatively, we can do the entire sequence all at once.\n",
    "# the first value returned by LSTM is all of the hidden states throughout\n",
    "# the sequence. the second is just the most recent hidden state\n",
    "# (compare the last slice of \"out\" with \"hidden\" below, they are the same)\n",
    "# The reason for this is that:\n",
    "# \"out\" will give you access to all hidden states in the sequence\n",
    "# \"hidden\" will allow you to continue the sequence and backpropagate,\n",
    "# by passing it as an argument  to the lstm at a later time\n",
    "# Add the extra 2nd dimension\n",
    "\n",
    "inputs = torch.cat(inputs).view(300, len(inputs), -1)\n",
    "hidden = (torch.randn(1, 32, 32), torch.randn(1, 32, 32))  # clean out hidden state\n",
    "\n",
    "print('Batch torch input and hidden state')\n",
    "print('Input:')\n",
    "# print(inputs) # 5x1x3\n",
    "print(inputs.shape)\n",
    "print('Initial Hidden:')\n",
    "# print(hidden)\n",
    "print(hidden[0].shape)\n",
    "\n",
    "\n",
    "out, hidden = lstm(inputs, hidden)\n",
    "print('===================================')\n",
    "print('Final result!')\n",
    "# print(out)\n",
    "print('Out: ', out.view(32, 300, -1).shape)\n",
    "# print(hidden)\n",
    "print('Hidden: ', hidden[0].shape)"
   ]
  },
  {
   "cell_type": "code",
   "execution_count": null,
   "metadata": {},
   "outputs": [],
   "source": []
  }
 ],
 "metadata": {
  "kernelspec": {
   "display_name": "Python 3",
   "language": "python",
   "name": "python3"
  },
  "language_info": {
   "codemirror_mode": {
    "name": "ipython",
    "version": 3
   },
   "file_extension": ".py",
   "mimetype": "text/x-python",
   "name": "python",
   "nbconvert_exporter": "python",
   "pygments_lexer": "ipython3",
   "version": "3.6.4"
  }
 },
 "nbformat": 4,
 "nbformat_minor": 2
}
