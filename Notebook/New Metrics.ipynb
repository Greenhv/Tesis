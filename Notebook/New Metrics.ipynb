{
 "cells": [
  {
   "cell_type": "code",
   "execution_count": 3,
   "metadata": {},
   "outputs": [],
   "source": [
    "from nltk.corpus import brown"
   ]
  },
  {
   "cell_type": "code",
   "execution_count": 23,
   "metadata": {},
   "outputs": [],
   "source": [
    "data = []\n",
    "\n",
    "for fileid in brown.fileids():\n",
    "    document = ' '.join(brown.words(fileid))\n",
    "    data.append(document)\n",
    "\n",
    "NO_DOCUMENTS = len(data)"
   ]
  },
  {
   "cell_type": "code",
   "execution_count": 25,
   "metadata": {},
   "outputs": [
    {
     "name": "stdout",
     "output_type": "stream",
     "text": [
      "500\n"
     ]
    },
    {
     "data": {
      "text/plain": [
       "\"The Fulton County Grand Jury said Friday an investigation of Atlanta's recent primary election produced `` no evidence '' that any irregularities took place . The jury further said in term-end presentments that the City Executive Committee , which had over-all charge of the election , `` deserves the praise and thanks of the City of Atlanta '' for the manner in which the election was conducted . The September-October term jury had been charged by Fulton Superior Court Judge Durwood Pye to investigate reports of possible `` irregularities '' in the hard-fought primary which was won by Mayor-nominate Ivan Allen Jr. . `` Only a relative handful of such reports was received '' , the jury said , `` considering the widespread interest in the election , the number of voters and the size of this city '' . The jury said it did find that many of Georgia's registration and election laws `` are outmoded or inadequate and often ambiguous '' . It recommended that Fulton legislators act `` to have these laws studied and revised to the end of modernizing and improving them '' . The grand jury commented on a number of other topics , among them the Atlanta and Fulton County purchasing departments which it said `` are well operated and follow generally accepted practices which inure to the best interest of both governments '' . Merger proposed However , the jury said it believes `` these two offices should be combined to achieve greater efficiency and reduce the cost of administration '' . The City Purchasing Department , the jury said , `` is lacking in experienced clerical personnel as a result of city personnel policies '' . It urged that the city `` take steps to remedy '' this problem . Implementation of Georgia's automobile title law was also recommended by the outgoing jury . It urged that the next Legislature `` provide enabling funds and re-set the effective date so that an orderly implementation of the law may be effected '' . The grand jury took a swipe at the State Welfare Department's handling of federal funds granted for child welfare services in foster homes . `` This is one of the major items in the Fulton County general assistance program '' , the jury said , but the State Welfare Department `` has seen fit to distribute these funds through the welfare departments of all the counties in the state with the exception of Fulton County , which receives none of this money . The jurors said they realize `` a proportionate distribution of these funds might disable this program in our less populous counties '' . Nevertheless , `` we feel that in the future Fulton County should receive some portion of these available funds '' , the jurors said . `` Failure to do this will continue to place a disproportionate burden '' on Fulton taxpayers . The jury also commented on the Fulton ordinary's court which has been under fire for its practices in the appointment of appraisers , guardians and administrators and the awarding of fees and compensation . Wards protected The jury said it found the court `` has incorporated into its operating procedures the recommendations '' of two previous grand juries , the Atlanta Bar Association and an interim citizens committee . `` These actions should serve to protect in fact and in effect the court's wards from undue costs and its appointed and elected servants from unmeritorious criticisms '' , the jury said . Regarding Atlanta's new multi-million-dollar airport , the jury recommended `` that when the new management takes charge Jan. 1 the airport be operated in a manner that will eliminate political influences '' . The jury did not elaborate , but it added that `` there should be periodic surveillance of the pricing practices of the concessionaires for the purpose of keeping the prices reasonable '' . Ask jail deputies On other matters , the jury recommended that : ( 1 ) Four additional deputies be employed at the Fulton County Jail and `` a doctor , medical intern or extern be employed for night and weekend duty at the jail '' . ( 2 ) Fulton legislators `` work with city officials to pass enabling legislation that will permit the establishment of a fair and equitable '' pension plan for city employes . The jury praised the administration and operation of the Atlanta Police Department , the Fulton Tax Commissioner's Office , the Bellwood and Alpharetta prison farms , Grady Hospital and the Fulton Health Department . Mayor William B. Hartsfield filed suit for divorce from his wife , Pearl Williams Hartsfield , in Fulton Superior Court Friday . His petition charged mental cruelty . The couple was married Aug. 2 , 1913 . They have a son , William Berry Jr. , and a daughter , Mrs. J. M. Cheshire of Griffin . Attorneys for the mayor said that an amicable property settlement has been agreed upon . The petition listed the mayor's occupation as `` attorney '' and his age as 71 . It listed his wife's age as 74 and place of birth as Opelika , Ala. . The petition said that the couple has not lived together as man and wife for more than a year . The Hartsfield home is at 637 E. Pelham Rd. Aj . Henry L. Bowden was listed on the petition as the mayor's attorney . Hartsfield has been mayor of Atlanta , with exception of one brief interlude , since 1937 . His political career goes back to his election to city council in 1923 . The mayor's present term of office expires Jan. 1 . He will be succeeded by Ivan Allen Jr. , who became a candidate in the Sept. 13 primary after Mayor Hartsfield announced that he would not run for reelection . Georgia Republicans are getting strong encouragement to enter a candidate in the 1962 governor's race , a top official said Wednesday . Robert Snodgrass , state GOP chairman , said a meeting held Tuesday night in Blue Ridge brought enthusiastic responses from the audience . State Party Chairman James W. Dorsey added that enthusiasm was picking up for a state rally to be held Sept. 8 in Savannah at which newly elected Texas Sen. John Tower will be the featured speaker . In the Blue Ridge meeting , the audience was warned that entering a candidate for governor would force it to take petitions out into voting precincts to obtain the signatures of registered voters . Despite the warning , there was a unanimous vote to enter a candidate , according to Republicans who attended . When the crowd was asked whether it wanted to wait one more term to make the race , it voted no -- and there were no dissents . The largest hurdle the Republicans would have to face is a state law which says that before making a first race , one of two alternative courses must be taken : 1 Five per cent of the voters in each county must sign petitions requesting that the Republicans be allowed to place names of candidates on the general election ballot , or 2 The Republicans must hold a primary under the county unit system -- a system which the party opposes in its platform . Sam Caldwell , State Highway Department public relations director , resigned Tuesday to work for Lt. Gov. Garland Byrd's campaign . Caldwell's resignation had been expected for some time . He will be succeeded by Rob Ledford of Gainesville , who has been an assistant more than three years . When the gubernatorial campaign starts , Caldwell is expected to become a campaign coordinator for Byrd . The Georgia Legislature will wind up its 1961 session Monday and head for home -- where some of the highway bond money it approved will follow shortly . Before adjournment Monday afternoon , the Senate is expected to approve a study of the number of legislators allotted to rural and urban areas to determine what adjustments should be made . Gov. Vandiver is expected to make the traditional visit to both chambers as they work toward adjournment . Vandiver likely will mention the $100 million highway bond issue approved earlier in the session as his first priority item . Construction bonds Meanwhile , it was learned the State Highway Department is very near being ready to issue the first $30 million worth of highway reconstruction bonds . The bond issue will go to the state courts for a friendly test suit to test the validity of the act , and then the sales will begin and contracts let for repair work on some of Georgia's most heavily traveled highways . A Highway Department source said there also is a plan there to issue some $3 million to $4 million worth of Rural Roads Authority bonds for rural road construction work . A revolving fund The department apparently intends to make the Rural Roads Authority a revolving fund under which new bonds would be issued every time a portion of the old ones are paid off by tax authorities . Vandiver opened his race for governor in 1958 with a battle in the Legislature against the issuance of $50 million worth of additional rural roads bonds proposed by then Gov. Marvin Griffin . The Highway Department source told The Constitution , however , that Vandiver has not been consulted yet about the plans to issue the new rural roads bonds . Schley County Rep. B. D. Pelham will offer a resolution Monday in the House to rescind the body's action of Friday in voting itself a $10 per day increase in expense allowances . Pelham said Sunday night there was research being done on whether the `` quickie '' vote on the increase can be repealed outright or whether notice would have to first be given that reconsideration of the action would be sought . While emphasizing that technical details were not fully worked out , Pelham said his resolution would seek to set aside the privilege resolution which the House voted through 87-31 . A similar resolution passed in the Senate by a vote of 29-5 . As of Sunday night , there was no word of a resolution being offered there to rescind the action . Pelham pointed out that Georgia voters last November rejected a constitutional amendment to allow legislators to vote on pay raises for future Legislature sessions . A veteran Jackson County legislator will ask the Georgia House Monday to back federal aid to education , something it has consistently opposed in the past . Rep. Mac Barber of Commerce is asking the House in a privilege resolution to `` endorse increased federal support for public education , provided that such funds be received and expended '' as state funds . Barber , who is in his 13th year as a legislator , said there `` are some members of our congressional delegation in Washington who would like to see it ( the resolution ) passed '' . But he added that none of Georgia's congressmen specifically asked him to offer the resolution . The resolution , which Barber tossed into the House hopper Friday , will be formally read Monday . It says that `` in the event Congress does provide this increase in federal funds '' , the State Board of Education should be directed to `` give priority '' to teacher pay raises . Colquitt -- After a long , hot controversy , Miller County has a new school superintendent , elected , as a policeman put it , in the `` coolest election I ever saw in this county '' . The new school superintendent is Harry Davis , a veteran agriculture teacher , who defeated Felix Bush , a school principal and chairman of the Miller County Democratic Executive Committee . Davis received 1,119 votes in Saturday's election , and Bush got 402 . Ordinary Carey Williams , armed with a pistol , stood by at the polls to insure order . `` This was the coolest , calmest election I ever saw '' , Colquitt Policeman Tom Williams said . `` Being at the polls was just like being at church . I didn't smell a drop of liquor , and we didn't have a bit of trouble '' . The campaign leading to the election was not so quiet , however . It was marked by controversy , anonymous midnight phone calls and veiled threats of violence . The former county school superintendent , George P. Callan , shot himself to death March 18 , four days after he resigned his post in a dispute with the county school board . During the election campaign , both candidates , Davis and Bush , reportedly received anonymous telephone calls . Ordinary Williams said he , too , was subjected to anonymous calls soon after he scheduled the election . Many local citizens feared that there would be irregularities at the polls , and Williams got himself a permit to carry a gun and promised an orderly election . Sheriff Felix Tabb said the ordinary apparently made good his promise . `` Everything went real smooth '' , the sheriff said . `` There wasn't a bit of trouble '' .\""
      ]
     },
     "execution_count": 25,
     "metadata": {},
     "output_type": "execute_result"
    }
   ],
   "source": [
    "print(NO_DOCUMENTS)\n",
    "data[0]"
   ]
  },
  {
   "cell_type": "code",
   "execution_count": 5,
   "metadata": {},
   "outputs": [],
   "source": [
    "import re\n",
    "from gensim import models, corpora\n",
    "from nltk import word_tokenize\n",
    "from nltk.corpus import stopwords"
   ]
  },
  {
   "cell_type": "code",
   "execution_count": 6,
   "metadata": {
    "scrolled": true
   },
   "outputs": [
    {
     "name": "stdout",
     "output_type": "stream",
     "text": [
      "[(12, 3), (14, 1), (21, 1), (25, 5), (30, 2), (31, 5), (33, 1), (42, 1), (43, 2), (44, 2), (45, 2), (46, 2), (47, 2), (49, 1), (50, 1), (53, 1), (56, 1), (59, 1), (60, 1), (66, 1), (75, 1), (80, 1), (98, 1), (101, 1), (106, 1), (117, 1), (129, 1), (130, 2), (132, 2), (135, 2), (140, 1), (141, 2), (143, 4), (144, 2), (145, 2), (166, 1), (195, 1), (198, 3), (219, 1), (220, 4), (221, 3), (223, 1), (229, 4), (230, 4), (231, 2), (235, 1), (236, 1), (242, 2), (246, 2), (255, 1), (263, 1), (269, 1), (270, 5), (271, 2), (275, 5), (276, 1), (278, 4), (280, 2), (281, 1), (307, 2), (310, 1), (311, 3), (313, 1), (314, 5), (318, 4), (322, 1), (336, 1), (338, 3), (339, 1), (340, 1), (341, 1), (345, 1), (346, 1), (351, 1), (354, 1), (355, 1), (366, 3), (368, 13), (370, 1), (372, 1), (374, 3), (377, 3), (381, 3), (386, 1), (392, 6), (396, 1), (401, 1), (412, 2), (426, 2), (428, 2), (431, 2), (434, 2), (439, 2), (444, 1), (450, 1), (452, 1), (462, 1), (465, 1), (467, 1), (470, 1), (478, 1), (483, 1), (484, 1), (504, 1), (513, 1), (517, 3), (520, 1), (522, 1), (523, 21), (526, 2), (530, 1), (532, 7), (542, 2), (545, 2), (553, 5), (566, 2), (578, 1), (584, 1), (588, 1), (595, 2), (597, 3), (598, 1), (600, 2), (603, 3), (607, 1), (613, 4), (633, 2), (640, 2), (645, 2), (649, 1), (651, 1), (653, 6), (654, 2), (655, 1), (675, 2), (680, 4), (686, 2), (688, 1), (710, 1), (713, 2), (721, 1), (725, 1), (726, 1), (733, 1), (734, 1), (735, 9), (747, 1), (748, 1), (762, 1), (768, 2), (776, 1), (783, 1), (784, 1), (808, 2), (815, 1), (830, 1), (842, 8), (862, 1), (865, 2), (871, 1), (879, 1), (882, 5), (883, 3), (888, 3), (890, 1), (898, 2), (899, 1), (901, 1), (903, 1), (913, 1), (923, 1), (924, 2), (929, 2), (930, 1), (931, 1), (936, 1), (940, 1), (941, 1), (942, 3), (946, 1), (963, 1), (965, 1), (972, 1), (994, 1), (995, 1), (998, 1), (999, 1), (1000, 1), (1022, 1), (1048, 1), (1060, 1), (1061, 2), (1101, 1), (1104, 1), (1106, 2), (1107, 3), (1121, 1), (1122, 1), (1128, 1), (1132, 4), (1155, 1), (1160, 1), (1182, 1), (1184, 1), (1188, 2), (1191, 8), (1200, 1), (1203, 1), (1213, 1), (1216, 1), (1217, 3), (1222, 1), (1223, 1), (1244, 1), (1253, 1), (1270, 1), (1272, 1), (1275, 1), (1303, 5), (1304, 1), (1315, 1), (1337, 1), (1339, 5), (1355, 1), (1362, 1), (1367, 1), (1378, 1), (1381, 1), (1391, 1), (1397, 1), (1419, 1), (1422, 1), (1426, 1), (1433, 1), (1453, 3), (1456, 1), (1463, 1), (1467, 1), (1470, 2), (1484, 3), (1485, 1), (1489, 1), (1497, 1), (1503, 1), (1507, 1), (1510, 1), (1514, 1), (1517, 1), (1520, 1), (1521, 1), (1522, 1), (1527, 2), (1543, 10), (1544, 3), (1547, 4), (1554, 1), (1556, 1), (1561, 1), (1568, 1), (1576, 1), (1589, 1), (1603, 1), (1608, 4), (1609, 1), (1612, 1), (1622, 2), (1637, 3), (1641, 3), (1642, 3), (1659, 2), (1660, 1), (1670, 1), (1692, 1), (1696, 1), (1699, 1), (1712, 3), (1741, 1), (1751, 1), (1756, 1), (1764, 2), (1777, 2), (1782, 1), (1783, 3), (1820, 1), (1830, 1), (1835, 2), (1837, 1), (1844, 1), (1845, 6), (1850, 1), (1862, 3), (1871, 1), (1875, 1), (1884, 3), (1888, 1), (1891, 3), (1906, 1), (1941, 1), (1946, 1), (1965, 2), (1967, 1), (1968, 2), (1984, 2), (1986, 1), (1991, 1), (1993, 2), (2011, 1), (2043, 1), (2044, 2), (2053, 1), (2060, 1), (2066, 2), (2069, 2), (2105, 1), (2107, 1), (2130, 1), (2138, 1), (2158, 1), (2161, 2), (2175, 2), (2176, 1), (2177, 1), (2182, 1), (2186, 1), (2199, 1), (2212, 1), (2217, 1), (2219, 1), (2220, 1), (2223, 1), (2231, 1), (2241, 1), (2243, 1), (2278, 1), (2313, 1), (2321, 1), (2322, 2), (2330, 1), (2336, 1), (2339, 2), (2349, 1), (2357, 1), (2395, 1), (2421, 2), (2422, 2), (2454, 1), (2457, 1), (2464, 1), (2506, 1), (2507, 1), (2514, 1), (2556, 1), (2567, 1), (2570, 1), (2599, 2), (2619, 1), (2626, 1), (2673, 1), (2677, 3), (2684, 1), (2701, 1), (2716, 3), (2737, 1), (2746, 1), (2748, 1), (2759, 2), (2803, 2), (2820, 1), (2823, 1), (2841, 2), (2857, 1), (2867, 1), (2900, 1), (2939, 1), (2958, 1), (3021, 1), (3023, 4), (3024, 2), (3043, 1), (3049, 1), (3052, 1), (3074, 1), (3091, 3), (3098, 1), (3112, 1), (3134, 1), (3137, 1), (3147, 2), (3192, 2), (3198, 1), (3220, 1), (3226, 1), (3261, 2), (3299, 1), (3301, 1), (3312, 1), (3313, 1), (3334, 3), (3379, 2), (3381, 2), (3388, 1), (3398, 1), (3403, 3), (3410, 1), (3443, 1), (3450, 2), (3466, 2), (3473, 1), (3489, 1), (3502, 3), (3536, 1), (3543, 1), (3554, 1), (3562, 1), (3584, 4), (3623, 1), (3679, 1), (3687, 1), (3693, 1), (3706, 2), (3714, 1), (3755, 2), (3762, 2), (3767, 2), (3783, 1), (3787, 1), (3804, 1), (3826, 9), (3827, 1), (3847, 1), (3883, 1), (3901, 1), (3922, 1), (3937, 1), (3962, 1), (3991, 1), (4054, 2), (4059, 2), (4063, 1), (4102, 1), (4218, 3), (4219, 1), (4233, 1), (4318, 1), (4386, 2), (4432, 1), (4601, 1), (4663, 1), (4679, 1), (4758, 1), (4764, 1), (4841, 1), (4842, 2), (4854, 1), (4862, 2), (4907, 1), (4960, 1), (4996, 1), (5097, 1), (5101, 1), (5147, 1), (5328, 1), (5373, 1), (5542, 1), (5579, 7), (5623, 2), (5651, 1), (5681, 1), (5726, 1), (5751, 1), (5800, 1), (5801, 1), (5826, 1), (5917, 2), (5941, 1), (6005, 1), (6037, 1), (6050, 1), (6056, 4), (6057, 1), (6066, 1), (6100, 1), (6123, 1), (6140, 1), (6146, 2), (6204, 1), (6234, 1), (6285, 1), (6338, 1), (6395, 2), (6396, 1), (6397, 3), (6486, 3), (6496, 1), (6527, 1), (6588, 2), (6592, 1), (6613, 1), (6658, 1), (6677, 2), (6718, 1), (6754, 2), (6782, 1), (6817, 1), (6822, 1), (6828, 1), (6829, 1), (6830, 1), (6831, 1), (6832, 2), (6833, 1), (6834, 1), (6835, 1), (6836, 1), (6837, 1), (6838, 1), (6839, 2), (6840, 1), (6841, 1), (6842, 1), (6843, 1), (6844, 2), (6845, 1), (6846, 1), (6847, 1), (6848, 1), (6849, 1), (6850, 1), (6851, 1), (6852, 2), (6853, 1), (6854, 1), (6855, 1), (6856, 1), (6857, 1), (6858, 1), (6859, 3), (6860, 1), (6861, 1), (6862, 2), (6863, 2), (6864, 1), (6865, 1), (6866, 1), (6867, 1), (6868, 2), (6869, 1), (6870, 1), (6871, 2), (6872, 1), (6873, 1), (6874, 1), (6875, 1), (6876, 3), (6877, 1), (6878, 1), (6879, 1), (6880, 1), (6881, 2), (6882, 1), (6883, 2), (6884, 1), (6885, 2), (6886, 1), (6887, 3), (6888, 1), (6889, 1), (6890, 1), (6891, 1), (6892, 1), (6893, 1), (6894, 1), (6895, 1), (6896, 1), (6897, 1), (6898, 1), (6899, 2), (6900, 1), (6901, 1), (6902, 1), (6903, 1), (6904, 1), (6905, 1), (6906, 1), (6907, 1), (6908, 1), (6909, 2), (6910, 1), (6911, 1), (6912, 4), (6913, 1), (6914, 1), (6915, 1), (6916, 1), (6917, 1), (6918, 1), (6919, 7), (6920, 1), (6921, 9), (6922, 2), (6923, 2), (6924, 1), (6925, 1), (6926, 1), (6927, 2), (6928, 1), (6929, 1), (6930, 4), (6931, 18), (6932, 1), (6933, 1), (6934, 1), (6935, 1), (6936, 2), (6937, 1), (6938, 1), (6939, 1), (6940, 1), (6941, 2), (6942, 2), (6943, 3), (6944, 1), (6945, 1), (6946, 1), (6947, 2), (6948, 1), (6949, 1), (6950, 5), (6951, 1), (6952, 1), (6953, 1), (6954, 1), (6955, 1), (6956, 1), (6957, 1), (6958, 1), (6959, 1), (6960, 2), (6961, 1), (6962, 2), (6963, 1), (6964, 1), (6965, 8), (6966, 2), (6967, 1), (6968, 1), (6969, 1), (6970, 1), (6971, 1), (6972, 1), (6973, 1), (6974, 1), (6975, 1), (6976, 1), (6977, 1), (6978, 1), (6979, 1), (6980, 1), (6981, 1), (6982, 2), (6983, 1), (6984, 2), (6985, 1), (6986, 1), (6987, 1), (6988, 1), (6989, 2), (6990, 1), (6991, 1), (6992, 1), (6993, 1), (6994, 1), (6995, 1), (6996, 1), (6997, 1), (6998, 1), (6999, 1), (7000, 2), (7001, 1), (7002, 1), (7003, 1), (7004, 1), (7005, 1), (7006, 1), (7007, 1), (7008, 1), (7009, 1), (7010, 2), (7011, 3), (7012, 1), (7013, 2), (7014, 1), (7015, 1), (7016, 1), (7017, 1), (7018, 1), (7019, 1), (7020, 1), (7021, 1), (7022, 1), (7023, 1), (7024, 1), (7025, 1), (7026, 3), (7027, 1), (7028, 1), (7029, 1), (7030, 3), (7031, 1), (7032, 1), (7033, 1), (7034, 1), (7035, 1), (7036, 1), (7037, 1), (7038, 3), (7039, 1), (7040, 1), (7041, 1), (7042, 1), (7043, 2), (7044, 1), (7045, 1), (7046, 1), (7047, 1)]\n"
     ]
    }
   ],
   "source": [
    "NUM_TOPICS = 10\n",
    "STOPWORDS = stopwords.words('english')\n",
    " \n",
    "def clean_text(text):\n",
    "    tokenized_text = word_tokenize(text.lower())\n",
    "    cleaned_text = [t for t in tokenized_text if t not in STOPWORDS and re.match('[a-zA-Z\\-][a-zA-Z\\-]{2,}', t)]\n",
    "    return cleaned_text\n",
    " \n",
    "# For gensim we need to tokenize the data and filter out stopwords\n",
    "tokenized_data = []\n",
    "for text in data:\n",
    "    tokenized_data.append(clean_text(text))\n",
    " \n",
    " \n",
    "# Build a Dictionary - association word to numeric id\n",
    "dictionary = corpora.Dictionary(tokenized_data)\n",
    " \n",
    "# Transform the collection of texts to a numerical form\n",
    "corpus = [dictionary.doc2bow(text) for text in tokenized_data]\n",
    " \n",
    "# Have a look at how the 20th document looks like: [(word_id, count), ...]\n",
    "print(corpus[20])\n",
    "# [(12, 3), (14, 1), (21, 1), (25, 5), (30, 2), (31, 5), (33, 1), (42, 1), (43, 2),  ...\n",
    " \n",
    "# Build the LDA model\n",
    "lda_model = models.LdaModel(corpus=corpus, num_topics=NUM_TOPICS, id2word=dictionary)\n",
    " \n",
    "# Build the LSI model\n",
    "lsi_model = models.LsiModel(corpus=corpus, num_topics=NUM_TOPICS, id2word=dictionary)"
   ]
  },
  {
   "cell_type": "code",
   "execution_count": 7,
   "metadata": {
    "scrolled": true
   },
   "outputs": [
    {
     "name": "stdout",
     "output_type": "stream",
     "text": [
      "LDA Model:\n",
      "Topic #0: 0.005*\"one\" + 0.005*\"would\" + 0.003*\"could\" + 0.003*\"said\" + 0.003*\"may\" + 0.003*\"two\" + 0.003*\"first\" + 0.002*\"man\" + 0.002*\"even\" + 0.002*\"time\"\n",
      "Topic #1: 0.005*\"one\" + 0.004*\"would\" + 0.003*\"first\" + 0.003*\"could\" + 0.003*\"time\" + 0.003*\"like\" + 0.002*\"new\" + 0.002*\"even\" + 0.002*\"state\" + 0.002*\"may\"\n",
      "Topic #2: 0.006*\"one\" + 0.005*\"said\" + 0.004*\"would\" + 0.003*\"new\" + 0.003*\"could\" + 0.003*\"first\" + 0.002*\"time\" + 0.002*\"man\" + 0.002*\"many\" + 0.002*\"like\"\n",
      "Topic #3: 0.005*\"one\" + 0.005*\"would\" + 0.004*\"said\" + 0.004*\"time\" + 0.004*\"could\" + 0.003*\"new\" + 0.003*\"two\" + 0.003*\"man\" + 0.003*\"may\" + 0.002*\"also\"\n",
      "Topic #4: 0.005*\"would\" + 0.005*\"one\" + 0.003*\"could\" + 0.003*\"said\" + 0.002*\"like\" + 0.002*\"new\" + 0.002*\"man\" + 0.002*\"first\" + 0.002*\"two\" + 0.002*\"people\"\n",
      "Topic #5: 0.007*\"one\" + 0.004*\"would\" + 0.003*\"could\" + 0.003*\"new\" + 0.003*\"time\" + 0.003*\"said\" + 0.002*\"made\" + 0.002*\"two\" + 0.002*\"like\" + 0.002*\"first\"\n",
      "Topic #6: 0.007*\"one\" + 0.005*\"would\" + 0.005*\"said\" + 0.003*\"may\" + 0.003*\"new\" + 0.003*\"could\" + 0.003*\"time\" + 0.003*\"like\" + 0.002*\"even\" + 0.002*\"state\"\n",
      "Topic #7: 0.007*\"would\" + 0.006*\"one\" + 0.004*\"new\" + 0.004*\"time\" + 0.004*\"could\" + 0.004*\"said\" + 0.003*\"man\" + 0.003*\"two\" + 0.003*\"first\" + 0.003*\"like\"\n",
      "Topic #8: 0.005*\"would\" + 0.004*\"one\" + 0.003*\"two\" + 0.003*\"may\" + 0.003*\"time\" + 0.003*\"new\" + 0.003*\"man\" + 0.002*\"could\" + 0.002*\"said\" + 0.002*\"must\"\n",
      "Topic #9: 0.008*\"one\" + 0.006*\"would\" + 0.004*\"said\" + 0.004*\"could\" + 0.003*\"new\" + 0.003*\"may\" + 0.003*\"time\" + 0.003*\"first\" + 0.002*\"two\" + 0.002*\"like\"\n",
      "====================\n",
      "LSI Model:\n",
      "Topic #0: 0.308*\"one\" + 0.280*\"would\" + 0.202*\"said\" + 0.175*\"could\" + 0.146*\"time\" + 0.144*\"new\" + 0.126*\"man\" + 0.125*\"like\" + 0.125*\"two\" + 0.120*\"first\"\n",
      "Topic #1: 0.294*\"said\" + -0.219*\"may\" + -0.179*\"state\" + 0.176*\"could\" + 0.153*\"would\" + -0.143*\"states\" + -0.141*\"new\" + 0.140*\"like\" + 0.138*\"back\" + 0.105*\"man\"\n",
      "Topic #2: 0.339*\"said\" + 0.338*\"state\" + -0.228*\"one\" + 0.190*\"states\" + 0.160*\"year\" + 0.152*\"mrs.\" + 0.135*\"would\" + 0.132*\"united\" + 0.132*\"federal\" + 0.130*\"government\"\n",
      "Topic #3: 0.263*\"new\" + 0.255*\"mrs.\" + -0.155*\"feed\" + -0.151*\"per\" + 0.149*\"world\" + -0.144*\"used\" + 0.140*\"church\" + 0.117*\"god\" + 0.108*\"life\" + 0.101*\"people\"\n",
      "Topic #4: -0.510*\"mrs.\" + 0.236*\"would\" + 0.192*\"states\" + 0.155*\"united\" + 0.132*\"could\" + 0.123*\"man\" + 0.121*\"state\" + 0.109*\"government\" + -0.104*\"year\" + 0.099*\"world\"\n",
      "Topic #5: 0.374*\"would\" + -0.374*\"feed\" + -0.268*\"per\" + -0.245*\"state\" + -0.129*\"god\" + -0.127*\"daily\" + -0.125*\"man\" + -0.120*\"drug\" + 0.118*\"school\" + -0.115*\"name\"\n",
      "Topic #6: -0.283*\"feed\" + 0.253*\"mrs.\" + -0.225*\"per\" + -0.173*\"would\" + -0.167*\"school\" + 0.159*\"state\" + 0.159*\"states\" + 0.137*\"one\" + -0.133*\"said\" + 0.131*\"united\"\n",
      "Topic #7: 0.394*\"mrs.\" + 0.281*\"would\" + -0.254*\"state\" + -0.229*\"said\" + -0.227*\"school\" + 0.216*\"feed\" + 0.149*\"united\" + 0.133*\"per\" + 0.107*\"government\" + -0.106*\"education\"\n",
      "Topic #8: -0.376*\"state\" + -0.273*\"would\" + -0.272*\"mrs.\" + 0.176*\"new\" + 0.159*\"united\" + 0.159*\"business\" + -0.154*\"one\" + 0.129*\"development\" + -0.124*\"feed\" + -0.117*\"federal\"\n",
      "Topic #9: -0.204*\"may\" + 0.190*\"new\" + -0.190*\"mrs.\" + -0.184*\"shall\" + -0.174*\"said\" + -0.165*\"united\" + -0.157*\"school\" + -0.150*\"states\" + 0.148*\"would\" + -0.135*\"form\"\n",
      "====================\n"
     ]
    }
   ],
   "source": [
    "print(\"LDA Model:\")\n",
    " \n",
    "for idx in range(NUM_TOPICS):\n",
    "    # Print the first 10 most representative topics\n",
    "    print(\"Topic #%s:\" % idx, lda_model.print_topic(idx, 10))\n",
    " \n",
    "print(\"=\" * 20)\n",
    " \n",
    "print(\"LSI Model:\")\n",
    " \n",
    "for idx in range(NUM_TOPICS):\n",
    "    # Print the first 10 most representative topics\n",
    "    print(\"Topic #%s:\" % idx, lsi_model.print_topic(idx, 10))\n",
    " \n",
    "print(\"=\" * 20)"
   ]
  },
  {
   "cell_type": "code",
   "execution_count": 8,
   "metadata": {},
   "outputs": [],
   "source": [
    "text = \"The economy is working better than ever\"\n",
    "bow = dictionary.doc2bow(clean_text(text))"
   ]
  },
  {
   "cell_type": "code",
   "execution_count": 12,
   "metadata": {},
   "outputs": [
    {
     "data": {
      "text/plain": [
       "[(0, 0.09161351260282195),\n",
       " (1, 0.008819727618577222),\n",
       " (2, -0.016118265372387402),\n",
       " (3, 0.04131788800760472),\n",
       " (4, -0.01733679755339647),\n",
       " (5, -0.01348466567999982),\n",
       " (6, -0.028928239998879016),\n",
       " (7, -0.02051340226344353),\n",
       " (8, 0.055182751211272946),\n",
       " (9, 0.026334911722331957)]"
      ]
     },
     "execution_count": 12,
     "metadata": {},
     "output_type": "execute_result"
    }
   ],
   "source": [
    "lsi_model[bow]"
   ]
  },
  {
   "cell_type": "code",
   "execution_count": 10,
   "metadata": {},
   "outputs": [
    {
     "data": {
      "text/plain": [
       "[(0, 0.02000558),\n",
       " (1, 0.020005524),\n",
       " (2, 0.8199463),\n",
       " (3, 0.020006185),\n",
       " (4, 0.020006342),\n",
       " (5, 0.020005887),\n",
       " (6, 0.020006057),\n",
       " (7, 0.020007392),\n",
       " (8, 0.02000546),\n",
       " (9, 0.020005269)]"
      ]
     },
     "execution_count": 10,
     "metadata": {},
     "output_type": "execute_result"
    }
   ],
   "source": [
    "lda_model[bow]"
   ]
  },
  {
   "cell_type": "code",
   "execution_count": 18,
   "metadata": {
    "scrolled": true
   },
   "outputs": [
    {
     "name": "stdout",
     "output_type": "stream",
     "text": [
      "[(162, 0.9979093), (199, 0.9978355), (441, 0.99783456), (438, 0.9976915), (404, 0.99766356), (260, 0.9976427), (176, 0.9976212), (36, 0.99760944), (156, 0.99760485), (15, 0.99760133)]\n",
      "======\n",
      "0.9979093 162\n"
     ]
    },
    {
     "data": {
      "text/plain": [
       "\"In Ireland's County Limerick , near the River Shannon , there is a quiet little suburb by the name of Garryowen , which means `` Garden of Owen '' . Undoubtedly none of the residents realize the influence their town has had on American military history , or the deeds of valor that have been done in its name . The cry `` Garryowen '' ! ! Bursting from the lips of a charging cavalry trooper was the last sound heard on this earth by untold numbers of Cheyennes , Sioux and Apaches , Mexican banditos under Pancho Villa , Japanese in the South Pacific , and Chinese and North Korean Communists in Korea . Garryowen is the battle cry of the 7th U.S. Cavalry Regiment , `` The Fighting Seventh '' . Today a battle cry may seem an anachronism , for in the modern Army , esprit de corps has been sacrificed to organizational charts and tables . But don't tell that to a veteran of the Fighting Seventh , especially in a saloon on Saturday night . Of all the thousands of men who have served in the 7th Cav , perhaps no one knows its spirit better than Lieutenant Colonel Melbourne C. Chandler . Wiry and burr-headed , with steel blue eyes and a chest splattered with medals , Chandler is the epitome of the old-time trooper . The truth is , however , that when Mel Chandler first reported to the regiment the only steed he had ever ridden was a swivel chair and the only weapon he had ever wielded was a pencil . Chandler had been commissioned in the Medical Service Corps and was serving as a personnel officer for the Kansas City Medical Depot when he decided that if he was going to make the Army his career , he wanted to be in the fighting part of it . Though he knew no more about military science and tactics than any other desk officer , he managed to get transferred to the combat forces . The next thing he knew he was reporting for duty as commanding officer of Troop H , 7th Cavalry , in the middle of corps maneuvers in Japan . Outside of combat , he couldn't have landed in a tougher spot . First of all , no unit likes to have a new CO brought in from the outside , especially when he's an armchair trooper . Second , if there is ever a perfect time to pull the rug out from under him , it's on maneuvers . In combat , helping your CO make a fool of himself might mean getting yourself killed . But in maneuvers , with the top brass watching him all the time , it's easy . Chandler understood this and expected the worst . But his first few days with Troop H were full of surprises , beginning with First Sergeant Robert Early . Chandler had expected a tough old trooper with a gravel voice . Instead Sergeant Early was quiet , sharp and confident . He had enlisted in the Army straight out of high school and had immediately set about learning his new trade . There was no weapon Early could not take apart and reassemble blind-folded . He could lead a patrol and he knew his paper work . Further , he had taken full advantage of the Army's correspondence courses . He not only knew soldiering , but mathematics , history and literature as well . But for all his erudite confidence , Sergeant Early was right out of the Garryowen mold . He was filled with the spirit of the Fighting Seventh . That saved Mel Chandler . Sergeant Early let the new CO know just how lucky he was to be in the best troop in the best regiment in the United States Army . He fed the captain bits of history about the troops and the regiment . For example , it was a battalion of the 7th Cavalry under Colonel George Armstrong Custer that had been wiped out at the Battle of The Little Big Horn . It didn't take Captain Chandler long to realize that he had to carry a heavy load of tradition on his shoulders as commander of Troop Aj . But what made the load lighter was the realization that every officer , non-com and trooper was ready and willing to help him carry it , for the good of the troop and the regiment . Maneuvers over , the 7th returned to garrison duty in Tokyo , Captain Chandler still with them . It was the 7th Cavalry whose troopers were charged with guarding the Imperial Palace of the Emperor . But still Mel Chandler was not completely convinced that men would really die for a four-syllable word , `` Garryowen '' . The final proof was a small incident . It happened at the St. Patrick's Day party , a big affair for a regiment which had gone into battle for over three-quarters of a century to the strains of an Irish march . In the middle of the party Chandler looked up to see four smiling faces bearing down upon him , each beaming above the biggest , greenest shamrock he had ever seen . The faces belonged to Lieutenant Marvin Goulding , his wife and their two children . And when the singing began , it was the Gouldings who sang the old Irish songs the best . Though there was an occasional good-natured chuckle about Marvin Goulding , the Jewish officer from Chicago , singing tearfully about the ould sod , no one really thought it was strange . For Marvin Goulding , like Giovanni Martini , the bugler boy who carried Custer's last message , or Margarito Lopez , the one-man Army on Leyte , was a Garryowen , through and through . It was no coincidence that Goulding was one of the most beloved platoon leaders in the regiment . And so Mel Chandler got the spirit of Garryowen . He set out to keep Troop H the best troop in the best regiment . One of his innovations was to see to it that every man -- cook and clerk as well as rifleman -- qualified with every weapon in the troop . Even the mess sergeant , Bill Brown , a dapper , cocky transfer from an airborne division , went out on the range . The troop received a new leader , Lieutenant Robert M. Carroll , fresh out of ROTC and bucking for Regular Army status . Carroll was sharp and military , but he was up against tough competition for that RA berth , and he wanted to play it cool . So Mel Chandler set out to sell him on the spirit of Garryowen , just as he himself had been sold a short time before . When the Korean war began , on June 25 , 1950 , the anniversary of the day Custer had gone down fighting at the Little Big Horn and the day the regiment had assaulted the beachhead of Leyte during World War 2 , , the 7th Cavalry was not in the best fighting condition . Its entire complement of non-commissioned officers on the platoon level had departed as cadre for another unit , and its vehicles were still those used in the drive across Luzon in World War 2 . Just a month after the Korean War broke out , the 7th Cavalry was moving into the lines , ready for combat . From then on the Fighting Seventh was in the thick of the bitterest fighting in Korea . One night on the Naktong River , Mel Chandler called on that fabled esprit de corps . The regiment was dug in on the east side of the river and the North Koreans were steadily building up a concentration of crack troops on the other side . The troopers knew an attack was coming , but they didn't know when , and they didn't know where . At 6 o'clock on the morning of August 12 , they were in doubt no longer . Then it came , against Troop Aj . The enemy had filtered across the river during the night and a full force of 1000 men , armed with Russian machine guns , attacked the position held by Chandler's men . They came in waves . First came the cannon fodder , white-clad civilians being driven into death as a massive human battering ram . They were followed by crack North Korean troops , who mounted one charge after another . They overran the 7th Cav's forward machine-gun positions through sheer weight of numbers , over piles of their own dead . Another force flanked the company and took up a position on a hill to the rear . Captain Chandler saw that it was building up strength . He assembled a group of 25 men , composed of wounded troopers awaiting evacuation , the company clerk , supply men , cooks and drivers , and led them to the hill . One of the more seriously wounded was Lieutenant Carroll , the young officer bucking for the Regular Army . Chandler left Carroll at the bottom of the hill to direct any reinforcements he could find to the fight . Then Mel Chandler started up the hill . He took one step , two , broke into a trot and then into a run . The first thing he knew the words `` Garryowen '' ! ! Burst from his throat . His followers shouted the old battle cry after him and charged the hill , firing as they ran . The Koreans fell back , but regrouped at the top of the hill and pinned down the cavalrymen with a screen of fire . Chandler , looking to right and left to see how his men were faring , suddenly saw another figure bounding up the hill , hurling grenades and hollering the battle cry as he ran . It was Bob Carroll , who had suddenly found himself imbued with the spirit of Garryowen . He had formed his own task force of three stragglers and led them up the hill in a Fighting Seventh charge . Because of this diversionary attack the main group that had been pinned down on the hill was able to surge forward again . But an enemy grenade hit Carroll in the head and detonated simultaneously . He went down like a wet rag and the attackers hit the dirt in the face of the withering enemy fire . Enemy reinforcements came pouring down , seeking a soft spot . They found it at the junction between Troops H and G , and prepared to counterattack . Marvin Goulding saw what was happening . He turned to his platoon . `` Okay , men '' , he said . `` Follow me '' . Goulding leaped to his feet and started forward , `` Garryowen '' ! ! On his lips , his men following . But the bullets whacked home before he finished his battle cry and Marvin Goulding fell dead . For an instant his men hesitated , unable to believe that their lieutenant , the most popular officer in the regiment , was dead . Then they let out a bellow of anguish and rage and , cursing , screaming and hollering `` Garryowen '' ! ! They charged into the enemy like wild men . That finished the job that Captain Chandler and Lieutenant Carroll had begun . Goulding's platoon pushed back the enemy soldiers and broke up the timing of the entire enemy attack . Reinforcements came up quickly to take advantage of the opening made by Goulding's platoon . The North Koreans threw away their guns and fled across the rice paddies . Artillery and air strikes were called in to kill them by the hundreds . Though Bob Carroll seemed to have had his head practically blown off by the exploding grenade , he lived . Today he is a major -- in the Regular Army . So filled was Mel Chandler with the spirit of Garryowen that after Korea was over , he took on the job of writing the complete history of the regiment . After years of digging , nights and weekends , he put together the big , profusely illustrated book , Of Garryowen And Glory , which is probably the most complete history of any military unit . The battle of the Naktong River is just one example of how the battle cry and the spirit of The Fighting Seventh have paid off . For nearly a century the cry has never failed to rally the fighting men of the regiment . Take the case of Major Marcus A. Reno , who survived the Battle of The Little Big Horn in 1876 . From the enlisted men he pistol-whipped to the subordinate officer whose wife he tried to rape , a lot of men had plenty of reason heartily to dislike Marcus Reno . Many of his fellow officers refused to speak to him . But when a board of inquiry was called to look into the charges of cowardice made against him , the men who had seen Reno leave the battlefield and the officer who had heard Reno suggest that the wounded be left to be tortured by the Sioux , refused to say a harsh word against him . He was a member of The Fighting Seventh . Although it was at the Battle of The Little Horn , about which more words have been written than any other battle in American history , that the 7th Cavalry first made its mark in history , the regiment was ten years old by then . Brevet Major General George Armstrong Custer was the regiment's first permanent commander and , like such generals as George S. Patton and Terry De La Mesa Allen in their rise to military prominence , Custer was a believer in blood and guts warfare . During the Civil War , Custer , who achieved a brilliant record , was made brigadier general at the age of 23 . He finished the war as a major general , commanding a full division , and at 25 was the youngest major general in the history of the U.S. Army .\""
      ]
     },
     "execution_count": 18,
     "metadata": {},
     "output_type": "execute_result"
    }
   ],
   "source": [
    "from gensim import similarities\n",
    " \n",
    "lda_index = similarities.MatrixSimilarity(lda_model[corpus])\n",
    " \n",
    "# Let's perform some queries\n",
    "similarities = lda_index[lda_model[bow]]\n",
    "# Sort the similarities\n",
    "similarities = sorted(enumerate(similarities), key=lambda item: -item[1])\n",
    " \n",
    "# Top most similar documents:\n",
    "print(similarities[:10])\n",
    " \n",
    "# Let's see what's the most similar document\n",
    "document_id, similarity = similarities[0]\n",
    "print('======')\n",
    "print(similarity, document_id)\n",
    "data[document_id]"
   ]
  },
  {
   "cell_type": "code",
   "execution_count": null,
   "metadata": {},
   "outputs": [],
   "source": []
  }
 ],
 "metadata": {
  "kernelspec": {
   "display_name": "Python 3",
   "language": "python",
   "name": "python3"
  },
  "language_info": {
   "codemirror_mode": {
    "name": "ipython",
    "version": 3
   },
   "file_extension": ".py",
   "mimetype": "text/x-python",
   "name": "python",
   "nbconvert_exporter": "python",
   "pygments_lexer": "ipython3",
   "version": "3.6.5"
  }
 },
 "nbformat": 4,
 "nbformat_minor": 2
}
