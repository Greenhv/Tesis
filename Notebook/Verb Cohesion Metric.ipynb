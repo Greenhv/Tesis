{
 "cells": [
  {
   "cell_type": "markdown",
   "metadata": {},
   "source": [
    "### Import custom modules from current folder"
   ]
  },
  {
   "cell_type": "code",
   "execution_count": 1,
   "metadata": {},
   "outputs": [],
   "source": [
    "import logging\n",
    "logging.basicConfig(format='%(asctime)s : %(levelname)s : %(message)s', level=logging.INFO)"
   ]
  },
  {
   "cell_type": "code",
   "execution_count": 2,
   "metadata": {},
   "outputs": [],
   "source": [
    "import os\n",
    "import sys\n",
    "\n",
    "module_path = os.path.abspath(os.path.join('..'))\n",
    "\n",
    "if module_path not in sys.path:\n",
    "    sys.path.append(module_path)"
   ]
  },
  {
   "cell_type": "code",
   "execution_count": 3,
   "metadata": {},
   "outputs": [],
   "source": [
    "import nltk\n",
    "from text_easability_metrics import TextEasabilityMetrics, StanfordNLP\n",
    "from simple_text_representation.classes import Text\n",
    "from simple_text_representation.models import Database\n",
    "from nltk.tree import Tree\n",
    "import pandas as pd\n",
    "import numpy as np\n",
    "# from nltk.draw.tree import draw_trees"
   ]
  },
  {
   "cell_type": "code",
   "execution_count": 4,
   "metadata": {},
   "outputs": [],
   "source": [
    "database = Database('educationalTexts', 'postgres', '', '0.0.0.0', 5432)\n",
    "path = r'/Users/herbert/Projects/Tesis/stanford-corenlp-full-2017-06-09'\n",
    "path = r'http://corenlp.run'\n",
    "path = r'http://localhost/'"
   ]
  },
  {
   "cell_type": "markdown",
   "metadata": {},
   "source": [
    "##### StanfordNLP test"
   ]
  },
  {
   "cell_type": "code",
   "execution_count": 5,
   "metadata": {},
   "outputs": [
    {
     "name": "stderr",
     "output_type": "stream",
     "text": [
      "2018-06-18 01:54:24,414 : INFO : Using an existing server http://localhost:9000\n",
      "2018-06-18 01:54:25,422 : INFO : The server is available.\n"
     ]
    }
   ],
   "source": [
    "stanfordNLP = StanfordNLP(language='es')"
   ]
  },
  {
   "cell_type": "markdown",
   "metadata": {},
   "source": [
    "### Test the metric in all the text"
   ]
  },
  {
   "cell_type": "code",
   "execution_count": 6,
   "metadata": {},
   "outputs": [],
   "source": [
    "dfSeventh = pd.read_csv('../Data/textsSeventhgrade.csv')\n",
    "dfEighth = pd.read_csv('../Data/textsEighthgrade.csv')\n",
    "dfNinth = pd.read_csv('../Data/textsNinthgrade.csv')\n",
    "dfTenth = pd.read_csv('../Data/textsTenthGrade.csv')\n",
    "dfEleventh = pd.read_csv('../Data/textsEleventhgrade.csv')"
   ]
  },
  {
   "cell_type": "code",
   "execution_count": 7,
   "metadata": {},
   "outputs": [],
   "source": [
    "def getSentecesById(df, uniqueIndex):\n",
    "    sentenceGrouped = df.where(df['id'] == uniqueIndex)\n",
    "    return sentenceGrouped[pd.notnull(sentenceGrouped['id'])]"
   ]
  },
  {
   "cell_type": "code",
   "execution_count": 12,
   "metadata": {},
   "outputs": [
    {
     "data": {
      "text/plain": [
       "[24, 25, 26, 27, 28, 29, 30, 31, 32, 33, 34, 35, 36, 37, 38, 39]"
      ]
     },
     "execution_count": 12,
     "metadata": {},
     "output_type": "execute_result"
    }
   ],
   "source": [
    "clean_sentence_grouped = getSentecesById(dfSeventh, 3)\n",
    "list(clean_sentence_grouped.index)"
   ]
  },
  {
   "cell_type": "code",
   "execution_count": 32,
   "metadata": {},
   "outputs": [
    {
     "data": {
      "text/plain": [
       "[0, 1, 2, 3, 4, 5, 6]"
      ]
     },
     "execution_count": 32,
     "metadata": {},
     "output_type": "execute_result"
    }
   ],
   "source": [
    "texts_indexs = list()\n",
    "for uniq_index in dfSeventh.id.unique():\n",
    "    clean_sentence_grouped = getSentecesById(dfSeventh, uniq_index)\n",
    "    texts_indexs.append(list(clean_sentence_grouped.index))"
   ]
  },
  {
   "cell_type": "code",
   "execution_count": 17,
   "metadata": {},
   "outputs": [
    {
     "data": {
      "text/plain": [
       "array([ 1,  2,  3,  4,  5, 18,  6,  7,  8,  9, 10, 11, 12, 13, 14, 22, 15,\n",
       "       16, 17, 19, 20, 21, 23, 24, 25, 26, 27, 28, 29, 30, 31, 32, 64, 33,\n",
       "       34, 35, 36, 37, 55, 38, 39, 51, 40, 41, 42, 43, 44, 45])"
      ]
     },
     "execution_count": 17,
     "metadata": {},
     "output_type": "execute_result"
    }
   ],
   "source": [
    "dfSeventh.id.unique()"
   ]
  },
  {
   "cell_type": "code",
   "execution_count": 18,
   "metadata": {},
   "outputs": [],
   "source": [
    "# groupedSeventh = dfSeventh.groupby('id').apply(lambda x: \"%s\" % ''.join(x['value']))\n",
    "# groupedEighth = dfEighth.groupby('id').apply(lambda x: \"%s\" % ''.join(x['value']))\n",
    "# groupedNinth = dfNinth.groupby('id').apply(lambda x: \"%s\" % ''.join(x['value']))\n",
    "# groupedTenth = dfTenth.groupby('id').apply(lambda x: \"%s\" % ''.join(x['value']))\n",
    "# groupedEleventh = dfEleventh.groupby('id').apply(lambda x: \"%s\" % ''.join(x['value']))"
   ]
  },
  {
   "cell_type": "code",
   "execution_count": 19,
   "metadata": {},
   "outputs": [],
   "source": [
    "# len(groupedSeventh.values)"
   ]
  },
  {
   "cell_type": "code",
   "execution_count": 20,
   "metadata": {},
   "outputs": [],
   "source": [
    "# textOfSeventhGrade = groupedSeventh.values\n",
    "# textOfEightGrade = groupedEighth.values\n",
    "# textOfNineGrade = groupedNinth.values\n",
    "# textOfTenthGrade = groupedTenth.values\n",
    "# textOfEleventhGrade = groupedEleventh.values"
   ]
  },
  {
   "cell_type": "markdown",
   "metadata": {},
   "source": [
    "### Building LSA Model"
   ]
  },
  {
   "cell_type": "code",
   "execution_count": 21,
   "metadata": {},
   "outputs": [
    {
     "name": "stderr",
     "output_type": "stream",
     "text": [
      "2018-06-18 01:58:03,393 : INFO : 'pattern' package not found; tag filters are not available for English\n"
     ]
    }
   ],
   "source": [
    "import re\n",
    "from gensim import corpora, models, similarities\n",
    "from nltk import word_tokenize\n",
    "from nltk.corpus import stopwords\n",
    "from collections import defaultdict"
   ]
  },
  {
   "cell_type": "code",
   "execution_count": 22,
   "metadata": {},
   "outputs": [],
   "source": [
    "def extractVerbsFromText(text):\n",
    "    pos_tags = stanfordNLP.pos(text)\n",
    "    verbs = [pos_tag[0] for pos_tag in pos_tags if pos_tag[1].startswith('v')]\n",
    "    return verbs"
   ]
  },
  {
   "cell_type": "code",
   "execution_count": 23,
   "metadata": {},
   "outputs": [],
   "source": [
    "NUM_TOPICS = 2\n",
    "STOPWORDS = stopwords.words('spanish')"
   ]
  },
  {
   "cell_type": "code",
   "execution_count": 24,
   "metadata": {},
   "outputs": [],
   "source": [
    "def clean_text(text):\n",
    "    return extractVerbsFromText(text)\n",
    "#     tokenized_text = word_tokenize(text.lower())\n",
    "#     cleaned_text = [t for t in tokenized_text if t not in STOPWORDS and re.match('[a-zA-Z\\-][a-zA-Z\\-]{2,}', t)]\n",
    "#     return cleaned_text"
   ]
  },
  {
   "cell_type": "code",
   "execution_count": 25,
   "metadata": {},
   "outputs": [],
   "source": [
    "def clean_texts(data):\n",
    "    tokenized_data = []\n",
    "    for text in data:\n",
    "        tokenized_data.append(clean_text(text))\n",
    "    return tokenized_data"
   ]
  },
  {
   "cell_type": "code",
   "execution_count": 26,
   "metadata": {},
   "outputs": [],
   "source": [
    "def generateModalForGrade(sentencesOfGrade):\n",
    "    clean_data = clean_texts(sentencesOfGrade)\n",
    "\n",
    "    # Build a Dictionary - association word to numeric id\n",
    "    dictionary = corpora.Dictionary(clean_data)\n",
    "\n",
    "    # Transform the collection of texts to a numerical form\n",
    "    corpus = [dictionary.doc2bow(text) for text in clean_data]\n",
    "\n",
    "    # Have a look at how the 20th document looks like: [(word_id, count), ...]\n",
    "#     print(corpus[20])\n",
    "#     [(12, 3), (14, 1), (21, 1), (25, 5), (30, 2), (31, 5), (33, 1), (42, 1), (43, 2),  ...\n",
    "\n",
    "    # Build the LDA model\n",
    "#     lda_model = models.LdaModel(corpus=corpus, num_topics=NUM_TOPICS, id2word=dictionary)\n",
    "\n",
    "    # Build the LSI model\n",
    "    lsi_model = models.LsiModel(corpus=corpus, num_topics=2, id2word=dictionary)\n",
    "    \n",
    "    return lsi_model, dictionary, corpus"
   ]
  },
  {
   "cell_type": "code",
   "execution_count": 27,
   "metadata": {},
   "outputs": [
    {
     "name": "stderr",
     "output_type": "stream",
     "text": [
      "2018-06-18 01:58:07,503 : INFO : {'properties': \"{'annotators': 'pos', 'outputFormat': 'json'}\", 'pipelineLanguage': 'es'}\n",
      "2018-06-18 01:58:07,832 : INFO : {'properties': \"{'annotators': 'pos', 'outputFormat': 'json'}\", 'pipelineLanguage': 'es'}\n",
      "2018-06-18 01:58:07,870 : INFO : {'properties': \"{'annotators': 'pos', 'outputFormat': 'json'}\", 'pipelineLanguage': 'es'}\n",
      "2018-06-18 01:58:07,927 : INFO : {'properties': \"{'annotators': 'pos', 'outputFormat': 'json'}\", 'pipelineLanguage': 'es'}\n",
      "2018-06-18 01:58:07,966 : INFO : {'properties': \"{'annotators': 'pos', 'outputFormat': 'json'}\", 'pipelineLanguage': 'es'}\n",
      "2018-06-18 01:58:08,012 : INFO : {'properties': \"{'annotators': 'pos', 'outputFormat': 'json'}\", 'pipelineLanguage': 'es'}\n",
      "2018-06-18 01:58:08,043 : INFO : {'properties': \"{'annotators': 'pos', 'outputFormat': 'json'}\", 'pipelineLanguage': 'es'}\n",
      "2018-06-18 01:58:08,086 : INFO : {'properties': \"{'annotators': 'pos', 'outputFormat': 'json'}\", 'pipelineLanguage': 'es'}\n",
      "2018-06-18 01:58:08,103 : INFO : {'properties': \"{'annotators': 'pos', 'outputFormat': 'json'}\", 'pipelineLanguage': 'es'}\n",
      "2018-06-18 01:58:08,116 : INFO : {'properties': \"{'annotators': 'pos', 'outputFormat': 'json'}\", 'pipelineLanguage': 'es'}\n",
      "2018-06-18 01:58:08,135 : INFO : {'properties': \"{'annotators': 'pos', 'outputFormat': 'json'}\", 'pipelineLanguage': 'es'}\n",
      "2018-06-18 01:58:08,146 : INFO : {'properties': \"{'annotators': 'pos', 'outputFormat': 'json'}\", 'pipelineLanguage': 'es'}\n",
      "2018-06-18 01:58:08,249 : INFO : {'properties': \"{'annotators': 'pos', 'outputFormat': 'json'}\", 'pipelineLanguage': 'es'}\n",
      "2018-06-18 01:58:08,271 : INFO : {'properties': \"{'annotators': 'pos', 'outputFormat': 'json'}\", 'pipelineLanguage': 'es'}\n",
      "2018-06-18 01:58:08,293 : INFO : {'properties': \"{'annotators': 'pos', 'outputFormat': 'json'}\", 'pipelineLanguage': 'es'}\n",
      "2018-06-18 01:58:08,311 : INFO : {'properties': \"{'annotators': 'pos', 'outputFormat': 'json'}\", 'pipelineLanguage': 'es'}\n",
      "2018-06-18 01:58:08,341 : INFO : {'properties': \"{'annotators': 'pos', 'outputFormat': 'json'}\", 'pipelineLanguage': 'es'}\n",
      "2018-06-18 01:58:08,351 : INFO : {'properties': \"{'annotators': 'pos', 'outputFormat': 'json'}\", 'pipelineLanguage': 'es'}\n",
      "2018-06-18 01:58:08,360 : INFO : {'properties': \"{'annotators': 'pos', 'outputFormat': 'json'}\", 'pipelineLanguage': 'es'}\n",
      "2018-06-18 01:58:08,381 : INFO : {'properties': \"{'annotators': 'pos', 'outputFormat': 'json'}\", 'pipelineLanguage': 'es'}\n",
      "2018-06-18 01:58:08,400 : INFO : {'properties': \"{'annotators': 'pos', 'outputFormat': 'json'}\", 'pipelineLanguage': 'es'}\n",
      "2018-06-18 01:58:08,421 : INFO : {'properties': \"{'annotators': 'pos', 'outputFormat': 'json'}\", 'pipelineLanguage': 'es'}\n",
      "2018-06-18 01:58:08,447 : INFO : {'properties': \"{'annotators': 'pos', 'outputFormat': 'json'}\", 'pipelineLanguage': 'es'}\n",
      "2018-06-18 01:58:08,475 : INFO : {'properties': \"{'annotators': 'pos', 'outputFormat': 'json'}\", 'pipelineLanguage': 'es'}\n",
      "2018-06-18 01:58:08,509 : INFO : {'properties': \"{'annotators': 'pos', 'outputFormat': 'json'}\", 'pipelineLanguage': 'es'}\n",
      "2018-06-18 01:58:08,521 : INFO : {'properties': \"{'annotators': 'pos', 'outputFormat': 'json'}\", 'pipelineLanguage': 'es'}\n",
      "2018-06-18 01:58:08,552 : INFO : {'properties': \"{'annotators': 'pos', 'outputFormat': 'json'}\", 'pipelineLanguage': 'es'}\n",
      "2018-06-18 01:58:08,567 : INFO : {'properties': \"{'annotators': 'pos', 'outputFormat': 'json'}\", 'pipelineLanguage': 'es'}\n",
      "2018-06-18 01:58:08,677 : INFO : {'properties': \"{'annotators': 'pos', 'outputFormat': 'json'}\", 'pipelineLanguage': 'es'}\n",
      "2018-06-18 01:58:08,689 : INFO : {'properties': \"{'annotators': 'pos', 'outputFormat': 'json'}\", 'pipelineLanguage': 'es'}\n",
      "2018-06-18 01:58:08,731 : INFO : {'properties': \"{'annotators': 'pos', 'outputFormat': 'json'}\", 'pipelineLanguage': 'es'}\n",
      "2018-06-18 01:58:08,750 : INFO : {'properties': \"{'annotators': 'pos', 'outputFormat': 'json'}\", 'pipelineLanguage': 'es'}\n",
      "2018-06-18 01:58:08,790 : INFO : {'properties': \"{'annotators': 'pos', 'outputFormat': 'json'}\", 'pipelineLanguage': 'es'}\n",
      "2018-06-18 01:58:08,808 : INFO : {'properties': \"{'annotators': 'pos', 'outputFormat': 'json'}\", 'pipelineLanguage': 'es'}\n",
      "2018-06-18 01:58:08,841 : INFO : {'properties': \"{'annotators': 'pos', 'outputFormat': 'json'}\", 'pipelineLanguage': 'es'}\n",
      "2018-06-18 01:58:08,858 : INFO : {'properties': \"{'annotators': 'pos', 'outputFormat': 'json'}\", 'pipelineLanguage': 'es'}\n",
      "2018-06-18 01:58:08,881 : INFO : {'properties': \"{'annotators': 'pos', 'outputFormat': 'json'}\", 'pipelineLanguage': 'es'}\n",
      "2018-06-18 01:58:08,905 : INFO : {'properties': \"{'annotators': 'pos', 'outputFormat': 'json'}\", 'pipelineLanguage': 'es'}\n",
      "2018-06-18 01:58:08,924 : INFO : {'properties': \"{'annotators': 'pos', 'outputFormat': 'json'}\", 'pipelineLanguage': 'es'}\n",
      "2018-06-18 01:58:08,939 : INFO : {'properties': \"{'annotators': 'pos', 'outputFormat': 'json'}\", 'pipelineLanguage': 'es'}\n",
      "2018-06-18 01:58:08,948 : INFO : {'properties': \"{'annotators': 'pos', 'outputFormat': 'json'}\", 'pipelineLanguage': 'es'}\n",
      "2018-06-18 01:58:08,973 : INFO : {'properties': \"{'annotators': 'pos', 'outputFormat': 'json'}\", 'pipelineLanguage': 'es'}\n",
      "2018-06-18 01:58:08,998 : INFO : {'properties': \"{'annotators': 'pos', 'outputFormat': 'json'}\", 'pipelineLanguage': 'es'}\n",
      "2018-06-18 01:58:09,057 : INFO : {'properties': \"{'annotators': 'pos', 'outputFormat': 'json'}\", 'pipelineLanguage': 'es'}\n",
      "2018-06-18 01:58:09,086 : INFO : {'properties': \"{'annotators': 'pos', 'outputFormat': 'json'}\", 'pipelineLanguage': 'es'}\n",
      "2018-06-18 01:58:09,115 : INFO : {'properties': \"{'annotators': 'pos', 'outputFormat': 'json'}\", 'pipelineLanguage': 'es'}\n",
      "2018-06-18 01:58:09,125 : INFO : {'properties': \"{'annotators': 'pos', 'outputFormat': 'json'}\", 'pipelineLanguage': 'es'}\n",
      "2018-06-18 01:58:09,134 : INFO : {'properties': \"{'annotators': 'pos', 'outputFormat': 'json'}\", 'pipelineLanguage': 'es'}\n",
      "2018-06-18 01:58:09,145 : INFO : {'properties': \"{'annotators': 'pos', 'outputFormat': 'json'}\", 'pipelineLanguage': 'es'}\n",
      "2018-06-18 01:58:09,269 : INFO : {'properties': \"{'annotators': 'pos', 'outputFormat': 'json'}\", 'pipelineLanguage': 'es'}\n",
      "2018-06-18 01:58:09,290 : INFO : {'properties': \"{'annotators': 'pos', 'outputFormat': 'json'}\", 'pipelineLanguage': 'es'}\n",
      "2018-06-18 01:58:09,333 : INFO : {'properties': \"{'annotators': 'pos', 'outputFormat': 'json'}\", 'pipelineLanguage': 'es'}\n",
      "2018-06-18 01:58:09,365 : INFO : {'properties': \"{'annotators': 'pos', 'outputFormat': 'json'}\", 'pipelineLanguage': 'es'}\n",
      "2018-06-18 01:58:09,386 : INFO : {'properties': \"{'annotators': 'pos', 'outputFormat': 'json'}\", 'pipelineLanguage': 'es'}\n",
      "2018-06-18 01:58:09,394 : INFO : {'properties': \"{'annotators': 'pos', 'outputFormat': 'json'}\", 'pipelineLanguage': 'es'}\n",
      "2018-06-18 01:58:09,424 : INFO : {'properties': \"{'annotators': 'pos', 'outputFormat': 'json'}\", 'pipelineLanguage': 'es'}\n",
      "2018-06-18 01:58:09,468 : INFO : {'properties': \"{'annotators': 'pos', 'outputFormat': 'json'}\", 'pipelineLanguage': 'es'}\n",
      "2018-06-18 01:58:09,487 : INFO : {'properties': \"{'annotators': 'pos', 'outputFormat': 'json'}\", 'pipelineLanguage': 'es'}\n",
      "2018-06-18 01:58:09,503 : INFO : {'properties': \"{'annotators': 'pos', 'outputFormat': 'json'}\", 'pipelineLanguage': 'es'}\n",
      "2018-06-18 01:58:09,517 : INFO : {'properties': \"{'annotators': 'pos', 'outputFormat': 'json'}\", 'pipelineLanguage': 'es'}\n",
      "2018-06-18 01:58:09,537 : INFO : {'properties': \"{'annotators': 'pos', 'outputFormat': 'json'}\", 'pipelineLanguage': 'es'}\n",
      "2018-06-18 01:58:09,569 : INFO : {'properties': \"{'annotators': 'pos', 'outputFormat': 'json'}\", 'pipelineLanguage': 'es'}\n",
      "2018-06-18 01:58:09,579 : INFO : {'properties': \"{'annotators': 'pos', 'outputFormat': 'json'}\", 'pipelineLanguage': 'es'}\n",
      "2018-06-18 01:58:09,605 : INFO : {'properties': \"{'annotators': 'pos', 'outputFormat': 'json'}\", 'pipelineLanguage': 'es'}\n",
      "2018-06-18 01:58:09,630 : INFO : {'properties': \"{'annotators': 'pos', 'outputFormat': 'json'}\", 'pipelineLanguage': 'es'}\n",
      "2018-06-18 01:58:09,644 : INFO : {'properties': \"{'annotators': 'pos', 'outputFormat': 'json'}\", 'pipelineLanguage': 'es'}\n",
      "2018-06-18 01:58:09,662 : INFO : {'properties': \"{'annotators': 'pos', 'outputFormat': 'json'}\", 'pipelineLanguage': 'es'}\n"
     ]
    },
    {
     "name": "stderr",
     "output_type": "stream",
     "text": [
      "2018-06-18 01:58:09,715 : INFO : {'properties': \"{'annotators': 'pos', 'outputFormat': 'json'}\", 'pipelineLanguage': 'es'}\n",
      "2018-06-18 01:58:09,727 : INFO : {'properties': \"{'annotators': 'pos', 'outputFormat': 'json'}\", 'pipelineLanguage': 'es'}\n",
      "2018-06-18 01:58:09,742 : INFO : {'properties': \"{'annotators': 'pos', 'outputFormat': 'json'}\", 'pipelineLanguage': 'es'}\n",
      "2018-06-18 01:58:09,749 : INFO : {'properties': \"{'annotators': 'pos', 'outputFormat': 'json'}\", 'pipelineLanguage': 'es'}\n",
      "2018-06-18 01:58:09,761 : INFO : {'properties': \"{'annotators': 'pos', 'outputFormat': 'json'}\", 'pipelineLanguage': 'es'}\n",
      "2018-06-18 01:58:09,774 : INFO : {'properties': \"{'annotators': 'pos', 'outputFormat': 'json'}\", 'pipelineLanguage': 'es'}\n",
      "2018-06-18 01:58:09,811 : INFO : {'properties': \"{'annotators': 'pos', 'outputFormat': 'json'}\", 'pipelineLanguage': 'es'}\n",
      "2018-06-18 01:58:09,856 : INFO : {'properties': \"{'annotators': 'pos', 'outputFormat': 'json'}\", 'pipelineLanguage': 'es'}\n",
      "2018-06-18 01:58:09,886 : INFO : {'properties': \"{'annotators': 'pos', 'outputFormat': 'json'}\", 'pipelineLanguage': 'es'}\n",
      "2018-06-18 01:58:09,930 : INFO : {'properties': \"{'annotators': 'pos', 'outputFormat': 'json'}\", 'pipelineLanguage': 'es'}\n",
      "2018-06-18 01:58:09,974 : INFO : {'properties': \"{'annotators': 'pos', 'outputFormat': 'json'}\", 'pipelineLanguage': 'es'}\n",
      "2018-06-18 01:58:10,019 : INFO : {'properties': \"{'annotators': 'pos', 'outputFormat': 'json'}\", 'pipelineLanguage': 'es'}\n",
      "2018-06-18 01:58:10,076 : INFO : {'properties': \"{'annotators': 'pos', 'outputFormat': 'json'}\", 'pipelineLanguage': 'es'}\n",
      "2018-06-18 01:58:10,104 : INFO : {'properties': \"{'annotators': 'pos', 'outputFormat': 'json'}\", 'pipelineLanguage': 'es'}\n",
      "2018-06-18 01:58:10,112 : INFO : {'properties': \"{'annotators': 'pos', 'outputFormat': 'json'}\", 'pipelineLanguage': 'es'}\n",
      "2018-06-18 01:58:10,124 : INFO : {'properties': \"{'annotators': 'pos', 'outputFormat': 'json'}\", 'pipelineLanguage': 'es'}\n",
      "2018-06-18 01:58:10,148 : INFO : {'properties': \"{'annotators': 'pos', 'outputFormat': 'json'}\", 'pipelineLanguage': 'es'}\n",
      "2018-06-18 01:58:10,176 : INFO : {'properties': \"{'annotators': 'pos', 'outputFormat': 'json'}\", 'pipelineLanguage': 'es'}\n",
      "2018-06-18 01:58:10,212 : INFO : {'properties': \"{'annotators': 'pos', 'outputFormat': 'json'}\", 'pipelineLanguage': 'es'}\n",
      "2018-06-18 01:58:10,224 : INFO : {'properties': \"{'annotators': 'pos', 'outputFormat': 'json'}\", 'pipelineLanguage': 'es'}\n",
      "2018-06-18 01:58:10,283 : INFO : {'properties': \"{'annotators': 'pos', 'outputFormat': 'json'}\", 'pipelineLanguage': 'es'}\n",
      "2018-06-18 01:58:10,316 : INFO : {'properties': \"{'annotators': 'pos', 'outputFormat': 'json'}\", 'pipelineLanguage': 'es'}\n",
      "2018-06-18 01:58:10,425 : INFO : {'properties': \"{'annotators': 'pos', 'outputFormat': 'json'}\", 'pipelineLanguage': 'es'}\n",
      "2018-06-18 01:58:10,463 : INFO : {'properties': \"{'annotators': 'pos', 'outputFormat': 'json'}\", 'pipelineLanguage': 'es'}\n",
      "2018-06-18 01:58:10,475 : INFO : {'properties': \"{'annotators': 'pos', 'outputFormat': 'json'}\", 'pipelineLanguage': 'es'}\n",
      "2018-06-18 01:58:10,520 : INFO : {'properties': \"{'annotators': 'pos', 'outputFormat': 'json'}\", 'pipelineLanguage': 'es'}\n",
      "2018-06-18 01:58:10,560 : INFO : {'properties': \"{'annotators': 'pos', 'outputFormat': 'json'}\", 'pipelineLanguage': 'es'}\n",
      "2018-06-18 01:58:10,572 : INFO : {'properties': \"{'annotators': 'pos', 'outputFormat': 'json'}\", 'pipelineLanguage': 'es'}\n",
      "2018-06-18 01:58:10,589 : INFO : {'properties': \"{'annotators': 'pos', 'outputFormat': 'json'}\", 'pipelineLanguage': 'es'}\n",
      "2018-06-18 01:58:10,608 : INFO : {'properties': \"{'annotators': 'pos', 'outputFormat': 'json'}\", 'pipelineLanguage': 'es'}\n",
      "2018-06-18 01:58:10,625 : INFO : {'properties': \"{'annotators': 'pos', 'outputFormat': 'json'}\", 'pipelineLanguage': 'es'}\n",
      "2018-06-18 01:58:10,633 : INFO : {'properties': \"{'annotators': 'pos', 'outputFormat': 'json'}\", 'pipelineLanguage': 'es'}\n",
      "2018-06-18 01:58:10,644 : INFO : {'properties': \"{'annotators': 'pos', 'outputFormat': 'json'}\", 'pipelineLanguage': 'es'}\n",
      "2018-06-18 01:58:10,695 : INFO : {'properties': \"{'annotators': 'pos', 'outputFormat': 'json'}\", 'pipelineLanguage': 'es'}\n",
      "2018-06-18 01:58:10,716 : INFO : {'properties': \"{'annotators': 'pos', 'outputFormat': 'json'}\", 'pipelineLanguage': 'es'}\n",
      "2018-06-18 01:58:10,739 : INFO : {'properties': \"{'annotators': 'pos', 'outputFormat': 'json'}\", 'pipelineLanguage': 'es'}\n",
      "2018-06-18 01:58:10,776 : INFO : {'properties': \"{'annotators': 'pos', 'outputFormat': 'json'}\", 'pipelineLanguage': 'es'}\n",
      "2018-06-18 01:58:10,818 : INFO : {'properties': \"{'annotators': 'pos', 'outputFormat': 'json'}\", 'pipelineLanguage': 'es'}\n",
      "2018-06-18 01:58:10,833 : INFO : {'properties': \"{'annotators': 'pos', 'outputFormat': 'json'}\", 'pipelineLanguage': 'es'}\n",
      "2018-06-18 01:58:10,855 : INFO : {'properties': \"{'annotators': 'pos', 'outputFormat': 'json'}\", 'pipelineLanguage': 'es'}\n",
      "2018-06-18 01:58:10,864 : INFO : {'properties': \"{'annotators': 'pos', 'outputFormat': 'json'}\", 'pipelineLanguage': 'es'}\n",
      "2018-06-18 01:58:10,896 : INFO : {'properties': \"{'annotators': 'pos', 'outputFormat': 'json'}\", 'pipelineLanguage': 'es'}\n",
      "2018-06-18 01:58:10,920 : INFO : {'properties': \"{'annotators': 'pos', 'outputFormat': 'json'}\", 'pipelineLanguage': 'es'}\n",
      "2018-06-18 01:58:10,934 : INFO : {'properties': \"{'annotators': 'pos', 'outputFormat': 'json'}\", 'pipelineLanguage': 'es'}\n",
      "2018-06-18 01:58:10,947 : INFO : {'properties': \"{'annotators': 'pos', 'outputFormat': 'json'}\", 'pipelineLanguage': 'es'}\n",
      "2018-06-18 01:58:11,233 : INFO : {'properties': \"{'annotators': 'pos', 'outputFormat': 'json'}\", 'pipelineLanguage': 'es'}\n",
      "2018-06-18 01:58:11,248 : INFO : {'properties': \"{'annotators': 'pos', 'outputFormat': 'json'}\", 'pipelineLanguage': 'es'}\n",
      "2018-06-18 01:58:11,264 : INFO : {'properties': \"{'annotators': 'pos', 'outputFormat': 'json'}\", 'pipelineLanguage': 'es'}\n",
      "2018-06-18 01:58:11,285 : INFO : {'properties': \"{'annotators': 'pos', 'outputFormat': 'json'}\", 'pipelineLanguage': 'es'}\n",
      "2018-06-18 01:58:11,307 : INFO : {'properties': \"{'annotators': 'pos', 'outputFormat': 'json'}\", 'pipelineLanguage': 'es'}\n",
      "2018-06-18 01:58:11,336 : INFO : {'properties': \"{'annotators': 'pos', 'outputFormat': 'json'}\", 'pipelineLanguage': 'es'}\n",
      "2018-06-18 01:58:11,348 : INFO : {'properties': \"{'annotators': 'pos', 'outputFormat': 'json'}\", 'pipelineLanguage': 'es'}\n",
      "2018-06-18 01:58:11,422 : INFO : {'properties': \"{'annotators': 'pos', 'outputFormat': 'json'}\", 'pipelineLanguage': 'es'}\n",
      "2018-06-18 01:58:11,497 : INFO : {'properties': \"{'annotators': 'pos', 'outputFormat': 'json'}\", 'pipelineLanguage': 'es'}\n",
      "2018-06-18 01:58:11,519 : INFO : {'properties': \"{'annotators': 'pos', 'outputFormat': 'json'}\", 'pipelineLanguage': 'es'}\n",
      "2018-06-18 01:58:11,539 : INFO : {'properties': \"{'annotators': 'pos', 'outputFormat': 'json'}\", 'pipelineLanguage': 'es'}\n",
      "2018-06-18 01:58:11,550 : INFO : {'properties': \"{'annotators': 'pos', 'outputFormat': 'json'}\", 'pipelineLanguage': 'es'}\n",
      "2018-06-18 01:58:11,572 : INFO : {'properties': \"{'annotators': 'pos', 'outputFormat': 'json'}\", 'pipelineLanguage': 'es'}\n",
      "2018-06-18 01:58:11,595 : INFO : {'properties': \"{'annotators': 'pos', 'outputFormat': 'json'}\", 'pipelineLanguage': 'es'}\n",
      "2018-06-18 01:58:11,611 : INFO : {'properties': \"{'annotators': 'pos', 'outputFormat': 'json'}\", 'pipelineLanguage': 'es'}\n",
      "2018-06-18 01:58:11,628 : INFO : {'properties': \"{'annotators': 'pos', 'outputFormat': 'json'}\", 'pipelineLanguage': 'es'}\n",
      "2018-06-18 01:58:11,645 : INFO : {'properties': \"{'annotators': 'pos', 'outputFormat': 'json'}\", 'pipelineLanguage': 'es'}\n",
      "2018-06-18 01:58:11,656 : INFO : {'properties': \"{'annotators': 'pos', 'outputFormat': 'json'}\", 'pipelineLanguage': 'es'}\n",
      "2018-06-18 01:58:11,668 : INFO : {'properties': \"{'annotators': 'pos', 'outputFormat': 'json'}\", 'pipelineLanguage': 'es'}\n",
      "2018-06-18 01:58:11,683 : INFO : {'properties': \"{'annotators': 'pos', 'outputFormat': 'json'}\", 'pipelineLanguage': 'es'}\n",
      "2018-06-18 01:58:11,694 : INFO : {'properties': \"{'annotators': 'pos', 'outputFormat': 'json'}\", 'pipelineLanguage': 'es'}\n",
      "2018-06-18 01:58:11,709 : INFO : {'properties': \"{'annotators': 'pos', 'outputFormat': 'json'}\", 'pipelineLanguage': 'es'}\n"
     ]
    },
    {
     "name": "stderr",
     "output_type": "stream",
     "text": [
      "2018-06-18 01:58:11,721 : INFO : {'properties': \"{'annotators': 'pos', 'outputFormat': 'json'}\", 'pipelineLanguage': 'es'}\n",
      "2018-06-18 01:58:11,729 : INFO : {'properties': \"{'annotators': 'pos', 'outputFormat': 'json'}\", 'pipelineLanguage': 'es'}\n",
      "2018-06-18 01:58:11,760 : INFO : {'properties': \"{'annotators': 'pos', 'outputFormat': 'json'}\", 'pipelineLanguage': 'es'}\n",
      "2018-06-18 01:58:11,770 : INFO : {'properties': \"{'annotators': 'pos', 'outputFormat': 'json'}\", 'pipelineLanguage': 'es'}\n",
      "2018-06-18 01:58:11,783 : INFO : {'properties': \"{'annotators': 'pos', 'outputFormat': 'json'}\", 'pipelineLanguage': 'es'}\n",
      "2018-06-18 01:58:11,791 : INFO : {'properties': \"{'annotators': 'pos', 'outputFormat': 'json'}\", 'pipelineLanguage': 'es'}\n",
      "2018-06-18 01:58:11,809 : INFO : {'properties': \"{'annotators': 'pos', 'outputFormat': 'json'}\", 'pipelineLanguage': 'es'}\n",
      "2018-06-18 01:58:11,821 : INFO : {'properties': \"{'annotators': 'pos', 'outputFormat': 'json'}\", 'pipelineLanguage': 'es'}\n",
      "2018-06-18 01:58:11,847 : INFO : {'properties': \"{'annotators': 'pos', 'outputFormat': 'json'}\", 'pipelineLanguage': 'es'}\n",
      "2018-06-18 01:58:11,856 : INFO : {'properties': \"{'annotators': 'pos', 'outputFormat': 'json'}\", 'pipelineLanguage': 'es'}\n",
      "2018-06-18 01:58:11,911 : INFO : {'properties': \"{'annotators': 'pos', 'outputFormat': 'json'}\", 'pipelineLanguage': 'es'}\n",
      "2018-06-18 01:58:11,933 : INFO : {'properties': \"{'annotators': 'pos', 'outputFormat': 'json'}\", 'pipelineLanguage': 'es'}\n",
      "2018-06-18 01:58:11,955 : INFO : {'properties': \"{'annotators': 'pos', 'outputFormat': 'json'}\", 'pipelineLanguage': 'es'}\n",
      "2018-06-18 01:58:11,983 : INFO : {'properties': \"{'annotators': 'pos', 'outputFormat': 'json'}\", 'pipelineLanguage': 'es'}\n",
      "2018-06-18 01:58:12,018 : INFO : {'properties': \"{'annotators': 'pos', 'outputFormat': 'json'}\", 'pipelineLanguage': 'es'}\n",
      "2018-06-18 01:58:12,044 : INFO : {'properties': \"{'annotators': 'pos', 'outputFormat': 'json'}\", 'pipelineLanguage': 'es'}\n",
      "2018-06-18 01:58:12,051 : INFO : {'properties': \"{'annotators': 'pos', 'outputFormat': 'json'}\", 'pipelineLanguage': 'es'}\n",
      "2018-06-18 01:58:12,073 : INFO : {'properties': \"{'annotators': 'pos', 'outputFormat': 'json'}\", 'pipelineLanguage': 'es'}\n",
      "2018-06-18 01:58:12,091 : INFO : {'properties': \"{'annotators': 'pos', 'outputFormat': 'json'}\", 'pipelineLanguage': 'es'}\n",
      "2018-06-18 01:58:12,108 : INFO : {'properties': \"{'annotators': 'pos', 'outputFormat': 'json'}\", 'pipelineLanguage': 'es'}\n",
      "2018-06-18 01:58:12,129 : INFO : {'properties': \"{'annotators': 'pos', 'outputFormat': 'json'}\", 'pipelineLanguage': 'es'}\n",
      "2018-06-18 01:58:12,136 : INFO : {'properties': \"{'annotators': 'pos', 'outputFormat': 'json'}\", 'pipelineLanguage': 'es'}\n",
      "2018-06-18 01:58:12,210 : INFO : {'properties': \"{'annotators': 'pos', 'outputFormat': 'json'}\", 'pipelineLanguage': 'es'}\n",
      "2018-06-18 01:58:12,218 : INFO : {'properties': \"{'annotators': 'pos', 'outputFormat': 'json'}\", 'pipelineLanguage': 'es'}\n",
      "2018-06-18 01:58:12,230 : INFO : {'properties': \"{'annotators': 'pos', 'outputFormat': 'json'}\", 'pipelineLanguage': 'es'}\n",
      "2018-06-18 01:58:12,241 : INFO : {'properties': \"{'annotators': 'pos', 'outputFormat': 'json'}\", 'pipelineLanguage': 'es'}\n",
      "2018-06-18 01:58:12,255 : INFO : {'properties': \"{'annotators': 'pos', 'outputFormat': 'json'}\", 'pipelineLanguage': 'es'}\n",
      "2018-06-18 01:58:12,300 : INFO : {'properties': \"{'annotators': 'pos', 'outputFormat': 'json'}\", 'pipelineLanguage': 'es'}\n",
      "2018-06-18 01:58:12,322 : INFO : {'properties': \"{'annotators': 'pos', 'outputFormat': 'json'}\", 'pipelineLanguage': 'es'}\n",
      "2018-06-18 01:58:12,335 : INFO : {'properties': \"{'annotators': 'pos', 'outputFormat': 'json'}\", 'pipelineLanguage': 'es'}\n",
      "2018-06-18 01:58:12,356 : INFO : {'properties': \"{'annotators': 'pos', 'outputFormat': 'json'}\", 'pipelineLanguage': 'es'}\n",
      "2018-06-18 01:58:12,404 : INFO : {'properties': \"{'annotators': 'pos', 'outputFormat': 'json'}\", 'pipelineLanguage': 'es'}\n",
      "2018-06-18 01:58:12,414 : INFO : {'properties': \"{'annotators': 'pos', 'outputFormat': 'json'}\", 'pipelineLanguage': 'es'}\n",
      "2018-06-18 01:58:12,423 : INFO : {'properties': \"{'annotators': 'pos', 'outputFormat': 'json'}\", 'pipelineLanguage': 'es'}\n",
      "2018-06-18 01:58:12,447 : INFO : {'properties': \"{'annotators': 'pos', 'outputFormat': 'json'}\", 'pipelineLanguage': 'es'}\n",
      "2018-06-18 01:58:12,465 : INFO : {'properties': \"{'annotators': 'pos', 'outputFormat': 'json'}\", 'pipelineLanguage': 'es'}\n",
      "2018-06-18 01:58:12,496 : INFO : {'properties': \"{'annotators': 'pos', 'outputFormat': 'json'}\", 'pipelineLanguage': 'es'}\n",
      "2018-06-18 01:58:12,596 : INFO : {'properties': \"{'annotators': 'pos', 'outputFormat': 'json'}\", 'pipelineLanguage': 'es'}\n",
      "2018-06-18 01:58:12,613 : INFO : {'properties': \"{'annotators': 'pos', 'outputFormat': 'json'}\", 'pipelineLanguage': 'es'}\n",
      "2018-06-18 01:58:12,630 : INFO : {'properties': \"{'annotators': 'pos', 'outputFormat': 'json'}\", 'pipelineLanguage': 'es'}\n",
      "2018-06-18 01:58:12,755 : INFO : {'properties': \"{'annotators': 'pos', 'outputFormat': 'json'}\", 'pipelineLanguage': 'es'}\n",
      "2018-06-18 01:58:12,924 : INFO : {'properties': \"{'annotators': 'pos', 'outputFormat': 'json'}\", 'pipelineLanguage': 'es'}\n",
      "2018-06-18 01:58:12,946 : INFO : {'properties': \"{'annotators': 'pos', 'outputFormat': 'json'}\", 'pipelineLanguage': 'es'}\n",
      "2018-06-18 01:58:13,024 : INFO : {'properties': \"{'annotators': 'pos', 'outputFormat': 'json'}\", 'pipelineLanguage': 'es'}\n",
      "2018-06-18 01:58:13,039 : INFO : {'properties': \"{'annotators': 'pos', 'outputFormat': 'json'}\", 'pipelineLanguage': 'es'}\n",
      "2018-06-18 01:58:13,128 : INFO : {'properties': \"{'annotators': 'pos', 'outputFormat': 'json'}\", 'pipelineLanguage': 'es'}\n",
      "2018-06-18 01:58:13,148 : INFO : {'properties': \"{'annotators': 'pos', 'outputFormat': 'json'}\", 'pipelineLanguage': 'es'}\n",
      "2018-06-18 01:58:13,178 : INFO : {'properties': \"{'annotators': 'pos', 'outputFormat': 'json'}\", 'pipelineLanguage': 'es'}\n",
      "2018-06-18 01:58:13,202 : INFO : {'properties': \"{'annotators': 'pos', 'outputFormat': 'json'}\", 'pipelineLanguage': 'es'}\n",
      "2018-06-18 01:58:13,209 : INFO : {'properties': \"{'annotators': 'pos', 'outputFormat': 'json'}\", 'pipelineLanguage': 'es'}\n",
      "2018-06-18 01:58:13,234 : INFO : {'properties': \"{'annotators': 'pos', 'outputFormat': 'json'}\", 'pipelineLanguage': 'es'}\n",
      "2018-06-18 01:58:13,258 : INFO : {'properties': \"{'annotators': 'pos', 'outputFormat': 'json'}\", 'pipelineLanguage': 'es'}\n",
      "2018-06-18 01:58:13,276 : INFO : {'properties': \"{'annotators': 'pos', 'outputFormat': 'json'}\", 'pipelineLanguage': 'es'}\n",
      "2018-06-18 01:58:13,292 : INFO : {'properties': \"{'annotators': 'pos', 'outputFormat': 'json'}\", 'pipelineLanguage': 'es'}\n",
      "2018-06-18 01:58:13,300 : INFO : {'properties': \"{'annotators': 'pos', 'outputFormat': 'json'}\", 'pipelineLanguage': 'es'}\n",
      "2018-06-18 01:58:13,323 : INFO : {'properties': \"{'annotators': 'pos', 'outputFormat': 'json'}\", 'pipelineLanguage': 'es'}\n",
      "2018-06-18 01:58:13,334 : INFO : {'properties': \"{'annotators': 'pos', 'outputFormat': 'json'}\", 'pipelineLanguage': 'es'}\n",
      "2018-06-18 01:58:13,412 : INFO : {'properties': \"{'annotators': 'pos', 'outputFormat': 'json'}\", 'pipelineLanguage': 'es'}\n",
      "2018-06-18 01:58:13,430 : INFO : {'properties': \"{'annotators': 'pos', 'outputFormat': 'json'}\", 'pipelineLanguage': 'es'}\n",
      "2018-06-18 01:58:13,447 : INFO : {'properties': \"{'annotators': 'pos', 'outputFormat': 'json'}\", 'pipelineLanguage': 'es'}\n",
      "2018-06-18 01:58:13,466 : INFO : {'properties': \"{'annotators': 'pos', 'outputFormat': 'json'}\", 'pipelineLanguage': 'es'}\n",
      "2018-06-18 01:58:13,504 : INFO : {'properties': \"{'annotators': 'pos', 'outputFormat': 'json'}\", 'pipelineLanguage': 'es'}\n",
      "2018-06-18 01:58:13,521 : INFO : {'properties': \"{'annotators': 'pos', 'outputFormat': 'json'}\", 'pipelineLanguage': 'es'}\n",
      "2018-06-18 01:58:13,528 : INFO : {'properties': \"{'annotators': 'pos', 'outputFormat': 'json'}\", 'pipelineLanguage': 'es'}\n",
      "2018-06-18 01:58:13,537 : INFO : {'properties': \"{'annotators': 'pos', 'outputFormat': 'json'}\", 'pipelineLanguage': 'es'}\n",
      "2018-06-18 01:58:13,544 : INFO : {'properties': \"{'annotators': 'pos', 'outputFormat': 'json'}\", 'pipelineLanguage': 'es'}\n",
      "2018-06-18 01:58:13,552 : INFO : {'properties': \"{'annotators': 'pos', 'outputFormat': 'json'}\", 'pipelineLanguage': 'es'}\n"
     ]
    },
    {
     "name": "stderr",
     "output_type": "stream",
     "text": [
      "2018-06-18 01:58:13,559 : INFO : {'properties': \"{'annotators': 'pos', 'outputFormat': 'json'}\", 'pipelineLanguage': 'es'}\n",
      "2018-06-18 01:58:13,568 : INFO : {'properties': \"{'annotators': 'pos', 'outputFormat': 'json'}\", 'pipelineLanguage': 'es'}\n",
      "2018-06-18 01:58:13,578 : INFO : {'properties': \"{'annotators': 'pos', 'outputFormat': 'json'}\", 'pipelineLanguage': 'es'}\n",
      "2018-06-18 01:58:13,590 : INFO : {'properties': \"{'annotators': 'pos', 'outputFormat': 'json'}\", 'pipelineLanguage': 'es'}\n",
      "2018-06-18 01:58:13,604 : INFO : {'properties': \"{'annotators': 'pos', 'outputFormat': 'json'}\", 'pipelineLanguage': 'es'}\n",
      "2018-06-18 01:58:13,613 : INFO : {'properties': \"{'annotators': 'pos', 'outputFormat': 'json'}\", 'pipelineLanguage': 'es'}\n",
      "2018-06-18 01:58:13,623 : INFO : {'properties': \"{'annotators': 'pos', 'outputFormat': 'json'}\", 'pipelineLanguage': 'es'}\n",
      "2018-06-18 01:58:13,651 : INFO : {'properties': \"{'annotators': 'pos', 'outputFormat': 'json'}\", 'pipelineLanguage': 'es'}\n",
      "2018-06-18 01:58:13,660 : INFO : {'properties': \"{'annotators': 'pos', 'outputFormat': 'json'}\", 'pipelineLanguage': 'es'}\n",
      "2018-06-18 01:58:13,668 : INFO : {'properties': \"{'annotators': 'pos', 'outputFormat': 'json'}\", 'pipelineLanguage': 'es'}\n",
      "2018-06-18 01:58:13,676 : INFO : {'properties': \"{'annotators': 'pos', 'outputFormat': 'json'}\", 'pipelineLanguage': 'es'}\n",
      "2018-06-18 01:58:13,691 : INFO : {'properties': \"{'annotators': 'pos', 'outputFormat': 'json'}\", 'pipelineLanguage': 'es'}\n",
      "2018-06-18 01:58:13,711 : INFO : {'properties': \"{'annotators': 'pos', 'outputFormat': 'json'}\", 'pipelineLanguage': 'es'}\n",
      "2018-06-18 01:58:13,724 : INFO : {'properties': \"{'annotators': 'pos', 'outputFormat': 'json'}\", 'pipelineLanguage': 'es'}\n",
      "2018-06-18 01:58:13,734 : INFO : {'properties': \"{'annotators': 'pos', 'outputFormat': 'json'}\", 'pipelineLanguage': 'es'}\n",
      "2018-06-18 01:58:13,744 : INFO : {'properties': \"{'annotators': 'pos', 'outputFormat': 'json'}\", 'pipelineLanguage': 'es'}\n",
      "2018-06-18 01:58:13,754 : INFO : {'properties': \"{'annotators': 'pos', 'outputFormat': 'json'}\", 'pipelineLanguage': 'es'}\n",
      "2018-06-18 01:58:13,791 : INFO : {'properties': \"{'annotators': 'pos', 'outputFormat': 'json'}\", 'pipelineLanguage': 'es'}\n",
      "2018-06-18 01:58:13,800 : INFO : {'properties': \"{'annotators': 'pos', 'outputFormat': 'json'}\", 'pipelineLanguage': 'es'}\n",
      "2018-06-18 01:58:13,814 : INFO : {'properties': \"{'annotators': 'pos', 'outputFormat': 'json'}\", 'pipelineLanguage': 'es'}\n",
      "2018-06-18 01:58:13,831 : INFO : {'properties': \"{'annotators': 'pos', 'outputFormat': 'json'}\", 'pipelineLanguage': 'es'}\n",
      "2018-06-18 01:58:13,841 : INFO : {'properties': \"{'annotators': 'pos', 'outputFormat': 'json'}\", 'pipelineLanguage': 'es'}\n",
      "2018-06-18 01:58:13,847 : INFO : {'properties': \"{'annotators': 'pos', 'outputFormat': 'json'}\", 'pipelineLanguage': 'es'}\n",
      "2018-06-18 01:58:13,856 : INFO : {'properties': \"{'annotators': 'pos', 'outputFormat': 'json'}\", 'pipelineLanguage': 'es'}\n",
      "2018-06-18 01:58:13,863 : INFO : {'properties': \"{'annotators': 'pos', 'outputFormat': 'json'}\", 'pipelineLanguage': 'es'}\n",
      "2018-06-18 01:58:13,870 : INFO : {'properties': \"{'annotators': 'pos', 'outputFormat': 'json'}\", 'pipelineLanguage': 'es'}\n",
      "2018-06-18 01:58:13,878 : INFO : {'properties': \"{'annotators': 'pos', 'outputFormat': 'json'}\", 'pipelineLanguage': 'es'}\n",
      "2018-06-18 01:58:13,888 : INFO : {'properties': \"{'annotators': 'pos', 'outputFormat': 'json'}\", 'pipelineLanguage': 'es'}\n",
      "2018-06-18 01:58:13,917 : INFO : {'properties': \"{'annotators': 'pos', 'outputFormat': 'json'}\", 'pipelineLanguage': 'es'}\n",
      "2018-06-18 01:58:13,925 : INFO : {'properties': \"{'annotators': 'pos', 'outputFormat': 'json'}\", 'pipelineLanguage': 'es'}\n",
      "2018-06-18 01:58:13,933 : INFO : {'properties': \"{'annotators': 'pos', 'outputFormat': 'json'}\", 'pipelineLanguage': 'es'}\n",
      "2018-06-18 01:58:13,969 : INFO : {'properties': \"{'annotators': 'pos', 'outputFormat': 'json'}\", 'pipelineLanguage': 'es'}\n",
      "2018-06-18 01:58:13,978 : INFO : {'properties': \"{'annotators': 'pos', 'outputFormat': 'json'}\", 'pipelineLanguage': 'es'}\n",
      "2018-06-18 01:58:13,987 : INFO : {'properties': \"{'annotators': 'pos', 'outputFormat': 'json'}\", 'pipelineLanguage': 'es'}\n",
      "2018-06-18 01:58:13,996 : INFO : {'properties': \"{'annotators': 'pos', 'outputFormat': 'json'}\", 'pipelineLanguage': 'es'}\n",
      "2018-06-18 01:58:14,054 : INFO : {'properties': \"{'annotators': 'pos', 'outputFormat': 'json'}\", 'pipelineLanguage': 'es'}\n",
      "2018-06-18 01:58:14,066 : INFO : {'properties': \"{'annotators': 'pos', 'outputFormat': 'json'}\", 'pipelineLanguage': 'es'}\n",
      "2018-06-18 01:58:14,090 : INFO : {'properties': \"{'annotators': 'pos', 'outputFormat': 'json'}\", 'pipelineLanguage': 'es'}\n",
      "2018-06-18 01:58:14,099 : INFO : {'properties': \"{'annotators': 'pos', 'outputFormat': 'json'}\", 'pipelineLanguage': 'es'}\n",
      "2018-06-18 01:58:14,114 : INFO : {'properties': \"{'annotators': 'pos', 'outputFormat': 'json'}\", 'pipelineLanguage': 'es'}\n",
      "2018-06-18 01:58:14,124 : INFO : {'properties': \"{'annotators': 'pos', 'outputFormat': 'json'}\", 'pipelineLanguage': 'es'}\n",
      "2018-06-18 01:58:14,148 : INFO : {'properties': \"{'annotators': 'pos', 'outputFormat': 'json'}\", 'pipelineLanguage': 'es'}\n",
      "2018-06-18 01:58:14,159 : INFO : {'properties': \"{'annotators': 'pos', 'outputFormat': 'json'}\", 'pipelineLanguage': 'es'}\n",
      "2018-06-18 01:58:14,193 : INFO : {'properties': \"{'annotators': 'pos', 'outputFormat': 'json'}\", 'pipelineLanguage': 'es'}\n",
      "2018-06-18 01:58:14,204 : INFO : {'properties': \"{'annotators': 'pos', 'outputFormat': 'json'}\", 'pipelineLanguage': 'es'}\n",
      "2018-06-18 01:58:14,216 : INFO : {'properties': \"{'annotators': 'pos', 'outputFormat': 'json'}\", 'pipelineLanguage': 'es'}\n",
      "2018-06-18 01:58:14,224 : INFO : {'properties': \"{'annotators': 'pos', 'outputFormat': 'json'}\", 'pipelineLanguage': 'es'}\n",
      "2018-06-18 01:58:14,233 : INFO : {'properties': \"{'annotators': 'pos', 'outputFormat': 'json'}\", 'pipelineLanguage': 'es'}\n",
      "2018-06-18 01:58:14,255 : INFO : {'properties': \"{'annotators': 'pos', 'outputFormat': 'json'}\", 'pipelineLanguage': 'es'}\n",
      "2018-06-18 01:58:14,264 : INFO : {'properties': \"{'annotators': 'pos', 'outputFormat': 'json'}\", 'pipelineLanguage': 'es'}\n",
      "2018-06-18 01:58:14,271 : INFO : {'properties': \"{'annotators': 'pos', 'outputFormat': 'json'}\", 'pipelineLanguage': 'es'}\n",
      "2018-06-18 01:58:14,280 : INFO : {'properties': \"{'annotators': 'pos', 'outputFormat': 'json'}\", 'pipelineLanguage': 'es'}\n",
      "2018-06-18 01:58:14,287 : INFO : {'properties': \"{'annotators': 'pos', 'outputFormat': 'json'}\", 'pipelineLanguage': 'es'}\n",
      "2018-06-18 01:58:14,299 : INFO : {'properties': \"{'annotators': 'pos', 'outputFormat': 'json'}\", 'pipelineLanguage': 'es'}\n",
      "2018-06-18 01:58:14,306 : INFO : {'properties': \"{'annotators': 'pos', 'outputFormat': 'json'}\", 'pipelineLanguage': 'es'}\n",
      "2018-06-18 01:58:14,316 : INFO : {'properties': \"{'annotators': 'pos', 'outputFormat': 'json'}\", 'pipelineLanguage': 'es'}\n",
      "2018-06-18 01:58:14,324 : INFO : {'properties': \"{'annotators': 'pos', 'outputFormat': 'json'}\", 'pipelineLanguage': 'es'}\n",
      "2018-06-18 01:58:14,332 : INFO : {'properties': \"{'annotators': 'pos', 'outputFormat': 'json'}\", 'pipelineLanguage': 'es'}\n",
      "2018-06-18 01:58:14,341 : INFO : {'properties': \"{'annotators': 'pos', 'outputFormat': 'json'}\", 'pipelineLanguage': 'es'}\n",
      "2018-06-18 01:58:14,354 : INFO : {'properties': \"{'annotators': 'pos', 'outputFormat': 'json'}\", 'pipelineLanguage': 'es'}\n",
      "2018-06-18 01:58:14,384 : INFO : {'properties': \"{'annotators': 'pos', 'outputFormat': 'json'}\", 'pipelineLanguage': 'es'}\n",
      "2018-06-18 01:58:14,404 : INFO : {'properties': \"{'annotators': 'pos', 'outputFormat': 'json'}\", 'pipelineLanguage': 'es'}\n",
      "2018-06-18 01:58:14,415 : INFO : {'properties': \"{'annotators': 'pos', 'outputFormat': 'json'}\", 'pipelineLanguage': 'es'}\n",
      "2018-06-18 01:58:14,425 : INFO : {'properties': \"{'annotators': 'pos', 'outputFormat': 'json'}\", 'pipelineLanguage': 'es'}\n",
      "2018-06-18 01:58:14,435 : INFO : {'properties': \"{'annotators': 'pos', 'outputFormat': 'json'}\", 'pipelineLanguage': 'es'}\n",
      "2018-06-18 01:58:14,445 : INFO : {'properties': \"{'annotators': 'pos', 'outputFormat': 'json'}\", 'pipelineLanguage': 'es'}\n",
      "2018-06-18 01:58:14,467 : INFO : {'properties': \"{'annotators': 'pos', 'outputFormat': 'json'}\", 'pipelineLanguage': 'es'}\n"
     ]
    },
    {
     "name": "stderr",
     "output_type": "stream",
     "text": [
      "2018-06-18 01:58:14,474 : INFO : {'properties': \"{'annotators': 'pos', 'outputFormat': 'json'}\", 'pipelineLanguage': 'es'}\n",
      "2018-06-18 01:58:14,488 : INFO : {'properties': \"{'annotators': 'pos', 'outputFormat': 'json'}\", 'pipelineLanguage': 'es'}\n",
      "2018-06-18 01:58:14,503 : INFO : {'properties': \"{'annotators': 'pos', 'outputFormat': 'json'}\", 'pipelineLanguage': 'es'}\n",
      "2018-06-18 01:58:14,513 : INFO : {'properties': \"{'annotators': 'pos', 'outputFormat': 'json'}\", 'pipelineLanguage': 'es'}\n",
      "2018-06-18 01:58:14,523 : INFO : {'properties': \"{'annotators': 'pos', 'outputFormat': 'json'}\", 'pipelineLanguage': 'es'}\n",
      "2018-06-18 01:58:14,532 : INFO : {'properties': \"{'annotators': 'pos', 'outputFormat': 'json'}\", 'pipelineLanguage': 'es'}\n",
      "2018-06-18 01:58:14,542 : INFO : {'properties': \"{'annotators': 'pos', 'outputFormat': 'json'}\", 'pipelineLanguage': 'es'}\n",
      "2018-06-18 01:58:14,550 : INFO : {'properties': \"{'annotators': 'pos', 'outputFormat': 'json'}\", 'pipelineLanguage': 'es'}\n",
      "2018-06-18 01:58:14,558 : INFO : {'properties': \"{'annotators': 'pos', 'outputFormat': 'json'}\", 'pipelineLanguage': 'es'}\n",
      "2018-06-18 01:58:14,565 : INFO : {'properties': \"{'annotators': 'pos', 'outputFormat': 'json'}\", 'pipelineLanguage': 'es'}\n",
      "2018-06-18 01:58:14,571 : INFO : {'properties': \"{'annotators': 'pos', 'outputFormat': 'json'}\", 'pipelineLanguage': 'es'}\n",
      "2018-06-18 01:58:14,579 : INFO : {'properties': \"{'annotators': 'pos', 'outputFormat': 'json'}\", 'pipelineLanguage': 'es'}\n",
      "2018-06-18 01:58:14,606 : INFO : {'properties': \"{'annotators': 'pos', 'outputFormat': 'json'}\", 'pipelineLanguage': 'es'}\n",
      "2018-06-18 01:58:14,629 : INFO : {'properties': \"{'annotators': 'pos', 'outputFormat': 'json'}\", 'pipelineLanguage': 'es'}\n",
      "2018-06-18 01:58:14,640 : INFO : {'properties': \"{'annotators': 'pos', 'outputFormat': 'json'}\", 'pipelineLanguage': 'es'}\n",
      "2018-06-18 01:58:14,647 : INFO : {'properties': \"{'annotators': 'pos', 'outputFormat': 'json'}\", 'pipelineLanguage': 'es'}\n",
      "2018-06-18 01:58:14,655 : INFO : {'properties': \"{'annotators': 'pos', 'outputFormat': 'json'}\", 'pipelineLanguage': 'es'}\n",
      "2018-06-18 01:58:14,662 : INFO : {'properties': \"{'annotators': 'pos', 'outputFormat': 'json'}\", 'pipelineLanguage': 'es'}\n",
      "2018-06-18 01:58:14,674 : INFO : {'properties': \"{'annotators': 'pos', 'outputFormat': 'json'}\", 'pipelineLanguage': 'es'}\n",
      "2018-06-18 01:58:14,681 : INFO : {'properties': \"{'annotators': 'pos', 'outputFormat': 'json'}\", 'pipelineLanguage': 'es'}\n",
      "2018-06-18 01:58:14,689 : INFO : {'properties': \"{'annotators': 'pos', 'outputFormat': 'json'}\", 'pipelineLanguage': 'es'}\n",
      "2018-06-18 01:58:14,696 : INFO : {'properties': \"{'annotators': 'pos', 'outputFormat': 'json'}\", 'pipelineLanguage': 'es'}\n",
      "2018-06-18 01:58:14,724 : INFO : {'properties': \"{'annotators': 'pos', 'outputFormat': 'json'}\", 'pipelineLanguage': 'es'}\n",
      "2018-06-18 01:58:14,734 : INFO : {'properties': \"{'annotators': 'pos', 'outputFormat': 'json'}\", 'pipelineLanguage': 'es'}\n",
      "2018-06-18 01:58:14,744 : INFO : {'properties': \"{'annotators': 'pos', 'outputFormat': 'json'}\", 'pipelineLanguage': 'es'}\n",
      "2018-06-18 01:58:14,757 : INFO : {'properties': \"{'annotators': 'pos', 'outputFormat': 'json'}\", 'pipelineLanguage': 'es'}\n",
      "2018-06-18 01:58:14,766 : INFO : {'properties': \"{'annotators': 'pos', 'outputFormat': 'json'}\", 'pipelineLanguage': 'es'}\n",
      "2018-06-18 01:58:14,775 : INFO : {'properties': \"{'annotators': 'pos', 'outputFormat': 'json'}\", 'pipelineLanguage': 'es'}\n",
      "2018-06-18 01:58:14,781 : INFO : {'properties': \"{'annotators': 'pos', 'outputFormat': 'json'}\", 'pipelineLanguage': 'es'}\n",
      "2018-06-18 01:58:14,786 : INFO : {'properties': \"{'annotators': 'pos', 'outputFormat': 'json'}\", 'pipelineLanguage': 'es'}\n",
      "2018-06-18 01:58:14,795 : INFO : {'properties': \"{'annotators': 'pos', 'outputFormat': 'json'}\", 'pipelineLanguage': 'es'}\n",
      "2018-06-18 01:58:14,802 : INFO : {'properties': \"{'annotators': 'pos', 'outputFormat': 'json'}\", 'pipelineLanguage': 'es'}\n",
      "2018-06-18 01:58:14,809 : INFO : {'properties': \"{'annotators': 'pos', 'outputFormat': 'json'}\", 'pipelineLanguage': 'es'}\n",
      "2018-06-18 01:58:14,817 : INFO : {'properties': \"{'annotators': 'pos', 'outputFormat': 'json'}\", 'pipelineLanguage': 'es'}\n",
      "2018-06-18 01:58:14,826 : INFO : {'properties': \"{'annotators': 'pos', 'outputFormat': 'json'}\", 'pipelineLanguage': 'es'}\n",
      "2018-06-18 01:58:14,833 : INFO : {'properties': \"{'annotators': 'pos', 'outputFormat': 'json'}\", 'pipelineLanguage': 'es'}\n",
      "2018-06-18 01:58:14,850 : INFO : {'properties': \"{'annotators': 'pos', 'outputFormat': 'json'}\", 'pipelineLanguage': 'es'}\n",
      "2018-06-18 01:58:14,859 : INFO : {'properties': \"{'annotators': 'pos', 'outputFormat': 'json'}\", 'pipelineLanguage': 'es'}\n",
      "2018-06-18 01:58:14,871 : INFO : {'properties': \"{'annotators': 'pos', 'outputFormat': 'json'}\", 'pipelineLanguage': 'es'}\n",
      "2018-06-18 01:58:14,882 : INFO : {'properties': \"{'annotators': 'pos', 'outputFormat': 'json'}\", 'pipelineLanguage': 'es'}\n",
      "2018-06-18 01:58:14,889 : INFO : {'properties': \"{'annotators': 'pos', 'outputFormat': 'json'}\", 'pipelineLanguage': 'es'}\n",
      "2018-06-18 01:58:14,908 : INFO : {'properties': \"{'annotators': 'pos', 'outputFormat': 'json'}\", 'pipelineLanguage': 'es'}\n",
      "2018-06-18 01:58:14,917 : INFO : {'properties': \"{'annotators': 'pos', 'outputFormat': 'json'}\", 'pipelineLanguage': 'es'}\n",
      "2018-06-18 01:58:14,928 : INFO : {'properties': \"{'annotators': 'pos', 'outputFormat': 'json'}\", 'pipelineLanguage': 'es'}\n",
      "2018-06-18 01:58:14,938 : INFO : {'properties': \"{'annotators': 'pos', 'outputFormat': 'json'}\", 'pipelineLanguage': 'es'}\n",
      "2018-06-18 01:58:14,947 : INFO : {'properties': \"{'annotators': 'pos', 'outputFormat': 'json'}\", 'pipelineLanguage': 'es'}\n",
      "2018-06-18 01:58:14,955 : INFO : {'properties': \"{'annotators': 'pos', 'outputFormat': 'json'}\", 'pipelineLanguage': 'es'}\n",
      "2018-06-18 01:58:14,963 : INFO : {'properties': \"{'annotators': 'pos', 'outputFormat': 'json'}\", 'pipelineLanguage': 'es'}\n",
      "2018-06-18 01:58:14,971 : INFO : {'properties': \"{'annotators': 'pos', 'outputFormat': 'json'}\", 'pipelineLanguage': 'es'}\n",
      "2018-06-18 01:58:14,983 : INFO : {'properties': \"{'annotators': 'pos', 'outputFormat': 'json'}\", 'pipelineLanguage': 'es'}\n",
      "2018-06-18 01:58:14,991 : INFO : {'properties': \"{'annotators': 'pos', 'outputFormat': 'json'}\", 'pipelineLanguage': 'es'}\n",
      "2018-06-18 01:58:14,999 : INFO : {'properties': \"{'annotators': 'pos', 'outputFormat': 'json'}\", 'pipelineLanguage': 'es'}\n",
      "2018-06-18 01:58:15,008 : INFO : {'properties': \"{'annotators': 'pos', 'outputFormat': 'json'}\", 'pipelineLanguage': 'es'}\n",
      "2018-06-18 01:58:15,200 : INFO : {'properties': \"{'annotators': 'pos', 'outputFormat': 'json'}\", 'pipelineLanguage': 'es'}\n",
      "2018-06-18 01:58:15,207 : INFO : {'properties': \"{'annotators': 'pos', 'outputFormat': 'json'}\", 'pipelineLanguage': 'es'}\n",
      "2018-06-18 01:58:15,218 : INFO : {'properties': \"{'annotators': 'pos', 'outputFormat': 'json'}\", 'pipelineLanguage': 'es'}\n",
      "2018-06-18 01:58:15,238 : INFO : {'properties': \"{'annotators': 'pos', 'outputFormat': 'json'}\", 'pipelineLanguage': 'es'}\n",
      "2018-06-18 01:58:15,247 : INFO : {'properties': \"{'annotators': 'pos', 'outputFormat': 'json'}\", 'pipelineLanguage': 'es'}\n",
      "2018-06-18 01:58:15,276 : INFO : {'properties': \"{'annotators': 'pos', 'outputFormat': 'json'}\", 'pipelineLanguage': 'es'}\n",
      "2018-06-18 01:58:15,283 : INFO : {'properties': \"{'annotators': 'pos', 'outputFormat': 'json'}\", 'pipelineLanguage': 'es'}\n",
      "2018-06-18 01:58:15,289 : INFO : {'properties': \"{'annotators': 'pos', 'outputFormat': 'json'}\", 'pipelineLanguage': 'es'}\n",
      "2018-06-18 01:58:15,297 : INFO : {'properties': \"{'annotators': 'pos', 'outputFormat': 'json'}\", 'pipelineLanguage': 'es'}\n",
      "2018-06-18 01:58:15,333 : INFO : {'properties': \"{'annotators': 'pos', 'outputFormat': 'json'}\", 'pipelineLanguage': 'es'}\n",
      "2018-06-18 01:58:15,346 : INFO : {'properties': \"{'annotators': 'pos', 'outputFormat': 'json'}\", 'pipelineLanguage': 'es'}\n",
      "2018-06-18 01:58:15,354 : INFO : {'properties': \"{'annotators': 'pos', 'outputFormat': 'json'}\", 'pipelineLanguage': 'es'}\n",
      "2018-06-18 01:58:15,362 : INFO : {'properties': \"{'annotators': 'pos', 'outputFormat': 'json'}\", 'pipelineLanguage': 'es'}\n",
      "2018-06-18 01:58:15,371 : INFO : {'properties': \"{'annotators': 'pos', 'outputFormat': 'json'}\", 'pipelineLanguage': 'es'}\n"
     ]
    },
    {
     "name": "stderr",
     "output_type": "stream",
     "text": [
      "2018-06-18 01:58:15,407 : INFO : {'properties': \"{'annotators': 'pos', 'outputFormat': 'json'}\", 'pipelineLanguage': 'es'}\n",
      "2018-06-18 01:58:15,420 : INFO : {'properties': \"{'annotators': 'pos', 'outputFormat': 'json'}\", 'pipelineLanguage': 'es'}\n",
      "2018-06-18 01:58:15,428 : INFO : {'properties': \"{'annotators': 'pos', 'outputFormat': 'json'}\", 'pipelineLanguage': 'es'}\n",
      "2018-06-18 01:58:15,441 : INFO : {'properties': \"{'annotators': 'pos', 'outputFormat': 'json'}\", 'pipelineLanguage': 'es'}\n",
      "2018-06-18 01:58:15,453 : INFO : {'properties': \"{'annotators': 'pos', 'outputFormat': 'json'}\", 'pipelineLanguage': 'es'}\n",
      "2018-06-18 01:58:15,464 : INFO : {'properties': \"{'annotators': 'pos', 'outputFormat': 'json'}\", 'pipelineLanguage': 'es'}\n",
      "2018-06-18 01:58:15,491 : INFO : {'properties': \"{'annotators': 'pos', 'outputFormat': 'json'}\", 'pipelineLanguage': 'es'}\n",
      "2018-06-18 01:58:15,502 : INFO : {'properties': \"{'annotators': 'pos', 'outputFormat': 'json'}\", 'pipelineLanguage': 'es'}\n",
      "2018-06-18 01:58:15,592 : INFO : {'properties': \"{'annotators': 'pos', 'outputFormat': 'json'}\", 'pipelineLanguage': 'es'}\n",
      "2018-06-18 01:58:15,601 : INFO : {'properties': \"{'annotators': 'pos', 'outputFormat': 'json'}\", 'pipelineLanguage': 'es'}\n",
      "2018-06-18 01:58:15,639 : INFO : {'properties': \"{'annotators': 'pos', 'outputFormat': 'json'}\", 'pipelineLanguage': 'es'}\n",
      "2018-06-18 01:58:15,652 : INFO : {'properties': \"{'annotators': 'pos', 'outputFormat': 'json'}\", 'pipelineLanguage': 'es'}\n",
      "2018-06-18 01:58:15,661 : INFO : {'properties': \"{'annotators': 'pos', 'outputFormat': 'json'}\", 'pipelineLanguage': 'es'}\n",
      "2018-06-18 01:58:15,670 : INFO : {'properties': \"{'annotators': 'pos', 'outputFormat': 'json'}\", 'pipelineLanguage': 'es'}\n",
      "2018-06-18 01:58:15,706 : INFO : {'properties': \"{'annotators': 'pos', 'outputFormat': 'json'}\", 'pipelineLanguage': 'es'}\n",
      "2018-06-18 01:58:15,719 : INFO : {'properties': \"{'annotators': 'pos', 'outputFormat': 'json'}\", 'pipelineLanguage': 'es'}\n",
      "2018-06-18 01:58:15,726 : INFO : {'properties': \"{'annotators': 'pos', 'outputFormat': 'json'}\", 'pipelineLanguage': 'es'}\n",
      "2018-06-18 01:58:15,731 : INFO : {'properties': \"{'annotators': 'pos', 'outputFormat': 'json'}\", 'pipelineLanguage': 'es'}\n",
      "2018-06-18 01:58:15,746 : INFO : {'properties': \"{'annotators': 'pos', 'outputFormat': 'json'}\", 'pipelineLanguage': 'es'}\n",
      "2018-06-18 01:58:15,757 : INFO : {'properties': \"{'annotators': 'pos', 'outputFormat': 'json'}\", 'pipelineLanguage': 'es'}\n",
      "2018-06-18 01:58:15,765 : INFO : {'properties': \"{'annotators': 'pos', 'outputFormat': 'json'}\", 'pipelineLanguage': 'es'}\n",
      "2018-06-18 01:58:15,773 : INFO : {'properties': \"{'annotators': 'pos', 'outputFormat': 'json'}\", 'pipelineLanguage': 'es'}\n",
      "2018-06-18 01:58:15,783 : INFO : {'properties': \"{'annotators': 'pos', 'outputFormat': 'json'}\", 'pipelineLanguage': 'es'}\n",
      "2018-06-18 01:58:15,811 : INFO : {'properties': \"{'annotators': 'pos', 'outputFormat': 'json'}\", 'pipelineLanguage': 'es'}\n",
      "2018-06-18 01:58:15,824 : INFO : {'properties': \"{'annotators': 'pos', 'outputFormat': 'json'}\", 'pipelineLanguage': 'es'}\n",
      "2018-06-18 01:58:15,834 : INFO : {'properties': \"{'annotators': 'pos', 'outputFormat': 'json'}\", 'pipelineLanguage': 'es'}\n",
      "2018-06-18 01:58:15,856 : INFO : {'properties': \"{'annotators': 'pos', 'outputFormat': 'json'}\", 'pipelineLanguage': 'es'}\n",
      "2018-06-18 01:58:15,903 : INFO : {'properties': \"{'annotators': 'pos', 'outputFormat': 'json'}\", 'pipelineLanguage': 'es'}\n",
      "2018-06-18 01:58:15,914 : INFO : {'properties': \"{'annotators': 'pos', 'outputFormat': 'json'}\", 'pipelineLanguage': 'es'}\n",
      "2018-06-18 01:58:15,932 : INFO : {'properties': \"{'annotators': 'pos', 'outputFormat': 'json'}\", 'pipelineLanguage': 'es'}\n",
      "2018-06-18 01:58:15,944 : INFO : {'properties': \"{'annotators': 'pos', 'outputFormat': 'json'}\", 'pipelineLanguage': 'es'}\n",
      "2018-06-18 01:58:15,983 : INFO : {'properties': \"{'annotators': 'pos', 'outputFormat': 'json'}\", 'pipelineLanguage': 'es'}\n",
      "2018-06-18 01:58:16,002 : INFO : {'properties': \"{'annotators': 'pos', 'outputFormat': 'json'}\", 'pipelineLanguage': 'es'}\n",
      "2018-06-18 01:58:16,014 : INFO : {'properties': \"{'annotators': 'pos', 'outputFormat': 'json'}\", 'pipelineLanguage': 'es'}\n",
      "2018-06-18 01:58:16,022 : INFO : {'properties': \"{'annotators': 'pos', 'outputFormat': 'json'}\", 'pipelineLanguage': 'es'}\n",
      "2018-06-18 01:58:16,034 : INFO : {'properties': \"{'annotators': 'pos', 'outputFormat': 'json'}\", 'pipelineLanguage': 'es'}\n",
      "2018-06-18 01:58:16,042 : INFO : {'properties': \"{'annotators': 'pos', 'outputFormat': 'json'}\", 'pipelineLanguage': 'es'}\n",
      "2018-06-18 01:58:16,066 : INFO : {'properties': \"{'annotators': 'pos', 'outputFormat': 'json'}\", 'pipelineLanguage': 'es'}\n",
      "2018-06-18 01:58:16,077 : INFO : {'properties': \"{'annotators': 'pos', 'outputFormat': 'json'}\", 'pipelineLanguage': 'es'}\n",
      "2018-06-18 01:58:16,087 : INFO : {'properties': \"{'annotators': 'pos', 'outputFormat': 'json'}\", 'pipelineLanguage': 'es'}\n",
      "2018-06-18 01:58:16,093 : INFO : {'properties': \"{'annotators': 'pos', 'outputFormat': 'json'}\", 'pipelineLanguage': 'es'}\n",
      "2018-06-18 01:58:16,102 : INFO : {'properties': \"{'annotators': 'pos', 'outputFormat': 'json'}\", 'pipelineLanguage': 'es'}\n",
      "2018-06-18 01:58:16,135 : INFO : {'properties': \"{'annotators': 'pos', 'outputFormat': 'json'}\", 'pipelineLanguage': 'es'}\n",
      "2018-06-18 01:58:16,142 : INFO : {'properties': \"{'annotators': 'pos', 'outputFormat': 'json'}\", 'pipelineLanguage': 'es'}\n",
      "2018-06-18 01:58:16,150 : INFO : {'properties': \"{'annotators': 'pos', 'outputFormat': 'json'}\", 'pipelineLanguage': 'es'}\n",
      "2018-06-18 01:58:16,160 : INFO : {'properties': \"{'annotators': 'pos', 'outputFormat': 'json'}\", 'pipelineLanguage': 'es'}\n",
      "2018-06-18 01:58:16,170 : INFO : {'properties': \"{'annotators': 'pos', 'outputFormat': 'json'}\", 'pipelineLanguage': 'es'}\n",
      "2018-06-18 01:58:16,181 : INFO : {'properties': \"{'annotators': 'pos', 'outputFormat': 'json'}\", 'pipelineLanguage': 'es'}\n",
      "2018-06-18 01:58:16,221 : INFO : {'properties': \"{'annotators': 'pos', 'outputFormat': 'json'}\", 'pipelineLanguage': 'es'}\n",
      "2018-06-18 01:58:16,231 : INFO : {'properties': \"{'annotators': 'pos', 'outputFormat': 'json'}\", 'pipelineLanguage': 'es'}\n",
      "2018-06-18 01:58:16,240 : INFO : {'properties': \"{'annotators': 'pos', 'outputFormat': 'json'}\", 'pipelineLanguage': 'es'}\n",
      "2018-06-18 01:58:16,249 : INFO : {'properties': \"{'annotators': 'pos', 'outputFormat': 'json'}\", 'pipelineLanguage': 'es'}\n",
      "2018-06-18 01:58:16,260 : INFO : {'properties': \"{'annotators': 'pos', 'outputFormat': 'json'}\", 'pipelineLanguage': 'es'}\n",
      "2018-06-18 01:58:16,268 : INFO : {'properties': \"{'annotators': 'pos', 'outputFormat': 'json'}\", 'pipelineLanguage': 'es'}\n",
      "2018-06-18 01:58:16,275 : INFO : {'properties': \"{'annotators': 'pos', 'outputFormat': 'json'}\", 'pipelineLanguage': 'es'}\n",
      "2018-06-18 01:58:16,288 : INFO : {'properties': \"{'annotators': 'pos', 'outputFormat': 'json'}\", 'pipelineLanguage': 'es'}\n",
      "2018-06-18 01:58:16,295 : INFO : {'properties': \"{'annotators': 'pos', 'outputFormat': 'json'}\", 'pipelineLanguage': 'es'}\n",
      "2018-06-18 01:58:16,318 : INFO : {'properties': \"{'annotators': 'pos', 'outputFormat': 'json'}\", 'pipelineLanguage': 'es'}\n",
      "2018-06-18 01:58:16,353 : INFO : {'properties': \"{'annotators': 'pos', 'outputFormat': 'json'}\", 'pipelineLanguage': 'es'}\n",
      "2018-06-18 01:58:16,362 : INFO : {'properties': \"{'annotators': 'pos', 'outputFormat': 'json'}\", 'pipelineLanguage': 'es'}\n",
      "2018-06-18 01:58:16,368 : INFO : {'properties': \"{'annotators': 'pos', 'outputFormat': 'json'}\", 'pipelineLanguage': 'es'}\n",
      "2018-06-18 01:58:16,376 : INFO : {'properties': \"{'annotators': 'pos', 'outputFormat': 'json'}\", 'pipelineLanguage': 'es'}\n",
      "2018-06-18 01:58:16,553 : INFO : {'properties': \"{'annotators': 'pos', 'outputFormat': 'json'}\", 'pipelineLanguage': 'es'}\n",
      "2018-06-18 01:58:16,562 : INFO : {'properties': \"{'annotators': 'pos', 'outputFormat': 'json'}\", 'pipelineLanguage': 'es'}\n",
      "2018-06-18 01:58:16,570 : INFO : {'properties': \"{'annotators': 'pos', 'outputFormat': 'json'}\", 'pipelineLanguage': 'es'}\n",
      "2018-06-18 01:58:16,608 : INFO : {'properties': \"{'annotators': 'pos', 'outputFormat': 'json'}\", 'pipelineLanguage': 'es'}\n",
      "2018-06-18 01:58:16,616 : INFO : {'properties': \"{'annotators': 'pos', 'outputFormat': 'json'}\", 'pipelineLanguage': 'es'}\n"
     ]
    },
    {
     "name": "stderr",
     "output_type": "stream",
     "text": [
      "2018-06-18 01:58:16,624 : INFO : {'properties': \"{'annotators': 'pos', 'outputFormat': 'json'}\", 'pipelineLanguage': 'es'}\n",
      "2018-06-18 01:58:16,642 : INFO : {'properties': \"{'annotators': 'pos', 'outputFormat': 'json'}\", 'pipelineLanguage': 'es'}\n",
      "2018-06-18 01:58:16,654 : INFO : {'properties': \"{'annotators': 'pos', 'outputFormat': 'json'}\", 'pipelineLanguage': 'es'}\n",
      "2018-06-18 01:58:16,666 : INFO : {'properties': \"{'annotators': 'pos', 'outputFormat': 'json'}\", 'pipelineLanguage': 'es'}\n",
      "2018-06-18 01:58:16,674 : INFO : {'properties': \"{'annotators': 'pos', 'outputFormat': 'json'}\", 'pipelineLanguage': 'es'}\n",
      "2018-06-18 01:58:16,680 : INFO : {'properties': \"{'annotators': 'pos', 'outputFormat': 'json'}\", 'pipelineLanguage': 'es'}\n",
      "2018-06-18 01:58:16,688 : INFO : {'properties': \"{'annotators': 'pos', 'outputFormat': 'json'}\", 'pipelineLanguage': 'es'}\n",
      "2018-06-18 01:58:16,699 : INFO : {'properties': \"{'annotators': 'pos', 'outputFormat': 'json'}\", 'pipelineLanguage': 'es'}\n",
      "2018-06-18 01:58:16,706 : INFO : {'properties': \"{'annotators': 'pos', 'outputFormat': 'json'}\", 'pipelineLanguage': 'es'}\n",
      "2018-06-18 01:58:16,713 : INFO : {'properties': \"{'annotators': 'pos', 'outputFormat': 'json'}\", 'pipelineLanguage': 'es'}\n",
      "2018-06-18 01:58:16,719 : INFO : {'properties': \"{'annotators': 'pos', 'outputFormat': 'json'}\", 'pipelineLanguage': 'es'}\n",
      "2018-06-18 01:58:16,732 : INFO : {'properties': \"{'annotators': 'pos', 'outputFormat': 'json'}\", 'pipelineLanguage': 'es'}\n",
      "2018-06-18 01:58:16,739 : INFO : {'properties': \"{'annotators': 'pos', 'outputFormat': 'json'}\", 'pipelineLanguage': 'es'}\n",
      "2018-06-18 01:58:16,745 : INFO : {'properties': \"{'annotators': 'pos', 'outputFormat': 'json'}\", 'pipelineLanguage': 'es'}\n",
      "2018-06-18 01:58:16,756 : INFO : {'properties': \"{'annotators': 'pos', 'outputFormat': 'json'}\", 'pipelineLanguage': 'es'}\n",
      "2018-06-18 01:58:16,767 : INFO : {'properties': \"{'annotators': 'pos', 'outputFormat': 'json'}\", 'pipelineLanguage': 'es'}\n",
      "2018-06-18 01:58:16,774 : INFO : {'properties': \"{'annotators': 'pos', 'outputFormat': 'json'}\", 'pipelineLanguage': 'es'}\n",
      "2018-06-18 01:58:16,786 : INFO : {'properties': \"{'annotators': 'pos', 'outputFormat': 'json'}\", 'pipelineLanguage': 'es'}\n",
      "2018-06-18 01:58:16,801 : INFO : {'properties': \"{'annotators': 'pos', 'outputFormat': 'json'}\", 'pipelineLanguage': 'es'}\n",
      "2018-06-18 01:58:16,840 : INFO : {'properties': \"{'annotators': 'pos', 'outputFormat': 'json'}\", 'pipelineLanguage': 'es'}\n",
      "2018-06-18 01:58:16,856 : INFO : {'properties': \"{'annotators': 'pos', 'outputFormat': 'json'}\", 'pipelineLanguage': 'es'}\n",
      "2018-06-18 01:58:16,866 : INFO : {'properties': \"{'annotators': 'pos', 'outputFormat': 'json'}\", 'pipelineLanguage': 'es'}\n",
      "2018-06-18 01:58:16,873 : INFO : {'properties': \"{'annotators': 'pos', 'outputFormat': 'json'}\", 'pipelineLanguage': 'es'}\n",
      "2018-06-18 01:58:16,879 : INFO : {'properties': \"{'annotators': 'pos', 'outputFormat': 'json'}\", 'pipelineLanguage': 'es'}\n",
      "2018-06-18 01:58:16,886 : INFO : {'properties': \"{'annotators': 'pos', 'outputFormat': 'json'}\", 'pipelineLanguage': 'es'}\n",
      "2018-06-18 01:58:16,911 : INFO : {'properties': \"{'annotators': 'pos', 'outputFormat': 'json'}\", 'pipelineLanguage': 'es'}\n",
      "2018-06-18 01:58:16,926 : INFO : {'properties': \"{'annotators': 'pos', 'outputFormat': 'json'}\", 'pipelineLanguage': 'es'}\n",
      "2018-06-18 01:58:16,938 : INFO : {'properties': \"{'annotators': 'pos', 'outputFormat': 'json'}\", 'pipelineLanguage': 'es'}\n",
      "2018-06-18 01:58:16,957 : INFO : {'properties': \"{'annotators': 'pos', 'outputFormat': 'json'}\", 'pipelineLanguage': 'es'}\n",
      "2018-06-18 01:58:16,968 : INFO : {'properties': \"{'annotators': 'pos', 'outputFormat': 'json'}\", 'pipelineLanguage': 'es'}\n",
      "2018-06-18 01:58:16,986 : INFO : {'properties': \"{'annotators': 'pos', 'outputFormat': 'json'}\", 'pipelineLanguage': 'es'}\n",
      "2018-06-18 01:58:17,058 : INFO : {'properties': \"{'annotators': 'pos', 'outputFormat': 'json'}\", 'pipelineLanguage': 'es'}\n",
      "2018-06-18 01:58:17,079 : INFO : {'properties': \"{'annotators': 'pos', 'outputFormat': 'json'}\", 'pipelineLanguage': 'es'}\n",
      "2018-06-18 01:58:17,090 : INFO : {'properties': \"{'annotators': 'pos', 'outputFormat': 'json'}\", 'pipelineLanguage': 'es'}\n",
      "2018-06-18 01:58:17,098 : INFO : {'properties': \"{'annotators': 'pos', 'outputFormat': 'json'}\", 'pipelineLanguage': 'es'}\n",
      "2018-06-18 01:58:17,129 : INFO : {'properties': \"{'annotators': 'pos', 'outputFormat': 'json'}\", 'pipelineLanguage': 'es'}\n",
      "2018-06-18 01:58:17,142 : INFO : {'properties': \"{'annotators': 'pos', 'outputFormat': 'json'}\", 'pipelineLanguage': 'es'}\n",
      "2018-06-18 01:58:17,149 : INFO : {'properties': \"{'annotators': 'pos', 'outputFormat': 'json'}\", 'pipelineLanguage': 'es'}\n",
      "2018-06-18 01:58:17,178 : INFO : {'properties': \"{'annotators': 'pos', 'outputFormat': 'json'}\", 'pipelineLanguage': 'es'}\n",
      "2018-06-18 01:58:17,189 : INFO : {'properties': \"{'annotators': 'pos', 'outputFormat': 'json'}\", 'pipelineLanguage': 'es'}\n",
      "2018-06-18 01:58:17,216 : INFO : {'properties': \"{'annotators': 'pos', 'outputFormat': 'json'}\", 'pipelineLanguage': 'es'}\n",
      "2018-06-18 01:58:17,226 : INFO : {'properties': \"{'annotators': 'pos', 'outputFormat': 'json'}\", 'pipelineLanguage': 'es'}\n",
      "2018-06-18 01:58:17,250 : INFO : {'properties': \"{'annotators': 'pos', 'outputFormat': 'json'}\", 'pipelineLanguage': 'es'}\n",
      "2018-06-18 01:58:17,259 : INFO : {'properties': \"{'annotators': 'pos', 'outputFormat': 'json'}\", 'pipelineLanguage': 'es'}\n",
      "2018-06-18 01:58:17,279 : INFO : {'properties': \"{'annotators': 'pos', 'outputFormat': 'json'}\", 'pipelineLanguage': 'es'}\n",
      "2018-06-18 01:58:17,302 : INFO : {'properties': \"{'annotators': 'pos', 'outputFormat': 'json'}\", 'pipelineLanguage': 'es'}\n",
      "2018-06-18 01:58:17,312 : INFO : {'properties': \"{'annotators': 'pos', 'outputFormat': 'json'}\", 'pipelineLanguage': 'es'}\n",
      "2018-06-18 01:58:17,324 : INFO : {'properties': \"{'annotators': 'pos', 'outputFormat': 'json'}\", 'pipelineLanguage': 'es'}\n",
      "2018-06-18 01:58:17,330 : INFO : {'properties': \"{'annotators': 'pos', 'outputFormat': 'json'}\", 'pipelineLanguage': 'es'}\n",
      "2018-06-18 01:58:17,341 : INFO : {'properties': \"{'annotators': 'pos', 'outputFormat': 'json'}\", 'pipelineLanguage': 'es'}\n",
      "2018-06-18 01:58:17,348 : INFO : {'properties': \"{'annotators': 'pos', 'outputFormat': 'json'}\", 'pipelineLanguage': 'es'}\n",
      "2018-06-18 01:58:17,353 : INFO : {'properties': \"{'annotators': 'pos', 'outputFormat': 'json'}\", 'pipelineLanguage': 'es'}\n",
      "2018-06-18 01:58:17,378 : INFO : {'properties': \"{'annotators': 'pos', 'outputFormat': 'json'}\", 'pipelineLanguage': 'es'}\n",
      "2018-06-18 01:58:17,399 : INFO : {'properties': \"{'annotators': 'pos', 'outputFormat': 'json'}\", 'pipelineLanguage': 'es'}\n",
      "2018-06-18 01:58:17,423 : INFO : {'properties': \"{'annotators': 'pos', 'outputFormat': 'json'}\", 'pipelineLanguage': 'es'}\n",
      "2018-06-18 01:58:17,433 : INFO : {'properties': \"{'annotators': 'pos', 'outputFormat': 'json'}\", 'pipelineLanguage': 'es'}\n",
      "2018-06-18 01:58:17,447 : INFO : {'properties': \"{'annotators': 'pos', 'outputFormat': 'json'}\", 'pipelineLanguage': 'es'}\n",
      "2018-06-18 01:58:17,454 : INFO : {'properties': \"{'annotators': 'pos', 'outputFormat': 'json'}\", 'pipelineLanguage': 'es'}\n",
      "2018-06-18 01:58:17,466 : INFO : {'properties': \"{'annotators': 'pos', 'outputFormat': 'json'}\", 'pipelineLanguage': 'es'}\n",
      "2018-06-18 01:58:17,477 : INFO : {'properties': \"{'annotators': 'pos', 'outputFormat': 'json'}\", 'pipelineLanguage': 'es'}\n",
      "2018-06-18 01:58:17,488 : INFO : {'properties': \"{'annotators': 'pos', 'outputFormat': 'json'}\", 'pipelineLanguage': 'es'}\n",
      "2018-06-18 01:58:17,495 : INFO : {'properties': \"{'annotators': 'pos', 'outputFormat': 'json'}\", 'pipelineLanguage': 'es'}\n",
      "2018-06-18 01:58:17,535 : INFO : {'properties': \"{'annotators': 'pos', 'outputFormat': 'json'}\", 'pipelineLanguage': 'es'}\n",
      "2018-06-18 01:58:17,541 : INFO : {'properties': \"{'annotators': 'pos', 'outputFormat': 'json'}\", 'pipelineLanguage': 'es'}\n",
      "2018-06-18 01:58:17,548 : INFO : {'properties': \"{'annotators': 'pos', 'outputFormat': 'json'}\", 'pipelineLanguage': 'es'}\n",
      "2018-06-18 01:58:17,555 : INFO : {'properties': \"{'annotators': 'pos', 'outputFormat': 'json'}\", 'pipelineLanguage': 'es'}\n",
      "2018-06-18 01:58:17,564 : INFO : {'properties': \"{'annotators': 'pos', 'outputFormat': 'json'}\", 'pipelineLanguage': 'es'}\n"
     ]
    },
    {
     "name": "stderr",
     "output_type": "stream",
     "text": [
      "2018-06-18 01:58:17,577 : INFO : {'properties': \"{'annotators': 'pos', 'outputFormat': 'json'}\", 'pipelineLanguage': 'es'}\n",
      "2018-06-18 01:58:17,588 : INFO : {'properties': \"{'annotators': 'pos', 'outputFormat': 'json'}\", 'pipelineLanguage': 'es'}\n",
      "2018-06-18 01:58:17,595 : INFO : {'properties': \"{'annotators': 'pos', 'outputFormat': 'json'}\", 'pipelineLanguage': 'es'}\n",
      "2018-06-18 01:58:17,605 : INFO : {'properties': \"{'annotators': 'pos', 'outputFormat': 'json'}\", 'pipelineLanguage': 'es'}\n",
      "2018-06-18 01:58:17,619 : INFO : {'properties': \"{'annotators': 'pos', 'outputFormat': 'json'}\", 'pipelineLanguage': 'es'}\n",
      "2018-06-18 01:58:17,644 : INFO : {'properties': \"{'annotators': 'pos', 'outputFormat': 'json'}\", 'pipelineLanguage': 'es'}\n",
      "2018-06-18 01:58:17,663 : INFO : {'properties': \"{'annotators': 'pos', 'outputFormat': 'json'}\", 'pipelineLanguage': 'es'}\n",
      "2018-06-18 01:58:17,673 : INFO : {'properties': \"{'annotators': 'pos', 'outputFormat': 'json'}\", 'pipelineLanguage': 'es'}\n",
      "2018-06-18 01:58:17,682 : INFO : {'properties': \"{'annotators': 'pos', 'outputFormat': 'json'}\", 'pipelineLanguage': 'es'}\n",
      "2018-06-18 01:58:17,749 : INFO : {'properties': \"{'annotators': 'pos', 'outputFormat': 'json'}\", 'pipelineLanguage': 'es'}\n",
      "2018-06-18 01:58:17,774 : INFO : {'properties': \"{'annotators': 'pos', 'outputFormat': 'json'}\", 'pipelineLanguage': 'es'}\n",
      "2018-06-18 01:58:17,780 : INFO : {'properties': \"{'annotators': 'pos', 'outputFormat': 'json'}\", 'pipelineLanguage': 'es'}\n",
      "2018-06-18 01:58:17,816 : INFO : {'properties': \"{'annotators': 'pos', 'outputFormat': 'json'}\", 'pipelineLanguage': 'es'}\n",
      "2018-06-18 01:58:17,835 : INFO : {'properties': \"{'annotators': 'pos', 'outputFormat': 'json'}\", 'pipelineLanguage': 'es'}\n",
      "2018-06-18 01:58:17,869 : INFO : {'properties': \"{'annotators': 'pos', 'outputFormat': 'json'}\", 'pipelineLanguage': 'es'}\n",
      "2018-06-18 01:58:17,880 : INFO : {'properties': \"{'annotators': 'pos', 'outputFormat': 'json'}\", 'pipelineLanguage': 'es'}\n",
      "2018-06-18 01:58:17,906 : INFO : {'properties': \"{'annotators': 'pos', 'outputFormat': 'json'}\", 'pipelineLanguage': 'es'}\n",
      "2018-06-18 01:58:17,942 : INFO : {'properties': \"{'annotators': 'pos', 'outputFormat': 'json'}\", 'pipelineLanguage': 'es'}\n",
      "2018-06-18 01:58:17,949 : INFO : {'properties': \"{'annotators': 'pos', 'outputFormat': 'json'}\", 'pipelineLanguage': 'es'}\n",
      "2018-06-18 01:58:17,965 : INFO : {'properties': \"{'annotators': 'pos', 'outputFormat': 'json'}\", 'pipelineLanguage': 'es'}\n",
      "2018-06-18 01:58:17,972 : INFO : {'properties': \"{'annotators': 'pos', 'outputFormat': 'json'}\", 'pipelineLanguage': 'es'}\n",
      "2018-06-18 01:58:17,982 : INFO : {'properties': \"{'annotators': 'pos', 'outputFormat': 'json'}\", 'pipelineLanguage': 'es'}\n",
      "2018-06-18 01:58:17,997 : INFO : {'properties': \"{'annotators': 'pos', 'outputFormat': 'json'}\", 'pipelineLanguage': 'es'}\n",
      "2018-06-18 01:58:18,003 : INFO : {'properties': \"{'annotators': 'pos', 'outputFormat': 'json'}\", 'pipelineLanguage': 'es'}\n",
      "2018-06-18 01:58:18,009 : INFO : {'properties': \"{'annotators': 'pos', 'outputFormat': 'json'}\", 'pipelineLanguage': 'es'}\n",
      "2018-06-18 01:58:18,033 : INFO : {'properties': \"{'annotators': 'pos', 'outputFormat': 'json'}\", 'pipelineLanguage': 'es'}\n",
      "2018-06-18 01:58:18,070 : INFO : {'properties': \"{'annotators': 'pos', 'outputFormat': 'json'}\", 'pipelineLanguage': 'es'}\n",
      "2018-06-18 01:58:18,094 : INFO : {'properties': \"{'annotators': 'pos', 'outputFormat': 'json'}\", 'pipelineLanguage': 'es'}\n",
      "2018-06-18 01:58:18,139 : INFO : {'properties': \"{'annotators': 'pos', 'outputFormat': 'json'}\", 'pipelineLanguage': 'es'}\n",
      "2018-06-18 01:58:18,147 : INFO : {'properties': \"{'annotators': 'pos', 'outputFormat': 'json'}\", 'pipelineLanguage': 'es'}\n",
      "2018-06-18 01:58:18,165 : INFO : {'properties': \"{'annotators': 'pos', 'outputFormat': 'json'}\", 'pipelineLanguage': 'es'}\n",
      "2018-06-18 01:58:18,204 : INFO : {'properties': \"{'annotators': 'pos', 'outputFormat': 'json'}\", 'pipelineLanguage': 'es'}\n",
      "2018-06-18 01:58:18,233 : INFO : {'properties': \"{'annotators': 'pos', 'outputFormat': 'json'}\", 'pipelineLanguage': 'es'}\n",
      "2018-06-18 01:58:18,245 : INFO : {'properties': \"{'annotators': 'pos', 'outputFormat': 'json'}\", 'pipelineLanguage': 'es'}\n",
      "2018-06-18 01:58:18,252 : INFO : {'properties': \"{'annotators': 'pos', 'outputFormat': 'json'}\", 'pipelineLanguage': 'es'}\n",
      "2018-06-18 01:58:18,263 : INFO : {'properties': \"{'annotators': 'pos', 'outputFormat': 'json'}\", 'pipelineLanguage': 'es'}\n",
      "2018-06-18 01:58:18,275 : INFO : {'properties': \"{'annotators': 'pos', 'outputFormat': 'json'}\", 'pipelineLanguage': 'es'}\n",
      "2018-06-18 01:58:18,305 : INFO : {'properties': \"{'annotators': 'pos', 'outputFormat': 'json'}\", 'pipelineLanguage': 'es'}\n",
      "2018-06-18 01:58:18,314 : INFO : {'properties': \"{'annotators': 'pos', 'outputFormat': 'json'}\", 'pipelineLanguage': 'es'}\n",
      "2018-06-18 01:58:18,352 : INFO : {'properties': \"{'annotators': 'pos', 'outputFormat': 'json'}\", 'pipelineLanguage': 'es'}\n",
      "2018-06-18 01:58:18,360 : INFO : {'properties': \"{'annotators': 'pos', 'outputFormat': 'json'}\", 'pipelineLanguage': 'es'}\n",
      "2018-06-18 01:58:18,395 : INFO : {'properties': \"{'annotators': 'pos', 'outputFormat': 'json'}\", 'pipelineLanguage': 'es'}\n",
      "2018-06-18 01:58:18,414 : INFO : {'properties': \"{'annotators': 'pos', 'outputFormat': 'json'}\", 'pipelineLanguage': 'es'}\n",
      "2018-06-18 01:58:18,421 : INFO : {'properties': \"{'annotators': 'pos', 'outputFormat': 'json'}\", 'pipelineLanguage': 'es'}\n",
      "2018-06-18 01:58:18,427 : INFO : {'properties': \"{'annotators': 'pos', 'outputFormat': 'json'}\", 'pipelineLanguage': 'es'}\n",
      "2018-06-18 01:58:18,435 : INFO : {'properties': \"{'annotators': 'pos', 'outputFormat': 'json'}\", 'pipelineLanguage': 'es'}\n",
      "2018-06-18 01:58:18,441 : INFO : {'properties': \"{'annotators': 'pos', 'outputFormat': 'json'}\", 'pipelineLanguage': 'es'}\n",
      "2018-06-18 01:58:18,448 : INFO : {'properties': \"{'annotators': 'pos', 'outputFormat': 'json'}\", 'pipelineLanguage': 'es'}\n",
      "2018-06-18 01:58:18,454 : INFO : {'properties': \"{'annotators': 'pos', 'outputFormat': 'json'}\", 'pipelineLanguage': 'es'}\n",
      "2018-06-18 01:58:18,461 : INFO : {'properties': \"{'annotators': 'pos', 'outputFormat': 'json'}\", 'pipelineLanguage': 'es'}\n",
      "2018-06-18 01:58:18,468 : INFO : {'properties': \"{'annotators': 'pos', 'outputFormat': 'json'}\", 'pipelineLanguage': 'es'}\n",
      "2018-06-18 01:58:18,474 : INFO : {'properties': \"{'annotators': 'pos', 'outputFormat': 'json'}\", 'pipelineLanguage': 'es'}\n",
      "2018-06-18 01:58:18,483 : INFO : {'properties': \"{'annotators': 'pos', 'outputFormat': 'json'}\", 'pipelineLanguage': 'es'}\n",
      "2018-06-18 01:58:18,491 : INFO : {'properties': \"{'annotators': 'pos', 'outputFormat': 'json'}\", 'pipelineLanguage': 'es'}\n",
      "2018-06-18 01:58:18,497 : INFO : {'properties': \"{'annotators': 'pos', 'outputFormat': 'json'}\", 'pipelineLanguage': 'es'}\n",
      "2018-06-18 01:58:18,506 : INFO : {'properties': \"{'annotators': 'pos', 'outputFormat': 'json'}\", 'pipelineLanguage': 'es'}\n",
      "2018-06-18 01:58:18,513 : INFO : {'properties': \"{'annotators': 'pos', 'outputFormat': 'json'}\", 'pipelineLanguage': 'es'}\n",
      "2018-06-18 01:58:18,519 : INFO : {'properties': \"{'annotators': 'pos', 'outputFormat': 'json'}\", 'pipelineLanguage': 'es'}\n",
      "2018-06-18 01:58:18,547 : INFO : {'properties': \"{'annotators': 'pos', 'outputFormat': 'json'}\", 'pipelineLanguage': 'es'}\n",
      "2018-06-18 01:58:18,576 : INFO : {'properties': \"{'annotators': 'pos', 'outputFormat': 'json'}\", 'pipelineLanguage': 'es'}\n",
      "2018-06-18 01:58:18,583 : INFO : {'properties': \"{'annotators': 'pos', 'outputFormat': 'json'}\", 'pipelineLanguage': 'es'}\n",
      "2018-06-18 01:58:18,597 : INFO : {'properties': \"{'annotators': 'pos', 'outputFormat': 'json'}\", 'pipelineLanguage': 'es'}\n",
      "2018-06-18 01:58:18,605 : INFO : {'properties': \"{'annotators': 'pos', 'outputFormat': 'json'}\", 'pipelineLanguage': 'es'}\n",
      "2018-06-18 01:58:18,616 : INFO : {'properties': \"{'annotators': 'pos', 'outputFormat': 'json'}\", 'pipelineLanguage': 'es'}\n",
      "2018-06-18 01:58:18,623 : INFO : {'properties': \"{'annotators': 'pos', 'outputFormat': 'json'}\", 'pipelineLanguage': 'es'}\n",
      "2018-06-18 01:58:18,634 : INFO : {'properties': \"{'annotators': 'pos', 'outputFormat': 'json'}\", 'pipelineLanguage': 'es'}\n",
      "2018-06-18 01:58:18,641 : INFO : {'properties': \"{'annotators': 'pos', 'outputFormat': 'json'}\", 'pipelineLanguage': 'es'}\n"
     ]
    },
    {
     "name": "stderr",
     "output_type": "stream",
     "text": [
      "2018-06-18 01:58:18,647 : INFO : {'properties': \"{'annotators': 'pos', 'outputFormat': 'json'}\", 'pipelineLanguage': 'es'}\n",
      "2018-06-18 01:58:18,661 : INFO : {'properties': \"{'annotators': 'pos', 'outputFormat': 'json'}\", 'pipelineLanguage': 'es'}\n",
      "2018-06-18 01:58:18,673 : INFO : {'properties': \"{'annotators': 'pos', 'outputFormat': 'json'}\", 'pipelineLanguage': 'es'}\n",
      "2018-06-18 01:58:18,683 : INFO : {'properties': \"{'annotators': 'pos', 'outputFormat': 'json'}\", 'pipelineLanguage': 'es'}\n",
      "2018-06-18 01:58:18,694 : INFO : {'properties': \"{'annotators': 'pos', 'outputFormat': 'json'}\", 'pipelineLanguage': 'es'}\n",
      "2018-06-18 01:58:18,712 : INFO : {'properties': \"{'annotators': 'pos', 'outputFormat': 'json'}\", 'pipelineLanguage': 'es'}\n",
      "2018-06-18 01:58:18,719 : INFO : {'properties': \"{'annotators': 'pos', 'outputFormat': 'json'}\", 'pipelineLanguage': 'es'}\n",
      "2018-06-18 01:58:18,747 : INFO : {'properties': \"{'annotators': 'pos', 'outputFormat': 'json'}\", 'pipelineLanguage': 'es'}\n",
      "2018-06-18 01:58:18,758 : INFO : {'properties': \"{'annotators': 'pos', 'outputFormat': 'json'}\", 'pipelineLanguage': 'es'}\n",
      "2018-06-18 01:58:18,768 : INFO : {'properties': \"{'annotators': 'pos', 'outputFormat': 'json'}\", 'pipelineLanguage': 'es'}\n",
      "2018-06-18 01:58:18,796 : INFO : {'properties': \"{'annotators': 'pos', 'outputFormat': 'json'}\", 'pipelineLanguage': 'es'}\n",
      "2018-06-18 01:58:18,803 : INFO : {'properties': \"{'annotators': 'pos', 'outputFormat': 'json'}\", 'pipelineLanguage': 'es'}\n",
      "2018-06-18 01:58:18,814 : INFO : {'properties': \"{'annotators': 'pos', 'outputFormat': 'json'}\", 'pipelineLanguage': 'es'}\n",
      "2018-06-18 01:58:18,822 : INFO : {'properties': \"{'annotators': 'pos', 'outputFormat': 'json'}\", 'pipelineLanguage': 'es'}\n",
      "2018-06-18 01:58:18,830 : INFO : {'properties': \"{'annotators': 'pos', 'outputFormat': 'json'}\", 'pipelineLanguage': 'es'}\n",
      "2018-06-18 01:58:18,837 : INFO : {'properties': \"{'annotators': 'pos', 'outputFormat': 'json'}\", 'pipelineLanguage': 'es'}\n",
      "2018-06-18 01:58:18,845 : INFO : {'properties': \"{'annotators': 'pos', 'outputFormat': 'json'}\", 'pipelineLanguage': 'es'}\n",
      "2018-06-18 01:58:18,853 : INFO : {'properties': \"{'annotators': 'pos', 'outputFormat': 'json'}\", 'pipelineLanguage': 'es'}\n",
      "2018-06-18 01:58:18,861 : INFO : {'properties': \"{'annotators': 'pos', 'outputFormat': 'json'}\", 'pipelineLanguage': 'es'}\n",
      "2018-06-18 01:58:18,869 : INFO : {'properties': \"{'annotators': 'pos', 'outputFormat': 'json'}\", 'pipelineLanguage': 'es'}\n",
      "2018-06-18 01:58:18,876 : INFO : {'properties': \"{'annotators': 'pos', 'outputFormat': 'json'}\", 'pipelineLanguage': 'es'}\n",
      "2018-06-18 01:58:18,882 : INFO : {'properties': \"{'annotators': 'pos', 'outputFormat': 'json'}\", 'pipelineLanguage': 'es'}\n",
      "2018-06-18 01:58:18,890 : INFO : {'properties': \"{'annotators': 'pos', 'outputFormat': 'json'}\", 'pipelineLanguage': 'es'}\n",
      "2018-06-18 01:58:18,898 : INFO : {'properties': \"{'annotators': 'pos', 'outputFormat': 'json'}\", 'pipelineLanguage': 'es'}\n",
      "2018-06-18 01:58:18,908 : INFO : {'properties': \"{'annotators': 'pos', 'outputFormat': 'json'}\", 'pipelineLanguage': 'es'}\n",
      "2018-06-18 01:58:18,915 : INFO : {'properties': \"{'annotators': 'pos', 'outputFormat': 'json'}\", 'pipelineLanguage': 'es'}\n",
      "2018-06-18 01:58:18,923 : INFO : {'properties': \"{'annotators': 'pos', 'outputFormat': 'json'}\", 'pipelineLanguage': 'es'}\n",
      "2018-06-18 01:58:18,944 : INFO : {'properties': \"{'annotators': 'pos', 'outputFormat': 'json'}\", 'pipelineLanguage': 'es'}\n",
      "2018-06-18 01:58:18,955 : INFO : {'properties': \"{'annotators': 'pos', 'outputFormat': 'json'}\", 'pipelineLanguage': 'es'}\n",
      "2018-06-18 01:58:18,966 : INFO : {'properties': \"{'annotators': 'pos', 'outputFormat': 'json'}\", 'pipelineLanguage': 'es'}\n",
      "2018-06-18 01:58:18,977 : INFO : {'properties': \"{'annotators': 'pos', 'outputFormat': 'json'}\", 'pipelineLanguage': 'es'}\n",
      "2018-06-18 01:58:18,985 : INFO : {'properties': \"{'annotators': 'pos', 'outputFormat': 'json'}\", 'pipelineLanguage': 'es'}\n",
      "2018-06-18 01:58:19,009 : INFO : {'properties': \"{'annotators': 'pos', 'outputFormat': 'json'}\", 'pipelineLanguage': 'es'}\n",
      "2018-06-18 01:58:19,015 : INFO : {'properties': \"{'annotators': 'pos', 'outputFormat': 'json'}\", 'pipelineLanguage': 'es'}\n",
      "2018-06-18 01:58:19,020 : INFO : {'properties': \"{'annotators': 'pos', 'outputFormat': 'json'}\", 'pipelineLanguage': 'es'}\n",
      "2018-06-18 01:58:19,028 : INFO : {'properties': \"{'annotators': 'pos', 'outputFormat': 'json'}\", 'pipelineLanguage': 'es'}\n",
      "2018-06-18 01:58:19,035 : INFO : {'properties': \"{'annotators': 'pos', 'outputFormat': 'json'}\", 'pipelineLanguage': 'es'}\n",
      "2018-06-18 01:58:19,043 : INFO : {'properties': \"{'annotators': 'pos', 'outputFormat': 'json'}\", 'pipelineLanguage': 'es'}\n",
      "2018-06-18 01:58:19,051 : INFO : {'properties': \"{'annotators': 'pos', 'outputFormat': 'json'}\", 'pipelineLanguage': 'es'}\n",
      "2018-06-18 01:58:19,067 : INFO : {'properties': \"{'annotators': 'pos', 'outputFormat': 'json'}\", 'pipelineLanguage': 'es'}\n",
      "2018-06-18 01:58:19,074 : INFO : {'properties': \"{'annotators': 'pos', 'outputFormat': 'json'}\", 'pipelineLanguage': 'es'}\n",
      "2018-06-18 01:58:19,082 : INFO : {'properties': \"{'annotators': 'pos', 'outputFormat': 'json'}\", 'pipelineLanguage': 'es'}\n",
      "2018-06-18 01:58:19,094 : INFO : {'properties': \"{'annotators': 'pos', 'outputFormat': 'json'}\", 'pipelineLanguage': 'es'}\n",
      "2018-06-18 01:58:19,101 : INFO : {'properties': \"{'annotators': 'pos', 'outputFormat': 'json'}\", 'pipelineLanguage': 'es'}\n",
      "2018-06-18 01:58:19,128 : INFO : {'properties': \"{'annotators': 'pos', 'outputFormat': 'json'}\", 'pipelineLanguage': 'es'}\n",
      "2018-06-18 01:58:19,135 : INFO : {'properties': \"{'annotators': 'pos', 'outputFormat': 'json'}\", 'pipelineLanguage': 'es'}\n",
      "2018-06-18 01:58:19,150 : INFO : {'properties': \"{'annotators': 'pos', 'outputFormat': 'json'}\", 'pipelineLanguage': 'es'}\n",
      "2018-06-18 01:58:19,159 : INFO : {'properties': \"{'annotators': 'pos', 'outputFormat': 'json'}\", 'pipelineLanguage': 'es'}\n",
      "2018-06-18 01:58:19,173 : INFO : {'properties': \"{'annotators': 'pos', 'outputFormat': 'json'}\", 'pipelineLanguage': 'es'}\n",
      "2018-06-18 01:58:19,181 : INFO : {'properties': \"{'annotators': 'pos', 'outputFormat': 'json'}\", 'pipelineLanguage': 'es'}\n",
      "2018-06-18 01:58:19,192 : INFO : {'properties': \"{'annotators': 'pos', 'outputFormat': 'json'}\", 'pipelineLanguage': 'es'}\n",
      "2018-06-18 01:58:19,200 : INFO : {'properties': \"{'annotators': 'pos', 'outputFormat': 'json'}\", 'pipelineLanguage': 'es'}\n",
      "2018-06-18 01:58:19,207 : INFO : {'properties': \"{'annotators': 'pos', 'outputFormat': 'json'}\", 'pipelineLanguage': 'es'}\n",
      "2018-06-18 01:58:19,216 : INFO : {'properties': \"{'annotators': 'pos', 'outputFormat': 'json'}\", 'pipelineLanguage': 'es'}\n",
      "2018-06-18 01:58:19,224 : INFO : {'properties': \"{'annotators': 'pos', 'outputFormat': 'json'}\", 'pipelineLanguage': 'es'}\n",
      "2018-06-18 01:58:19,232 : INFO : {'properties': \"{'annotators': 'pos', 'outputFormat': 'json'}\", 'pipelineLanguage': 'es'}\n",
      "2018-06-18 01:58:19,239 : INFO : {'properties': \"{'annotators': 'pos', 'outputFormat': 'json'}\", 'pipelineLanguage': 'es'}\n",
      "2018-06-18 01:58:19,248 : INFO : {'properties': \"{'annotators': 'pos', 'outputFormat': 'json'}\", 'pipelineLanguage': 'es'}\n",
      "2018-06-18 01:58:19,257 : INFO : {'properties': \"{'annotators': 'pos', 'outputFormat': 'json'}\", 'pipelineLanguage': 'es'}\n",
      "2018-06-18 01:58:19,264 : INFO : {'properties': \"{'annotators': 'pos', 'outputFormat': 'json'}\", 'pipelineLanguage': 'es'}\n",
      "2018-06-18 01:58:19,276 : INFO : {'properties': \"{'annotators': 'pos', 'outputFormat': 'json'}\", 'pipelineLanguage': 'es'}\n",
      "2018-06-18 01:58:19,285 : INFO : {'properties': \"{'annotators': 'pos', 'outputFormat': 'json'}\", 'pipelineLanguage': 'es'}\n",
      "2018-06-18 01:58:19,296 : INFO : {'properties': \"{'annotators': 'pos', 'outputFormat': 'json'}\", 'pipelineLanguage': 'es'}\n",
      "2018-06-18 01:58:19,309 : INFO : {'properties': \"{'annotators': 'pos', 'outputFormat': 'json'}\", 'pipelineLanguage': 'es'}\n",
      "2018-06-18 01:58:19,318 : INFO : {'properties': \"{'annotators': 'pos', 'outputFormat': 'json'}\", 'pipelineLanguage': 'es'}\n",
      "2018-06-18 01:58:19,329 : INFO : {'properties': \"{'annotators': 'pos', 'outputFormat': 'json'}\", 'pipelineLanguage': 'es'}\n",
      "2018-06-18 01:58:19,338 : INFO : {'properties': \"{'annotators': 'pos', 'outputFormat': 'json'}\", 'pipelineLanguage': 'es'}\n"
     ]
    },
    {
     "name": "stderr",
     "output_type": "stream",
     "text": [
      "2018-06-18 01:58:19,347 : INFO : {'properties': \"{'annotators': 'pos', 'outputFormat': 'json'}\", 'pipelineLanguage': 'es'}\n",
      "2018-06-18 01:58:19,356 : INFO : {'properties': \"{'annotators': 'pos', 'outputFormat': 'json'}\", 'pipelineLanguage': 'es'}\n",
      "2018-06-18 01:58:19,368 : INFO : {'properties': \"{'annotators': 'pos', 'outputFormat': 'json'}\", 'pipelineLanguage': 'es'}\n",
      "2018-06-18 01:58:19,375 : INFO : {'properties': \"{'annotators': 'pos', 'outputFormat': 'json'}\", 'pipelineLanguage': 'es'}\n",
      "2018-06-18 01:58:19,383 : INFO : {'properties': \"{'annotators': 'pos', 'outputFormat': 'json'}\", 'pipelineLanguage': 'es'}\n",
      "2018-06-18 01:58:19,389 : INFO : {'properties': \"{'annotators': 'pos', 'outputFormat': 'json'}\", 'pipelineLanguage': 'es'}\n",
      "2018-06-18 01:58:19,395 : INFO : {'properties': \"{'annotators': 'pos', 'outputFormat': 'json'}\", 'pipelineLanguage': 'es'}\n",
      "2018-06-18 01:58:19,408 : INFO : {'properties': \"{'annotators': 'pos', 'outputFormat': 'json'}\", 'pipelineLanguage': 'es'}\n",
      "2018-06-18 01:58:19,415 : INFO : {'properties': \"{'annotators': 'pos', 'outputFormat': 'json'}\", 'pipelineLanguage': 'es'}\n",
      "2018-06-18 01:58:19,424 : INFO : {'properties': \"{'annotators': 'pos', 'outputFormat': 'json'}\", 'pipelineLanguage': 'es'}\n",
      "2018-06-18 01:58:19,431 : INFO : {'properties': \"{'annotators': 'pos', 'outputFormat': 'json'}\", 'pipelineLanguage': 'es'}\n",
      "2018-06-18 01:58:19,440 : INFO : {'properties': \"{'annotators': 'pos', 'outputFormat': 'json'}\", 'pipelineLanguage': 'es'}\n",
      "2018-06-18 01:58:19,451 : INFO : {'properties': \"{'annotators': 'pos', 'outputFormat': 'json'}\", 'pipelineLanguage': 'es'}\n",
      "2018-06-18 01:58:19,487 : INFO : {'properties': \"{'annotators': 'pos', 'outputFormat': 'json'}\", 'pipelineLanguage': 'es'}\n",
      "2018-06-18 01:58:19,494 : INFO : {'properties': \"{'annotators': 'pos', 'outputFormat': 'json'}\", 'pipelineLanguage': 'es'}\n",
      "2018-06-18 01:58:19,501 : INFO : {'properties': \"{'annotators': 'pos', 'outputFormat': 'json'}\", 'pipelineLanguage': 'es'}\n",
      "2018-06-18 01:58:19,511 : INFO : {'properties': \"{'annotators': 'pos', 'outputFormat': 'json'}\", 'pipelineLanguage': 'es'}\n",
      "2018-06-18 01:58:19,521 : INFO : {'properties': \"{'annotators': 'pos', 'outputFormat': 'json'}\", 'pipelineLanguage': 'es'}\n",
      "2018-06-18 01:58:19,528 : INFO : {'properties': \"{'annotators': 'pos', 'outputFormat': 'json'}\", 'pipelineLanguage': 'es'}\n",
      "2018-06-18 01:58:19,536 : INFO : {'properties': \"{'annotators': 'pos', 'outputFormat': 'json'}\", 'pipelineLanguage': 'es'}\n",
      "2018-06-18 01:58:19,544 : INFO : {'properties': \"{'annotators': 'pos', 'outputFormat': 'json'}\", 'pipelineLanguage': 'es'}\n",
      "2018-06-18 01:58:19,555 : INFO : {'properties': \"{'annotators': 'pos', 'outputFormat': 'json'}\", 'pipelineLanguage': 'es'}\n",
      "2018-06-18 01:58:19,571 : INFO : {'properties': \"{'annotators': 'pos', 'outputFormat': 'json'}\", 'pipelineLanguage': 'es'}\n",
      "2018-06-18 01:58:19,581 : INFO : {'properties': \"{'annotators': 'pos', 'outputFormat': 'json'}\", 'pipelineLanguage': 'es'}\n",
      "2018-06-18 01:58:19,596 : INFO : {'properties': \"{'annotators': 'pos', 'outputFormat': 'json'}\", 'pipelineLanguage': 'es'}\n",
      "2018-06-18 01:58:19,606 : INFO : {'properties': \"{'annotators': 'pos', 'outputFormat': 'json'}\", 'pipelineLanguage': 'es'}\n",
      "2018-06-18 01:58:19,615 : INFO : {'properties': \"{'annotators': 'pos', 'outputFormat': 'json'}\", 'pipelineLanguage': 'es'}\n",
      "2018-06-18 01:58:19,642 : INFO : {'properties': \"{'annotators': 'pos', 'outputFormat': 'json'}\", 'pipelineLanguage': 'es'}\n",
      "2018-06-18 01:58:19,655 : INFO : {'properties': \"{'annotators': 'pos', 'outputFormat': 'json'}\", 'pipelineLanguage': 'es'}\n",
      "2018-06-18 01:58:19,664 : INFO : {'properties': \"{'annotators': 'pos', 'outputFormat': 'json'}\", 'pipelineLanguage': 'es'}\n",
      "2018-06-18 01:58:19,674 : INFO : {'properties': \"{'annotators': 'pos', 'outputFormat': 'json'}\", 'pipelineLanguage': 'es'}\n",
      "2018-06-18 01:58:19,681 : INFO : {'properties': \"{'annotators': 'pos', 'outputFormat': 'json'}\", 'pipelineLanguage': 'es'}\n",
      "2018-06-18 01:58:19,688 : INFO : {'properties': \"{'annotators': 'pos', 'outputFormat': 'json'}\", 'pipelineLanguage': 'es'}\n",
      "2018-06-18 01:58:19,698 : INFO : {'properties': \"{'annotators': 'pos', 'outputFormat': 'json'}\", 'pipelineLanguage': 'es'}\n",
      "2018-06-18 01:58:19,732 : INFO : {'properties': \"{'annotators': 'pos', 'outputFormat': 'json'}\", 'pipelineLanguage': 'es'}\n",
      "2018-06-18 01:58:19,740 : INFO : {'properties': \"{'annotators': 'pos', 'outputFormat': 'json'}\", 'pipelineLanguage': 'es'}\n",
      "2018-06-18 01:58:19,753 : INFO : {'properties': \"{'annotators': 'pos', 'outputFormat': 'json'}\", 'pipelineLanguage': 'es'}\n",
      "2018-06-18 01:58:19,767 : INFO : {'properties': \"{'annotators': 'pos', 'outputFormat': 'json'}\", 'pipelineLanguage': 'es'}\n",
      "2018-06-18 01:58:19,778 : INFO : {'properties': \"{'annotators': 'pos', 'outputFormat': 'json'}\", 'pipelineLanguage': 'es'}\n",
      "2018-06-18 01:58:19,794 : INFO : {'properties': \"{'annotators': 'pos', 'outputFormat': 'json'}\", 'pipelineLanguage': 'es'}\n",
      "2018-06-18 01:58:19,803 : INFO : {'properties': \"{'annotators': 'pos', 'outputFormat': 'json'}\", 'pipelineLanguage': 'es'}\n",
      "2018-06-18 01:58:19,811 : INFO : {'properties': \"{'annotators': 'pos', 'outputFormat': 'json'}\", 'pipelineLanguage': 'es'}\n",
      "2018-06-18 01:58:19,818 : INFO : {'properties': \"{'annotators': 'pos', 'outputFormat': 'json'}\", 'pipelineLanguage': 'es'}\n",
      "2018-06-18 01:58:19,827 : INFO : {'properties': \"{'annotators': 'pos', 'outputFormat': 'json'}\", 'pipelineLanguage': 'es'}\n",
      "2018-06-18 01:58:19,837 : INFO : {'properties': \"{'annotators': 'pos', 'outputFormat': 'json'}\", 'pipelineLanguage': 'es'}\n",
      "2018-06-18 01:58:19,847 : INFO : {'properties': \"{'annotators': 'pos', 'outputFormat': 'json'}\", 'pipelineLanguage': 'es'}\n",
      "2018-06-18 01:58:19,854 : INFO : {'properties': \"{'annotators': 'pos', 'outputFormat': 'json'}\", 'pipelineLanguage': 'es'}\n",
      "2018-06-18 01:58:19,860 : INFO : {'properties': \"{'annotators': 'pos', 'outputFormat': 'json'}\", 'pipelineLanguage': 'es'}\n",
      "2018-06-18 01:58:19,869 : INFO : {'properties': \"{'annotators': 'pos', 'outputFormat': 'json'}\", 'pipelineLanguage': 'es'}\n",
      "2018-06-18 01:58:19,878 : INFO : {'properties': \"{'annotators': 'pos', 'outputFormat': 'json'}\", 'pipelineLanguage': 'es'}\n",
      "2018-06-18 01:58:19,908 : INFO : {'properties': \"{'annotators': 'pos', 'outputFormat': 'json'}\", 'pipelineLanguage': 'es'}\n",
      "2018-06-18 01:58:19,924 : INFO : {'properties': \"{'annotators': 'pos', 'outputFormat': 'json'}\", 'pipelineLanguage': 'es'}\n",
      "2018-06-18 01:58:19,933 : INFO : {'properties': \"{'annotators': 'pos', 'outputFormat': 'json'}\", 'pipelineLanguage': 'es'}\n",
      "2018-06-18 01:58:19,947 : INFO : {'properties': \"{'annotators': 'pos', 'outputFormat': 'json'}\", 'pipelineLanguage': 'es'}\n",
      "2018-06-18 01:58:19,956 : INFO : {'properties': \"{'annotators': 'pos', 'outputFormat': 'json'}\", 'pipelineLanguage': 'es'}\n",
      "2018-06-18 01:58:19,990 : INFO : {'properties': \"{'annotators': 'pos', 'outputFormat': 'json'}\", 'pipelineLanguage': 'es'}\n",
      "2018-06-18 01:58:20,001 : INFO : {'properties': \"{'annotators': 'pos', 'outputFormat': 'json'}\", 'pipelineLanguage': 'es'}\n",
      "2018-06-18 01:58:20,008 : INFO : {'properties': \"{'annotators': 'pos', 'outputFormat': 'json'}\", 'pipelineLanguage': 'es'}\n",
      "2018-06-18 01:58:20,017 : INFO : {'properties': \"{'annotators': 'pos', 'outputFormat': 'json'}\", 'pipelineLanguage': 'es'}\n",
      "2018-06-18 01:58:20,026 : INFO : {'properties': \"{'annotators': 'pos', 'outputFormat': 'json'}\", 'pipelineLanguage': 'es'}\n",
      "2018-06-18 01:58:20,035 : INFO : {'properties': \"{'annotators': 'pos', 'outputFormat': 'json'}\", 'pipelineLanguage': 'es'}\n",
      "2018-06-18 01:58:20,052 : INFO : {'properties': \"{'annotators': 'pos', 'outputFormat': 'json'}\", 'pipelineLanguage': 'es'}\n",
      "2018-06-18 01:58:20,059 : INFO : {'properties': \"{'annotators': 'pos', 'outputFormat': 'json'}\", 'pipelineLanguage': 'es'}\n",
      "2018-06-18 01:58:20,070 : INFO : {'properties': \"{'annotators': 'pos', 'outputFormat': 'json'}\", 'pipelineLanguage': 'es'}\n",
      "2018-06-18 01:58:20,107 : INFO : {'properties': \"{'annotators': 'pos', 'outputFormat': 'json'}\", 'pipelineLanguage': 'es'}\n",
      "2018-06-18 01:58:20,135 : INFO : {'properties': \"{'annotators': 'pos', 'outputFormat': 'json'}\", 'pipelineLanguage': 'es'}\n",
      "2018-06-18 01:58:20,143 : INFO : {'properties': \"{'annotators': 'pos', 'outputFormat': 'json'}\", 'pipelineLanguage': 'es'}\n"
     ]
    },
    {
     "name": "stderr",
     "output_type": "stream",
     "text": [
      "2018-06-18 01:58:20,152 : INFO : {'properties': \"{'annotators': 'pos', 'outputFormat': 'json'}\", 'pipelineLanguage': 'es'}\n",
      "2018-06-18 01:58:20,163 : INFO : {'properties': \"{'annotators': 'pos', 'outputFormat': 'json'}\", 'pipelineLanguage': 'es'}\n",
      "2018-06-18 01:58:20,174 : INFO : {'properties': \"{'annotators': 'pos', 'outputFormat': 'json'}\", 'pipelineLanguage': 'es'}\n",
      "2018-06-18 01:58:20,182 : INFO : {'properties': \"{'annotators': 'pos', 'outputFormat': 'json'}\", 'pipelineLanguage': 'es'}\n",
      "2018-06-18 01:58:20,189 : INFO : {'properties': \"{'annotators': 'pos', 'outputFormat': 'json'}\", 'pipelineLanguage': 'es'}\n",
      "2018-06-18 01:58:20,196 : INFO : {'properties': \"{'annotators': 'pos', 'outputFormat': 'json'}\", 'pipelineLanguage': 'es'}\n",
      "2018-06-18 01:58:20,202 : INFO : {'properties': \"{'annotators': 'pos', 'outputFormat': 'json'}\", 'pipelineLanguage': 'es'}\n",
      "2018-06-18 01:58:20,211 : INFO : {'properties': \"{'annotators': 'pos', 'outputFormat': 'json'}\", 'pipelineLanguage': 'es'}\n",
      "2018-06-18 01:58:20,220 : INFO : {'properties': \"{'annotators': 'pos', 'outputFormat': 'json'}\", 'pipelineLanguage': 'es'}\n",
      "2018-06-18 01:58:20,238 : INFO : {'properties': \"{'annotators': 'pos', 'outputFormat': 'json'}\", 'pipelineLanguage': 'es'}\n",
      "2018-06-18 01:58:20,246 : INFO : {'properties': \"{'annotators': 'pos', 'outputFormat': 'json'}\", 'pipelineLanguage': 'es'}\n",
      "2018-06-18 01:58:20,260 : INFO : {'properties': \"{'annotators': 'pos', 'outputFormat': 'json'}\", 'pipelineLanguage': 'es'}\n",
      "2018-06-18 01:58:20,267 : INFO : {'properties': \"{'annotators': 'pos', 'outputFormat': 'json'}\", 'pipelineLanguage': 'es'}\n",
      "2018-06-18 01:58:20,275 : INFO : {'properties': \"{'annotators': 'pos', 'outputFormat': 'json'}\", 'pipelineLanguage': 'es'}\n",
      "2018-06-18 01:58:20,281 : INFO : {'properties': \"{'annotators': 'pos', 'outputFormat': 'json'}\", 'pipelineLanguage': 'es'}\n",
      "2018-06-18 01:58:20,289 : INFO : {'properties': \"{'annotators': 'pos', 'outputFormat': 'json'}\", 'pipelineLanguage': 'es'}\n",
      "2018-06-18 01:58:20,299 : INFO : {'properties': \"{'annotators': 'pos', 'outputFormat': 'json'}\", 'pipelineLanguage': 'es'}\n",
      "2018-06-18 01:58:20,305 : INFO : {'properties': \"{'annotators': 'pos', 'outputFormat': 'json'}\", 'pipelineLanguage': 'es'}\n",
      "2018-06-18 01:58:20,318 : INFO : {'properties': \"{'annotators': 'pos', 'outputFormat': 'json'}\", 'pipelineLanguage': 'es'}\n",
      "2018-06-18 01:58:20,327 : INFO : {'properties': \"{'annotators': 'pos', 'outputFormat': 'json'}\", 'pipelineLanguage': 'es'}\n",
      "2018-06-18 01:58:20,336 : INFO : {'properties': \"{'annotators': 'pos', 'outputFormat': 'json'}\", 'pipelineLanguage': 'es'}\n",
      "2018-06-18 01:58:20,343 : INFO : {'properties': \"{'annotators': 'pos', 'outputFormat': 'json'}\", 'pipelineLanguage': 'es'}\n",
      "2018-06-18 01:58:20,352 : INFO : {'properties': \"{'annotators': 'pos', 'outputFormat': 'json'}\", 'pipelineLanguage': 'es'}\n",
      "2018-06-18 01:58:20,361 : INFO : {'properties': \"{'annotators': 'pos', 'outputFormat': 'json'}\", 'pipelineLanguage': 'es'}\n",
      "2018-06-18 01:58:20,371 : INFO : {'properties': \"{'annotators': 'pos', 'outputFormat': 'json'}\", 'pipelineLanguage': 'es'}\n",
      "2018-06-18 01:58:20,378 : INFO : {'properties': \"{'annotators': 'pos', 'outputFormat': 'json'}\", 'pipelineLanguage': 'es'}\n",
      "2018-06-18 01:58:20,390 : INFO : {'properties': \"{'annotators': 'pos', 'outputFormat': 'json'}\", 'pipelineLanguage': 'es'}\n",
      "2018-06-18 01:58:20,397 : INFO : {'properties': \"{'annotators': 'pos', 'outputFormat': 'json'}\", 'pipelineLanguage': 'es'}\n",
      "2018-06-18 01:58:20,408 : INFO : {'properties': \"{'annotators': 'pos', 'outputFormat': 'json'}\", 'pipelineLanguage': 'es'}\n",
      "2018-06-18 01:58:20,418 : INFO : {'properties': \"{'annotators': 'pos', 'outputFormat': 'json'}\", 'pipelineLanguage': 'es'}\n",
      "2018-06-18 01:58:20,431 : INFO : {'properties': \"{'annotators': 'pos', 'outputFormat': 'json'}\", 'pipelineLanguage': 'es'}\n",
      "2018-06-18 01:58:20,441 : INFO : {'properties': \"{'annotators': 'pos', 'outputFormat': 'json'}\", 'pipelineLanguage': 'es'}\n",
      "2018-06-18 01:58:20,448 : INFO : {'properties': \"{'annotators': 'pos', 'outputFormat': 'json'}\", 'pipelineLanguage': 'es'}\n",
      "2018-06-18 01:58:20,456 : INFO : {'properties': \"{'annotators': 'pos', 'outputFormat': 'json'}\", 'pipelineLanguage': 'es'}\n",
      "2018-06-18 01:58:20,461 : INFO : {'properties': \"{'annotators': 'pos', 'outputFormat': 'json'}\", 'pipelineLanguage': 'es'}\n",
      "2018-06-18 01:58:20,470 : INFO : {'properties': \"{'annotators': 'pos', 'outputFormat': 'json'}\", 'pipelineLanguage': 'es'}\n",
      "2018-06-18 01:58:20,479 : INFO : {'properties': \"{'annotators': 'pos', 'outputFormat': 'json'}\", 'pipelineLanguage': 'es'}\n",
      "2018-06-18 01:58:20,486 : INFO : {'properties': \"{'annotators': 'pos', 'outputFormat': 'json'}\", 'pipelineLanguage': 'es'}\n",
      "2018-06-18 01:58:20,503 : INFO : {'properties': \"{'annotators': 'pos', 'outputFormat': 'json'}\", 'pipelineLanguage': 'es'}\n",
      "2018-06-18 01:58:20,523 : INFO : {'properties': \"{'annotators': 'pos', 'outputFormat': 'json'}\", 'pipelineLanguage': 'es'}\n",
      "2018-06-18 01:58:20,533 : INFO : {'properties': \"{'annotators': 'pos', 'outputFormat': 'json'}\", 'pipelineLanguage': 'es'}\n",
      "2018-06-18 01:58:20,546 : INFO : {'properties': \"{'annotators': 'pos', 'outputFormat': 'json'}\", 'pipelineLanguage': 'es'}\n",
      "2018-06-18 01:58:20,554 : INFO : {'properties': \"{'annotators': 'pos', 'outputFormat': 'json'}\", 'pipelineLanguage': 'es'}\n",
      "2018-06-18 01:58:20,563 : INFO : {'properties': \"{'annotators': 'pos', 'outputFormat': 'json'}\", 'pipelineLanguage': 'es'}\n",
      "2018-06-18 01:58:20,574 : INFO : {'properties': \"{'annotators': 'pos', 'outputFormat': 'json'}\", 'pipelineLanguage': 'es'}\n",
      "2018-06-18 01:58:20,585 : INFO : {'properties': \"{'annotators': 'pos', 'outputFormat': 'json'}\", 'pipelineLanguage': 'es'}\n",
      "2018-06-18 01:58:20,597 : INFO : {'properties': \"{'annotators': 'pos', 'outputFormat': 'json'}\", 'pipelineLanguage': 'es'}\n",
      "2018-06-18 01:58:20,606 : INFO : {'properties': \"{'annotators': 'pos', 'outputFormat': 'json'}\", 'pipelineLanguage': 'es'}\n",
      "2018-06-18 01:58:20,613 : INFO : {'properties': \"{'annotators': 'pos', 'outputFormat': 'json'}\", 'pipelineLanguage': 'es'}\n",
      "2018-06-18 01:58:20,626 : INFO : {'properties': \"{'annotators': 'pos', 'outputFormat': 'json'}\", 'pipelineLanguage': 'es'}\n",
      "2018-06-18 01:58:20,639 : INFO : {'properties': \"{'annotators': 'pos', 'outputFormat': 'json'}\", 'pipelineLanguage': 'es'}\n",
      "2018-06-18 01:58:20,649 : INFO : {'properties': \"{'annotators': 'pos', 'outputFormat': 'json'}\", 'pipelineLanguage': 'es'}\n",
      "2018-06-18 01:58:20,657 : INFO : {'properties': \"{'annotators': 'pos', 'outputFormat': 'json'}\", 'pipelineLanguage': 'es'}\n",
      "2018-06-18 01:58:20,663 : INFO : {'properties': \"{'annotators': 'pos', 'outputFormat': 'json'}\", 'pipelineLanguage': 'es'}\n",
      "2018-06-18 01:58:20,672 : INFO : {'properties': \"{'annotators': 'pos', 'outputFormat': 'json'}\", 'pipelineLanguage': 'es'}\n",
      "2018-06-18 01:58:20,698 : INFO : {'properties': \"{'annotators': 'pos', 'outputFormat': 'json'}\", 'pipelineLanguage': 'es'}\n",
      "2018-06-18 01:58:20,727 : INFO : {'properties': \"{'annotators': 'pos', 'outputFormat': 'json'}\", 'pipelineLanguage': 'es'}\n",
      "2018-06-18 01:58:20,737 : INFO : {'properties': \"{'annotators': 'pos', 'outputFormat': 'json'}\", 'pipelineLanguage': 'es'}\n",
      "2018-06-18 01:58:20,744 : INFO : {'properties': \"{'annotators': 'pos', 'outputFormat': 'json'}\", 'pipelineLanguage': 'es'}\n",
      "2018-06-18 01:58:20,752 : INFO : {'properties': \"{'annotators': 'pos', 'outputFormat': 'json'}\", 'pipelineLanguage': 'es'}\n",
      "2018-06-18 01:58:20,758 : INFO : {'properties': \"{'annotators': 'pos', 'outputFormat': 'json'}\", 'pipelineLanguage': 'es'}\n",
      "2018-06-18 01:58:20,768 : INFO : {'properties': \"{'annotators': 'pos', 'outputFormat': 'json'}\", 'pipelineLanguage': 'es'}\n",
      "2018-06-18 01:58:20,777 : INFO : {'properties': \"{'annotators': 'pos', 'outputFormat': 'json'}\", 'pipelineLanguage': 'es'}\n",
      "2018-06-18 01:58:20,784 : INFO : {'properties': \"{'annotators': 'pos', 'outputFormat': 'json'}\", 'pipelineLanguage': 'es'}\n",
      "2018-06-18 01:58:20,792 : INFO : {'properties': \"{'annotators': 'pos', 'outputFormat': 'json'}\", 'pipelineLanguage': 'es'}\n",
      "2018-06-18 01:58:20,805 : INFO : {'properties': \"{'annotators': 'pos', 'outputFormat': 'json'}\", 'pipelineLanguage': 'es'}\n",
      "2018-06-18 01:58:20,816 : INFO : {'properties': \"{'annotators': 'pos', 'outputFormat': 'json'}\", 'pipelineLanguage': 'es'}\n"
     ]
    },
    {
     "name": "stderr",
     "output_type": "stream",
     "text": [
      "2018-06-18 01:58:20,824 : INFO : {'properties': \"{'annotators': 'pos', 'outputFormat': 'json'}\", 'pipelineLanguage': 'es'}\n",
      "2018-06-18 01:58:20,833 : INFO : {'properties': \"{'annotators': 'pos', 'outputFormat': 'json'}\", 'pipelineLanguage': 'es'}\n",
      "2018-06-18 01:58:20,845 : INFO : {'properties': \"{'annotators': 'pos', 'outputFormat': 'json'}\", 'pipelineLanguage': 'es'}\n",
      "2018-06-18 01:58:20,854 : INFO : {'properties': \"{'annotators': 'pos', 'outputFormat': 'json'}\", 'pipelineLanguage': 'es'}\n",
      "2018-06-18 01:58:20,862 : INFO : {'properties': \"{'annotators': 'pos', 'outputFormat': 'json'}\", 'pipelineLanguage': 'es'}\n",
      "2018-06-18 01:58:20,869 : INFO : {'properties': \"{'annotators': 'pos', 'outputFormat': 'json'}\", 'pipelineLanguage': 'es'}\n",
      "2018-06-18 01:58:20,881 : INFO : {'properties': \"{'annotators': 'pos', 'outputFormat': 'json'}\", 'pipelineLanguage': 'es'}\n",
      "2018-06-18 01:58:20,888 : INFO : {'properties': \"{'annotators': 'pos', 'outputFormat': 'json'}\", 'pipelineLanguage': 'es'}\n",
      "2018-06-18 01:58:20,895 : INFO : {'properties': \"{'annotators': 'pos', 'outputFormat': 'json'}\", 'pipelineLanguage': 'es'}\n",
      "2018-06-18 01:58:20,929 : INFO : adding document #0 to Dictionary(0 unique tokens: [])\n",
      "2018-06-18 01:58:20,936 : INFO : built Dictionary(1208 unique tokens: ['aumentar', 'convertido', 'donar', 'es', 'hacen']...) from 746 documents (total 2308 corpus positions)\n",
      "2018-06-18 01:58:20,940 : INFO : using serial LSI version on this node\n",
      "2018-06-18 01:58:20,941 : INFO : updating model with new documents\n",
      "2018-06-18 01:58:20,941 : INFO : preparing a new chunk of documents\n",
      "2018-06-18 01:58:20,945 : INFO : using 100 extra samples and 2 power iterations\n",
      "2018-06-18 01:58:20,946 : INFO : 1st phase: constructing (1208, 102) action matrix\n",
      "2018-06-18 01:58:20,952 : INFO : orthonormalizing (1208, 102) action matrix\n",
      "2018-06-18 01:58:20,989 : INFO : 2nd phase: running dense svd on (102, 746) matrix\n",
      "2018-06-18 01:58:21,004 : INFO : computing the final decomposition\n",
      "2018-06-18 01:58:21,004 : INFO : keeping 2 factors (discarding 84.153% of energy spectrum)\n",
      "2018-06-18 01:58:21,005 : INFO : processed documents up to #746\n",
      "2018-06-18 01:58:21,006 : INFO : topic #0(12.444): 0.947*\"es\" + 0.141*\"puede\" + 0.134*\"ser\" + 0.105*\"tiene\" + 0.071*\"decir\" + 0.063*\"hacer\" + 0.059*\"son\" + 0.059*\"está\" + 0.042*\"han\" + 0.037*\"ver\"\n",
      "2018-06-18 01:58:21,007 : INFO : topic #1(7.191): -0.930*\"son\" + 0.122*\"es\" + -0.116*\"ser\" + -0.109*\"tiene\" + -0.108*\"pueden\" + -0.094*\"anima\" + -0.085*\"Es\" + -0.073*\"puede\" + -0.064*\"han\" + -0.047*\"debe\"\n"
     ]
    }
   ],
   "source": [
    "model, dic, corp = generateModalForGrade(dfSeventh['value'].values)"
   ]
  },
  {
   "cell_type": "markdown",
   "metadata": {},
   "source": [
    "## Nueva estructura de un texto \n",
    "\n",
    "### Texto 0\n",
    "    - Oraciones -> [0,1]\n",
    "    - Oraciones\n",
    "        - 0 -> [0,1,2,3,4,5,6,7,8]\n",
    "        - 1 -> [2,9,10,11]\n",
    "\n",
    "### Texto 1\n",
    "    - Oraciones -> [2,3]\n",
    "    - Oraciones\n",
    "        - 2 -> [0,1,2,3,4,5,6,7,8]\n",
    "        - 3 -> [2,9,10,11] "
   ]
  },
  {
   "cell_type": "code",
   "execution_count": 70,
   "metadata": {},
   "outputs": [
    {
     "data": {
      "text/plain": [
       "[[0, 1, 2, 3, 4, 5, 6, 7, 8],\n",
       " [2, 9, 10, 11],\n",
       " [12, 13],\n",
       " [14, 15, 16],\n",
       " [2, 3, 17, 18, 19, 20, 21],\n",
       " [22, 23, 24, 25],\n",
       " [3, 8, 18, 26, 27, 28, 29, 30, 31, 32, 33, 34]]"
      ]
     },
     "execution_count": 70,
     "metadata": {},
     "output_type": "execute_result"
    }
   ],
   "source": [
    "words_in_texts = list()\n",
    "\n",
    "for text in texts_indexs:\n",
    "    words_per_senteces_in_texts = list()\n",
    "    for sentence_index in text:\n",
    "        corp_sentence = corp[sentence_index]\n",
    "        words_per_senteces_in_texts.append([corp_word[0] for corp_word in corp_sentence])\n",
    "    words_in_texts.append(words_per_senteces_in_texts)\n",
    "words_in_texts[0]"
   ]
  },
  {
   "cell_type": "code",
   "execution_count": 79,
   "metadata": {},
   "outputs": [
    {
     "data": {
      "text/plain": [
       "[0.4011460644212214,\n",
       " 0.590108599123644,\n",
       " 0.4163906342013442,\n",
       " 0.4372300372229645,\n",
       " 0.1146642129831157,\n",
       " 0.06424053507882084,\n",
       " 0.20485500763594272,\n",
       " 0.3477611273881205,\n",
       " 0.21603184393295383,\n",
       " 0.4370556567291295,\n",
       " 0.4626205581090414,\n",
       " 0.565705548292251,\n",
       " 0.4466570932452763,\n",
       " 0.2792600938665837,\n",
       " 0.47606227843350113,\n",
       " 0.05111290287236445,\n",
       " -0.04168027034666077,\n",
       " -0.05165678678770459,\n",
       " 0.3522444221782628,\n",
       " 0.14818030195790932,\n",
       " 0.15905526930470337,\n",
       " 0.15235477121946317,\n",
       " 0.29919384083487,\n",
       " 0.42954486437184547,\n",
       " 0.46436216854690704,\n",
       " 0.37578727037793397,\n",
       " 0.010927111023327402,\n",
       " 0.3509686613921357,\n",
       " 0.19891511990698707,\n",
       " 0.0,\n",
       " 0.1707214208681657,\n",
       " 0.17505362966641738,\n",
       " 0.0,\n",
       " 0.0,\n",
       " 0.11731481148192545,\n",
       " 0.16527456216018474,\n",
       " -0.01978858721849033,\n",
       " 0.3331916393187502,\n",
       " 0.0,\n",
       " 0.5373483611115548,\n",
       " 0.1292955548446629,\n",
       " 0.06872285917251256,\n",
       " 0.35536667278644346,\n",
       " 0.30805620340348894,\n",
       " 0.5716959244758882,\n",
       " 0.5267404392495103,\n",
       " 0.5541788030964976,\n",
       " 0.6237311758614323]"
      ]
     },
     "execution_count": 79,
     "metadata": {},
     "output_type": "execute_result"
    }
   ],
   "source": [
    "results = list()\n",
    "for text in words_in_texts:\n",
    "    text_results = list()\n",
    "    for index, sentece_in_text in enumerate(text):\n",
    "        sentence_results = list()\n",
    "        for word_in_sentence in sentece_in_text:\n",
    "            current_word = dic[word_in_sentence]\n",
    "            word_results = list()\n",
    "            for j in range(index + 1, len(text)):\n",
    "                next_sentence = text[j]\n",
    "                for next_word in next_sentence:\n",
    "                    current_vec = dic.doc2bow(current_word.lower().split())\n",
    "                    next_vec = dic.doc2bow(dic[next_word].lower().split())\n",
    "\n",
    "                    # Convert the query to LSI space\n",
    "                    current_vec_lsi = model[current_vec]\n",
    "                    next_vec_lsi = model[next_vec]\n",
    "                    if (len(current_vec_lsi) > 0 and len(next_vec_lsi) > 0):\n",
    "                        current_vec_lsi = [element[1] for element in current_vec_lsi]\n",
    "                        next_vec_lsi = [element[1] for element in next_vec_lsi]\n",
    "                    \n",
    "                        # Calculate Similarity\n",
    "                        word_results.append(np.dot(current_vec_lsi, next_vec_lsi)/(np.linalg.norm(current_vec_lsi) * np.linalg.norm(next_vec_lsi)))\n",
    "                    else:\n",
    "                        word_results.append(0)\n",
    "            sentence_results.append(sum(word_results)/len(word_results) if len(word_results) > 0 else 0)\n",
    "        text_results.append(sum(sentence_results)/len(sentence_results) if len(sentence_results) > 0 else 0)\n",
    "    results.append(sum(text_results)/len(text_results) if len(text_results) > 0 else 0)\n",
    "results"
   ]
  },
  {
   "cell_type": "code",
   "execution_count": 95,
   "metadata": {},
   "outputs": [
    {
     "data": {
      "text/plain": [
       "'Si bien los trasplantes se han convertido en una práctica habitual, aún persisten fuertes temores en la población para donar órganos, lograr su superación es la clave para aumentar el número de los donadores solidarios que hacen falta para salvar miles de vidas.'"
      ]
     },
     "execution_count": 95,
     "metadata": {},
     "output_type": "execute_result"
    }
   ],
   "source": [
    "dfSeventh['value'].values[0]"
   ]
  },
  {
   "cell_type": "code",
   "execution_count": 21,
   "metadata": {},
   "outputs": [
    {
     "name": "stderr",
     "output_type": "stream",
     "text": [
      "2018-06-17 13:56:46,678 : INFO : {'properties': \"{'annotators': 'pos', 'outputFormat': 'json'}\", 'pipelineLanguage': 'es'}\n"
     ]
    },
    {
     "data": {
      "text/plain": [
       "['han',\n",
       " 'convertido',\n",
       " 'persisten',\n",
       " 'donar',\n",
       " 'lograr',\n",
       " 'es',\n",
       " 'aumentar',\n",
       " 'hacen',\n",
       " 'salvar']"
      ]
     },
     "execution_count": 21,
     "metadata": {},
     "output_type": "execute_result"
    }
   ],
   "source": [
    "clean_text(dfSeventh['value'].values[0])"
   ]
  },
  {
   "cell_type": "code",
   "execution_count": 35,
   "metadata": {
    "scrolled": true
   },
   "outputs": [
    {
     "data": {
      "text/plain": [
       "'existen'"
      ]
     },
     "execution_count": 35,
     "metadata": {},
     "output_type": "execute_result"
    }
   ],
   "source": [
    "dic[616]"
   ]
  },
  {
   "cell_type": "code",
   "execution_count": 23,
   "metadata": {},
   "outputs": [
    {
     "data": {
      "text/plain": [
       "'Si bien los trasplantes se han convertido en una práctica habitual, aún persisten fuertes temores en la población para donar órganos, lograr su superación es la clave para aumentar el número de los donadores solidarios que hacen falta para salvar miles de vidas.'"
      ]
     },
     "execution_count": 23,
     "metadata": {},
     "output_type": "execute_result"
    }
   ],
   "source": [
    "dfSeventh['value'].values[0]"
   ]
  },
  {
   "cell_type": "code",
   "execution_count": 24,
   "metadata": {},
   "outputs": [
    {
     "name": "stderr",
     "output_type": "stream",
     "text": [
      "2018-06-17 13:56:54,785 : INFO : {'properties': \"{'annotators': 'pos', 'outputFormat': 'json'}\", 'pipelineLanguage': 'es'}\n"
     ]
    }
   ],
   "source": [
    "textOfSeventhGrade[0]\n",
    "text_tokens = nltk.word_tokenize(dfSeventh['value'].values[0])\n",
    "pos_tags = stanfordNLP.pos(dfSeventh['value'].values[0])\n",
    "verbs = [pos_tag[0] for pos_tag in pos_tags if pos_tag[1].startswith('v')]\n",
    "# verbs"
   ]
  },
  {
   "cell_type": "code",
   "execution_count": 36,
   "metadata": {
    "scrolled": true
   },
   "outputs": [
    {
     "name": "stderr",
     "output_type": "stream",
     "text": [
      "2018-06-18 02:03:34,912 : INFO : {'properties': \"{'annotators': 'pos', 'outputFormat': 'json'}\", 'pipelineLanguage': 'es'}\n"
     ]
    },
    {
     "data": {
      "text/plain": [
       "['han',\n",
       " 'convertido',\n",
       " 'persisten',\n",
       " 'donar',\n",
       " 'lograr',\n",
       " 'es',\n",
       " 'aumentar',\n",
       " 'hacen',\n",
       " 'salvar']"
      ]
     },
     "execution_count": 36,
     "metadata": {},
     "output_type": "execute_result"
    }
   ],
   "source": [
    "temp_verbs = extractVerbsFromText(dfSeventh['value'].values[0])\n",
    "temp_verbs"
   ]
  },
  {
   "cell_type": "code",
   "execution_count": 41,
   "metadata": {},
   "outputs": [
    {
     "name": "stderr",
     "output_type": "stream",
     "text": [
      "2018-06-18 02:06:55,522 : WARNING : scanning corpus to determine the number of features (consider setting `num_features` explicitly)\n",
      "2018-06-18 02:06:55,541 : INFO : creating matrix with 746 documents and 2 features\n"
     ]
    },
    {
     "data": {
      "text/plain": [
       "0.590906854047795"
      ]
     },
     "execution_count": 41,
     "metadata": {},
     "output_type": "execute_result"
    }
   ],
   "source": [
    "test_verb = \"han\"\n",
    "test_verb2 = \"convertido\"\n",
    "vec_bow = dic.doc2bow(test_verb.lower().split())\n",
    "vec_bow2 = dic.doc2bow(test_verb2.lower().split())\n",
    "\n",
    "# convert the query to LSI space\n",
    "vec_lsi = model[vec_bow]\n",
    "vec_lsiV = [element[1] for element in vec_lsi]\n",
    "vec_lsi2 = model[vec_bow2]\n",
    "vec_lsi2V = [element[1] for element in vec_lsi2]\n",
    "index = similarities.MatrixSimilarity(model[corp])\n",
    "\n",
    "# perform a similarity query against the corpus\n",
    "sims = index[vec_lsi]\n",
    "sims = sorted(enumerate(sims), key=lambda item: -item[1])\n",
    "# print(vec_lsi)\n",
    "# print(vec_lsi2)\n",
    "\n",
    "\n",
    "np.dot(vec_lsiV, vec_lsi2V)/(np.linalg.norm(vec_lsiV) * np.linalg.norm(vec_lsi2V))\n",
    "# 0.55165374\n",
    "# corp\n",
    "# sims\n"
   ]
  },
  {
   "cell_type": "code",
   "execution_count": 40,
   "metadata": {},
   "outputs": [
    {
     "ename": "NameError",
     "evalue": "name 'textOfSeventhGrade' is not defined",
     "output_type": "error",
     "traceback": [
      "\u001b[0;31m---------------------------------------------------------------------------\u001b[0m",
      "\u001b[0;31mNameError\u001b[0m                                 Traceback (most recent call last)",
      "\u001b[0;32m<ipython-input-40-84f5b6e8cd92>\u001b[0m in \u001b[0;36m<module>\u001b[0;34m()\u001b[0m\n\u001b[0;32m----> 1\u001b[0;31m \u001b[0;32mfor\u001b[0m \u001b[0mtext_data\u001b[0m \u001b[0;32min\u001b[0m \u001b[0mtextOfSeventhGrade\u001b[0m\u001b[0;34m:\u001b[0m\u001b[0;34m\u001b[0m\u001b[0m\n\u001b[0m\u001b[1;32m      2\u001b[0m     \u001b[0mvebs\u001b[0m \u001b[0;34m=\u001b[0m \u001b[0mextractVerbsFromText\u001b[0m\u001b[0;34m(\u001b[0m\u001b[0mtext_data\u001b[0m\u001b[0;34m)\u001b[0m\u001b[0;34m\u001b[0m\u001b[0m\n\u001b[1;32m      3\u001b[0m     \u001b[0;32mfor\u001b[0m \u001b[0mverb\u001b[0m \u001b[0;32min\u001b[0m \u001b[0mverbs\u001b[0m\u001b[0;34m:\u001b[0m\u001b[0;34m\u001b[0m\u001b[0m\n\u001b[1;32m      4\u001b[0m         \u001b[0mvec_bow\u001b[0m \u001b[0;34m=\u001b[0m \u001b[0mdic\u001b[0m\u001b[0;34m.\u001b[0m\u001b[0mdoc2bow\u001b[0m\u001b[0;34m(\u001b[0m\u001b[0mverb\u001b[0m\u001b[0;34m.\u001b[0m\u001b[0mlower\u001b[0m\u001b[0;34m(\u001b[0m\u001b[0;34m)\u001b[0m\u001b[0;34m.\u001b[0m\u001b[0msplit\u001b[0m\u001b[0;34m(\u001b[0m\u001b[0;34m)\u001b[0m\u001b[0;34m)\u001b[0m\u001b[0;34m\u001b[0m\u001b[0m\n\u001b[1;32m      5\u001b[0m \u001b[0;34m\u001b[0m\u001b[0m\n",
      "\u001b[0;31mNameError\u001b[0m: name 'textOfSeventhGrade' is not defined"
     ]
    }
   ],
   "source": [
    "for text_data in textOfSeventhGrade:\n",
    "    vebs = extractVerbsFromText(text_data)\n",
    "    for verb in verbs:\n",
    "        vec_bow = dic.doc2bow(verb.lower().split())\n",
    "        \n",
    "        # convert the query to LSI space\n",
    "        vec_lsi = model[vec_bow]\n",
    "        index = similarities.MatrixSimilarity(model[corp])\n",
    "\n",
    "        # perform a similarity query against the corpus\n",
    "        sims = index[vec_lsi]\n",
    "        sims = sorted(enumerate(sims), key=lambda item: -item[1])"
   ]
  },
  {
   "cell_type": "code",
   "execution_count": null,
   "metadata": {},
   "outputs": [],
   "source": []
  }
 ],
 "metadata": {
  "kernelspec": {
   "display_name": "Python 3",
   "language": "python",
   "name": "python3"
  },
  "language_info": {
   "codemirror_mode": {
    "name": "ipython",
    "version": 3
   },
   "file_extension": ".py",
   "mimetype": "text/x-python",
   "name": "python",
   "nbconvert_exporter": "python",
   "pygments_lexer": "ipython3",
   "version": "3.6.5"
  }
 },
 "nbformat": 4,
 "nbformat_minor": 2
}
