{
 "cells": [
  {
   "cell_type": "markdown",
   "metadata": {},
   "source": [
    "### Import custom modules from current folder"
   ]
  },
  {
   "cell_type": "code",
   "execution_count": 1,
   "metadata": {},
   "outputs": [],
   "source": [
    "import os\n",
    "import sys\n",
    "\n",
    "module_path = os.path.abspath(os.path.join('..'))\n",
    "\n",
    "if module_path not in sys.path:\n",
    "    sys.path.append(module_path)"
   ]
  },
  {
   "cell_type": "code",
   "execution_count": 2,
   "metadata": {},
   "outputs": [],
   "source": [
    "import nltk\n",
    "from text_easability_metrics import TextEasabilityMetrics, StanfordNLP\n",
    "from simple_text_representation.classes import Text\n",
    "from simple_text_representation.models import Database"
   ]
  },
  {
   "cell_type": "code",
   "execution_count": 3,
   "metadata": {},
   "outputs": [],
   "source": [
    "database = Database('educationalTexts', 'postgres', '', '0.0.0.0', 5432)\n",
    "path = r'/Users/herbert/Projects/Tesis/stanford-corenlp-full-2017-06-09'\n",
    "path = r'http://corenlp.run'\n",
    "path = r'http://localhost/'"
   ]
  },
  {
   "cell_type": "code",
   "execution_count": 4,
   "metadata": {},
   "outputs": [
    {
     "name": "stdout",
     "output_type": "stream",
     "text": [
      "TextEasabilityMetrics\n"
     ]
    }
   ],
   "source": [
    "metrics = TextEasabilityMetrics(path, port=9000)\n",
    "firstTestText = Text.getText(database, 1)"
   ]
  },
  {
   "cell_type": "markdown",
   "metadata": {},
   "source": [
    "### Text easability analysis"
   ]
  },
  {
   "cell_type": "code",
   "execution_count": 5,
   "metadata": {},
   "outputs": [],
   "source": [
    "text = firstTestText"
   ]
  },
  {
   "cell_type": "code",
   "execution_count": 6,
   "metadata": {},
   "outputs": [
    {
     "data": {
      "text/plain": [
       "'Si bien los trasplantes se han convertido en una práctica habitual aún persisten fuertes temores en la población para donar órganos lograr su superación es la clave para aumentar el número de los donadores solidarios que hacen falta para salvar miles de vidas.'"
      ]
     },
     "execution_count": 6,
     "metadata": {},
     "output_type": "execute_result"
    }
   ],
   "source": [
    "# testSentence = 'Si bien los trasplantes se han convertido en una práctica habitual, aún persisten fuertes temores en la población para donar órganos, lograr su superación es la clave para aumentar el número de los donadores solidarios que hacen falta para salvar miles de vidas.'\n",
    "testSentence = text[0][0]\n",
    "testSentence\n",
    "\n",
    "# corpus = nltk.corpus.conll2002\n",
    "# sentenceGrammar = corpus.chunked_sents('esp.train')[2]\n",
    "# sentence= corpus.sents('esp.train')[2]\n",
    "\n",
    "# parser = nltk.ChartParser(sentenceGrammar)\n",
    "# for doc in parser.parse(sentence):\n",
    "#     print(doc)\n"
   ]
  },
  {
   "cell_type": "code",
   "execution_count": 7,
   "metadata": {},
   "outputs": [
    {
     "name": "stdout",
     "output_type": "stream",
     "text": [
      "(ROOT\n",
      "  (S\n",
      "    (NP\n",
      "      (NP\n",
      "        (NP (NNP Si))\n",
      "        (NP (FW bien) (FW los) (FW trasplantes) (FW se) (FW han) (FW convertido) (FW en) (FW una) (FW práctica)))\n",
      "      (NP (JJ habitual) (NN aún) (NN persisten)))\n",
      "    (VP (VBZ fuertes)\n",
      "      (NP\n",
      "        (NP (NNS temores))\n",
      "        (PP (IN en)\n",
      "          (NP\n",
      "            (NP (DT la) (FW población) (FW para) (FW donar) (FW órganos) (FW lograr) (FW su) (FW superación) (FW es) (FW la) (FW clave) (FW para) (FW aumentar) (FW el) (FW número) (FW de) (FW los) (FW donadores) (FW solidarios) (FW que))\n",
      "            (PP\n",
      "              (NP (NN hacen) (NN falta) (NN para) (NN salvar) (NNS miles))\n",
      "              (IN de)\n",
      "              (NP (NNS vidas)))))))\n",
      "    (. .)))\n",
      "Syntactic Simplicity\n"
     ]
    },
    {
     "data": {
      "text/plain": [
       "0"
      ]
     },
     "execution_count": 7,
     "metadata": {},
     "output_type": "execute_result"
    }
   ],
   "source": [
    "parseSentence = metrics.syntaxisSimplicity(testSentence)\n",
    "parseSentence"
   ]
  },
  {
   "cell_type": "code",
   "execution_count": null,
   "metadata": {
    "scrolled": true
   },
   "outputs": [],
   "source": [
    "text = firstTestText\n",
    "for paragraph in text:\n",
    "    for sentence in paragraph:\n",
    "        metrics.syntaxisSimplicity(sentence)"
   ]
  },
  {
   "cell_type": "code",
   "execution_count": null,
   "metadata": {},
   "outputs": [],
   "source": []
  }
 ],
 "metadata": {
  "kernelspec": {
   "display_name": "Python 3",
   "language": "python",
   "name": "python3"
  },
  "language_info": {
   "codemirror_mode": {
    "name": "ipython",
    "version": 3
   },
   "file_extension": ".py",
   "mimetype": "text/x-python",
   "name": "python",
   "nbconvert_exporter": "python",
   "pygments_lexer": "ipython3",
   "version": "3.6.4"
  }
 },
 "nbformat": 4,
 "nbformat_minor": 2
}
