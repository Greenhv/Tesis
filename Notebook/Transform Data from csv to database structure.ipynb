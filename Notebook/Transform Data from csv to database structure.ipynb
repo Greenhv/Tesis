{
 "cells": [
  {
   "cell_type": "markdown",
   "metadata": {},
   "source": [
    "### Import custom modules from current folder"
   ]
  },
  {
   "cell_type": "code",
   "execution_count": 1,
   "metadata": {},
   "outputs": [],
   "source": [
    "import logging\n",
    "logging.basicConfig(format='%(asctime)s : %(levelname)s : %(message)s', level=logging.INFO)"
   ]
  },
  {
   "cell_type": "code",
   "execution_count": 2,
   "metadata": {},
   "outputs": [],
   "source": [
    "import os\n",
    "import sys\n",
    "\n",
    "module_path = os.path.abspath(os.path.join('..'))\n",
    "\n",
    "if module_path not in sys.path:\n",
    "    sys.path.append(module_path)"
   ]
  },
  {
   "cell_type": "code",
   "execution_count": 3,
   "metadata": {},
   "outputs": [],
   "source": [
    "import nltk\n",
    "from text_easability_metrics import TextEasabilityMetrics, StanfordNLP\n",
    "from simple_text_representation.classes import Text\n",
    "from simple_text_representation.models import Database\n",
    "from nltk.tree import Tree\n",
    "import pandas as pd\n",
    "import numpy as np\n",
    "# from nltk.draw.tree import draw_trees"
   ]
  },
  {
   "cell_type": "code",
   "execution_count": 4,
   "metadata": {},
   "outputs": [],
   "source": [
    "database = Database('educationalTexts', 'postgres', '', '0.0.0.0', 5432)\n",
    "path = r'/Users/herbert/Projects/Tesis/stanford-corenlp-full-2017-06-09'\n",
    "path = r'http://corenlp.run'\n",
    "path = r'http://localhost/'"
   ]
  },
  {
   "cell_type": "code",
   "execution_count": 5,
   "metadata": {},
   "outputs": [],
   "source": [
    "dfSeventh = pd.read_csv('../Data/textsSeventhgrade.csv')\n",
    "dfEighth = pd.read_csv('../Data/textsEighthgrade.csv')\n",
    "dfNinth = pd.read_csv('../Data/textsNinthgrade.csv')\n",
    "dfTenth = pd.read_csv('../Data/textsTenthGrade.csv')\n",
    "dfEleventh = pd.read_csv('../Data/textsEleventhgrade.csv') "
   ]
  },
  {
   "cell_type": "code",
   "execution_count": 137,
   "metadata": {},
   "outputs": [],
   "source": [
    "def transform_csv_to_structure(df):\n",
    "    text_ids = df['id'].unique()\n",
    "    texts = list()\n",
    "    for text_id in text_ids:\n",
    "        sentence_grouped = df.where(dfSeventh['id'] == 1)\n",
    "        clean_df = df[pd.notnull(sentence_grouped['id'])]\n",
    "        paragraphs = list()\n",
    "        df_paragraphs = clean_df.groupby('paragraph_id').apply(lambda x: \"%s\" % '|'.join(x['value'])).values\n",
    "        for df_paragraph in df_paragraphs:\n",
    "            paragraphs.append(df_paragraph.split('|'))\n",
    "        texts.append(paragraphs)\n",
    "\n",
    "    return texts"
   ]
  },
  {
   "cell_type": "code",
   "execution_count": 141,
   "metadata": {
    "scrolled": true
   },
   "outputs": [
    {
     "data": {
      "text/plain": [
       "48"
      ]
     },
     "execution_count": 141,
     "metadata": {},
     "output_type": "execute_result"
    }
   ],
   "source": [
    "len(transform_csv_to_structure(dfSeventh))"
   ]
  },
  {
   "cell_type": "code",
   "execution_count": null,
   "metadata": {},
   "outputs": [],
   "source": []
  }
 ],
 "metadata": {
  "kernelspec": {
   "display_name": "Python 3",
   "language": "python",
   "name": "python3"
  },
  "language_info": {
   "codemirror_mode": {
    "name": "ipython",
    "version": 3
   },
   "file_extension": ".py",
   "mimetype": "text/x-python",
   "name": "python",
   "nbconvert_exporter": "python",
   "pygments_lexer": "ipython3",
   "version": "3.6.5"
  }
 },
 "nbformat": 4,
 "nbformat_minor": 2
}
