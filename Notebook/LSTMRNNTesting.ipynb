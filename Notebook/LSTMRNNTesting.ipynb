{
 "cells": [
  {
   "cell_type": "markdown",
   "metadata": {},
   "source": [
    "### Import custom modules from current folder"
   ]
  },
  {
   "cell_type": "code",
   "execution_count": 1,
   "metadata": {},
   "outputs": [],
   "source": [
    "import os\n",
    "import sys\n",
    "\n",
    "module_path = os.path.abspath(os.path.join('..'))\n",
    "\n",
    "if module_path not in sys.path:\n",
    "    sys.path.append(module_path)"
   ]
  },
  {
   "cell_type": "code",
   "execution_count": 2,
   "metadata": {},
   "outputs": [],
   "source": [
    "import nltk\n",
    "from sklearn.model_selection import train_test_split\n",
    "from simple_text_representation.classes import Text\n",
    "from simple_text_representation.models import Database\n",
    "import numpy as np\n",
    "# from nltk.draw.tree import draw_trees"
   ]
  },
  {
   "cell_type": "code",
   "execution_count": 3,
   "metadata": {},
   "outputs": [],
   "source": [
    "database = Database('educationalTexts', 'postgres', '', '0.0.0.0', 5432)\n",
    "path = r'http://localhost/'"
   ]
  },
  {
   "cell_type": "code",
   "execution_count": 4,
   "metadata": {},
   "outputs": [],
   "source": [
    "def transformToString(text):\n",
    "    textStr = ''\n",
    "\n",
    "    for paragraph in text:\n",
    "        for line in paragraph:\n",
    "            textStr = textStr + line\n",
    "    return textStr"
   ]
  },
  {
   "cell_type": "code",
   "execution_count": 5,
   "metadata": {
    "scrolled": false
   },
   "outputs": [],
   "source": [
    "textOfSeventhGrade = Text.getTexts(database, grade=7)\n",
    "textOfEightGrade = Text.getTexts(database, grade=8)\n",
    "textOfNineGrade = Text.getTexts(database, grade=9)\n",
    "textOfTenthGrade = Text.getTexts(database, grade=10)\n",
    "textOfEleventhGrade = Text.getTexts(database, grade=11)\n",
    "\n",
    "textsFormatedSG = [transformToString(textArr) for textArr in textOfSeventhGrade]\n",
    "textsFormatedEG = [transformToString(textArr) for textArr in textOfEightGrade]\n",
    "textsFormatedNG = [transformToString(textArr) for textArr in textOfNineGrade]\n",
    "textsFormatedTG = [transformToString(textArr) for textArr in textOfTenthGrade]\n",
    "textsFormatedEG = [transformToString(textArr) for textArr in textOfEleventhGrade]"
   ]
  },
  {
   "cell_type": "code",
   "execution_count": null,
   "metadata": {},
   "outputs": [],
   "source": []
  },
  {
   "cell_type": "markdown",
   "metadata": {},
   "source": [
    "### Format train and test data"
   ]
  },
  {
   "cell_type": "code",
   "execution_count": 6,
   "metadata": {},
   "outputs": [],
   "source": [
    "data = np.concatenate((np.array(textsFormatedSG),\n",
    "                       np.array(textsFormatedEG),\n",
    "                       np.array(textsFormatedNG),\n",
    "                       np.array(textsFormatedTG),\n",
    "                       np.array(textsFormatedEG)  )) \n",
    "labels = np.concatenate((np.full(len(textsFormatedSG), 0),\n",
    "                         np.full(len(textsFormatedEG), 1),\n",
    "                         np.full(len(textsFormatedNG), 2),\n",
    "                         np.full(len(textsFormatedTG), 3),\n",
    "                         np.full(len(textsFormatedEG), 4)))"
   ]
  },
  {
   "cell_type": "code",
   "execution_count": 7,
   "metadata": {},
   "outputs": [
    {
     "data": {
      "text/plain": [
       "175"
      ]
     },
     "execution_count": 7,
     "metadata": {},
     "output_type": "execute_result"
    }
   ],
   "source": [
    "len(data)"
   ]
  },
  {
   "cell_type": "code",
   "execution_count": 8,
   "metadata": {},
   "outputs": [
    {
     "data": {
      "text/plain": [
       "175"
      ]
     },
     "execution_count": 8,
     "metadata": {},
     "output_type": "execute_result"
    }
   ],
   "source": [
    "len(labels)"
   ]
  },
  {
   "cell_type": "code",
   "execution_count": 9,
   "metadata": {},
   "outputs": [],
   "source": [
    "x_train, x_test, y_train, y_test = train_test_split(data, labels, test_size=0.2, random_state=42)"
   ]
  },
  {
   "cell_type": "code",
   "execution_count": 10,
   "metadata": {},
   "outputs": [
    {
     "data": {
      "text/plain": [
       "140"
      ]
     },
     "execution_count": 10,
     "metadata": {},
     "output_type": "execute_result"
    }
   ],
   "source": [
    "len(y_train)"
   ]
  },
  {
   "cell_type": "code",
   "execution_count": 11,
   "metadata": {},
   "outputs": [
    {
     "data": {
      "text/plain": [
       "140"
      ]
     },
     "execution_count": 11,
     "metadata": {},
     "output_type": "execute_result"
    }
   ],
   "source": [
    "len(x_train)"
   ]
  },
  {
   "cell_type": "markdown",
   "metadata": {},
   "source": [
    "### Load the trained embeddings"
   ]
  },
  {
   "cell_type": "code",
   "execution_count": 12,
   "metadata": {},
   "outputs": [],
   "source": [
    "EMBEDDINGS_DIMESION = 300"
   ]
  },
  {
   "cell_type": "code",
   "execution_count": 13,
   "metadata": {},
   "outputs": [
    {
     "name": "stdout",
     "output_type": "stream",
     "text": [
      "Loaded 1000654 word vectors.\n"
     ]
    }
   ],
   "source": [
    "embeddingsIndex = dict()\n",
    "f = open('../SBW-vectors-300-min5.txt')\n",
    "for line in f:\n",
    "    values = line.split()\n",
    "    word = values[0]\n",
    "    coefs = np.asarray(values[1:], dtype='float32')\n",
    "    embeddingsIndex[word] = coefs\n",
    "f.close()\n",
    "print('Loaded %s word vectors.' % len(embeddingsIndex))"
   ]
  },
  {
   "cell_type": "markdown",
   "metadata": {},
   "source": [
    "### Preprocesing the data"
   ]
  },
  {
   "cell_type": "code",
   "execution_count": 14,
   "metadata": {},
   "outputs": [
    {
     "name": "stderr",
     "output_type": "stream",
     "text": [
      "/Users/herbert/.pyenv/versions/anaconda3-5.0.1/envs/jupyter3/lib/python3.6/site-packages/h5py/__init__.py:36: FutureWarning: Conversion of the second argument of issubdtype from `float` to `np.floating` is deprecated. In future, it will be treated as `np.float64 == np.dtype(float).type`.\n",
      "  from ._conv import register_converters as _register_converters\n",
      "Using TensorFlow backend.\n"
     ]
    }
   ],
   "source": [
    "import keras.preprocessing.text as kpt\n",
    "from keras.preprocessing.text import Tokenizer\n",
    "from keras.preprocessing.sequence import pad_sequences"
   ]
  },
  {
   "cell_type": "code",
   "execution_count": 15,
   "metadata": {},
   "outputs": [],
   "source": [
    "def createEmbedingMatrix(tokenizer, vocabSize):\n",
    "    embeddingMatrix = np.zeros((vocabSize, 300))\n",
    "    for word, i in tokenizer.word_index.items():\n",
    "        embeddingVector = embeddingsIndex.get(word)\n",
    "        if embeddingVector is not None:\n",
    "            embeddingMatrix[i] = embeddingVector\n",
    "    return embeddingMatrix"
   ]
  },
  {
   "cell_type": "code",
   "execution_count": 16,
   "metadata": {},
   "outputs": [],
   "source": [
    "def tokenize(x):\n",
    "    tokenizer = Tokenizer()\n",
    "    tokenizer.fit_on_texts(x)\n",
    "    vocabSize = len(tokenizer.word_index) + 1\n",
    "    encodedData = tokenizer.texts_to_sequences(x)\n",
    "    maxLength = 500\n",
    "    paddedData = pad_sequences(encodedData, maxlen=maxLength, padding='post')\n",
    "    embeddings = createEmbedingMatrix(tokenizer, vocabSize)\n",
    "    \n",
    "    return paddedData"
   ]
  },
  {
   "cell_type": "code",
   "execution_count": 17,
   "metadata": {},
   "outputs": [],
   "source": [
    "def createTrainData(x):\n",
    "    tokenizer = Tokenizer()\n",
    "    tokenizer.fit_on_texts(x)\n",
    "    vocabSize = len(tokenizer.word_index) + 1\n",
    "    encodedData = tokenizer.texts_to_sequences(x)\n",
    "    maxLength = 500\n",
    "    paddedData = pad_sequences(encodedData, maxlen=maxLength, padding='post')\n",
    "    embeddings = createEmbedingMatrix(tokenizer, vocabSize)\n",
    "    \n",
    "    return paddedData, embeddings, maxLength, vocabSize"
   ]
  },
  {
   "cell_type": "code",
   "execution_count": 18,
   "metadata": {},
   "outputs": [],
   "source": [
    "x_train_tokenize, x_train_embeddings, x_train_max_features, x_train_vocab_size  = createTrainData(x_train)\n",
    "x_test_tokenize = tokenize(x_test)"
   ]
  },
  {
   "cell_type": "code",
   "execution_count": 19,
   "metadata": {},
   "outputs": [
    {
     "data": {
      "text/plain": [
       "(11462, 300)"
      ]
     },
     "execution_count": 19,
     "metadata": {},
     "output_type": "execute_result"
    }
   ],
   "source": [
    "x_train_embeddings.shape"
   ]
  },
  {
   "cell_type": "code",
   "execution_count": 20,
   "metadata": {},
   "outputs": [
    {
     "data": {
      "text/plain": [
       "35"
      ]
     },
     "execution_count": 20,
     "metadata": {},
     "output_type": "execute_result"
    }
   ],
   "source": [
    "len(x_test_tokenize)"
   ]
  },
  {
   "cell_type": "code",
   "execution_count": 21,
   "metadata": {},
   "outputs": [
    {
     "data": {
      "text/plain": [
       "140"
      ]
     },
     "execution_count": 21,
     "metadata": {},
     "output_type": "execute_result"
    }
   ],
   "source": [
    "len(x_train_tokenize)"
   ]
  },
  {
   "cell_type": "markdown",
   "metadata": {},
   "source": [
    "### Creating the model"
   ]
  },
  {
   "cell_type": "code",
   "execution_count": 22,
   "metadata": {},
   "outputs": [
    {
     "name": "stdout",
     "output_type": "stream",
     "text": [
      "Automatically created module for IPython interactive environment\n"
     ]
    }
   ],
   "source": [
    "print(__doc__)\n",
    "\n",
    "from keras.models import Sequential\n",
    "from keras.layers import Dense, Dropout, Flatten, Embedding, LSTM\n",
    "from keras.optimizers import Adam\n",
    "\n",
    "import itertools\n",
    "\n",
    "from sklearn.metrics import classification_report\n",
    "from sklearn.metrics import confusion_matrix\n",
    "from sklearn.metrics import f1_score\n",
    "from sklearn.metrics import precision_score\n",
    "from sklearn.metrics import recall_score\n",
    "from sklearn.metrics import accuracy_score\n",
    "from sklearn.metrics import classification_report\n",
    "from sklearn.metrics import confusion_matrix\n",
    "from sklearn.metrics import f1_score\n",
    "from sklearn.metrics import precision_score\n",
    "from sklearn.metrics import recall_score\n",
    "from sklearn.metrics import accuracy_score\n",
    "import matplotlib.pyplot as plt\n",
    "\n",
    "np.random.seed(7)"
   ]
  },
  {
   "cell_type": "code",
   "execution_count": 23,
   "metadata": {},
   "outputs": [],
   "source": [
    "def plot_confusion_matrix(cm, classes, normalize=False, title='Confusion matrix', cmap=plt.cm.Blues):\n",
    "    if normalize:\n",
    "        cm = cm.astype('float') / cm.sum(axis=1)[:, np.newaxis]\n",
    "        print(\"Normalized confusion matrix\")\n",
    "    else:\n",
    "        print('Confusion matrix, without normalization')\n",
    " \n",
    "    print(cm)\n",
    " \n",
    "    plt.imshow(cm, interpolation='nearest', cmap=cmap)\n",
    "    plt.title(title)\n",
    "    plt.colorbar()\n",
    "    tick_marks = np.arange(len(classes))\n",
    "    plt.xticks(tick_marks, classes, rotation=45)\n",
    "    plt.yticks(tick_marks, classes)\n",
    " \n",
    "    fmt = '.2f' if normalize else 'd'\n",
    "    thresh = cm.max() / 2.\n",
    "    for i, j in itertools.product(range(cm.shape[0]), range(cm.shape[1])):\n",
    "        plt.text(j, i, format(cm[i, j], fmt),\n",
    "                 horizontalalignment=\"center\",\n",
    "                 color=\"white\" if cm[i, j] > thresh else \"black\")\n",
    " \n",
    "    plt.tight_layout()\n",
    "    plt.ylabel('True label')\n",
    "    plt.xlabel('Predicted label')"
   ]
  },
  {
   "cell_type": "code",
   "execution_count": 24,
   "metadata": {},
   "outputs": [],
   "source": [
    "def testModels(paramsArr):\n",
    "    resultMetrics = list();\n",
    "    resultPredict = list();\n",
    "    \n",
    "    for params in paramsArr:\n",
    "        batch_size = params[0]\n",
    "        numOfCells = params[1]\n",
    "        epochs = params[2]\n",
    "        # Model definition\n",
    "        model = Sequential()\n",
    "        adam = Adam(lr=0.001)\n",
    "        embeddingLayer = Embedding(x_train_vocab_size,\n",
    "                                   EMBEDDINGS_DIMESION,\n",
    "                                   weights=[x_train_embeddings],\n",
    "                                   input_length=x_train_max_features,\n",
    "                                   trainable=False)\n",
    "        model.add(embeddingLayer)\n",
    "        model.add(LSTM(numOfCells))\n",
    "        model.add(Dropout(0.1))\n",
    "        model.add(Dense(5, activation='softmax'))\n",
    "        model.compile(loss='sparse_categorical_crossentropy', optimizer=adam)\n",
    "        # Model Train\n",
    "        model.fit(x_train_tokenize, y_train, epochs=epochs, batch_size=batch_size)\n",
    "        # Model Prediction\n",
    "        y_predict = model.predict(x_test_tokenize)\n",
    "        y = np.argmax(y_predict, axis=1)\n",
    "        # Metrics calculation\n",
    "        f1_result_score = f1_score(y_test, y, average='macro')\n",
    "        precision_result_score = precision_score(y_test, y, average='macro')\n",
    "        recall_result_score = recall_score(y_test, y, average='macro')\n",
    "        accuracy_result_score = accuracy_score(y_test, y)\n",
    "        resultPredict.append(y)\n",
    "        resultMetrics.append([f1_result_score, precision_result_score, recall_result_score, accuracy_result_score])\n",
    "\n",
    "    return resultMetrics, resultPredict"
   ]
  },
  {
   "cell_type": "code",
   "execution_count": 25,
   "metadata": {},
   "outputs": [],
   "source": [
    "testParams = [\n",
    "  [22, 100, 10],\n",
    "  [32, 4, 10],\n",
    "  [64, 16, 20],\n",
    "  [32, 16, 20],\n",
    "  [64, 32, 30],\n",
    "  [64, 100, 30],\n",
    "  [32, 32, 30],\n",
    "  [64, 64, 40],\n",
    "  [64, 64, 40],\n",
    "]"
   ]
  },
  {
   "cell_type": "code",
   "execution_count": 26,
   "metadata": {},
   "outputs": [],
   "source": [
    "testParams2 = [\n",
    "  [32, 16, 20],\n",
    "  [32, 32, 20],\n",
    "  [32, 64, 20],\n",
    "  [32, 128, 20],\n",
    "  [32, 256, 20],\n",
    "  [64, 64, 40],\n",
    "  [64, 128, 40],\n",
    "  [64, 256, 40],\n",
    "]"
   ]
  },
  {
   "cell_type": "code",
   "execution_count": 27,
   "metadata": {
    "scrolled": true
   },
   "outputs": [
    {
     "name": "stdout",
     "output_type": "stream",
     "text": [
      "Epoch 1/10\n",
      "140/140 [==============================] - 4s 31ms/step - loss: 1.5954\n",
      "Epoch 2/10\n",
      "140/140 [==============================] - 4s 28ms/step - loss: 1.5540\n",
      "Epoch 3/10\n",
      "140/140 [==============================] - 4s 27ms/step - loss: 1.5153\n",
      "Epoch 4/10\n",
      "140/140 [==============================] - 4s 28ms/step - loss: 1.4933\n",
      "Epoch 5/10\n",
      "140/140 [==============================] - 4s 27ms/step - loss: 1.4533\n",
      "Epoch 6/10\n",
      "140/140 [==============================] - 4s 26ms/step - loss: 1.4244\n",
      "Epoch 7/10\n",
      "140/140 [==============================] - 4s 27ms/step - loss: 1.4264\n",
      "Epoch 8/10\n",
      "140/140 [==============================] - 4s 25ms/step - loss: 1.4113\n",
      "Epoch 9/10\n",
      "140/140 [==============================] - 3s 24ms/step - loss: 1.3816\n",
      "Epoch 10/10\n",
      "140/140 [==============================] - 3s 24ms/step - loss: 1.3630\n"
     ]
    },
    {
     "name": "stderr",
     "output_type": "stream",
     "text": [
      "/Users/herbert/.pyenv/versions/anaconda3-5.0.1/envs/jupyter3/lib/python3.6/site-packages/sklearn/metrics/classification.py:1135: UndefinedMetricWarning: F-score is ill-defined and being set to 0.0 in labels with no predicted samples.\n",
      "  'precision', 'predicted', average, warn_for)\n",
      "/Users/herbert/.pyenv/versions/anaconda3-5.0.1/envs/jupyter3/lib/python3.6/site-packages/sklearn/metrics/classification.py:1135: UndefinedMetricWarning: Precision is ill-defined and being set to 0.0 in labels with no predicted samples.\n",
      "  'precision', 'predicted', average, warn_for)\n"
     ]
    },
    {
     "name": "stdout",
     "output_type": "stream",
     "text": [
      "Epoch 1/10\n",
      "140/140 [==============================] - 3s 21ms/step - loss: 1.6119\n",
      "Epoch 2/10\n",
      "140/140 [==============================] - 2s 16ms/step - loss: 1.6101\n",
      "Epoch 3/10\n",
      "140/140 [==============================] - 2s 15ms/step - loss: 1.6075\n",
      "Epoch 4/10\n",
      "140/140 [==============================] - 2s 15ms/step - loss: 1.6059\n",
      "Epoch 5/10\n",
      "140/140 [==============================] - 2s 16ms/step - loss: 1.6028\n",
      "Epoch 6/10\n",
      "140/140 [==============================] - 2s 16ms/step - loss: 1.6014\n",
      "Epoch 7/10\n",
      "140/140 [==============================] - 2s 15ms/step - loss: 1.5989\n",
      "Epoch 8/10\n",
      "140/140 [==============================] - 2s 16ms/step - loss: 1.5981\n",
      "Epoch 9/10\n",
      "140/140 [==============================] - 2s 16ms/step - loss: 1.5962\n",
      "Epoch 10/10\n",
      "140/140 [==============================] - 2s 16ms/step - loss: 1.5948\n",
      "Epoch 1/20\n",
      "140/140 [==============================] - 2s 17ms/step - loss: 1.6021\n",
      "Epoch 2/20\n",
      "140/140 [==============================] - 1s 9ms/step - loss: 1.5920\n",
      "Epoch 3/20\n",
      "140/140 [==============================] - 1s 10ms/step - loss: 1.5837\n",
      "Epoch 4/20\n",
      "140/140 [==============================] - 1s 10ms/step - loss: 1.5803\n",
      "Epoch 5/20\n",
      "140/140 [==============================] - 1s 10ms/step - loss: 1.5704\n",
      "Epoch 6/20\n",
      "140/140 [==============================] - 1s 10ms/step - loss: 1.5614\n",
      "Epoch 7/20\n",
      "140/140 [==============================] - 1s 10ms/step - loss: 1.5556\n",
      "Epoch 8/20\n",
      "140/140 [==============================] - 1s 11ms/step - loss: 1.5484\n",
      "Epoch 9/20\n",
      "140/140 [==============================] - 1s 10ms/step - loss: 1.5454\n",
      "Epoch 10/20\n",
      "140/140 [==============================] - 1s 9ms/step - loss: 1.5261\n",
      "Epoch 11/20\n",
      "140/140 [==============================] - 1s 10ms/step - loss: 1.5205\n",
      "Epoch 12/20\n",
      "140/140 [==============================] - 1s 11ms/step - loss: 1.5209\n",
      "Epoch 13/20\n",
      "140/140 [==============================] - 2s 12ms/step - loss: 1.5106\n",
      "Epoch 14/20\n",
      "140/140 [==============================] - 1s 10ms/step - loss: 1.5100\n",
      "Epoch 15/20\n",
      "140/140 [==============================] - 1s 11ms/step - loss: 1.5116\n",
      "Epoch 16/20\n",
      "140/140 [==============================] - 1s 10ms/step - loss: 1.5038\n",
      "Epoch 17/20\n",
      "140/140 [==============================] - 1s 10ms/step - loss: 1.4868\n",
      "Epoch 18/20\n",
      "140/140 [==============================] - 1s 10ms/step - loss: 1.4880\n",
      "Epoch 19/20\n",
      "140/140 [==============================] - 1s 10ms/step - loss: 1.4890\n",
      "Epoch 20/20\n",
      "140/140 [==============================] - 1s 10ms/step - loss: 1.4803\n",
      "Epoch 1/20\n",
      "140/140 [==============================] - 3s 21ms/step - loss: 1.6063\n",
      "Epoch 2/20\n",
      "140/140 [==============================] - 2s 16ms/step - loss: 1.5979\n",
      "Epoch 3/20\n",
      "140/140 [==============================] - 2s 15ms/step - loss: 1.5884\n",
      "Epoch 4/20\n",
      "140/140 [==============================] - 2s 16ms/step - loss: 1.5807\n",
      "Epoch 5/20\n",
      "140/140 [==============================] - 2s 16ms/step - loss: 1.5709\n",
      "Epoch 6/20\n",
      "140/140 [==============================] - 2s 17ms/step - loss: 1.5607\n",
      "Epoch 7/20\n",
      "140/140 [==============================] - 2s 18ms/step - loss: 1.5586\n",
      "Epoch 8/20\n",
      "140/140 [==============================] - 2s 15ms/step - loss: 1.5501\n",
      "Epoch 9/20\n",
      "140/140 [==============================] - 2s 16ms/step - loss: 1.5347\n",
      "Epoch 10/20\n",
      "140/140 [==============================] - 2s 15ms/step - loss: 1.5255\n",
      "Epoch 11/20\n",
      "140/140 [==============================] - 2s 17ms/step - loss: 1.5014\n",
      "Epoch 12/20\n",
      "140/140 [==============================] - 2s 17ms/step - loss: 1.4911\n",
      "Epoch 13/20\n",
      "140/140 [==============================] - 2s 17ms/step - loss: 1.4873\n",
      "Epoch 14/20\n",
      "140/140 [==============================] - 2s 17ms/step - loss: 1.4827\n",
      "Epoch 15/20\n",
      "140/140 [==============================] - 2s 17ms/step - loss: 1.4717\n",
      "Epoch 16/20\n",
      "140/140 [==============================] - 2s 15ms/step - loss: 1.4576\n",
      "Epoch 17/20\n",
      "140/140 [==============================] - 2s 16ms/step - loss: 1.4460\n",
      "Epoch 18/20\n",
      "140/140 [==============================] - 2s 17ms/step - loss: 1.4374\n",
      "Epoch 19/20\n",
      "140/140 [==============================] - 2s 15ms/step - loss: 1.4333\n",
      "Epoch 20/20\n",
      "140/140 [==============================] - 2s 15ms/step - loss: 1.4328\n",
      "Epoch 1/30\n",
      "140/140 [==============================] - 3s 20ms/step - loss: 1.6092\n",
      "Epoch 2/30\n",
      "140/140 [==============================] - 2s 11ms/step - loss: 1.5979\n",
      "Epoch 3/30\n",
      "140/140 [==============================] - 2s 11ms/step - loss: 1.5882\n",
      "Epoch 4/30\n",
      "140/140 [==============================] - 2s 11ms/step - loss: 1.5807\n",
      "Epoch 5/30\n",
      "140/140 [==============================] - 2s 13ms/step - loss: 1.5728\n",
      "Epoch 6/30\n",
      "140/140 [==============================] - 2s 12ms/step - loss: 1.5630\n",
      "Epoch 7/30\n",
      "140/140 [==============================] - 2s 11ms/step - loss: 1.5507\n",
      "Epoch 8/30\n",
      "140/140 [==============================] - 2s 12ms/step - loss: 1.5429\n",
      "Epoch 9/30\n",
      "140/140 [==============================] - 1s 10ms/step - loss: 1.5269\n",
      "Epoch 10/30\n",
      "140/140 [==============================] - 1s 11ms/step - loss: 1.5126\n",
      "Epoch 11/30\n",
      "140/140 [==============================] - 1s 10ms/step - loss: 1.5064\n",
      "Epoch 12/30\n",
      "140/140 [==============================] - 1s 10ms/step - loss: 1.5000\n",
      "Epoch 13/30\n",
      "140/140 [==============================] - 1s 10ms/step - loss: 1.4863\n",
      "Epoch 14/30\n",
      "140/140 [==============================] - 1s 9ms/step - loss: 1.4997\n",
      "Epoch 15/30\n",
      "140/140 [==============================] - 1s 10ms/step - loss: 1.4786\n",
      "Epoch 16/30\n",
      "140/140 [==============================] - 1s 10ms/step - loss: 1.4624\n",
      "Epoch 17/30\n",
      "140/140 [==============================] - 1s 10ms/step - loss: 1.4593\n",
      "Epoch 18/30\n",
      "140/140 [==============================] - 2s 11ms/step - loss: 1.4522\n",
      "Epoch 19/30\n",
      "140/140 [==============================] - 2s 11ms/step - loss: 1.4438\n",
      "Epoch 20/30\n",
      "140/140 [==============================] - 1s 10ms/step - loss: 1.4384\n",
      "Epoch 21/30\n",
      "140/140 [==============================] - 1s 9ms/step - loss: 1.4275\n",
      "Epoch 22/30\n",
      "140/140 [==============================] - 1s 10ms/step - loss: 1.4249\n",
      "Epoch 23/30\n",
      "140/140 [==============================] - 1s 10ms/step - loss: 1.4001\n",
      "Epoch 24/30\n",
      "140/140 [==============================] - 1s 10ms/step - loss: 1.4150\n",
      "Epoch 25/30\n",
      "140/140 [==============================] - 1s 10ms/step - loss: 1.3941\n",
      "Epoch 26/30\n",
      "140/140 [==============================] - 1s 10ms/step - loss: 1.4049\n",
      "Epoch 27/30\n",
      "140/140 [==============================] - 1s 10ms/step - loss: 1.3749\n",
      "Epoch 28/30\n",
      "140/140 [==============================] - 1s 10ms/step - loss: 1.3814\n",
      "Epoch 29/30\n",
      "140/140 [==============================] - 1s 9ms/step - loss: 1.3711\n",
      "Epoch 30/30\n",
      "140/140 [==============================] - 1s 9ms/step - loss: 1.3675\n",
      "Epoch 1/30\n",
      "140/140 [==============================] - 3s 19ms/step - loss: 1.6067\n",
      "Epoch 2/30\n",
      "140/140 [==============================] - 2s 12ms/step - loss: 1.5833\n",
      "Epoch 3/30\n",
      "140/140 [==============================] - 2s 12ms/step - loss: 1.5657\n",
      "Epoch 4/30\n",
      "140/140 [==============================] - 2s 13ms/step - loss: 1.5421\n",
      "Epoch 5/30\n",
      "140/140 [==============================] - 2s 12ms/step - loss: 1.5165\n",
      "Epoch 6/30\n",
      "140/140 [==============================] - 2s 12ms/step - loss: 1.5088\n",
      "Epoch 7/30\n",
      "140/140 [==============================] - 2s 12ms/step - loss: 1.5008\n",
      "Epoch 8/30\n",
      "140/140 [==============================] - 2s 12ms/step - loss: 1.4956\n",
      "Epoch 9/30\n",
      "140/140 [==============================] - 2s 12ms/step - loss: 1.4608\n",
      "Epoch 10/30\n",
      "140/140 [==============================] - 2s 12ms/step - loss: 1.4545\n",
      "Epoch 11/30\n",
      "140/140 [==============================] - 2s 12ms/step - loss: 1.4456\n",
      "Epoch 12/30\n",
      "140/140 [==============================] - 2s 12ms/step - loss: 1.4379\n",
      "Epoch 13/30\n",
      "140/140 [==============================] - 2s 12ms/step - loss: 1.4261\n",
      "Epoch 14/30\n",
      "140/140 [==============================] - 2s 13ms/step - loss: 1.4310\n",
      "Epoch 15/30\n",
      "140/140 [==============================] - 2s 12ms/step - loss: 1.4215\n",
      "Epoch 16/30\n",
      "140/140 [==============================] - 2s 14ms/step - loss: 1.4142\n",
      "Epoch 17/30\n",
      "140/140 [==============================] - 2s 14ms/step - loss: 1.3987\n",
      "Epoch 18/30\n",
      "140/140 [==============================] - 2s 13ms/step - loss: 1.3969\n",
      "Epoch 19/30\n",
      "140/140 [==============================] - 2s 13ms/step - loss: 1.3843\n",
      "Epoch 20/30\n",
      "140/140 [==============================] - 2s 12ms/step - loss: 1.3757\n",
      "Epoch 21/30\n",
      "140/140 [==============================] - 2s 13ms/step - loss: 1.3869\n",
      "Epoch 22/30\n",
      "140/140 [==============================] - 2s 12ms/step - loss: 1.3715\n",
      "Epoch 23/30\n",
      "140/140 [==============================] - 2s 13ms/step - loss: 1.3240\n",
      "Epoch 24/30\n",
      "140/140 [==============================] - 2s 11ms/step - loss: 1.3466\n",
      "Epoch 25/30\n",
      "140/140 [==============================] - 2s 12ms/step - loss: 1.3146\n",
      "Epoch 26/30\n",
      "140/140 [==============================] - 2s 13ms/step - loss: 1.3033\n",
      "Epoch 27/30\n",
      "140/140 [==============================] - 2s 13ms/step - loss: 1.2941\n",
      "Epoch 28/30\n",
      "140/140 [==============================] - 2s 12ms/step - loss: 1.2781\n",
      "Epoch 29/30\n",
      "140/140 [==============================] - 2s 14ms/step - loss: 1.3247\n",
      "Epoch 30/30\n",
      "140/140 [==============================] - 2s 13ms/step - loss: 1.3073\n",
      "Epoch 1/30\n",
      "140/140 [==============================] - 3s 24ms/step - loss: 1.6031\n",
      "Epoch 2/30\n",
      "140/140 [==============================] - 2s 16ms/step - loss: 1.5819\n",
      "Epoch 3/30\n",
      "140/140 [==============================] - 2s 16ms/step - loss: 1.5669\n",
      "Epoch 4/30\n",
      "140/140 [==============================] - 2s 16ms/step - loss: 1.5462\n",
      "Epoch 5/30\n",
      "140/140 [==============================] - 2s 16ms/step - loss: 1.5305\n",
      "Epoch 6/30\n",
      "140/140 [==============================] - 2s 16ms/step - loss: 1.5255\n",
      "Epoch 7/30\n",
      "140/140 [==============================] - 2s 16ms/step - loss: 1.5044\n",
      "Epoch 8/30\n",
      "140/140 [==============================] - 2s 16ms/step - loss: 1.4832\n",
      "Epoch 9/30\n",
      "140/140 [==============================] - 2s 16ms/step - loss: 1.4758\n",
      "Epoch 10/30\n",
      "140/140 [==============================] - 2s 16ms/step - loss: 1.4625\n",
      "Epoch 11/30\n",
      "140/140 [==============================] - 2s 15ms/step - loss: 1.4499\n",
      "Epoch 12/30\n",
      "140/140 [==============================] - 2s 16ms/step - loss: 1.4358\n",
      "Epoch 13/30\n",
      "140/140 [==============================] - 2s 15ms/step - loss: 1.4313\n",
      "Epoch 14/30\n",
      "140/140 [==============================] - 2s 15ms/step - loss: 1.4219\n",
      "Epoch 15/30\n",
      "140/140 [==============================] - 2s 16ms/step - loss: 1.4158\n",
      "Epoch 16/30\n",
      "140/140 [==============================] - 2s 16ms/step - loss: 1.3965\n",
      "Epoch 17/30\n",
      "140/140 [==============================] - 2s 16ms/step - loss: 1.3830\n",
      "Epoch 18/30\n",
      "140/140 [==============================] - 2s 16ms/step - loss: 1.3815\n",
      "Epoch 19/30\n",
      "140/140 [==============================] - 2s 16ms/step - loss: 1.3567\n",
      "Epoch 20/30\n",
      "140/140 [==============================] - 2s 15ms/step - loss: 1.3461\n",
      "Epoch 21/30\n",
      "140/140 [==============================] - 2s 15ms/step - loss: 1.3428\n",
      "Epoch 22/30\n",
      "140/140 [==============================] - 2s 16ms/step - loss: 1.3267\n",
      "Epoch 23/30\n",
      "140/140 [==============================] - 2s 16ms/step - loss: 1.3183\n",
      "Epoch 24/30\n",
      "140/140 [==============================] - 2s 16ms/step - loss: 1.3334\n",
      "Epoch 25/30\n",
      "140/140 [==============================] - 2s 15ms/step - loss: 1.3390\n",
      "Epoch 26/30\n",
      "140/140 [==============================] - 2s 15ms/step - loss: 1.2987\n",
      "Epoch 27/30\n",
      "140/140 [==============================] - 2s 15ms/step - loss: 1.2871\n",
      "Epoch 28/30\n",
      "140/140 [==============================] - 2s 15ms/step - loss: 1.2493\n",
      "Epoch 29/30\n",
      "140/140 [==============================] - 2s 17ms/step - loss: 1.2437\n",
      "Epoch 30/30\n",
      "140/140 [==============================] - 2s 17ms/step - loss: 1.2432\n",
      "Epoch 1/40\n",
      "140/140 [==============================] - 3s 20ms/step - loss: 1.6097\n",
      "Epoch 2/40\n",
      "140/140 [==============================] - 2s 11ms/step - loss: 1.5920\n",
      "Epoch 3/40\n",
      "140/140 [==============================] - 2s 12ms/step - loss: 1.5753\n",
      "Epoch 4/40\n",
      "140/140 [==============================] - 1s 11ms/step - loss: 1.5581\n",
      "Epoch 5/40\n",
      "140/140 [==============================] - 2s 12ms/step - loss: 1.5437\n",
      "Epoch 6/40\n",
      "140/140 [==============================] - 2s 12ms/step - loss: 1.5274\n",
      "Epoch 7/40\n",
      "140/140 [==============================] - 2s 11ms/step - loss: 1.5104\n",
      "Epoch 8/40\n",
      "140/140 [==============================] - 1s 10ms/step - loss: 1.4956\n",
      "Epoch 9/40\n",
      "140/140 [==============================] - 2s 11ms/step - loss: 1.4918\n",
      "Epoch 10/40\n",
      "140/140 [==============================] - 2s 11ms/step - loss: 1.4764\n",
      "Epoch 11/40\n",
      "140/140 [==============================] - 1s 10ms/step - loss: 1.4665\n",
      "Epoch 12/40\n",
      "140/140 [==============================] - 1s 10ms/step - loss: 1.4539\n",
      "Epoch 13/40\n",
      "140/140 [==============================] - 2s 11ms/step - loss: 1.4431\n",
      "Epoch 14/40\n",
      "140/140 [==============================] - 2s 11ms/step - loss: 1.4247\n",
      "Epoch 15/40\n",
      "140/140 [==============================] - 1s 10ms/step - loss: 1.4145\n",
      "Epoch 16/40\n",
      "140/140 [==============================] - 2s 11ms/step - loss: 1.3983\n",
      "Epoch 17/40\n",
      "140/140 [==============================] - 1s 10ms/step - loss: 1.3950\n",
      "Epoch 18/40\n",
      "140/140 [==============================] - 1s 10ms/step - loss: 1.3883\n",
      "Epoch 19/40\n",
      "140/140 [==============================] - 1s 10ms/step - loss: 1.3845\n",
      "Epoch 20/40\n",
      "140/140 [==============================] - 1s 10ms/step - loss: 1.3526\n",
      "Epoch 21/40\n",
      "140/140 [==============================] - 2s 11ms/step - loss: 1.3602\n",
      "Epoch 22/40\n",
      "140/140 [==============================] - 1s 10ms/step - loss: 1.3364\n",
      "Epoch 23/40\n",
      "140/140 [==============================] - 1s 10ms/step - loss: 1.3321\n",
      "Epoch 24/40\n",
      "140/140 [==============================] - 1s 10ms/step - loss: 1.3476\n",
      "Epoch 25/40\n",
      "140/140 [==============================] - 1s 10ms/step - loss: 1.3533\n",
      "Epoch 26/40\n",
      "140/140 [==============================] - 1s 10ms/step - loss: 1.3216\n",
      "Epoch 27/40\n",
      "140/140 [==============================] - 2s 11ms/step - loss: 1.3569\n",
      "Epoch 28/40\n",
      "140/140 [==============================] - 1s 10ms/step - loss: 1.3324\n",
      "Epoch 29/40\n",
      "140/140 [==============================] - 1s 11ms/step - loss: 1.3131\n",
      "Epoch 30/40\n",
      "140/140 [==============================] - 2s 12ms/step - loss: 1.2909\n",
      "Epoch 31/40\n",
      "140/140 [==============================] - 1s 10ms/step - loss: 1.2785\n",
      "Epoch 32/40\n",
      "140/140 [==============================] - 2s 11ms/step - loss: 1.2689\n",
      "Epoch 33/40\n",
      "140/140 [==============================] - 2s 11ms/step - loss: 1.4231\n",
      "Epoch 34/40\n",
      "140/140 [==============================] - 2s 11ms/step - loss: 1.3646\n",
      "Epoch 35/40\n",
      "140/140 [==============================] - 2s 12ms/step - loss: 1.3119\n",
      "Epoch 36/40\n",
      "140/140 [==============================] - 2s 12ms/step - loss: 1.3107\n",
      "Epoch 37/40\n",
      "140/140 [==============================] - 2s 12ms/step - loss: 1.3273\n",
      "Epoch 38/40\n",
      "140/140 [==============================] - 2s 11ms/step - loss: 1.3091\n",
      "Epoch 39/40\n",
      "140/140 [==============================] - 2s 12ms/step - loss: 1.2733\n",
      "Epoch 40/40\n",
      "140/140 [==============================] - 2s 13ms/step - loss: 1.2562\n",
      "Epoch 1/40\n",
      "140/140 [==============================] - 3s 22ms/step - loss: 1.6021\n",
      "Epoch 2/40\n",
      "140/140 [==============================] - 2s 13ms/step - loss: 1.5856\n",
      "Epoch 3/40\n",
      "140/140 [==============================] - 2s 11ms/step - loss: 1.5685\n",
      "Epoch 4/40\n",
      "140/140 [==============================] - 2s 11ms/step - loss: 1.5505\n",
      "Epoch 5/40\n",
      "140/140 [==============================] - 1s 11ms/step - loss: 1.5291\n",
      "Epoch 6/40\n",
      "140/140 [==============================] - 2s 11ms/step - loss: 1.5167\n",
      "Epoch 7/40\n",
      "140/140 [==============================] - 2s 11ms/step - loss: 1.5089\n",
      "Epoch 8/40\n",
      "140/140 [==============================] - 2s 11ms/step - loss: 1.4913\n",
      "Epoch 9/40\n",
      "140/140 [==============================] - 1s 11ms/step - loss: 1.4779\n",
      "Epoch 10/40\n",
      "140/140 [==============================] - 2s 11ms/step - loss: 1.4692\n",
      "Epoch 11/40\n",
      "140/140 [==============================] - 2s 11ms/step - loss: 1.4628\n",
      "Epoch 12/40\n",
      "140/140 [==============================] - 1s 11ms/step - loss: 1.4620\n",
      "Epoch 13/40\n",
      "140/140 [==============================] - 2s 11ms/step - loss: 1.4469\n",
      "Epoch 14/40\n",
      "140/140 [==============================] - 2s 11ms/step - loss: 1.4442\n",
      "Epoch 15/40\n",
      "140/140 [==============================] - 2s 11ms/step - loss: 1.4300\n",
      "Epoch 16/40\n",
      "140/140 [==============================] - 2s 11ms/step - loss: 1.4275\n",
      "Epoch 17/40\n",
      "140/140 [==============================] - 2s 11ms/step - loss: 1.4158\n",
      "Epoch 18/40\n",
      "140/140 [==============================] - 2s 12ms/step - loss: 1.4064\n",
      "Epoch 19/40\n"
     ]
    },
    {
     "name": "stdout",
     "output_type": "stream",
     "text": [
      "140/140 [==============================] - 1s 10ms/step - loss: 1.3960\n",
      "Epoch 20/40\n",
      "140/140 [==============================] - 2s 11ms/step - loss: 1.3791\n",
      "Epoch 21/40\n",
      "140/140 [==============================] - 1s 10ms/step - loss: 1.3659\n",
      "Epoch 22/40\n",
      "140/140 [==============================] - 1s 10ms/step - loss: 1.3570\n",
      "Epoch 23/40\n",
      "140/140 [==============================] - 1s 11ms/step - loss: 1.3686\n",
      "Epoch 24/40\n",
      "140/140 [==============================] - 2s 11ms/step - loss: 1.3492\n",
      "Epoch 25/40\n",
      "140/140 [==============================] - 2s 11ms/step - loss: 1.3496\n",
      "Epoch 26/40\n",
      "140/140 [==============================] - 2s 11ms/step - loss: 1.3346\n",
      "Epoch 27/40\n",
      "140/140 [==============================] - 1s 10ms/step - loss: 1.3357\n",
      "Epoch 28/40\n",
      "140/140 [==============================] - 1s 10ms/step - loss: 1.3042\n",
      "Epoch 29/40\n",
      "140/140 [==============================] - 1s 10ms/step - loss: 1.3310\n",
      "Epoch 30/40\n",
      "140/140 [==============================] - 1s 11ms/step - loss: 1.3594\n",
      "Epoch 31/40\n",
      "140/140 [==============================] - 1s 10ms/step - loss: 1.3028\n",
      "Epoch 32/40\n",
      "140/140 [==============================] - 1s 10ms/step - loss: 1.3032\n",
      "Epoch 33/40\n",
      "140/140 [==============================] - 2s 12ms/step - loss: 1.3078\n",
      "Epoch 34/40\n",
      "140/140 [==============================] - 2s 11ms/step - loss: 1.2698\n",
      "Epoch 35/40\n",
      "140/140 [==============================] - 1s 10ms/step - loss: 1.2479\n",
      "Epoch 36/40\n",
      "140/140 [==============================] - 1s 10ms/step - loss: 1.2688\n",
      "Epoch 37/40\n",
      "140/140 [==============================] - 1s 10ms/step - loss: 1.2397\n",
      "Epoch 38/40\n",
      "140/140 [==============================] - 2s 11ms/step - loss: 1.3270\n",
      "Epoch 39/40\n",
      "140/140 [==============================] - 2s 11ms/step - loss: 1.2144\n",
      "Epoch 40/40\n",
      "140/140 [==============================] - 1s 10ms/step - loss: 1.2225\n"
     ]
    }
   ],
   "source": [
    "metrics, predictions = testModels(testParams)"
   ]
  },
  {
   "cell_type": "code",
   "execution_count": 28,
   "metadata": {},
   "outputs": [],
   "source": [
    "CLASSES = [\"Seventh Grade\", \"Eighth Grade\", \"Ninth grade\", \"Tenth grade\", \"Eleven grade\"]"
   ]
  },
  {
   "cell_type": "code",
   "execution_count": 29,
   "metadata": {},
   "outputs": [],
   "source": [
    "confusionMatrixs = list()\n",
    "\n",
    "for prediction in predictions:\n",
    "    confusionMatrix = confusion_matrix(y_test, prediction)\n",
    "    np.set_printoptions(precision=2)\n",
    "    confusionMatrixs.append(confusionMatrix)"
   ]
  },
  {
   "cell_type": "code",
   "execution_count": 30,
   "metadata": {},
   "outputs": [
    {
     "data": {
      "text/plain": [
       "9"
      ]
     },
     "execution_count": 30,
     "metadata": {},
     "output_type": "execute_result"
    }
   ],
   "source": [
    "len(confusionMatrixs)"
   ]
  },
  {
   "cell_type": "code",
   "execution_count": 31,
   "metadata": {},
   "outputs": [
    {
     "data": {
      "text/plain": [
       "[[0.156078431372549, 0.12, 0.22333333333333333, 0.34285714285714286],\n",
       " [0.1564835164835165,\n",
       "  0.12065217391304348,\n",
       "  0.22333333333333333,\n",
       "  0.34285714285714286],\n",
       " [0.12941176470588237, 0.1, 0.18333333333333332, 0.3142857142857143],\n",
       " [0.2161904761904762,\n",
       "  0.16422360248447204,\n",
       "  0.3233333333333333,\n",
       "  0.37142857142857144],\n",
       " [0.15428571428571428,\n",
       "  0.11231884057971016,\n",
       "  0.2833333333333333,\n",
       "  0.34285714285714286],\n",
       " [0.20571428571428568,\n",
       "  0.16231884057971016,\n",
       "  0.2833333333333333,\n",
       "  0.42857142857142855],\n",
       " [0.18285714285714288,\n",
       "  0.1356521739130435,\n",
       "  0.2833333333333333,\n",
       "  0.34285714285714286],\n",
       " [0.20571428571428568,\n",
       "  0.22065217391304345,\n",
       "  0.3083333333333333,\n",
       "  0.37142857142857144],\n",
       " [0.21013431013431014,\n",
       "  0.23166666666666663,\n",
       "  0.2483333333333333,\n",
       "  0.37142857142857144]]"
      ]
     },
     "execution_count": 31,
     "metadata": {},
     "output_type": "execute_result"
    }
   ],
   "source": [
    "metrics"
   ]
  },
  {
   "cell_type": "code",
   "execution_count": 32,
   "metadata": {},
   "outputs": [
    {
     "name": "stdout",
     "output_type": "stream",
     "text": [
      "Confusion matrix, without normalization\n",
      "[[11  0  1  0  0]\n",
      " [ 3  0  1  0  4]\n",
      " [ 1  0  0  0  1]\n",
      " [ 3  0  1  0  4]\n",
      " [ 4  0  0  0  1]]\n"
     ]
    },
    {
     "data": {
      "image/png": "[encoded data removed]",
      "text/plain": [
       "<Figure size 432x288 with 2 Axes>"
      ]
     },
     "metadata": {},
     "output_type": "display_data"
    }
   ],
   "source": [
    "plot_title = 'Confusion matrix of RNN'\n",
    "plt.figure()\n",
    "plot_confusion_matrix(confusionMatrixs[0], classes=CLASSES, title=plot_title)"
   ]
  },
  {
   "cell_type": "code",
   "execution_count": 33,
   "metadata": {},
   "outputs": [
    {
     "name": "stdout",
     "output_type": "stream",
     "text": [
      "Confusion matrix, without normalization\n",
      "[[11  0  1  0  0]\n",
      " [ 3  0  1  0  4]\n",
      " [ 1  0  0  0  1]\n",
      " [ 4  0  2  0  2]\n",
      " [ 4  0  0  0  1]]\n"
     ]
    },
    {
     "data": {
      "image/png": "[encoded data removed]",
      "text/plain": [
       "<Figure size 432x288 with 2 Axes>"
      ]
     },
     "metadata": {},
     "output_type": "display_data"
    }
   ],
   "source": [
    "plot_title = 'Confusion matrix of RNN'\n",
    "plt.figure()\n",
    "plot_confusion_matrix(confusionMatrixs[1], classes=CLASSES, title=plot_title)"
   ]
  },
  {
   "cell_type": "code",
   "execution_count": 34,
   "metadata": {},
   "outputs": [
    {
     "name": "stdout",
     "output_type": "stream",
     "text": [
      "Confusion matrix, without normalization\n",
      "[[11  0  1  0  0]\n",
      " [ 3  0  3  0  2]\n",
      " [ 1  0  0  0  1]\n",
      " [ 3  0  3  0  2]\n",
      " [ 4  0  1  0  0]]\n"
     ]
    },
    {
     "data": {
      "image/png": "[encoded data removed]",
      "text/plain": [
       "<Figure size 432x288 with 2 Axes>"
      ]
     },
     "metadata": {},
     "output_type": "display_data"
    }
   ],
   "source": [
    "plot_title = 'Confusion matrix of RNN'\n",
    "plt.figure()\n",
    "plot_confusion_matrix(confusionMatrixs[2], classes=CLASSES, title=plot_title)"
   ]
  },
  {
   "cell_type": "code",
   "execution_count": 35,
   "metadata": {},
   "outputs": [
    {
     "name": "stdout",
     "output_type": "stream",
     "text": [
      "Confusion matrix, without normalization\n",
      "[[11  0  1  0  0]\n",
      " [ 3  0  1  0  4]\n",
      " [ 1  0  1  0  0]\n",
      " [ 4  0  2  0  2]\n",
      " [ 4  0  0  0  1]]\n"
     ]
    },
    {
     "data": {
      "image/png": "[encoded data removed]",
      "text/plain": [
       "<Figure size 432x288 with 2 Axes>"
      ]
     },
     "metadata": {},
     "output_type": "display_data"
    }
   ],
   "source": [
    "plot_title = 'Confusion matrix of RNN'\n",
    "plt.figure()\n",
    "plot_confusion_matrix(confusionMatrixs[3], classes=CLASSES, title=plot_title)"
   ]
  },
  {
   "cell_type": "code",
   "execution_count": 36,
   "metadata": {},
   "outputs": [
    {
     "name": "stdout",
     "output_type": "stream",
     "text": [
      "Confusion matrix, without normalization\n",
      "[[11  0  1  0  0]\n",
      " [ 3  0  5  0  0]\n",
      " [ 1  0  1  0  0]\n",
      " [ 4  0  4  0  0]\n",
      " [ 4  0  1  0  0]]\n"
     ]
    },
    {
     "data": {
      "image/png": "[encoded data removed]",
      "text/plain": [
       "<Figure size 432x288 with 2 Axes>"
      ]
     },
     "metadata": {},
     "output_type": "display_data"
    }
   ],
   "source": [
    "plot_title = 'Confusion matrix of RNN'\n",
    "plt.figure()\n",
    "plot_confusion_matrix(confusionMatrixs[4], classes=CLASSES, title=plot_title)"
   ]
  },
  {
   "cell_type": "code",
   "execution_count": 37,
   "metadata": {},
   "outputs": [
    {
     "name": "stdout",
     "output_type": "stream",
     "text": [
      "Confusion matrix, without normalization\n",
      "[[11  0  0  1  0]\n",
      " [ 3  0  0  5  0]\n",
      " [ 1  0  0  1  0]\n",
      " [ 4  0  0  4  0]\n",
      " [ 4  0  0  1  0]]\n"
     ]
    },
    {
     "data": {
      "image/png": "[encoded data removed]",
      "text/plain": [
       "<Figure size 432x288 with 2 Axes>"
      ]
     },
     "metadata": {},
     "output_type": "display_data"
    }
   ],
   "source": [
    "plot_title = 'Confusion matrix of RNN'\n",
    "plt.figure()\n",
    "plot_confusion_matrix(confusionMatrixs[5], classes=CLASSES, title=plot_title)"
   ]
  },
  {
   "cell_type": "code",
   "execution_count": 38,
   "metadata": {},
   "outputs": [
    {
     "name": "stdout",
     "output_type": "stream",
     "text": [
      "Confusion matrix, without normalization\n",
      "[[11  0  0  0  1]\n",
      " [ 3  0  2  1  2]\n",
      " [ 1  0  1  0  0]\n",
      " [ 4  1  2  0  1]\n",
      " [ 4  0  0  1  0]]\n"
     ]
    },
    {
     "data": {
      "image/png": "[encoded data removed]",
      "text/plain": [
       "<Figure size 432x288 with 2 Axes>"
      ]
     },
     "metadata": {},
     "output_type": "display_data"
    }
   ],
   "source": [
    "plot_title = 'Confusion matrix of RNN'\n",
    "plt.figure()\n",
    "plot_confusion_matrix(confusionMatrixs[6], classes=CLASSES, title=plot_title)"
   ]
  },
  {
   "cell_type": "code",
   "execution_count": 39,
   "metadata": {},
   "outputs": [
    {
     "name": "stdout",
     "output_type": "stream",
     "text": [
      "Confusion matrix, without normalization\n",
      "[[11  0  1  0  0]\n",
      " [ 3  0  3  1  1]\n",
      " [ 1  0  1  0  0]\n",
      " [ 4  1  2  1  0]\n",
      " [ 4  0  1  0  0]]\n"
     ]
    },
    {
     "data": {
      "image/png": "[encoded data removed]",
      "text/plain": [
       "<Figure size 432x288 with 2 Axes>"
      ]
     },
     "metadata": {},
     "output_type": "display_data"
    }
   ],
   "source": [
    "plot_title = 'Confusion matrix of RNN'\n",
    "plt.figure()\n",
    "plot_confusion_matrix(confusionMatrixs[7], classes=CLASSES, title=plot_title)"
   ]
  },
  {
   "cell_type": "code",
   "execution_count": 40,
   "metadata": {},
   "outputs": [
    {
     "name": "stdout",
     "output_type": "stream",
     "text": [
      "Confusion matrix, without normalization\n",
      "[[11  0  1  0  0]\n",
      " [ 3  0  2  3  0]\n",
      " [ 1  0  0  1  0]\n",
      " [ 5  0  1  1  1]\n",
      " [ 4  0  0  0  1]]\n"
     ]
    },
    {
     "data": {
      "image/png": "[encoded data removed]",
      "text/plain": [
       "<Figure size 432x288 with 2 Axes>"
      ]
     },
     "metadata": {},
     "output_type": "display_data"
    }
   ],
   "source": [
    "plot_title = 'Confusion matrix of RNN'\n",
    "plt.figure()\n",
    "plot_confusion_matrix(confusionMatrixs[8], classes=CLASSES, title=plot_title)"
   ]
  },
  {
   "cell_type": "code",
   "execution_count": null,
   "metadata": {},
   "outputs": [],
   "source": []
  },
  {
   "cell_type": "code",
   "execution_count": null,
   "metadata": {},
   "outputs": [],
   "source": []
  },
  {
   "cell_type": "code",
   "execution_count": null,
   "metadata": {},
   "outputs": [],
   "source": []
  },
  {
   "cell_type": "code",
   "execution_count": null,
   "metadata": {},
   "outputs": [],
   "source": []
  },
  {
   "cell_type": "code",
   "execution_count": null,
   "metadata": {},
   "outputs": [],
   "source": []
  },
  {
   "cell_type": "code",
   "execution_count": null,
   "metadata": {},
   "outputs": [],
   "source": []
  },
  {
   "cell_type": "code",
   "execution_count": 101,
   "metadata": {},
   "outputs": [
    {
     "name": "stdout",
     "output_type": "stream",
     "text": [
      "Confusion matrix, without normalization\n",
      "[[16  0  0  0  1]\n",
      " [ 3  0  0  0  8]\n",
      " [ 2  0  1  0  4]\n",
      " [ 3  0  2  0  6]\n",
      " [ 9  0  0  0  3]]\n"
     ]
    },
    {
     "data": {
      "image/png": "[encoded data removed]",
      "text/plain": [
       "<Figure size 432x288 with 2 Axes>"
      ]
     },
     "metadata": {},
     "output_type": "display_data"
    }
   ],
   "source": [
    "plot_title = 'Confusion matrix of RNN'\n",
    "plt.figure()\n",
    "plot_confusion_matrix(confusionMatrix, classes=[\"one\",\"two\",\"three\",\"four\",\"five\"], title=plot_title)"
   ]
  },
  {
   "cell_type": "code",
   "execution_count": 36,
   "metadata": {},
   "outputs": [
    {
     "name": "stdout",
     "output_type": "stream",
     "text": [
      "Normalized confusion matrix\n",
      "[[0.94 0.   0.   0.   0.06]\n",
      " [0.27 0.   0.   0.   0.73]\n",
      " [0.29 0.   0.14 0.   0.57]\n",
      " [0.27 0.   0.18 0.   0.55]\n",
      " [0.75 0.   0.   0.   0.25]]\n"
     ]
    },
    {
     "data": {
      "image/png": "[encoded data removed]",
      "text/plain": [
       "<Figure size 432x288 with 2 Axes>"
      ]
     },
     "metadata": {},
     "output_type": "display_data"
    }
   ],
   "source": [
    "plot_confusion_matrix(confusionMatrix, classes=[\"one\",\"two\",\"three\",\"four\",\"five\"], title=plot_title, normalize=True)"
   ]
  },
  {
   "cell_type": "code",
   "execution_count": null,
   "metadata": {},
   "outputs": [],
   "source": []
  },
  {
   "cell_type": "code",
   "execution_count": null,
   "metadata": {},
   "outputs": [],
   "source": []
  }
 ],
 "metadata": {
  "kernelspec": {
   "display_name": "Python 3",
   "language": "python",
   "name": "python3"
  },
  "language_info": {
   "codemirror_mode": {
    "name": "ipython",
    "version": 3
   },
   "file_extension": ".py",
   "mimetype": "text/x-python",
   "name": "python",
   "nbconvert_exporter": "python",
   "pygments_lexer": "ipython3",
   "version": "3.6.4"
  }
 },
 "nbformat": 4,
 "nbformat_minor": 2
}
