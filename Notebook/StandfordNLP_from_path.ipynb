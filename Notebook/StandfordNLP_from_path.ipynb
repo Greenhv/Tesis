{
 "cells": [
  {
   "cell_type": "code",
   "execution_count": 1,
   "metadata": {},
   "outputs": [],
   "source": [
    "import os\n",
    "import sys\n",
    "\n",
    "module_path = os.path.abspath(os.path.join('..'))\n",
    "\n",
    "if module_path not in sys.path:\n",
    "    sys.path.append(module_path)"
   ]
  },
  {
   "cell_type": "code",
   "execution_count": 2,
   "metadata": {},
   "outputs": [],
   "source": [
    "from text_easability_metrics import TextEasabilityMetrics, StanfordNLP\n",
    "from stanfordcorenlp import StanfordCoreNLP"
   ]
  },
  {
   "cell_type": "code",
   "execution_count": 3,
   "metadata": {},
   "outputs": [
    {
     "name": "stdout",
     "output_type": "stream",
     "text": [
      "/Users/herbert/Projects/Tesis/stanford-corenlp-full-2017-06-09/\n"
     ]
    },
    {
     "data": {
      "text/plain": [
       "<text_easability_metrics.TextEasabilityMetrics.TextEasabilityMetrics at 0x10f6473c8>"
      ]
     },
     "execution_count": 3,
     "metadata": {},
     "output_type": "execute_result"
    }
   ],
   "source": [
    "TextEasabilityMetrics(path=r'/Users/herbert/Projects/Tesis/stanford-corenlp-full-2017-06-09/', timeout=150000)"
   ]
  },
  {
   "cell_type": "code",
   "execution_count": 3,
   "metadata": {},
   "outputs": [
    {
     "name": "stdout",
     "output_type": "stream",
     "text": [
      "/Users/herbert/Projects/Tesis/stanford-corenlp-full-2017-06-09/\n"
     ]
    }
   ],
   "source": [
    "nlp = StanfordNLP(path=r'/Users/herbert/Projects/Tesis/stanford-corenlp-full-2017-06-09/', language='es', timeout=150000)"
   ]
  },
  {
   "cell_type": "code",
   "execution_count": null,
   "metadata": {},
   "outputs": [],
   "source": []
  }
 ],
 "metadata": {
  "kernelspec": {
   "display_name": "Python 3",
   "language": "python",
   "name": "python3"
  },
  "language_info": {
   "codemirror_mode": {
    "name": "ipython",
    "version": 3
   },
   "file_extension": ".py",
   "mimetype": "text/x-python",
   "name": "python",
   "nbconvert_exporter": "python",
   "pygments_lexer": "ipython3",
   "version": "3.6.5"
  }
 },
 "nbformat": 4,
 "nbformat_minor": 2
}
