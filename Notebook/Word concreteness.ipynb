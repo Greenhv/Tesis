{
 "cells": [
  {
   "cell_type": "markdown",
   "metadata": {},
   "source": [
    "### Import custom modules from current folder"
   ]
  },
  {
   "cell_type": "code",
   "execution_count": 1,
   "metadata": {},
   "outputs": [],
   "source": [
    "import os\n",
    "import sys\n",
    "\n",
    "module_path = os.path.abspath(os.path.join('..'))\n",
    "\n",
    "if module_path not in sys.path:\n",
    "    sys.path.append(module_path)"
   ]
  },
  {
   "cell_type": "code",
   "execution_count": 2,
   "metadata": {},
   "outputs": [],
   "source": [
    "import nltk\n",
    "from text_easability_metrics import TextEasabilityMetrics, StanfordNLP\n",
    "from simple_text_representation.classes import Text\n",
    "from simple_text_representation.models import Database\n",
    "from nltk.tree import Tree\n",
    "import pandas as pd\n",
    "# from nltk.draw.tree import draw_trees"
   ]
  },
  {
   "cell_type": "code",
   "execution_count": 4,
   "metadata": {},
   "outputs": [],
   "source": [
    "database = Database('educationalTexts', 'postgres', '', '0.0.0.0', 5432)\n",
    "path = r'/Users/herbert/Projects/Tesis/stanford-corenlp-full-2017-06-09'\n",
    "path = r'http://corenlp.run'\n",
    "path = r'http://localhost/'"
   ]
  },
  {
   "cell_type": "markdown",
   "metadata": {},
   "source": [
    "### Word Concreteness"
   ]
  },
  {
   "cell_type": "code",
   "execution_count": 5,
   "metadata": {},
   "outputs": [],
   "source": [
    "def removeSpecialCharacters(strWord):\n",
    "    return ''.join(character for character in strWord if character.isalnum())"
   ]
  },
  {
   "cell_type": "code",
   "execution_count": 6,
   "metadata": {},
   "outputs": [],
   "source": [
    "def getWordNetTag(tag):\n",
    "    if tag.startswith('J'):\n",
    "        return wordnet.ADJ\n",
    "    elif tag.startswith('S'):\n",
    "        return wordnet.ADJ_SAT\n",
    "    elif tag.startswith('R'):\n",
    "        return wordnet.ADV\n",
    "    elif tag.startswith('N'):\n",
    "        return wordnet.NOUN\n",
    "    elif tag.startswith('V'):\n",
    "        return wordnet.VERB\n",
    "    else:\n",
    "        return ''"
   ]
  },
  {
   "cell_type": "code",
   "execution_count": 32,
   "metadata": {},
   "outputs": [],
   "source": [
    "import nltk\n",
    "from nltk.corpus import wordnet\n",
    "\n",
    "def getWordConcreteness(currentText):\n",
    "    textTotal = 0\n",
    "    for paragraph in currentText:\n",
    "        sentenceCount = 0\n",
    "        for sentence in paragraph:\n",
    "            sentenceToken = nltk.word_tokenize(sentence)\n",
    "            posTags = nltk.pos_tag(sentenceToken)\n",
    "            for taggedWord in  posTags:\n",
    "                word = taggedWord[0]\n",
    "                tag = taggedWord[1]\n",
    "                if (getWordNetTag(tag)):\n",
    "                    for ss in wordnet.synsets(word, getWordNetTag(tag), lang='spa'):\n",
    "                        hyperyms = ss.hypernym_paths()[0]\n",
    "                        if (len(hyperyms)) > 1:\n",
    "                            print(ss.hypernym_paths()[0])\n",
    "                            category = ss.hypernym_paths()[0][1]\n",
    "                            sentenceCount += 1 if \"physical\" in category.name() else 0\n",
    "    #                         print(ss, \"physical\" in category.name())\n",
    "        textTotal += sentenceCount\n",
    "\n",
    "    return textTotal"
   ]
  },
  {
   "cell_type": "code",
   "execution_count": 33,
   "metadata": {},
   "outputs": [],
   "source": [
    "testTest = [['Si bien los trasplantes se han convertido en una práctica habitual, aún persisten fuertes temores en la población para donar órganos, lograr su superación es la clave para aumentar el número de los donadores solidarios que hacen falta para salvar miles de vidas.'],\n",
    " ['Es preciso, entonces, que se aclaren algunas dudas para que las personas pierdan el miedo a donar.',\n",
    "  ' Primero, que lo complicado de los procedimientos de extirpación y trasplantación, en el que intervienen varios equipos médicos altamente especializados, vuelve muy difícil la existencia de mafias.',\n",
    "  ' Segundo, que la necesaria compatibilidad (afinidad de grupo sanguíneo) entre donante y receptor dificulta la posibilidad de muertes “a pedido”.'],\n",
    " ['La última cuestión es la más compleja; en la actualidad, aunque alguien haya manifestado expresamente su voluntad de donar, es a la familia a la que se consulta en el momento en que la donación puede efectuarse.',\n",
    "  ' Como se entiende, tal consulta llega en un momento difícil y poco propicio para las reflexiones profundas, más aún si se tiene que tomar una decisión rápida.'],\n",
    " ['Por lo tanto, las campañas públicas deben esclarecer la naturaleza de los procedimientos técnicos y legales, para disipar miedos; pero, esencialmente, deben apuntar a que se tome conciencia de lo que significa salvar otra vida, porque para decidirlo en un momento crucial es necesario que la idea se haya considerado y discutido previamente, con reflexión y calma.']]"
   ]
  },
  {
   "cell_type": "code",
   "execution_count": 34,
   "metadata": {
    "scrolled": true
   },
   "outputs": [
    {
     "name": "stdout",
     "output_type": "stream",
     "text": [
      "[Synset('entity.n.01'), Synset('abstraction.n.06'), Synset('relation.n.01'), Synset('part.n.01'), Synset('language_unit.n.01'), Synset('syllable.n.01'), Synset('solfa_syllable.n.01'), Synset('ti.n.03')]\n",
      "[Synset('entity.n.01'), Synset('physical_entity.n.01'), Synset('object.n.01'), Synset('whole.n.02'), Synset('artifact.n.01'), Synset('commodity.n.01')]\n",
      "[Synset('entity.n.01'), Synset('abstraction.n.06'), Synset('attribute.n.02'), Synset('quality.n.01'), Synset('good.n.03')]\n",
      "[Synset('entity.n.01'), Synset('abstraction.n.06'), Synset('attribute.n.02'), Synset('quality.n.01'), Synset('good.n.03'), Synset('benefit.n.02'), Synset('sake.n.01')]\n",
      "[Synset('entity.n.01'), Synset('abstraction.n.06'), Synset('attribute.n.02'), Synset('quality.n.01'), Synset('asset.n.01'), Synset('advantage.n.01'), Synset('good.n.01')]\n",
      "[Synset('entity.n.01'), Synset('abstraction.n.06'), Synset('relation.n.01'), Synset('possession.n.02'), Synset('property.n.01'), Synset('personal_property.n.01')]\n",
      "[Synset('entity.n.01'), Synset('abstraction.n.06'), Synset('psychological_feature.n.01'), Synset('event.n.01'), Synset('act.n.02'), Synset('activity.n.01'), Synset('practice.n.01')]\n",
      "[Synset('entity.n.01'), Synset('abstraction.n.06'), Synset('psychological_feature.n.01'), Synset('event.n.01'), Synset('act.n.02'), Synset('implementation.n.02'), Synset('practice.n.03')]\n",
      "[Synset('entity.n.01'), Synset('abstraction.n.06'), Synset('psychological_feature.n.01'), Synset('event.n.01'), Synset('act.n.02'), Synset('activity.n.01'), Synset('use.n.01'), Synset('practice.n.04')]\n",
      "[Synset('entity.n.01'), Synset('abstraction.n.06'), Synset('psychological_feature.n.01'), Synset('event.n.01'), Synset('act.n.02'), Synset('activity.n.01'), Synset('training.n.01'), Synset('exercise.n.03')]\n",
      "[Synset('entity.n.01'), Synset('abstraction.n.06'), Synset('psychological_feature.n.01'), Synset('cognition.n.01'), Synset('practice.n.05')]\n",
      "[Synset('entity.n.01'), Synset('abstraction.n.06'), Synset('relation.n.01'), Synset('part.n.01'), Synset('language_unit.n.01'), Synset('syllable.n.01'), Synset('solfa_syllable.n.01'), Synset('la.n.03')]\n",
      "[Synset('entity.n.01'), Synset('abstraction.n.06'), Synset('psychological_feature.n.01'), Synset('event.n.01'), Synset('act.n.02'), Synset('action.n.01'), Synset('change.n.03'), Synset('change_of_state.n.01'), Synset('beginning.n.05'), Synset('constitution.n.02'), Synset('colonization.n.01'), Synset('population.n.05')]\n",
      "[Synset('entity.n.01'), Synset('abstraction.n.06'), Synset('group.n.01'), Synset('collection.n.01'), Synset('population.n.03')]\n",
      "[Synset('entity.n.01'), Synset('abstraction.n.06'), Synset('group.n.01'), Synset('population.n.02')]\n",
      "[Synset('entity.n.01'), Synset('physical_entity.n.01'), Synset('object.n.01'), Synset('location.n.01'), Synset('region.n.03'), Synset('district.n.01'), Synset('administrative_district.n.01'), Synset('municipality.n.01'), Synset('town.n.01')]\n",
      "[Synset('entity.n.01'), Synset('physical_entity.n.01'), Synset('object.n.01'), Synset('location.n.01'), Synset('region.n.03'), Synset('geographical_area.n.01'), Synset('settlement.n.06')]\n",
      "[Synset('understand.v.01'), Synset('interpret.v.01'), Synset('educe.v.01')]\n",
      "[Synset('make.v.03'), Synset('create_by_mental_act.v.01'), Synset('re-create.v.03'), Synset('reproduce.v.03'), Synset('catch.v.24')]\n",
      "[Synset('arrive.v.01'), Synset('reach.v.02')]\n",
      "[Synset('succeed.v.01'), Synset('achieve.v.01'), Synset('reach.v.07')]\n",
      "[Synset('get.v.01'), Synset('obtain.v.01')]\n",
      "[Synset('get.v.01'), Synset('find.v.03'), Synset('fall_upon.v.01')]\n",
      "[Synset('gain.v.05'), Synset('score.v.01'), Synset('have.v.17')]\n",
      "[Synset('succeed.v.01'), Synset('pull_off.v.03')]\n",
      "[Synset('succeed.v.01'), Synset('achieve.v.01')]\n",
      "[Synset('entity.n.01'), Synset('abstraction.n.06'), Synset('relation.n.01'), Synset('part.n.01'), Synset('language_unit.n.01'), Synset('syllable.n.01'), Synset('solfa_syllable.n.01'), Synset('la.n.03')]\n",
      "[Synset('entity.n.01'), Synset('abstraction.n.06'), Synset('attribute.n.02'), Synset('property.n.02'), Synset('magnitude.n.01'), Synset('amount.n.02'), Synset('number.n.01')]\n",
      "[Synset('entity.n.01'), Synset('abstraction.n.06'), Synset('group.n.01'), Synset('collection.n.01'), Synset('class.n.01'), Synset('grammatical_category.n.01'), Synset('number.n.10')]\n",
      "[Synset('entity.n.01'), Synset('abstraction.n.06'), Synset('communication.n.02'), Synset('indication.n.01'), Synset('evidence.n.02'), Synset('identification.n.02'), Synset('positive_identification.n.01'), Synset('number.n.08')]\n",
      "[Synset('entity.n.01'), Synset('abstraction.n.06'), Synset('communication.n.02'), Synset('signal.n.01'), Synset('phone_number.n.01')]\n",
      "[Synset('entity.n.01'), Synset('physical_entity.n.01'), Synset('object.n.01'), Synset('whole.n.02'), Synset('artifact.n.01'), Synset('creation.n.02'), Synset('product.n.02'), Synset('work.n.02'), Synset('publication.n.01'), Synset('periodical.n.01'), Synset('issue.n.02')]\n",
      "[Synset('entity.n.01'), Synset('abstraction.n.06'), Synset('communication.n.02'), Synset('signal.n.01'), Synset('symbol.n.01'), Synset('numeral.n.01')]\n",
      "[Synset('entity.n.01'), Synset('abstraction.n.06'), Synset('psychological_feature.n.01'), Synset('event.n.01'), Synset('social_event.n.01'), Synset('show.n.03'), Synset('performance.n.01'), Synset('act.n.04')]\n",
      "[Synset('entity.n.01'), Synset('abstraction.n.06'), Synset('measure.n.02'), Synset('definite_quantity.n.01'), Synset('number.n.02')]\n",
      "[Synset('entity.n.01'), Synset('abstraction.n.06'), Synset('psychological_feature.n.01'), Synset('event.n.01'), Synset('act.n.02'), Synset('nonaccomplishment.n.01'), Synset('mistake.n.01')]\n",
      "[Synset('entity.n.01'), Synset('abstraction.n.06'), Synset('psychological_feature.n.01'), Synset('event.n.01'), Synset('act.n.02'), Synset('activity.n.01'), Synset('wrongdoing.n.02'), Synset('misbehavior.n.01')]\n",
      "[Synset('entity.n.01'), Synset('abstraction.n.06'), Synset('psychological_feature.n.01'), Synset('event.n.01'), Synset('act.n.02'), Synset('activity.n.01'), Synset('wrongdoing.n.02'), Synset('transgression.n.01'), Synset('crime.n.01'), Synset('misdemeanor.n.01')]\n",
      "[Synset('entity.n.01'), Synset('abstraction.n.06'), Synset('attribute.n.02'), Synset('quality.n.01'), Synset('bad.n.01'), Synset('liability.n.03'), Synset('disadvantage.n.01'), Synset('defect.n.02')]\n",
      "[Synset('entity.n.01'), Synset('abstraction.n.06'), Synset('measure.n.02'), Synset('definite_quantity.n.01'), Synset('number.n.02'), Synset('ordinal_number.n.01'), Synset('first.n.02')]\n",
      "[Synset('entity.n.01'), Synset('abstraction.n.06'), Synset('attribute.n.02'), Synset('state.n.02'), Synset('status.n.01'), Synset('rank.n.02'), Synset('first.n.01')]\n",
      "[Synset('entity.n.01'), Synset('physical_entity.n.01'), Synset('causal_agent.n.01'), Synset('person.n.01'), Synset('worker.n.01'), Synset('skilled_worker.n.01'), Synset('sailor.n.01'), Synset('mariner.n.01'), Synset('officer.n.04'), Synset('mate.n.01')]\n",
      "[Synset('entity.n.01'), Synset('abstraction.n.06'), Synset('measure.n.02'), Synset('definite_quantity.n.01'), Synset('unit_of_measurement.n.01'), Synset('angular_unit.n.01'), Synset('second.n.06')]\n",
      "[Synset('entity.n.01'), Synset('abstraction.n.06'), Synset('attribute.n.02'), Synset('state.n.02'), Synset('status.n.01'), Synset('rank.n.02'), Synset('second.n.05')]\n",
      "[Synset('entity.n.01'), Synset('abstraction.n.06'), Synset('measure.n.02'), Synset('time_unit.n.01'), Synset('second.n.01')]\n",
      "[Synset('entity.n.01'), Synset('abstraction.n.06'), Synset('measure.n.02'), Synset('point.n.06'), Synset('moment.n.01'), Synset('pinpoint.n.01')]\n",
      "[Synset('entity.n.01'), Synset('abstraction.n.06'), Synset('measure.n.02'), Synset('fundamental_quantity.n.01'), Synset('time_period.n.01'), Synset('time.n.03'), Synset('while.n.01')]\n",
      "[Synset('entity.n.01'), Synset('abstraction.n.06'), Synset('measure.n.02'), Synset('fundamental_quantity.n.01'), Synset('time_period.n.01'), Synset('time.n.03'), Synset('moment.n.02')]\n",
      "[Synset('entity.n.01'), Synset('abstraction.n.06'), Synset('communication.n.02'), Synset('signal.n.01'), Synset('symbol.n.01'), Synset('written_symbol.n.01'), Synset('character.n.08'), Synset('letter.n.02'), Synset('y.n.02')]\n",
      "[Synset('entity.n.01'), Synset('abstraction.n.06'), Synset('psychological_feature.n.01'), Synset('event.n.01'), Synset('act.n.02'), Synset('activity.n.01'), Synset('role.n.04'), Synset('position.n.09'), Synset('catcher.n.02')]\n",
      "[Synset('entity.n.01'), Synset('physical_entity.n.01'), Synset('object.n.01'), Synset('whole.n.02'), Synset('artifact.n.01'), Synset('instrumentality.n.03'), Synset('equipment.n.01'), Synset('electronic_equipment.n.01'), Synset('set.n.13'), Synset('receiver.n.01')]\n",
      "[Synset('entity.n.01'), Synset('physical_entity.n.01'), Synset('thing.n.12'), Synset('part.n.03'), Synset('body_part.n.01'), Synset('organ.n.01'), Synset('sense_organ.n.01')]\n",
      "[Synset('entity.n.01'), Synset('physical_entity.n.01'), Synset('causal_agent.n.01'), Synset('person.n.01'), Synset('acquirer.n.01'), Synset('recipient.n.01')]\n",
      "[Synset('entity.n.01'), Synset('physical_entity.n.01'), Synset('causal_agent.n.01'), Synset('person.n.01'), Synset('contestant.n.01'), Synset('athlete.n.01'), Synset('ballplayer.n.01'), Synset('fielder.n.01'), Synset('infielder.n.01'), Synset('catcher.n.01')]\n",
      "[Synset('entity.n.01'), Synset('abstraction.n.06'), Synset('communication.n.02'), Synset('message.n.02'), Synset('request.n.01')]\n",
      "[Synset('entity.n.01'), Synset('abstraction.n.06'), Synset('communication.n.02'), Synset('written_communication.n.01'), Synset('writing.n.02'), Synset('document.n.01'), Synset('commercial_document.n.01'), Synset('order.n.07'), Synset('indent.n.01')]\n",
      "[Synset('entity.n.01'), Synset('abstraction.n.06'), Synset('relation.n.01'), Synset('part.n.01'), Synset('language_unit.n.01'), Synset('syllable.n.01'), Synset('solfa_syllable.n.01'), Synset('la.n.03')]\n",
      "[Synset('entity.n.01'), Synset('abstraction.n.06'), Synset('psychological_feature.n.01'), Synset('cognition.n.01'), Synset('cognitive_factor.n.01'), Synset('difficulty.n.02'), Synset('trouble.n.01'), Synset('matter.n.04')]\n",
      "[Synset('entity.n.01'), Synset('abstraction.n.06'), Synset('psychological_feature.n.01'), Synset('cognition.n.01'), Synset('content.n.05'), Synset('topic.n.02')]\n",
      "[Synset('entity.n.01'), Synset('abstraction.n.06'), Synset('communication.n.02'), Synset('message.n.02'), Synset('subject.n.01'), Synset('question.n.02')]\n",
      "[Synset('entity.n.01'), Synset('abstraction.n.06'), Synset('communication.n.02'), Synset('language.n.01'), Synset('string_of_words.n.01'), Synset('sentence.n.01'), Synset('question.n.03')]\n",
      "[Synset('entity.n.01'), Synset('abstraction.n.06'), Synset('relation.n.01'), Synset('part.n.01'), Synset('language_unit.n.01'), Synset('syllable.n.01'), Synset('solfa_syllable.n.01'), Synset('la.n.03')]\n",
      "[Synset('entity.n.01'), Synset('abstraction.n.06'), Synset('attribute.n.02'), Synset('property.n.02'), Synset('temporal_property.n.01'), Synset('temporal_arrangement.n.01'), Synset('timing.n.01'), Synset('presentness.n.01'), Synset('currentness.n.01')]\n",
      "[Synset('entity.n.01'), Synset('abstraction.n.06'), Synset('attribute.n.02'), Synset('property.n.02'), Synset('temporal_property.n.01'), Synset('temporal_arrangement.n.01'), Synset('timing.n.01'), Synset('presentness.n.01'), Synset('currentness.n.01'), Synset('modernity.n.01')]\n",
      "[Synset('entity.n.01'), Synset('abstraction.n.06'), Synset('attribute.n.02'), Synset('time.n.05'), Synset('present.n.01')]\n",
      "[Synset('entity.n.01'), Synset('physical_entity.n.01'), Synset('causal_agent.n.01'), Synset('person.n.01')]\n",
      "[Synset('entity.n.01'), Synset('physical_entity.n.01'), Synset('object.n.01'), Synset('whole.n.02'), Synset('living_thing.n.01'), Synset('organism.n.01'), Synset('plant.n.02'), Synset('vascular_plant.n.01'), Synset('woody_plant.n.01'), Synset('tree.n.01'), Synset('beech.n.01')]\n",
      "[Synset('entity.n.01'), Synset('abstraction.n.06'), Synset('relation.n.01'), Synset('part.n.01'), Synset('language_unit.n.01'), Synset('syllable.n.01'), Synset('solfa_syllable.n.01'), Synset('la.n.03')]\n",
      "[Synset('entity.n.01'), Synset('abstraction.n.06'), Synset('relation.n.01'), Synset('part.n.01'), Synset('language_unit.n.01'), Synset('syllable.n.01'), Synset('solfa_syllable.n.01'), Synset('la.n.03')]\n",
      "[Synset('entity.n.01'), Synset('abstraction.n.06'), Synset('psychological_feature.n.01'), Synset('event.n.01'), Synset('act.n.02'), Synset('group_action.n.01'), Synset('vote.n.02'), Synset('referendum.n.01')]\n",
      "[Synset('entity.n.01'), Synset('abstraction.n.06'), Synset('psychological_feature.n.01'), Synset('event.n.01'), Synset('act.n.02'), Synset('action.n.01'), Synset('reference.n.07')]\n",
      "[Synset('entity.n.01'), Synset('abstraction.n.06'), Synset('communication.n.02'), Synset('auditory_communication.n.01'), Synset('speech.n.02'), Synset('discussion.n.02'), Synset('conference.n.03'), Synset('consultation.n.02')]\n",
      "[Synset('entity.n.01'), Synset('abstraction.n.06'), Synset('communication.n.02'), Synset('auditory_communication.n.01'), Synset('speech.n.02'), Synset('discussion.n.02'), Synset('conference.n.03'), Synset('consultation.n.01')]\n",
      "[Synset('entity.n.01'), Synset('abstraction.n.06'), Synset('psychological_feature.n.01'), Synset('event.n.01'), Synset('act.n.02'), Synset('speech_act.n.01'), Synset('request.n.02'), Synset('questioning.n.01'), Synset('question.n.01')]\n",
      "[Synset('entity.n.01'), Synset('abstraction.n.06'), Synset('psychological_feature.n.01'), Synset('event.n.01'), Synset('act.n.02'), Synset('group_action.n.01'), Synset('vote.n.02'), Synset('referendum.n.01')]\n",
      "[Synset('entity.n.01'), Synset('abstraction.n.06'), Synset('psychological_feature.n.01'), Synset('event.n.01'), Synset('act.n.02'), Synset('action.n.01'), Synset('reference.n.07')]\n",
      "[Synset('entity.n.01'), Synset('abstraction.n.06'), Synset('communication.n.02'), Synset('auditory_communication.n.01'), Synset('speech.n.02'), Synset('discussion.n.02'), Synset('conference.n.03'), Synset('consultation.n.02')]\n",
      "[Synset('entity.n.01'), Synset('abstraction.n.06'), Synset('communication.n.02'), Synset('auditory_communication.n.01'), Synset('speech.n.02'), Synset('discussion.n.02'), Synset('conference.n.03'), Synset('consultation.n.01')]\n",
      "[Synset('entity.n.01'), Synset('abstraction.n.06'), Synset('psychological_feature.n.01'), Synset('event.n.01'), Synset('act.n.02'), Synset('speech_act.n.01'), Synset('request.n.02'), Synset('questioning.n.01'), Synset('question.n.01')]\n",
      "[Synset('entity.n.01'), Synset('abstraction.n.06'), Synset('measure.n.02'), Synset('fundamental_quantity.n.01'), Synset('time_period.n.01'), Synset('time.n.03')]\n",
      "[Synset('entity.n.01'), Synset('abstraction.n.06'), Synset('measure.n.02'), Synset('point.n.06')]\n",
      "[Synset('entity.n.01'), Synset('abstraction.n.06'), Synset('measure.n.02'), Synset('fundamental_quantity.n.01'), Synset('time_period.n.01'), Synset('hour.n.03')]\n",
      "[Synset('entity.n.01'), Synset('abstraction.n.06'), Synset('measure.n.02'), Synset('point.n.06'), Synset('moment.n.01')]\n",
      "[Synset('entity.n.01'), Synset('abstraction.n.06'), Synset('measure.n.02'), Synset('fundamental_quantity.n.01'), Synset('time_period.n.01'), Synset('time.n.03'), Synset('while.n.01')]\n",
      "[Synset('entity.n.01'), Synset('abstraction.n.06'), Synset('measure.n.02'), Synset('fundamental_quantity.n.01'), Synset('time_period.n.01'), Synset('time.n.03'), Synset('moment.n.02')]\n",
      "[Synset('entity.n.01'), Synset('abstraction.n.06'), Synset('communication.n.02'), Synset('signal.n.01'), Synset('symbol.n.01'), Synset('written_symbol.n.01'), Synset('character.n.08'), Synset('letter.n.02'), Synset('y.n.02')]\n",
      "[Synset('entity.n.01'), Synset('abstraction.n.06'), Synset('psychological_feature.n.01'), Synset('event.n.01'), Synset('act.n.02'), Synset('action.n.01'), Synset('choice.n.02'), Synset('decision.n.01')]\n",
      "[Synset('entity.n.01'), Synset('abstraction.n.06'), Synset('psychological_feature.n.01'), Synset('event.n.01'), Synset('act.n.02'), Synset('action.n.01'), Synset('choice.n.02'), Synset('decision.n.01'), Synset('call.n.12')]\n",
      "[Synset('entity.n.01'), Synset('abstraction.n.06'), Synset('psychological_feature.n.01'), Synset('event.n.01'), Synset('act.n.02'), Synset('action.n.01'), Synset('choice.n.02'), Synset('decision.n.01'), Synset('move.n.01'), Synset('maneuver.n.04'), Synset('measure.n.01')]\n",
      "[Synset('entity.n.01'), Synset('abstraction.n.06'), Synset('psychological_feature.n.01'), Synset('event.n.01'), Synset('act.n.02'), Synset('group_action.n.01'), Synset('due_process.n.01'), Synset('judgment.n.03'), Synset('opinion.n.05')]\n",
      "[Synset('entity.n.01'), Synset('abstraction.n.06'), Synset('attribute.n.02'), Synset('trait.n.01'), Synset('resoluteness.n.01'), Synset('decisiveness.n.01')]\n",
      "[Synset('entity.n.01'), Synset('abstraction.n.06'), Synset('psychological_feature.n.01'), Synset('cognition.n.01'), Synset('process.n.02'), Synset('higher_cognitive_process.n.01'), Synset('decision_making.n.01')]\n",
      "[Synset('entity.n.01'), Synset('abstraction.n.06'), Synset('psychological_feature.n.01'), Synset('cognition.n.01'), Synset('content.n.05'), Synset('belief.n.01'), Synset('opinion.n.01'), Synset('judgment.n.01'), Synset('decision.n.02')]\n",
      "[Synset('entity.n.01'), Synset('abstraction.n.06'), Synset('psychological_feature.n.01'), Synset('event.n.01'), Synset('happening.n.01'), Synset('ending.n.04'), Synset('result.n.03'), Synset('decision.n.04')]\n",
      "[Synset('entity.n.01'), Synset('abstraction.n.06'), Synset('psychological_feature.n.01'), Synset('event.n.01'), Synset('act.n.02'), Synset('action.n.01'), Synset('accomplishment.n.01'), Synset('attainment.n.01'), Synset('success.n.02'), Synset('score.n.10')]\n",
      "[Synset('entity.n.01'), Synset('abstraction.n.06'), Synset('psychological_feature.n.01'), Synset('event.n.01'), Synset('act.n.02'), Synset('action.n.01'), Synset('accomplishment.n.01'), Synset('attainment.n.01'), Synset('success.n.02'), Synset('score.n.10'), Synset('goal.n.04')]\n",
      "[Synset('entity.n.01'), Synset('abstraction.n.06'), Synset('attribute.n.02'), Synset('quality.n.01'), Synset('morality.n.01'), Synset('conscience.n.02')]\n",
      "[Synset('entity.n.01'), Synset('abstraction.n.06'), Synset('attribute.n.02'), Synset('state.n.02'), Synset('condition.n.01'), Synset('psychological_state.n.01'), Synset('cognitive_state.n.01'), Synset('consciousness.n.01')]\n",
      "[Synset('entity.n.01'), Synset('abstraction.n.06'), Synset('psychological_feature.n.01'), Synset('cognition.n.01'), Synset('process.n.02'), Synset('higher_cognitive_process.n.01'), Synset('knowing.n.01'), Synset('awareness.n.01')]\n",
      "[Synset('entity.n.01'), Synset('abstraction.n.06'), Synset('attribute.n.02'), Synset('state.n.02'), Synset('feeling.n.01'), Synset('shame.n.01'), Synset('conscience.n.03')]\n",
      "[Synset('entity.n.01'), Synset('abstraction.n.06'), Synset('psychological_feature.n.01'), Synset('motivation.n.01'), Synset('ethical_motive.n.01'), Synset('conscience.n.01')]\n",
      "[Synset('entity.n.01'), Synset('physical_entity.n.01'), Synset('object.n.01'), Synset('whole.n.02'), Synset('living_thing.n.01'), Synset('life.n.10')]\n",
      "[Synset('entity.n.01'), Synset('abstraction.n.06'), Synset('psychological_feature.n.01'), Synset('event.n.01'), Synset('act.n.02'), Synset('action.n.01'), Synset('course.n.04'), Synset('way.n.05')]\n",
      "[Synset('entity.n.01'), Synset('abstraction.n.06'), Synset('attribute.n.02'), Synset('cheerfulness.n.01')]\n",
      "[Synset('entity.n.01'), Synset('abstraction.n.06'), Synset('attribute.n.02'), Synset('trait.n.01'), Synset('activeness.n.02'), Synset('animation.n.03'), Synset('liveliness.n.02')]\n",
      "[Synset('entity.n.01'), Synset('abstraction.n.06'), Synset('psychological_feature.n.01'), Synset('cognition.n.01'), Synset('content.n.05'), Synset('experience.n.02'), Synset('life.n.02')]\n",
      "[Synset('entity.n.01'), Synset('abstraction.n.06'), Synset('psychological_feature.n.01'), Synset('motivation.n.01'), Synset('life.n.13')]\n",
      "[Synset('entity.n.01'), Synset('physical_entity.n.01'), Synset('causal_agent.n.01'), Synset('person.n.01'), Synset('life.n.08')]\n",
      "[Synset('entity.n.01'), Synset('physical_entity.n.01'), Synset('process.n.06'), Synset('phenomenon.n.01'), Synset('natural_phenomenon.n.01'), Synset('organic_phenomenon.n.01'), Synset('life.n.11')]\n",
      "[Synset('entity.n.01'), Synset('abstraction.n.06'), Synset('attribute.n.02'), Synset('state.n.02'), Synset('being.n.01'), Synset('life.n.03')]\n",
      "[Synset('entity.n.01'), Synset('abstraction.n.06'), Synset('attribute.n.02'), Synset('state.n.02'), Synset('being.n.01'), Synset('life.n.01')]\n",
      "[Synset('entity.n.01'), Synset('abstraction.n.06'), Synset('measure.n.02'), Synset('fundamental_quantity.n.01'), Synset('time_period.n.01'), Synset('life.n.05')]\n",
      "[Synset('entity.n.01'), Synset('abstraction.n.06'), Synset('measure.n.02'), Synset('fundamental_quantity.n.01'), Synset('time_period.n.01'), Synset('life.n.06')]\n",
      "[Synset('entity.n.01'), Synset('abstraction.n.06'), Synset('measure.n.02'), Synset('fundamental_quantity.n.01'), Synset('time_period.n.01'), Synset('life.n.07')]\n",
      "[Synset('entity.n.01'), Synset('abstraction.n.06'), Synset('measure.n.02'), Synset('fundamental_quantity.n.01'), Synset('time_period.n.01'), Synset('time.n.03')]\n",
      "[Synset('entity.n.01'), Synset('abstraction.n.06'), Synset('measure.n.02'), Synset('point.n.06')]\n",
      "[Synset('entity.n.01'), Synset('abstraction.n.06'), Synset('measure.n.02'), Synset('fundamental_quantity.n.01'), Synset('time_period.n.01'), Synset('hour.n.03')]\n",
      "[Synset('entity.n.01'), Synset('abstraction.n.06'), Synset('measure.n.02'), Synset('point.n.06'), Synset('moment.n.01')]\n",
      "[Synset('entity.n.01'), Synset('abstraction.n.06'), Synset('measure.n.02'), Synset('fundamental_quantity.n.01'), Synset('time_period.n.01'), Synset('time.n.03'), Synset('while.n.01')]\n",
      "[Synset('entity.n.01'), Synset('abstraction.n.06'), Synset('measure.n.02'), Synset('fundamental_quantity.n.01'), Synset('time_period.n.01'), Synset('time.n.03'), Synset('moment.n.02')]\n",
      "[Synset('entity.n.01'), Synset('abstraction.n.06'), Synset('relation.n.01'), Synset('part.n.01'), Synset('language_unit.n.01'), Synset('syllable.n.01'), Synset('solfa_syllable.n.01'), Synset('la.n.03')]\n",
      "[Synset('entity.n.01'), Synset('physical_entity.n.01'), Synset('object.n.01'), Synset('whole.n.02'), Synset('artifact.n.01'), Synset('creation.n.02'), Synset('product.n.02'), Synset('inspiration.n.02')]\n",
      "[Synset('entity.n.01'), Synset('abstraction.n.06'), Synset('psychological_feature.n.01'), Synset('cognition.n.01'), Synset('ability.n.02'), Synset('creativity.n.01'), Synset('inventiveness.n.01')]\n",
      "[Synset('entity.n.01'), Synset('abstraction.n.06'), Synset('psychological_feature.n.01'), Synset('cognition.n.01'), Synset('process.n.02'), Synset('higher_cognitive_process.n.01'), Synset('knowing.n.01'), Synset('understanding.n.01'), Synset('insight.n.03')]\n",
      "[Synset('entity.n.01'), Synset('abstraction.n.06'), Synset('psychological_feature.n.01'), Synset('cognition.n.01'), Synset('content.n.05'), Synset('idea.n.01')]\n",
      "[Synset('entity.n.01'), Synset('abstraction.n.06'), Synset('psychological_feature.n.01'), Synset('cognition.n.01'), Synset('content.n.05'), Synset('belief.n.01'), Synset('opinion.n.01'), Synset('idea.n.03')]\n",
      "[Synset('entity.n.01'), Synset('abstraction.n.06'), Synset('psychological_feature.n.01'), Synset('cognition.n.01'), Synset('content.n.05'), Synset('goal.n.01'), Synset('purpose.n.01'), Synset('mind.n.06')]\n",
      "[Synset('entity.n.01'), Synset('abstraction.n.06'), Synset('communication.n.02'), Synset('message.n.02'), Synset('guidance.n.01'), Synset('tip.n.03')]\n",
      "[Synset('entity.n.01'), Synset('abstraction.n.06'), Synset('communication.n.02'), Synset('message.n.02'), Synset('statement.n.01'), Synset('remark.n.01'), Synset('observation.n.03')]\n",
      "[Synset('entity.n.01'), Synset('abstraction.n.06'), Synset('communication.n.02'), Synset('message.n.02'), Synset('statement.n.01'), Synset('remark.n.01'), Synset('wisecrack.n.01')]\n",
      "[Synset('entity.n.01'), Synset('physical_entity.n.01'), Synset('object.n.01'), Synset('whole.n.02'), Synset('living_thing.n.01'), Synset('organism.n.01'), Synset('plant.n.02'), Synset('vascular_plant.n.01'), Synset('woody_plant.n.01'), Synset('tree.n.01'), Synset('beech.n.01')]\n",
      "[Synset('entity.n.01'), Synset('abstraction.n.06'), Synset('communication.n.02'), Synset('signal.n.01'), Synset('symbol.n.01'), Synset('written_symbol.n.01'), Synset('character.n.08'), Synset('letter.n.02'), Synset('y.n.02')]\n",
      "[Synset('entity.n.01'), Synset('abstraction.n.06'), Synset('attribute.n.02'), Synset('trait.n.01'), Synset('thoughtfulness.n.03'), Synset('deliberation.n.05')]\n",
      "[Synset('entity.n.01'), Synset('abstraction.n.06'), Synset('attribute.n.02'), Synset('property.n.02'), Synset('physical_property.n.01'), Synset('reflection.n.08')]\n",
      "[Synset('entity.n.01'), Synset('abstraction.n.06'), Synset('psychological_feature.n.01'), Synset('cognition.n.01'), Synset('process.n.02'), Synset('higher_cognitive_process.n.01'), Synset('thinking.n.01')]\n",
      "[Synset('entity.n.01'), Synset('abstraction.n.06'), Synset('psychological_feature.n.01'), Synset('cognition.n.01'), Synset('process.n.02'), Synset('higher_cognitive_process.n.01'), Synset('thinking.n.01'), Synset('consideration.n.01')]\n",
      "[Synset('entity.n.01'), Synset('abstraction.n.06'), Synset('psychological_feature.n.01'), Synset('cognition.n.01'), Synset('process.n.02'), Synset('higher_cognitive_process.n.01'), Synset('thinking.n.01'), Synset('consideration.n.01'), Synset('contemplation.n.02')]\n",
      "[Synset('entity.n.01'), Synset('abstraction.n.06'), Synset('psychological_feature.n.01'), Synset('cognition.n.01'), Synset('process.n.02'), Synset('higher_cognitive_process.n.01'), Synset('thinking.n.01'), Synset('excogitation.n.01')]\n",
      "[Synset('entity.n.01'), Synset('abstraction.n.06'), Synset('communication.n.02'), Synset('message.n.02'), Synset('statement.n.01'), Synset('remark.n.01'), Synset('observation.n.03')]\n",
      "[Synset('entity.n.01'), Synset('physical_entity.n.01'), Synset('process.n.06'), Synset('phenomenon.n.01'), Synset('natural_phenomenon.n.01'), Synset('physical_phenomenon.n.01'), Synset('reflection.n.02')]\n",
      "[Synset('entity.n.01'), Synset('abstraction.n.06'), Synset('communication.n.02'), Synset('signal.n.01'), Synset('symbol.n.01'), Synset('written_symbol.n.01'), Synset('character.n.08'), Synset('letter.n.02'), Synset('y.n.02')]\n",
      "[Synset('entity.n.01'), Synset('abstraction.n.06'), Synset('attribute.n.02'), Synset('trait.n.01'), Synset('seriousness.n.03'), Synset('sedateness.n.01')]\n",
      "[Synset('entity.n.01'), Synset('abstraction.n.06'), Synset('attribute.n.02'), Synset('trait.n.01'), Synset('nature.n.04'), Synset('disposition.n.01'), Synset('composure.n.01')]\n",
      "[Synset('entity.n.01'), Synset('abstraction.n.06'), Synset('attribute.n.02'), Synset('property.n.02'), Synset('sound_property.n.01'), Synset('silence.n.02'), Synset('hush.n.01')]\n",
      "[Synset('entity.n.01'), Synset('abstraction.n.06'), Synset('attribute.n.02'), Synset('property.n.02'), Synset('sound_property.n.01'), Synset('silence.n.02'), Synset('quietness.n.01')]\n",
      "[Synset('entity.n.01'), Synset('abstraction.n.06'), Synset('attribute.n.02'), Synset('property.n.02'), Synset('temporal_property.n.01'), Synset('pace.n.03'), Synset('slowness.n.02')]\n",
      "[Synset('entity.n.01'), Synset('abstraction.n.06'), Synset('attribute.n.02'), Synset('state.n.02'), Synset('feeling.n.01'), Synset('calmness.n.03')]\n",
      "[Synset('entity.n.01'), Synset('physical_entity.n.01'), Synset('process.n.06'), Synset('phenomenon.n.01'), Synset('natural_phenomenon.n.01'), Synset('physical_phenomenon.n.01'), Synset('atmospheric_phenomenon.n.01'), Synset('weather.n.01'), Synset('wind.n.01'), Synset('calm_air.n.01')]\n",
      "[Synset('entity.n.01'), Synset('abstraction.n.06'), Synset('attribute.n.02'), Synset('state.n.02'), Synset('order.n.03'), Synset('peace.n.01'), Synset('amity.n.02'), Synset('peaceableness.n.01')]\n",
      "[Synset('entity.n.01'), Synset('physical_entity.n.01'), Synset('process.n.06'), Synset('phenomenon.n.01'), Synset('natural_phenomenon.n.01'), Synset('physical_phenomenon.n.01'), Synset('atmospheric_phenomenon.n.01'), Synset('weather.n.01'), Synset('good_weather.n.01'), Synset('calmness.n.02')]\n"
     ]
    },
    {
     "data": {
      "text/plain": [
       "19"
      ]
     },
     "execution_count": 34,
     "metadata": {},
     "output_type": "execute_result"
    }
   ],
   "source": [
    "getWordConcreteness(testTest)"
   ]
  },
  {
   "cell_type": "code",
   "execution_count": 10,
   "metadata": {},
   "outputs": [],
   "source": [
    "textOfSeventhGrade = Text.getTexts(database, grade=7)\n",
    "textOfEightGrade = Text.getTexts(database, grade=8)\n",
    "textOfNineGrade = Text.getTexts(database, grade=9)\n",
    "textOfTenthGrade = Text.getTexts(database, grade=10)\n",
    "textOfEleventhGrade = Text.getTexts(database, grade=11)"
   ]
  },
  {
   "cell_type": "code",
   "execution_count": 11,
   "metadata": {},
   "outputs": [],
   "source": [
    "def getResultsOfTexts(currentTexts):\n",
    "    results = list()\n",
    "    for text in currentTexts:\n",
    "        results.append(getWordConcreteness(text))\n",
    "    return results"
   ]
  },
  {
   "cell_type": "code",
   "execution_count": 25,
   "metadata": {
    "scrolled": true
   },
   "outputs": [],
   "source": [
    "resultsSeventh = getResultsOfTexts(textOfSeventhGrade)\n",
    "resultsMeanSeventh = sum(resultsSeventh)/len(resultsSeventh)"
   ]
  },
  {
   "cell_type": "code",
   "execution_count": 26,
   "metadata": {
    "scrolled": true
   },
   "outputs": [],
   "source": [
    "resultsEighth = getResultsOfTexts(textOfEightGrade)\n",
    "resultsMeanEighth = sum(resultsEighth)/len(resultsEighth)"
   ]
  },
  {
   "cell_type": "code",
   "execution_count": 27,
   "metadata": {
    "scrolled": true
   },
   "outputs": [],
   "source": [
    "resultsNinth = getResultsOfTexts(textOfNineGrade)\n",
    "resultsMeanNinth = sum(resultsNinth)/len(resultsNinth)"
   ]
  },
  {
   "cell_type": "code",
   "execution_count": 28,
   "metadata": {
    "scrolled": true
   },
   "outputs": [],
   "source": [
    "resultsTenh = getResultsOfTexts(textOfTenthGrade)\n",
    "resultsMeanTenth = sum(resultsTenh)/len(resultsTenh)"
   ]
  },
  {
   "cell_type": "code",
   "execution_count": 29,
   "metadata": {
    "scrolled": true
   },
   "outputs": [],
   "source": [
    "resultsEleventh = getResultsOfTexts(textOfEleventhGrade)\n",
    "resultsMeanEleventh = sum(resultsEleventh)/len(resultsEleventh)"
   ]
  },
  {
   "cell_type": "code",
   "execution_count": 51,
   "metadata": {},
   "outputs": [
    {
     "data": {
      "text/html": [
       "<div>\n",
       "<style scoped>\n",
       "    .dataframe tbody tr th:only-of-type {\n",
       "        vertical-align: middle;\n",
       "    }\n",
       "\n",
       "    .dataframe tbody tr th {\n",
       "        vertical-align: top;\n",
       "    }\n",
       "\n",
       "    .dataframe thead th {\n",
       "        text-align: right;\n",
       "    }\n",
       "</style>\n",
       "<table border=\"1\" class=\"dataframe\">\n",
       "  <thead>\n",
       "    <tr style=\"text-align: right;\">\n",
       "      <th></th>\n",
       "      <th>Primero</th>\n",
       "      <th>Segundo</th>\n",
       "      <th>Tercero</th>\n",
       "      <th>Cuarto</th>\n",
       "      <th>Quinto</th>\n",
       "    </tr>\n",
       "  </thead>\n",
       "  <tbody>\n",
       "    <tr>\n",
       "      <th>0</th>\n",
       "      <td>66.8</td>\n",
       "      <td>87.827586</td>\n",
       "      <td>120.516129</td>\n",
       "      <td>116.655172</td>\n",
       "      <td>83.342857</td>\n",
       "    </tr>\n",
       "  </tbody>\n",
       "</table>\n",
       "</div>"
      ],
      "text/plain": [
       "   Primero    Segundo     Tercero      Cuarto     Quinto\n",
       "0     66.8  87.827586  120.516129  116.655172  83.342857"
      ]
     },
     "execution_count": 51,
     "metadata": {},
     "output_type": "execute_result"
    }
   ],
   "source": [
    "import seaborn as sns\n",
    "import matplotlib.pyplot as plt\n",
    "import numpy as np\n",
    "\n",
    "sns.set_style(\"whitegrid\")\n",
    "\n",
    "resultsMean = [resultsMeanSeventh, resultsMeanEighth, resultsMeanNinth, resultsMeanTenth, resultsMeanEleventh]\n",
    "\n",
    "data = np.array(resultsMean).reshape((1, len(resultsMean)))\n",
    "labels = ['Primero', 'Segundo', 'Tercero', 'Cuarto', 'Quinto']\n",
    "df = pd.DataFrame(data, columns=labels)\n",
    "df\n",
    "# ax = sns.barplot(data=df)"
   ]
  },
  {
   "cell_type": "code",
   "execution_count": null,
   "metadata": {},
   "outputs": [],
   "source": []
  }
 ],
 "metadata": {
  "kernelspec": {
   "display_name": "Python 3",
   "language": "python",
   "name": "python3"
  },
  "language_info": {
   "codemirror_mode": {
    "name": "ipython",
    "version": 3
   },
   "file_extension": ".py",
   "mimetype": "text/x-python",
   "name": "python",
   "nbconvert_exporter": "python",
   "pygments_lexer": "ipython3",
   "version": "3.6.5"
  }
 },
 "nbformat": 4,
 "nbformat_minor": 2
}
