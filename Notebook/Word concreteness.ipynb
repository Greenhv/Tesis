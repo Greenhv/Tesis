{
 "cells": [
  {
   "cell_type": "markdown",
   "metadata": {},
   "source": [
    "### Import custom modules from current folder"
   ]
  },
  {
   "cell_type": "code",
   "execution_count": 8,
   "metadata": {},
   "outputs": [],
   "source": [
    "import os\n",
    "import sys\n",
    "\n",
    "module_path = os.path.abspath(os.path.join('..'))\n",
    "\n",
    "if module_path not in sys.path:\n",
    "    sys.path.append(module_path)"
   ]
  },
  {
   "cell_type": "code",
   "execution_count": 9,
   "metadata": {},
   "outputs": [],
   "source": [
    "import nltk\n",
    "from text_easability_metrics import TextEasabilityMetrics, StanfordNLP\n",
    "from simple_text_representation.classes import Text\n",
    "from simple_text_representation.models import Database\n",
    "from nltk.tree import Tree\n",
    "import pandas as pd\n",
    "# from nltk.draw.tree import draw_trees"
   ]
  },
  {
   "cell_type": "code",
   "execution_count": 10,
   "metadata": {},
   "outputs": [],
   "source": [
    "database = Database('educationalTexts', 'postgres', '', '0.0.0.0', 5432)\n",
    "path = r'/Users/herbert/Projects/Tesis/stanford-corenlp-full-2017-06-09'\n",
    "path = r'http://corenlp.run'\n",
    "path = r'http://localhost/'"
   ]
  },
  {
   "cell_type": "markdown",
   "metadata": {},
   "source": [
    "### Word Concreteness"
   ]
  },
  {
   "cell_type": "code",
   "execution_count": 11,
   "metadata": {},
   "outputs": [],
   "source": [
    "def removeSpecialCharacters(strWord):\n",
    "    return ''.join(character for character in strWord if character.isalnum())"
   ]
  },
  {
   "cell_type": "code",
   "execution_count": 12,
   "metadata": {},
   "outputs": [],
   "source": [
    "def getWordNetTag(tag):\n",
    "    if tag.startswith('J'):\n",
    "        return wordnet.ADJ\n",
    "    elif tag.startswith('S'):\n",
    "        return wordnet.ADJ_SAT\n",
    "    elif tag.startswith('R'):\n",
    "        return wordnet.ADV\n",
    "    elif tag.startswith('N'):\n",
    "        return wordnet.NOUN\n",
    "    elif tag.startswith('V'):\n",
    "        return wordnet.VERB\n",
    "    else:\n",
    "        return ''"
   ]
  },
  {
   "cell_type": "code",
   "execution_count": 13,
   "metadata": {},
   "outputs": [],
   "source": [
    "import nltk\n",
    "from nltk.corpus import wordnet\n",
    "\n",
    "def getWordConcreteness(currentText):\n",
    "    textTotal = 0\n",
    "    for paragraph in currentText:\n",
    "        sentenceCount = 0\n",
    "        for sentence in paragraph:\n",
    "            sentenceToken = nltk.word_tokenize(sentence)\n",
    "            posTags = nltk.pos_tag(sentenceToken)\n",
    "            for taggedWord in  posTags:\n",
    "                word = taggedWord[0]\n",
    "                tag = taggedWord[1]pos_tag\n",
    "                if (getWordNetTag(tag)):\n",
    "                    for ss in wordnet.synsets(word, getWordNetTag(tag), lang='spa'):\n",
    "                        hyperyms = ss.hypernym_paths()[0]\n",
    "                        if (len(hyperyms)) > 1:\n",
    "#                             print(ss.hypernym_paths()[0])\n",
    "                            category = ss.hypernym_paths()[0][1]\n",
    "                            sentenceCount += 1 if \"physical\" in category.name() else 0\n",
    "    #                         print(ss, \"physical\" in category.name())\n",
    "        textTotal += sentenceCount\n",
    "\n",
    "    return textTotal"
   ]
  },
  {
   "cell_type": "code",
   "execution_count": 14,
   "metadata": {},
   "outputs": [],
   "source": [
    "testTest = [['Si bien los trasplantes se han convertido en una práctica habitual, aún persisten fuertes temores en la población para donar órganos, lograr su superación es la clave para aumentar el número de los donadores solidarios que hacen falta para salvar miles de vidas.'],\n",
    " ['Es preciso, entonces, que se aclaren algunas dudas para que las personas pierdan el miedo a donar.',\n",
    "  ' Primero, que lo complicado de los procedimientos de extirpación y trasplantación, en el que intervienen varios equipos médicos altamente especializados, vuelve muy difícil la existencia de mafias.',\n",
    "  ' Segundo, que la necesaria compatibilidad (afinidad de grupo sanguíneo) entre donante y receptor dificulta la posibilidad de muertes “a pedido”.'],\n",
    " ['La última cuestión es la más compleja; en la actualidad, aunque alguien haya manifestado expresamente su voluntad de donar, es a la familia a la que se consulta en el momento en que la donación puede efectuarse.',\n",
    "  ' Como se entiende, tal consulta llega en un momento difícil y poco propicio para las reflexiones profundas, más aún si se tiene que tomar una decisión rápida.'],\n",
    " ['Por lo tanto, las campañas públicas deben esclarecer la naturaleza de los procedimientos técnicos y legales, para disipar miedos; pero, esencialmente, deben apuntar a que se tome conciencia de lo que significa salvar otra vida, porque para decidirlo en un momento crucial es necesario que la idea se haya considerado y discutido previamente, con reflexión y calma.']]"
   ]
  },
  {
   "cell_type": "code",
   "execution_count": 15,
   "metadata": {
    "scrolled": true
   },
   "outputs": [
    {
     "data": {
      "text/plain": [
       "19"
      ]
     },
     "execution_count": 15,
     "metadata": {},
     "output_type": "execute_result"
    }
   ],
   "source": [
    "getWordConcreteness(testTest)"
   ]
  },
  {
   "cell_type": "code",
   "execution_count": 9,
   "metadata": {},
   "outputs": [],
   "source": [
    "textOfSeventhGrade = Text.getTexts(database, grade=7)\n",
    "textOfEightGrade = Text.getTexts(database, grade=8)\n",
    "textOfNineGrade = Text.getTexts(database, grade=9)\n",
    "textOfTenthGrade = Text.getTexts(database, grade=10)\n",
    "textOfEleventhGrade = Text.getTexts(database, grade=11)"
   ]
  },
  {
   "cell_type": "code",
   "execution_count": 10,
   "metadata": {},
   "outputs": [],
   "source": [
    "def getResultsOfTexts(currentTexts):\n",
    "    results = list()\n",
    "    for text in currentTexts:\n",
    "        results.append(getWordConcreteness(text))\n",
    "    return results"
   ]
  },
  {
   "cell_type": "code",
   "execution_count": 5,
   "metadata": {
    "scrolled": true
   },
   "outputs": [],
   "source": [
    "resultsSeventh = getResultsOfTexts(textOfSeventhGrade)\n",
    "resultsMeanSeventh = sum(resultsSeventh)/len(resultsSeventh)"
   ]
  },
  {
   "cell_type": "code",
   "execution_count": 1,
   "metadata": {
    "scrolled": true
   },
   "outputs": [],
   "source": [
    "resultsEighth = getResultsOfTexts(textOfEightGrade)\n",
    "resultsMeanEighth = sum(resultsEighth)/len(resultsEighth)"
   ]
  },
  {
   "cell_type": "code",
   "execution_count": 2,
   "metadata": {
    "scrolled": true
   },
   "outputs": [],
   "source": [
    "resultsNinth = getResultsOfTexts(textOfNineGrade)\n",
    "resultsMeanNinth = sum(resultsNinth)/len(resultsNinth)"
   ]
  },
  {
   "cell_type": "code",
   "execution_count": 3,
   "metadata": {
    "scrolled": true
   },
   "outputs": [],
   "source": [
    "resultsTenh = getResultsOfTexts(textOfTenthGrade)\n",
    "resultsMeanTenth = sum(resultsTenh)/len(resultsTenh)"
   ]
  },
  {
   "cell_type": "code",
   "execution_count": 4,
   "metadata": {
    "scrolled": true
   },
   "outputs": [],
   "source": [
    "resultsEleventh = getResultsOfTexts(textOfEleventhGrade)\n",
    "resultsMeanEleventh = sum(resultsEleventh)/len(resultsEleventh)"
   ]
  },
  {
   "cell_type": "code",
   "execution_count": 16,
   "metadata": {},
   "outputs": [
    {
     "data": {
      "text/html": [
       "<div>\n",
       "<style scoped>\n",
       "    .dataframe tbody tr th:only-of-type {\n",
       "        vertical-align: middle;\n",
       "    }\n",
       "\n",
       "    .dataframe tbody tr th {\n",
       "        vertical-align: top;\n",
       "    }\n",
       "\n",
       "    .dataframe thead th {\n",
       "        text-align: right;\n",
       "    }\n",
       "</style>\n",
       "<table border=\"1\" class=\"dataframe\">\n",
       "  <thead>\n",
       "    <tr style=\"text-align: right;\">\n",
       "      <th></th>\n",
       "      <th>Primero</th>\n",
       "      <th>Segundo</th>\n",
       "      <th>Tercero</th>\n",
       "      <th>Cuarto</th>\n",
       "      <th>Quinto</th>\n",
       "    </tr>\n",
       "  </thead>\n",
       "  <tbody>\n",
       "    <tr>\n",
       "      <th>0</th>\n",
       "      <td>66.8</td>\n",
       "      <td>87.827586</td>\n",
       "      <td>120.516129</td>\n",
       "      <td>116.655172</td>\n",
       "      <td>83.342857</td>\n",
       "    </tr>\n",
       "  </tbody>\n",
       "</table>\n",
       "</div>"
      ],
      "text/plain": [
       "   Primero    Segundo     Tercero      Cuarto     Quinto\n",
       "0     66.8  87.827586  120.516129  116.655172  83.342857"
      ]
     },
     "execution_count": 16,
     "metadata": {},
     "output_type": "execute_result"
    }
   ],
   "source": [
    "import seaborn as sns\n",
    "import matplotlib.pyplot as plt\n",
    "import numpy as np\n",
    "\n",
    "sns.set_style(\"whitegrid\")\n",
    "\n",
    "resultsMean = [resultsMeanSeventh, resultsMeanEighth, resultsMeanNinth, resultsMeanTenth, resultsMeanEleventh]\n",
    "\n",
    "data = np.array(resultsMean).reshape((1, len(resultsMean)))\n",
    "labels = ['Primero', 'Segundo', 'Tercero', 'Cuarto', 'Quinto']\n",
    "df = pd.DataFrame(data, columns=labels)\n",
    "df\n",
    "ax = sns.barplot(data=df)"
   ]
  },
  {
   "cell_type": "code",
   "execution_count": null,
   "metadata": {},
   "outputs": [],
   "source": []
  }
 ],
 "metadata": {
  "kernelspec": {
   "display_name": "Python 3",
   "language": "python",
   "name": "python3"
  },
  "language_info": {
   "codemirror_mode": {
    "name": "ipython",
    "version": 3
   },
   "file_extension": ".py",
   "mimetype": "text/x-python",
   "name": "python",
   "nbconvert_exporter": "python",
   "pygments_lexer": "ipython3",
   "version": "3.6.5"
  }
 },
 "nbformat": 4,
 "nbformat_minor": 2
}
