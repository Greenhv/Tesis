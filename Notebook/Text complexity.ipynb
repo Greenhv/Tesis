{
 "cells": [
  {
   "cell_type": "markdown",
   "metadata": {},
   "source": [
    "### Import custom modules from current folder"
   ]
  },
  {
   "cell_type": "code",
   "execution_count": 1,
   "metadata": {},
   "outputs": [],
   "source": [
    "import os\n",
    "import sys\n",
    "\n",
    "module_path = os.path.abspath(os.path.join('..'))\n",
    "\n",
    "if module_path not in sys.path:\n",
    "    sys.path.append(module_path)"
   ]
  },
  {
   "cell_type": "code",
   "execution_count": 2,
   "metadata": {},
   "outputs": [],
   "source": [
    "import nltk\n",
    "from text_easability_metrics import TextEasabilityMetrics, StanfordNLP\n",
    "from simple_text_representation.classes import Text\n",
    "from simple_text_representation.models import Database\n",
    "from nltk.tree import Tree\n",
    "import pandas as pd\n",
    "# from nltk.draw.tree import draw_trees"
   ]
  },
  {
   "cell_type": "code",
   "execution_count": 3,
   "metadata": {},
   "outputs": [],
   "source": [
    "database = Database('educationalTexts', 'postgres', '', '0.0.0.0', 5432)\n",
    "path = r'/Users/herbert/Projects/Tesis/stanford-corenlp-full-2017-06-09'\n",
    "path = r'http://corenlp.run'\n",
    "path = r'http://localhost/'"
   ]
  },
  {
   "cell_type": "code",
   "execution_count": 4,
   "metadata": {},
   "outputs": [
    {
     "name": "stdout",
     "output_type": "stream",
     "text": [
      "TextEasabilityMetrics\n"
     ]
    }
   ],
   "source": [
    "metrics = TextEasabilityMetrics(path, port=9000)"
   ]
  },
  {
   "cell_type": "code",
   "execution_count": 5,
   "metadata": {},
   "outputs": [],
   "source": [
    "firstTestText = Text.getText(database, 1)"
   ]
  },
  {
   "cell_type": "markdown",
   "metadata": {},
   "source": [
    "##### StanfordNLP test"
   ]
  },
  {
   "cell_type": "code",
   "execution_count": 6,
   "metadata": {},
   "outputs": [],
   "source": [
    "stanfordNLP = StanfordNLP(language='es')"
   ]
  },
  {
   "cell_type": "markdown",
   "metadata": {},
   "source": [
    "### Text easability analysis"
   ]
  },
  {
   "cell_type": "code",
   "execution_count": 7,
   "metadata": {
    "scrolled": true
   },
   "outputs": [
    {
     "data": {
      "text/plain": [
       "[['Por lo tanto, las campañas públicas deben esclarecer la naturaleza de los procedimientos técnicos y legales, para disipar miedos; pero, esencialmente, deben apuntar a que se tome conciencia de lo que significa salvar otra vida, porque para decidirlo en un momento crucial es necesario que la idea se haya considerado y discutido previamente, con reflexión y calma.'],\n",
       " ['La última cuestión es la más compleja; en la actualidad, aunque alguien haya manifestado expresamente su voluntad de donar, es a la familia a la que se consulta en el momento en que la donación puede efectuarse.',\n",
       "  ' Como se entiende, tal consulta llega en un momento difícil y poco propicio para las reflexiones profundas, más aún si se tiene que tomar una decisión rápida.'],\n",
       " ['Es preciso, entonces, que se aclaren algunas dudas para que las personas pierdan el miedo a donar.',\n",
       "  ' Primero, que lo complicado de los procedimientos de extirpación y trasplantación, en el que intervienen varios equipos médicos altamente especializados, vuelve muy difícil la existencia de mafias.',\n",
       "  ' Segundo, que la necesaria compatibilidad (afinidad de grupo sanguíneo) entre donante y receptor dificulta la posibilidad de muertes “a pedido”.'],\n",
       " ['Si bien los trasplantes se han convertido en una práctica habitual, aún persisten fuertes temores en la población para donar órganos, lograr su superación es la clave para aumentar el número de los donadores solidarios que hacen falta para salvar miles de vidas.']]"
      ]
     },
     "execution_count": 7,
     "metadata": {},
     "output_type": "execute_result"
    }
   ],
   "source": [
    "firstTestText"
   ]
  },
  {
   "cell_type": "code",
   "execution_count": 8,
   "metadata": {},
   "outputs": [
    {
     "data": {
      "text/plain": [
       "'Por lo tanto, las campañas públicas deben esclarecer la naturaleza de los procedimientos técnicos y legales, para disipar miedos; pero, esencialmente, deben apuntar a que se tome conciencia de lo que significa salvar otra vida, porque para decidirlo en un momento crucial es necesario que la idea se haya considerado y discutido previamente, con reflexión y calma.'"
      ]
     },
     "execution_count": 8,
     "metadata": {},
     "output_type": "execute_result"
    }
   ],
   "source": [
    "# testSentence = 'Si bien los trasplantes se han convertido en una práctica habitual, aún persisten fuertes temores en la población para donar órganos, lograr su superación es la clave para aumentar el número de los donadores solidarios que hacen falta para salvar miles de vidas.'\n",
    "testSentence = firstTestText[0][0]\n",
    "testSentence\n",
    "\n",
    "# corpus = nltk.corpus.conll2002\n",
    "# sentenceGrammar = corpus.chunked_sents('esp.train')[2]\n",
    "# sentence= corpus.sents('esp.train')[2]\n",
    "\n",
    "# parser = nltk.ChartParser(sentenceGrammar)\n",
    "# for doc in parser.parse(sentence):\n",
    "#     print(doc)\n"
   ]
  },
  {
   "cell_type": "code",
   "execution_count": 9,
   "metadata": {},
   "outputs": [],
   "source": [
    "treeTest = stanfordNLP.parse(testSentence)"
   ]
  },
  {
   "cell_type": "code",
   "execution_count": 10,
   "metadata": {},
   "outputs": [],
   "source": [
    "# parseSentence = metrics.syntaxisSimplicity(testSentence)\n",
    "# parseSentence"
   ]
  },
  {
   "cell_type": "code",
   "execution_count": 11,
   "metadata": {
    "scrolled": false
   },
   "outputs": [],
   "source": [
    "# tree = Tree.fromstring(treeTest)\n",
    "# tree"
   ]
  },
  {
   "cell_type": "code",
   "execution_count": 12,
   "metadata": {
    "scrolled": true
   },
   "outputs": [],
   "source": [
    "# text = firstTestText\n",
    "# treeArr = list()\n",
    "\n",
    "# for paragraph in text:\n",
    "#     for sentence in paragraph:\n",
    "#         parseS = stanfordNLP.parse(sentence)\n",
    "#         treeP = Tree.fromstring(parseS)\n",
    "#         treeArr.append(treeP)"
   ]
  },
  {
   "cell_type": "code",
   "execution_count": 13,
   "metadata": {},
   "outputs": [],
   "source": [
    "# treeArr[0]"
   ]
  },
  {
   "cell_type": "code",
   "execution_count": 14,
   "metadata": {},
   "outputs": [],
   "source": [
    "def isSpecialChar(leave):\n",
    "    return not leave.isalnum()"
   ]
  },
  {
   "cell_type": "code",
   "execution_count": 15,
   "metadata": {},
   "outputs": [],
   "source": [
    "def getMainVerbRecursive(treePP, currentDeep, wordsCount, isMainVerbFound):\n",
    "    wordsCountPP = wordsCount\n",
    "\n",
    "    if(isinstance(treePP, Tree) and len(treePP) == 1) and treePP.height() == 2 and not isMainVerbFound:\n",
    "#         print(treePP)\n",
    "#         print(currentDeep)\n",
    "        verbFound = treePP.label().startswith(\"v\")\n",
    "        wordsCountPP = wordsCountPP + (1 if not verbFound else 0)\n",
    "\n",
    "        return currentDeep, wordsCountPP, verbFound\n",
    "    else:\n",
    "        partialDeep = 10000\n",
    "        for index in range(len(treePP)):\n",
    "            subTreeP = treePP[index]\n",
    "            deepPP, wordsCountPP, mainVerFound = getMainVerbRecursive(subTreeP, currentDeep + 1, wordsCountPP, isMainVerbFound);\n",
    "            if (mainVerFound and deepPP < partialDeep): partialDeep = deepPP\n",
    "        return partialDeep, wordsCountPP, mainVerFound\n",
    "\n",
    "    return currentDeep, wordsCount, isMainVerbFound"
   ]
  },
  {
   "cell_type": "code",
   "execution_count": 16,
   "metadata": {},
   "outputs": [],
   "source": [
    "def getMainVerb(treeParam):\n",
    "    currentDeep = 10000\n",
    "    numOfWords = 0\n",
    "    indexFound  = -1\n",
    "    arrOfNumWords = list()\n",
    "    \n",
    "    for j in range(len(treeParam)):\n",
    "#         print('-------------------------------------------------------------------------------------')\n",
    "#         print(j)\n",
    "#         print(treeParam[j])\n",
    "#         print('leaves', len(treeParam[j].leaves()))\n",
    "        isFound = False\n",
    "        newDeep, numWordsBefore, isFound = getMainVerbRecursive(treeParam[j], 1, 0, isFound)\n",
    "\n",
    "        if (not isFound):\n",
    "            numWordsBefore = len([leave for leave in treeParam[j].leaves() if not isSpecialChar(leave)])\n",
    "\n",
    "        arrOfNumWords.append(numWordsBefore)\n",
    "\n",
    "        if (isFound and newDeep < currentDeep):\n",
    "            indexFound = j\n",
    "            currentDeep = newDeep\n",
    "\n",
    "#         print(isFound, numWordsBefore, newDeep, currentDeep, indexFound)\n",
    "#         print('====================================================================================')\n",
    "\n",
    "#     print(arrOfNumWords, indexFound)\n",
    "    numOfWords =  sum(arrOfNumWords[:indexFound]) if indexFound >= 0 else sum(arrOfNumWords)\n",
    "    return numOfWords"
   ]
  },
  {
   "cell_type": "code",
   "execution_count": 17,
   "metadata": {},
   "outputs": [],
   "source": [
    "# # firstTestText\n",
    "# testSentence = firstTestText[0][0]\n",
    "# print(testSentence)\n",
    "\n",
    "# exampleTree = Tree.fromstring(stanfordNLP.parse(testSentence))\n",
    "# print(metrics.syntaxisSimplicity(testSentence))\n",
    "# exampleTree\n",
    "\n",
    "# # for index in range(len(treeTT)):\n",
    "# #     subTT = treeTT[index]\n",
    "# #     print(len(subTT))\n",
    "# #     print(subTT.pos())\n",
    "# #     print(isinstance(subTT[0], Tree))\n",
    "\n",
    "# #     print('---------------------------------------------------------------------------------------------------------')"
   ]
  },
  {
   "cell_type": "markdown",
   "metadata": {},
   "source": [
    "### Test the metric in all the text"
   ]
  },
  {
   "cell_type": "code",
   "execution_count": 18,
   "metadata": {},
   "outputs": [],
   "source": [
    "# dfSeventh = pd.read_csv('../files/textsSeventhgrade.csv')\n",
    "# dfEighth = pd.read_csv('../files/textsEighthgrade.csv')\n",
    "# dfNinth = pd.read_csv('../files/textsNinthgrade.csv')\n",
    "# dfTenth = pd.read_csv('../files/textsTenthGrade.csv')\n",
    "# dfEleventh = pd.read_csv('../files/textsEleventhgrade.csv')"
   ]
  },
  {
   "cell_type": "code",
   "execution_count": 19,
   "metadata": {},
   "outputs": [],
   "source": [
    "# groupedSeventh = dfSeventh.groupby('id').apply(lambda x: \"%s\" % ''.join(x['value']))\n",
    "# groupedEighth = dfEighth.groupby('id').apply(lambda x: \"%s\" % ''.join(x['value']))\n",
    "# groupedNinth = dfNinth.groupby('id').apply(lambda x: \"%s\" % ''.join(x['value']))\n",
    "# groupedTenth = dfTenth.groupby('id').apply(lambda x: \"%s\" % ''.join(x['value']))\n",
    "# groupedEleventh = dfEleventh.groupby('id').apply(lambda x: \"%s\" % ''.join(x['value']))"
   ]
  },
  {
   "cell_type": "code",
   "execution_count": 20,
   "metadata": {},
   "outputs": [],
   "source": [
    "# len(groupedSeventh.values)"
   ]
  },
  {
   "cell_type": "code",
   "execution_count": 21,
   "metadata": {},
   "outputs": [],
   "source": [
    "# textOfSeventhGrade = groupedSeventh.values\n",
    "# textOfEightGrade = groupedEighth.values\n",
    "# textOfNineGrade = groupedNinth.values\n",
    "# textOfTenthGrade = groupedTenth.values\n",
    "# textOfEleventhGrade = groupedEleventh.values"
   ]
  },
  {
   "cell_type": "code",
   "execution_count": 22,
   "metadata": {},
   "outputs": [],
   "source": [
    "textOfSeventhGrade = Text.getTexts(database, grade=7)\n",
    "textOfEightGrade = Text.getTexts(database, grade=8)\n",
    "textOfNineGrade = Text.getTexts(database, grade=9)\n",
    "textOfTenthGrade = Text.getTexts(database, grade=10)\n",
    "textOfEleventhGrade = Text.getTexts(database, grade=11)"
   ]
  },
  {
   "cell_type": "code",
   "execution_count": 25,
   "metadata": {},
   "outputs": [],
   "source": [
    "def getSSfromTexts(texts):\n",
    "    results = list()\n",
    "\n",
    "    for text in texts:\n",
    "        meanValueParagraph = list()\n",
    "        for paragraph in text:\n",
    "            meanValueSentence = list()\n",
    "            for sentence in paragraph:\n",
    "                numWordsBefore = metrics.syntaxisSimplicity(sentence)\n",
    "                meanValueSentence.append(numWordsBefore)\n",
    "            meanValueParagraph.append(sum(meanValueSentence)/len(meanValueSentence))\n",
    "        meanValueText = sum(meanValueParagraph)/len(meanValueParagraph)\n",
    "        results.append(meanValueText)\n",
    "\n",
    "    return results"
   ]
  },
  {
   "cell_type": "code",
   "execution_count": 26,
   "metadata": {
    "scrolled": true
   },
   "outputs": [],
   "source": [
    "resultsSG = getSSfromTexts(textOfSeventhGrade)"
   ]
  },
  {
   "cell_type": "code",
   "execution_count": 27,
   "metadata": {},
   "outputs": [],
   "source": [
    "resultsEgG = getSSfromTexts(textOfEightGrade)"
   ]
  },
  {
   "cell_type": "code",
   "execution_count": 28,
   "metadata": {},
   "outputs": [],
   "source": [
    "resultsNG = getSSfromTexts(textOfNineGrade)"
   ]
  },
  {
   "cell_type": "code",
   "execution_count": 29,
   "metadata": {},
   "outputs": [],
   "source": [
    "resultsTG = getSSfromTexts(textOfTenthGrade)"
   ]
  },
  {
   "cell_type": "code",
   "execution_count": 30,
   "metadata": {
    "scrolled": true
   },
   "outputs": [],
   "source": [
    "resultsEG = getSSfromTexts(textOfEleventhGrade)"
   ]
  },
  {
   "cell_type": "code",
   "execution_count": 31,
   "metadata": {},
   "outputs": [
    {
     "name": "stdout",
     "output_type": "stream",
     "text": [
      "199.74781492804047\n",
      "45\n",
      "2.777153415238149\n"
     ]
    }
   ],
   "source": [
    "sumResultsSG = sum(resultsSG)\n",
    "meanResultsSG = sum(resultsNG)/len(resultsSG)\n",
    "print(sum(resultsSG))\n",
    "print(len(resultsSG))\n",
    "print(sum(resultsNG)/len(resultsSG))"
   ]
  },
  {
   "cell_type": "code",
   "execution_count": 32,
   "metadata": {
    "scrolled": true
   },
   "outputs": [
    {
     "name": "stdout",
     "output_type": "stream",
     "text": [
      "264.619847555557\n",
      "58\n",
      "4.562411164750983\n"
     ]
    }
   ],
   "source": [
    "sumResultsEgG = sum(resultsEgG)\n",
    "meanResultsEgG = sum(resultsEgG)/len(resultsEgG)\n",
    "print(sum(resultsEgG))\n",
    "print(len(resultsEgG))\n",
    "print(sum(resultsEgG)/len(resultsEgG))"
   ]
  },
  {
   "cell_type": "code",
   "execution_count": 33,
   "metadata": {},
   "outputs": [
    {
     "name": "stdout",
     "output_type": "stream",
     "text": [
      "124.9719036857167\n",
      "31\n",
      "4.031351731797312\n"
     ]
    }
   ],
   "source": [
    "sumResultsNG = sum(resultsNG)\n",
    "meanResultsNG = sum(resultsNG)/len(resultsNG)\n",
    "print(sum(resultsNG))\n",
    "print(len(resultsNG))\n",
    "print(sum(resultsNG)/len(resultsNG))"
   ]
  },
  {
   "cell_type": "code",
   "execution_count": 34,
   "metadata": {},
   "outputs": [
    {
     "name": "stdout",
     "output_type": "stream",
     "text": [
      "146.9496825655911\n",
      "29\n",
      "5.067230433296245\n"
     ]
    }
   ],
   "source": [
    "sumResultsTG = sum(resultsTG)\n",
    "meanResultsTG = sum(resultsTG)/len(resultsTG)\n",
    "print(sum(resultsTG))\n",
    "print(len(resultsTG))\n",
    "print(sum(resultsTG)/len(resultsTG))"
   ]
  },
  {
   "cell_type": "code",
   "execution_count": 35,
   "metadata": {},
   "outputs": [
    {
     "name": "stdout",
     "output_type": "stream",
     "text": [
      "272.97106295004403\n",
      "35\n",
      "7.799173227144115\n"
     ]
    }
   ],
   "source": [
    "sumResultsEG = sum(resultsEG)\n",
    "meanResultsEG = sum(resultsEG)/len(resultsEG)\n",
    "print(sum(resultsEG))\n",
    "print(len(resultsEG))\n",
    "print(sum(resultsEG)/len(resultsEG))"
   ]
  },
  {
   "cell_type": "code",
   "execution_count": 36,
   "metadata": {},
   "outputs": [
    {
     "data": {
      "text/plain": [
       "[199.74781492804047,\n",
       " 264.619847555557,\n",
       " 124.9719036857167,\n",
       " 146.9496825655911,\n",
       " 272.97106295004403]"
      ]
     },
     "execution_count": 36,
     "metadata": {},
     "output_type": "execute_result"
    }
   ],
   "source": [
    "resultsTotal = [sumResultsSG, sumResultsEgG, sumResultsNG, sumResultsTG, sumResultsEG]\n",
    "resultsMean = [meanResultsSG, meanResultsEgG, meanResultsNG, meanResultsTG, meanResultsEG]\n",
    "resultsTotal"
   ]
  },
  {
   "cell_type": "code",
   "execution_count": 39,
   "metadata": {},
   "outputs": [],
   "source": [
    "import seaborn as sns\n",
    "import matplotlib.pyplot as plt\n",
    "import numpy as np"
   ]
  },
  {
   "cell_type": "code",
   "execution_count": null,
   "metadata": {},
   "outputs": [],
   "source": []
  },
  {
   "cell_type": "code",
   "execution_count": 40,
   "metadata": {},
   "outputs": [
    {
     "data": {
      "text/html": [
       "<div>\n",
       "<style scoped>\n",
       "    .dataframe tbody tr th:only-of-type {\n",
       "        vertical-align: middle;\n",
       "    }\n",
       "\n",
       "    .dataframe tbody tr th {\n",
       "        vertical-align: top;\n",
       "    }\n",
       "\n",
       "    .dataframe thead th {\n",
       "        text-align: right;\n",
       "    }\n",
       "</style>\n",
       "<table border=\"1\" class=\"dataframe\">\n",
       "  <thead>\n",
       "    <tr style=\"text-align: right;\">\n",
       "      <th></th>\n",
       "      <th>Primero</th>\n",
       "      <th>Segundo</th>\n",
       "      <th>Tercero</th>\n",
       "      <th>Cuarto</th>\n",
       "      <th>Quinto</th>\n",
       "    </tr>\n",
       "  </thead>\n",
       "  <tbody>\n",
       "    <tr>\n",
       "      <th>0</th>\n",
       "      <td>2.777153</td>\n",
       "      <td>4.562411</td>\n",
       "      <td>4.031352</td>\n",
       "      <td>5.06723</td>\n",
       "      <td>7.799173</td>\n",
       "    </tr>\n",
       "  </tbody>\n",
       "</table>\n",
       "</div>"
      ],
      "text/plain": [
       "    Primero   Segundo   Tercero   Cuarto    Quinto\n",
       "0  2.777153  4.562411  4.031352  5.06723  7.799173"
      ]
     },
     "execution_count": 40,
     "metadata": {},
     "output_type": "execute_result"
    }
   ],
   "source": [
    "sns.set_style(\"whitegrid\")\n",
    "\n",
    "data = np.array(resultsMean).reshape((1, len(resultsMean)))\n",
    "labels = ['Primero', 'Segundo', 'Tercero', 'Cuarto', 'Quinto']\n",
    "df = pd.DataFrame(data, columns=labels)\n",
    "df\n",
    "# ax = sns.barplot(data=df)"
   ]
  },
  {
   "cell_type": "code",
   "execution_count": null,
   "metadata": {},
   "outputs": [],
   "source": []
  },
  {
   "cell_type": "code",
   "execution_count": null,
   "metadata": {},
   "outputs": [],
   "source": []
  }
 ],
 "metadata": {
  "kernelspec": {
   "display_name": "Python 3",
   "language": "python",
   "name": "python3"
  },
  "language_info": {
   "codemirror_mode": {
    "name": "ipython",
    "version": 3
   },
   "file_extension": ".py",
   "mimetype": "text/x-python",
   "name": "python",
   "nbconvert_exporter": "python",
   "pygments_lexer": "ipython3",
   "version": "3.6.5"
  }
 },
 "nbformat": 4,
 "nbformat_minor": 2
}
